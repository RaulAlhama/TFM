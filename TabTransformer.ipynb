{
 "cells": [
  {
   "cell_type": "code",
   "execution_count": 15,
   "id": "a454da23-f105-4825-8728-280c9e267ed3",
   "metadata": {},
   "outputs": [],
   "source": [
    "#!pip install tensorflow==2.12.0\n",
    "#import tensorflow as tf\n",
    "#print(tf.__version__)"
   ]
  },
  {
   "cell_type": "code",
   "execution_count": 1,
   "id": "1d6b98fe",
   "metadata": {},
   "outputs": [
    {
     "name": "stderr",
     "output_type": "stream",
     "text": [
      "C:\\Users\\raulg\\anaconda3\\envs\\TFM37\\lib\\site-packages\\tqdm\\auto.py:21: TqdmWarning: IProgress not found. Please update jupyter and ipywidgets. See https://ipywidgets.readthedocs.io/en/stable/user_install.html\n",
      "  from .autonotebook import tqdm as notebook_tqdm\n"
     ]
    }
   ],
   "source": [
    "import numpy as np\n",
    "import pandas as pd\n",
    "import tensorflow as tf\n",
    "import optuna\n",
    "import gc\n",
    "import time\n",
    "\n",
    "import tensorflow_addons as tfa\n",
    "from tensorflow.keras.callbacks import EarlyStopping, ModelCheckpoint\n",
    "\n",
    "from scipy.io import arff\n",
    "\n",
    "import matplotlib.pyplot as plt\n",
    "import seaborn as sns\n",
    "\n",
    "from sklearn.model_selection import train_test_split\n",
    "from sklearn.metrics import average_precision_score, roc_auc_score, accuracy_score, f1_score, recall_score,precision_score\n",
    "\n",
    "from sklearn.pipeline import Pipeline\n",
    "from sklearn.impute import SimpleImputer\n",
    "from sklearn.preprocessing import StandardScaler, KBinsDiscretizer\n",
    "from sklearn.metrics import confusion_matrix, f1_score\n",
    "from sklearn.metrics import roc_curve, balanced_accuracy_score\n",
    "\n",
    "from tensorflow import keras\n",
    "\n",
    "import absl.logging\n",
    "import warnings\n",
    "import logging\n",
    "\n",
    "#!pip install tabtransformertf\n",
    "\n",
    "from tabtransformertf.models.tabtransformer import TabTransformer\n",
    "from tabtransformertf.utils.preprocessing import df_to_dataset, build_categorical_prep"
   ]
  },
  {
   "cell_type": "markdown",
   "id": "da3dde3f-cc01-47b8-ba8d-3f1d61758c52",
   "metadata": {},
   "source": [
    "## Obesity Levels"
   ]
  },
  {
   "cell_type": "code",
   "execution_count": 3,
   "id": "27e514b9-8348-4f20-90d1-551399368029",
   "metadata": {},
   "outputs": [
    {
     "data": {
      "text/html": [
       "<div>\n",
       "<style scoped>\n",
       "    .dataframe tbody tr th:only-of-type {\n",
       "        vertical-align: middle;\n",
       "    }\n",
       "\n",
       "    .dataframe tbody tr th {\n",
       "        vertical-align: top;\n",
       "    }\n",
       "\n",
       "    .dataframe thead th {\n",
       "        text-align: right;\n",
       "    }\n",
       "</style>\n",
       "<table border=\"1\" class=\"dataframe\">\n",
       "  <thead>\n",
       "    <tr style=\"text-align: right;\">\n",
       "      <th></th>\n",
       "      <th>Gender</th>\n",
       "      <th>Age</th>\n",
       "      <th>Height</th>\n",
       "      <th>Weight</th>\n",
       "      <th>family_history_with_overweight</th>\n",
       "      <th>FAVC</th>\n",
       "      <th>FCVC</th>\n",
       "      <th>NCP</th>\n",
       "      <th>CAEC</th>\n",
       "      <th>SMOKE</th>\n",
       "      <th>CH2O</th>\n",
       "      <th>SCC</th>\n",
       "      <th>FAF</th>\n",
       "      <th>TUE</th>\n",
       "      <th>CALC</th>\n",
       "      <th>MTRANS</th>\n",
       "      <th>NObeyesdad</th>\n",
       "    </tr>\n",
       "  </thead>\n",
       "  <tbody>\n",
       "    <tr>\n",
       "      <th>0</th>\n",
       "      <td>Female</td>\n",
       "      <td>21.0</td>\n",
       "      <td>1.62</td>\n",
       "      <td>64.0</td>\n",
       "      <td>yes</td>\n",
       "      <td>no</td>\n",
       "      <td>2.0</td>\n",
       "      <td>3.0</td>\n",
       "      <td>Sometimes</td>\n",
       "      <td>no</td>\n",
       "      <td>2.0</td>\n",
       "      <td>no</td>\n",
       "      <td>0.0</td>\n",
       "      <td>1.0</td>\n",
       "      <td>no</td>\n",
       "      <td>Public_Transportation</td>\n",
       "      <td>Normal_Weight</td>\n",
       "    </tr>\n",
       "    <tr>\n",
       "      <th>1</th>\n",
       "      <td>Female</td>\n",
       "      <td>21.0</td>\n",
       "      <td>1.52</td>\n",
       "      <td>56.0</td>\n",
       "      <td>yes</td>\n",
       "      <td>no</td>\n",
       "      <td>3.0</td>\n",
       "      <td>3.0</td>\n",
       "      <td>Sometimes</td>\n",
       "      <td>yes</td>\n",
       "      <td>3.0</td>\n",
       "      <td>yes</td>\n",
       "      <td>3.0</td>\n",
       "      <td>0.0</td>\n",
       "      <td>Sometimes</td>\n",
       "      <td>Public_Transportation</td>\n",
       "      <td>Normal_Weight</td>\n",
       "    </tr>\n",
       "    <tr>\n",
       "      <th>2</th>\n",
       "      <td>Male</td>\n",
       "      <td>23.0</td>\n",
       "      <td>1.80</td>\n",
       "      <td>77.0</td>\n",
       "      <td>yes</td>\n",
       "      <td>no</td>\n",
       "      <td>2.0</td>\n",
       "      <td>3.0</td>\n",
       "      <td>Sometimes</td>\n",
       "      <td>no</td>\n",
       "      <td>2.0</td>\n",
       "      <td>no</td>\n",
       "      <td>2.0</td>\n",
       "      <td>1.0</td>\n",
       "      <td>Frequently</td>\n",
       "      <td>Public_Transportation</td>\n",
       "      <td>Normal_Weight</td>\n",
       "    </tr>\n",
       "    <tr>\n",
       "      <th>3</th>\n",
       "      <td>Male</td>\n",
       "      <td>27.0</td>\n",
       "      <td>1.80</td>\n",
       "      <td>87.0</td>\n",
       "      <td>no</td>\n",
       "      <td>no</td>\n",
       "      <td>3.0</td>\n",
       "      <td>3.0</td>\n",
       "      <td>Sometimes</td>\n",
       "      <td>no</td>\n",
       "      <td>2.0</td>\n",
       "      <td>no</td>\n",
       "      <td>2.0</td>\n",
       "      <td>0.0</td>\n",
       "      <td>Frequently</td>\n",
       "      <td>Walking</td>\n",
       "      <td>Overweight_Level_I</td>\n",
       "    </tr>\n",
       "    <tr>\n",
       "      <th>4</th>\n",
       "      <td>Male</td>\n",
       "      <td>22.0</td>\n",
       "      <td>1.78</td>\n",
       "      <td>89.8</td>\n",
       "      <td>no</td>\n",
       "      <td>no</td>\n",
       "      <td>2.0</td>\n",
       "      <td>1.0</td>\n",
       "      <td>Sometimes</td>\n",
       "      <td>no</td>\n",
       "      <td>2.0</td>\n",
       "      <td>no</td>\n",
       "      <td>0.0</td>\n",
       "      <td>0.0</td>\n",
       "      <td>Sometimes</td>\n",
       "      <td>Public_Transportation</td>\n",
       "      <td>Overweight_Level_II</td>\n",
       "    </tr>\n",
       "  </tbody>\n",
       "</table>\n",
       "</div>"
      ],
      "text/plain": [
       "   Gender   Age  Height  Weight family_history_with_overweight FAVC  FCVC  \\\n",
       "0  Female  21.0    1.62    64.0                            yes   no   2.0   \n",
       "1  Female  21.0    1.52    56.0                            yes   no   3.0   \n",
       "2    Male  23.0    1.80    77.0                            yes   no   2.0   \n",
       "3    Male  27.0    1.80    87.0                             no   no   3.0   \n",
       "4    Male  22.0    1.78    89.8                             no   no   2.0   \n",
       "\n",
       "   NCP       CAEC SMOKE  CH2O  SCC  FAF  TUE        CALC  \\\n",
       "0  3.0  Sometimes    no   2.0   no  0.0  1.0          no   \n",
       "1  3.0  Sometimes   yes   3.0  yes  3.0  0.0   Sometimes   \n",
       "2  3.0  Sometimes    no   2.0   no  2.0  1.0  Frequently   \n",
       "3  3.0  Sometimes    no   2.0   no  2.0  0.0  Frequently   \n",
       "4  1.0  Sometimes    no   2.0   no  0.0  0.0   Sometimes   \n",
       "\n",
       "                  MTRANS           NObeyesdad  \n",
       "0  Public_Transportation        Normal_Weight  \n",
       "1  Public_Transportation        Normal_Weight  \n",
       "2  Public_Transportation        Normal_Weight  \n",
       "3                Walking   Overweight_Level_I  \n",
       "4  Public_Transportation  Overweight_Level_II  "
      ]
     },
     "metadata": {},
     "output_type": "display_data"
    },
    {
     "name": "stdout",
     "output_type": "stream",
     "text": [
      "Valores faltantes:  0\n"
     ]
    }
   ],
   "source": [
    "# Cargamos el dataset (ajusta la ruta si es necesario)\n",
    "\n",
    "df = pd.read_csv(\"Obesity_Levels/ObesityDataSet.csv\")\n",
    "\n",
    "# Revisamos las primeras filas del dataset\n",
    "display(df.head())\n",
    "print(\"Valores faltantes: \", df.isna().sum().sum())"
   ]
  },
  {
   "cell_type": "code",
   "execution_count": 4,
   "id": "5f8fcc98",
   "metadata": {},
   "outputs": [
    {
     "name": "stdout",
     "output_type": "stream",
     "text": [
      "['Gender', 'family_history_with_overweight', 'FAVC', 'CAEC', 'SMOKE', 'SCC', 'CALC', 'MTRANS']\n",
      "['Age', 'Height', 'Weight', 'FCVC', 'NCP', 'CH2O', 'FAF', 'TUE']\n"
     ]
    }
   ],
   "source": [
    "CATEGORICAL_FEATURES = df.select_dtypes(include=['object']).columns.tolist()\n",
    "CATEGORICAL_FEATURES.remove('NObeyesdad')\n",
    "print(CATEGORICAL_FEATURES)\n",
    "\n",
    "NUMERIC_FEATURES = df.select_dtypes(exclude=['object']).columns.tolist()\n",
    "#NUMERIC_FEATURES.remove('survival_status')\n",
    "print(NUMERIC_FEATURES)\n",
    "\n",
    "FEATURES = list(NUMERIC_FEATURES) + list(CATEGORICAL_FEATURES)\n",
    "LABEL_Y = 'NObeyesdad'"
   ]
  },
  {
   "cell_type": "code",
   "execution_count": 5,
   "id": "39c2ca7e",
   "metadata": {},
   "outputs": [
    {
     "data": {
      "image/png": "[encoded data removed]",
      "text/plain": [
       "<Figure size 640x480 with 1 Axes>"
      ]
     },
     "metadata": {},
     "output_type": "display_data"
    }
   ],
   "source": [
    "NUM_CLASES = df['NObeyesdad'].nunique()\n",
    "\n",
    "plt.pie(df['NObeyesdad'].value_counts().values,\n",
    "        labels = df['NObeyesdad'].value_counts().index,\n",
    "        autopct='%1.1f%%')\n",
    "plt.title(\"Dataset Balanceado\")\n",
    "plt.show()"
   ]
  },
  {
   "cell_type": "code",
   "execution_count": 6,
   "id": "2c006fd7",
   "metadata": {},
   "outputs": [
    {
     "data": {
      "text/plain": [
       "((1434, 17), (254, 17), (423, 17))"
      ]
     },
     "execution_count": 6,
     "metadata": {},
     "output_type": "execute_result"
    }
   ],
   "source": [
    "train_data, test_data = train_test_split(df, test_size=0.20, random_state=42,stratify=df['NObeyesdad'])\n",
    "train_data, val_data = train_test_split(train_data, test_size=0.15, stratify=train_data['NObeyesdad'])\n",
    "train_data.shape, val_data.shape, test_data.shape"
   ]
  },
  {
   "cell_type": "code",
   "execution_count": 7,
   "id": "b226d8b3",
   "metadata": {},
   "outputs": [
    {
     "data": {
      "text/plain": [
       "Obesity_Type_I         239\n",
       "Obesity_Type_III       220\n",
       "Obesity_Type_II        201\n",
       "Overweight_Level_II    197\n",
       "Overweight_Level_I     197\n",
       "Normal_Weight          195\n",
       "Insufficient_Weight    185\n",
       "Name: NObeyesdad, dtype: int64"
      ]
     },
     "execution_count": 7,
     "metadata": {},
     "output_type": "execute_result"
    }
   ],
   "source": [
    "train_data['NObeyesdad'].value_counts()"
   ]
  },
  {
   "cell_type": "markdown",
   "id": "b4f7bb11",
   "metadata": {},
   "source": [
    "#### Numeric Cleaning"
   ]
  },
  {
   "cell_type": "code",
   "execution_count": 8,
   "id": "2b4abc03",
   "metadata": {},
   "outputs": [
    {
     "data": {
      "text/plain": [
       "Pipeline(steps=[('scale', StandardScaler())])"
      ]
     },
     "execution_count": 8,
     "metadata": {},
     "output_type": "execute_result"
    }
   ],
   "source": [
    "scaler = StandardScaler()\n",
    "\n",
    "numeric_pipe = Pipeline([\n",
    "    ('scale', scaler)\n",
    "])\n",
    "\n",
    "numeric_pipe.fit(train_data[NUMERIC_FEATURES])"
   ]
  },
  {
   "cell_type": "code",
   "execution_count": 9,
   "id": "bc24363f",
   "metadata": {},
   "outputs": [],
   "source": [
    "train_data[NUMERIC_FEATURES] = numeric_pipe.transform(train_data[NUMERIC_FEATURES])\n",
    "val_data[NUMERIC_FEATURES] = numeric_pipe.transform(val_data[NUMERIC_FEATURES])\n",
    "test_data[NUMERIC_FEATURES] = numeric_pipe.transform(test_data[NUMERIC_FEATURES])"
   ]
  },
  {
   "cell_type": "markdown",
   "id": "35a53763",
   "metadata": {},
   "source": [
    "#### TF Datasets"
   ]
  },
  {
   "cell_type": "code",
   "execution_count": 10,
   "id": "8cbbb459",
   "metadata": {},
   "outputs": [],
   "source": [
    "train_data[CATEGORICAL_FEATURES] = train_data[CATEGORICAL_FEATURES].astype(str)\n",
    "val_data[CATEGORICAL_FEATURES] = val_data[CATEGORICAL_FEATURES].astype(str)\n",
    "test_data[CATEGORICAL_FEATURES] = test_data[CATEGORICAL_FEATURES].astype(str)\n",
    "\n",
    "train_data[NUMERIC_FEATURES] = train_data[NUMERIC_FEATURES].astype(float)\n",
    "val_data[NUMERIC_FEATURES] = val_data[NUMERIC_FEATURES].astype(float)\n",
    "test_data[NUMERIC_FEATURES] = test_data[NUMERIC_FEATURES].astype(float)"
   ]
  },
  {
   "cell_type": "code",
   "execution_count": 11,
   "id": "98255480",
   "metadata": {},
   "outputs": [
    {
     "name": "stdout",
     "output_type": "stream",
     "text": [
      "{'Insufficient_Weight': 0, 'Normal_Weight': 1, 'Obesity_Type_I': 2, 'Obesity_Type_II': 3, 'Obesity_Type_III': 4, 'Overweight_Level_I': 5, 'Overweight_Level_II': 6}\n"
     ]
    }
   ],
   "source": [
    "from sklearn.preprocessing import LabelEncoder\n",
    "\n",
    "# Crear un codificador de etiquetas\n",
    "label_encoder = LabelEncoder()\n",
    "\n",
    "# Ajustar y transformar las etiquetas\n",
    "train_data[LABEL_Y] = label_encoder.fit_transform(train_data[LABEL_Y])\n",
    "val_data[LABEL_Y] = label_encoder.transform(val_data[LABEL_Y])\n",
    "test_data[LABEL_Y] = label_encoder.transform(test_data[LABEL_Y])\n",
    "\n",
    "# Ver el mapeo de etiquetas a números\n",
    "label_mapping = dict(zip(label_encoder.classes_, range(len(label_encoder.classes_))))\n",
    "print(label_mapping)"
   ]
  },
  {
   "cell_type": "code",
   "execution_count": 12,
   "id": "c72a2c2a",
   "metadata": {},
   "outputs": [],
   "source": [
    "from tensorflow.keras.utils import to_categorical\n",
    "\n",
    "# Convertir las etiquetas en codificación one-hot\n",
    "train_labels = to_categorical(train_data[LABEL_Y], num_classes=len(label_mapping))\n",
    "val_labels = to_categorical(val_data[LABEL_Y], num_classes=len(label_mapping))"
   ]
  },
  {
   "cell_type": "code",
   "execution_count": 13,
   "id": "45039bf7",
   "metadata": {},
   "outputs": [
    {
     "name": "stderr",
     "output_type": "stream",
     "text": [
      "C:\\Users\\raulg\\anaconda3\\envs\\TFM37\\lib\\site-packages\\tabtransformertf\\utils\\preprocessing.py:21: FutureWarning: Support for multi-dimensional indexing (e.g. `obj[:, None]`) is deprecated and will be removed in a future version.  Convert to a numpy array before indexing instead.\n",
      "  dataset[key] = value[:, tf.newaxis]\n",
      "C:\\Users\\raulg\\anaconda3\\envs\\TFM37\\lib\\site-packages\\tabtransformertf\\utils\\preprocessing.py:27: FutureWarning: Support for multi-dimensional indexing (e.g. `obj[:, None]`) is deprecated and will be removed in a future version.  Convert to a numpy array before indexing instead.\n",
      "  dataset[key] = value[:, tf.newaxis]\n"
     ]
    }
   ],
   "source": [
    "train_dataset = df_to_dataset(train_data[FEATURES + [LABEL_Y]], LABEL_Y, batch_size=3072)\n",
    "val_dataset = df_to_dataset(val_data[FEATURES + [LABEL_Y]], LABEL_Y, shuffle=False, batch_size=3072)\n",
    "test_dataset = df_to_dataset(test_data[FEATURES], shuffle=False, batch_size=3072)"
   ]
  },
  {
   "cell_type": "code",
   "execution_count": 14,
   "id": "abca86db",
   "metadata": {
    "scrolled": true
   },
   "outputs": [
    {
     "name": "stderr",
     "output_type": "stream",
     "text": [
      "100%|██████████| 8/8 [00:00<00:00, 187.95it/s]\n"
     ]
    }
   ],
   "source": [
    "category_prep_layers = build_categorical_prep(train_data, CATEGORICAL_FEATURES)"
   ]
  },
  {
   "cell_type": "code",
   "execution_count": 16,
   "id": "bfe1061f",
   "metadata": {
    "scrolled": true
   },
   "outputs": [
    {
     "name": "stderr",
     "output_type": "stream",
     "text": [
      "[I 2025-01-20 18:00:33,553] A new study created in memory with name: no-name-5183e84b-310d-48e3-a036-cc0b1fe03fba\n",
      "C:\\Users\\raulg\\anaconda3\\envs\\TFM37\\lib\\site-packages\\ipykernel_launcher.py:7: FutureWarning: suggest_int() got {'step'} as positional arguments but they were expected to be given as keyword arguments.\n",
      "  import sys\n",
      "C:\\Users\\raulg\\anaconda3\\envs\\TFM37\\lib\\site-packages\\ipykernel_launcher.py:8: FutureWarning: suggest_int() got {'step'} as positional arguments but they were expected to be given as keyword arguments.\n",
      "  \n",
      "C:\\Users\\raulg\\anaconda3\\envs\\TFM37\\lib\\site-packages\\ipykernel_launcher.py:11: FutureWarning: suggest_int() got {'step'} as positional arguments but they were expected to be given as keyword arguments.\n",
      "  # This is added back by InteractiveShellApp.init_path()\n",
      "C:\\Users\\raulg\\anaconda3\\envs\\TFM37\\lib\\site-packages\\ipykernel_launcher.py:12: FutureWarning: suggest_int() got {'step'} as positional arguments but they were expected to be given as keyword arguments.\n",
      "  if sys.path[0] == \"\":\n"
     ]
    },
    {
     "name": "stdout",
     "output_type": "stream",
     "text": [
      "1/1 [==============================] - 1s 958ms/step\n"
     ]
    },
    {
     "name": "stderr",
     "output_type": "stream",
     "text": [
      "[I 2025-01-20 18:01:25,654] Trial 0 finished with value: 0.0 and parameters: {'embedding_dim': 32, 'depth': 6, 'heads': 4, 'attn_dropout': 0.4841604096087895, 'ff_dropout': 0.29356473465096755, 'mlp_hidden_factor1': 1, 'mlp_hidden_factor2': 2, 'use_column_embedding': True}. Best is trial 0 with value: 0.0.\n",
      "[W 2025-01-20 18:02:09,784] Trial 1 failed with parameters: {'embedding_dim': 64, 'depth': 3, 'heads': 5, 'attn_dropout': 0.3738109180716188, 'ff_dropout': 0.24724747367486533, 'mlp_hidden_factor1': 2, 'mlp_hidden_factor2': 4, 'use_column_embedding': True} because of the following error: KeyboardInterrupt().\n",
      "Traceback (most recent call last):\n",
      "  File \"C:\\Users\\raulg\\anaconda3\\envs\\TFM37\\lib\\site-packages\\optuna\\study\\_optimize.py\", line 197, in _run_trial\n",
      "    value_or_values = func(trial)\n",
      "  File \"C:\\Users\\raulg\\AppData\\Local\\Temp\\ipykernel_17844\\979192815.py\", line 53, in objective\n",
      "    verbose=0\n",
      "  File \"C:\\Users\\raulg\\anaconda3\\envs\\TFM37\\lib\\site-packages\\keras\\utils\\traceback_utils.py\", line 65, in error_handler\n",
      "    return fn(*args, **kwargs)\n",
      "  File \"C:\\Users\\raulg\\anaconda3\\envs\\TFM37\\lib\\site-packages\\keras\\engine\\training.py\", line 1617, in fit\n",
      "    _use_cached_eval_dataset=True,\n",
      "  File \"C:\\Users\\raulg\\anaconda3\\envs\\TFM37\\lib\\site-packages\\keras\\utils\\traceback_utils.py\", line 65, in error_handler\n",
      "    return fn(*args, **kwargs)\n",
      "  File \"C:\\Users\\raulg\\anaconda3\\envs\\TFM37\\lib\\site-packages\\keras\\engine\\training.py\", line 1947, in evaluate\n",
      "    tmp_logs = self.test_function(iterator)\n",
      "  File \"C:\\Users\\raulg\\anaconda3\\envs\\TFM37\\lib\\site-packages\\tensorflow\\python\\util\\traceback_utils.py\", line 150, in error_handler\n",
      "    return fn(*args, **kwargs)\n",
      "  File \"C:\\Users\\raulg\\anaconda3\\envs\\TFM37\\lib\\site-packages\\tensorflow\\python\\eager\\def_function.py\", line 915, in __call__\n",
      "    result = self._call(*args, **kwds)\n",
      "  File \"C:\\Users\\raulg\\anaconda3\\envs\\TFM37\\lib\\site-packages\\tensorflow\\python\\eager\\def_function.py\", line 954, in _call\n",
      "    results = self._stateful_fn(*args, **kwds)\n",
      "  File \"C:\\Users\\raulg\\anaconda3\\envs\\TFM37\\lib\\site-packages\\tensorflow\\python\\eager\\function.py\", line 2497, in __call__\n",
      "    filtered_flat_args, captured_inputs=graph_function.captured_inputs)  # pylint: disable=protected-access\n",
      "  File \"C:\\Users\\raulg\\anaconda3\\envs\\TFM37\\lib\\site-packages\\tensorflow\\python\\eager\\function.py\", line 1863, in _call_flat\n",
      "    ctx, args, cancellation_manager=cancellation_manager))\n",
      "  File \"C:\\Users\\raulg\\anaconda3\\envs\\TFM37\\lib\\site-packages\\tensorflow\\python\\eager\\function.py\", line 504, in call\n",
      "    ctx=ctx)\n",
      "  File \"C:\\Users\\raulg\\anaconda3\\envs\\TFM37\\lib\\site-packages\\tensorflow\\python\\eager\\execute.py\", line 55, in quick_execute\n",
      "    inputs, attrs, num_outputs)\n",
      "KeyboardInterrupt\n",
      "[W 2025-01-20 18:02:09,792] Trial 1 failed with value None.\n"
     ]
    },
    {
     "ename": "KeyboardInterrupt",
     "evalue": "",
     "output_type": "error",
     "traceback": [
      "\u001b[1;31m---------------------------------------------------------------------------\u001b[0m",
      "\u001b[1;31mKeyboardInterrupt\u001b[0m                         Traceback (most recent call last)",
      "\u001b[1;32m~\\AppData\\Local\\Temp\\ipykernel_17844\\979192815.py\u001b[0m in \u001b[0;36m<module>\u001b[1;34m\u001b[0m\n\u001b[0;32m     62\u001b[0m \u001b[0mstart_time\u001b[0m \u001b[1;33m=\u001b[0m \u001b[0mtime\u001b[0m\u001b[1;33m.\u001b[0m\u001b[0mtime\u001b[0m\u001b[1;33m(\u001b[0m\u001b[1;33m)\u001b[0m\u001b[1;33m\u001b[0m\u001b[1;33m\u001b[0m\u001b[0m\n\u001b[0;32m     63\u001b[0m \u001b[0mstudy\u001b[0m \u001b[1;33m=\u001b[0m \u001b[0moptuna\u001b[0m\u001b[1;33m.\u001b[0m\u001b[0mcreate_study\u001b[0m\u001b[1;33m(\u001b[0m\u001b[0mdirection\u001b[0m\u001b[1;33m=\u001b[0m\u001b[1;34m'maximize'\u001b[0m\u001b[1;33m)\u001b[0m\u001b[1;33m\u001b[0m\u001b[1;33m\u001b[0m\u001b[0m\n\u001b[1;32m---> 64\u001b[1;33m \u001b[0mstudy\u001b[0m\u001b[1;33m.\u001b[0m\u001b[0moptimize\u001b[0m\u001b[1;33m(\u001b[0m\u001b[0mobjective\u001b[0m\u001b[1;33m,\u001b[0m \u001b[0mn_trials\u001b[0m\u001b[1;33m=\u001b[0m\u001b[1;36m50\u001b[0m\u001b[1;33m)\u001b[0m\u001b[1;33m\u001b[0m\u001b[1;33m\u001b[0m\u001b[0m\n\u001b[0m\u001b[0;32m     65\u001b[0m \u001b[0mtraining_time\u001b[0m \u001b[1;33m=\u001b[0m \u001b[0mtime\u001b[0m\u001b[1;33m.\u001b[0m\u001b[0mtime\u001b[0m\u001b[1;33m(\u001b[0m\u001b[1;33m)\u001b[0m \u001b[1;33m-\u001b[0m \u001b[0mstart_time\u001b[0m\u001b[1;33m\u001b[0m\u001b[1;33m\u001b[0m\u001b[0m\n\u001b[0;32m     66\u001b[0m \u001b[1;31m# Imprimir el tiempo de entrenamiento en segundos\u001b[0m\u001b[1;33m\u001b[0m\u001b[1;33m\u001b[0m\u001b[1;33m\u001b[0m\u001b[0m\n",
      "\u001b[1;32m~\\anaconda3\\envs\\TFM37\\lib\\site-packages\\optuna\\study\\study.py\u001b[0m in \u001b[0;36moptimize\u001b[1;34m(self, func, n_trials, timeout, n_jobs, catch, callbacks, gc_after_trial, show_progress_bar)\u001b[0m\n\u001b[0;32m    482\u001b[0m             \u001b[0mcallbacks\u001b[0m\u001b[1;33m=\u001b[0m\u001b[0mcallbacks\u001b[0m\u001b[1;33m,\u001b[0m\u001b[1;33m\u001b[0m\u001b[1;33m\u001b[0m\u001b[0m\n\u001b[0;32m    483\u001b[0m             \u001b[0mgc_after_trial\u001b[0m\u001b[1;33m=\u001b[0m\u001b[0mgc_after_trial\u001b[0m\u001b[1;33m,\u001b[0m\u001b[1;33m\u001b[0m\u001b[1;33m\u001b[0m\u001b[0m\n\u001b[1;32m--> 484\u001b[1;33m             \u001b[0mshow_progress_bar\u001b[0m\u001b[1;33m=\u001b[0m\u001b[0mshow_progress_bar\u001b[0m\u001b[1;33m,\u001b[0m\u001b[1;33m\u001b[0m\u001b[1;33m\u001b[0m\u001b[0m\n\u001b[0m\u001b[0;32m    485\u001b[0m         )\n\u001b[0;32m    486\u001b[0m \u001b[1;33m\u001b[0m\u001b[0m\n",
      "\u001b[1;32m~\\anaconda3\\envs\\TFM37\\lib\\site-packages\\optuna\\study\\_optimize.py\u001b[0m in \u001b[0;36m_optimize\u001b[1;34m(study, func, n_trials, timeout, n_jobs, catch, callbacks, gc_after_trial, show_progress_bar)\u001b[0m\n\u001b[0;32m     71\u001b[0m                 \u001b[0mreseed_sampler_rng\u001b[0m\u001b[1;33m=\u001b[0m\u001b[1;32mFalse\u001b[0m\u001b[1;33m,\u001b[0m\u001b[1;33m\u001b[0m\u001b[1;33m\u001b[0m\u001b[0m\n\u001b[0;32m     72\u001b[0m                 \u001b[0mtime_start\u001b[0m\u001b[1;33m=\u001b[0m\u001b[1;32mNone\u001b[0m\u001b[1;33m,\u001b[0m\u001b[1;33m\u001b[0m\u001b[1;33m\u001b[0m\u001b[0m\n\u001b[1;32m---> 73\u001b[1;33m                 \u001b[0mprogress_bar\u001b[0m\u001b[1;33m=\u001b[0m\u001b[0mprogress_bar\u001b[0m\u001b[1;33m,\u001b[0m\u001b[1;33m\u001b[0m\u001b[1;33m\u001b[0m\u001b[0m\n\u001b[0m\u001b[0;32m     74\u001b[0m             )\n\u001b[0;32m     75\u001b[0m         \u001b[1;32melse\u001b[0m\u001b[1;33m:\u001b[0m\u001b[1;33m\u001b[0m\u001b[1;33m\u001b[0m\u001b[0m\n",
      "\u001b[1;32m~\\anaconda3\\envs\\TFM37\\lib\\site-packages\\optuna\\study\\_optimize.py\u001b[0m in \u001b[0;36m_optimize_sequential\u001b[1;34m(study, func, n_trials, timeout, catch, callbacks, gc_after_trial, reseed_sampler_rng, time_start, progress_bar)\u001b[0m\n\u001b[0;32m    158\u001b[0m \u001b[1;33m\u001b[0m\u001b[0m\n\u001b[0;32m    159\u001b[0m         \u001b[1;32mtry\u001b[0m\u001b[1;33m:\u001b[0m\u001b[1;33m\u001b[0m\u001b[1;33m\u001b[0m\u001b[0m\n\u001b[1;32m--> 160\u001b[1;33m             \u001b[0mfrozen_trial\u001b[0m \u001b[1;33m=\u001b[0m \u001b[0m_run_trial\u001b[0m\u001b[1;33m(\u001b[0m\u001b[0mstudy\u001b[0m\u001b[1;33m,\u001b[0m \u001b[0mfunc\u001b[0m\u001b[1;33m,\u001b[0m \u001b[0mcatch\u001b[0m\u001b[1;33m)\u001b[0m\u001b[1;33m\u001b[0m\u001b[1;33m\u001b[0m\u001b[0m\n\u001b[0m\u001b[0;32m    161\u001b[0m         \u001b[1;32mfinally\u001b[0m\u001b[1;33m:\u001b[0m\u001b[1;33m\u001b[0m\u001b[1;33m\u001b[0m\u001b[0m\n\u001b[0;32m    162\u001b[0m             \u001b[1;31m# The following line mitigates memory problems that can be occurred in some\u001b[0m\u001b[1;33m\u001b[0m\u001b[1;33m\u001b[0m\u001b[1;33m\u001b[0m\u001b[0m\n",
      "\u001b[1;32m~\\anaconda3\\envs\\TFM37\\lib\\site-packages\\optuna\\study\\_optimize.py\u001b[0m in \u001b[0;36m_run_trial\u001b[1;34m(study, func, catch)\u001b[0m\n\u001b[0;32m    246\u001b[0m         \u001b[1;32mand\u001b[0m \u001b[1;32mnot\u001b[0m \u001b[0misinstance\u001b[0m\u001b[1;33m(\u001b[0m\u001b[0mfunc_err\u001b[0m\u001b[1;33m,\u001b[0m \u001b[0mcatch\u001b[0m\u001b[1;33m)\u001b[0m\u001b[1;33m\u001b[0m\u001b[1;33m\u001b[0m\u001b[0m\n\u001b[0;32m    247\u001b[0m     ):\n\u001b[1;32m--> 248\u001b[1;33m         \u001b[1;32mraise\u001b[0m \u001b[0mfunc_err\u001b[0m\u001b[1;33m\u001b[0m\u001b[1;33m\u001b[0m\u001b[0m\n\u001b[0m\u001b[0;32m    249\u001b[0m     \u001b[1;32mreturn\u001b[0m \u001b[0mfrozen_trial\u001b[0m\u001b[1;33m\u001b[0m\u001b[1;33m\u001b[0m\u001b[0m\n\u001b[0;32m    250\u001b[0m \u001b[1;33m\u001b[0m\u001b[0m\n",
      "\u001b[1;32m~\\anaconda3\\envs\\TFM37\\lib\\site-packages\\optuna\\study\\_optimize.py\u001b[0m in \u001b[0;36m_run_trial\u001b[1;34m(study, func, catch)\u001b[0m\n\u001b[0;32m    195\u001b[0m     \u001b[1;32mwith\u001b[0m \u001b[0mget_heartbeat_thread\u001b[0m\u001b[1;33m(\u001b[0m\u001b[0mtrial\u001b[0m\u001b[1;33m.\u001b[0m\u001b[0m_trial_id\u001b[0m\u001b[1;33m,\u001b[0m \u001b[0mstudy\u001b[0m\u001b[1;33m.\u001b[0m\u001b[0m_storage\u001b[0m\u001b[1;33m)\u001b[0m\u001b[1;33m:\u001b[0m\u001b[1;33m\u001b[0m\u001b[1;33m\u001b[0m\u001b[0m\n\u001b[0;32m    196\u001b[0m         \u001b[1;32mtry\u001b[0m\u001b[1;33m:\u001b[0m\u001b[1;33m\u001b[0m\u001b[1;33m\u001b[0m\u001b[0m\n\u001b[1;32m--> 197\u001b[1;33m             \u001b[0mvalue_or_values\u001b[0m \u001b[1;33m=\u001b[0m \u001b[0mfunc\u001b[0m\u001b[1;33m(\u001b[0m\u001b[0mtrial\u001b[0m\u001b[1;33m)\u001b[0m\u001b[1;33m\u001b[0m\u001b[1;33m\u001b[0m\u001b[0m\n\u001b[0m\u001b[0;32m    198\u001b[0m         \u001b[1;32mexcept\u001b[0m \u001b[0mexceptions\u001b[0m\u001b[1;33m.\u001b[0m\u001b[0mTrialPruned\u001b[0m \u001b[1;32mas\u001b[0m \u001b[0me\u001b[0m\u001b[1;33m:\u001b[0m\u001b[1;33m\u001b[0m\u001b[1;33m\u001b[0m\u001b[0m\n\u001b[0;32m    199\u001b[0m             \u001b[1;31m# TODO(mamu): Handle multi-objective cases.\u001b[0m\u001b[1;33m\u001b[0m\u001b[1;33m\u001b[0m\u001b[1;33m\u001b[0m\u001b[0m\n",
      "\u001b[1;32m~\\AppData\\Local\\Temp\\ipykernel_17844\\979192815.py\u001b[0m in \u001b[0;36mobjective\u001b[1;34m(trial)\u001b[0m\n\u001b[0;32m     51\u001b[0m         \u001b[0mvalidation_data\u001b[0m\u001b[1;33m=\u001b[0m\u001b[0mval_dataset\u001b[0m\u001b[1;33m,\u001b[0m\u001b[1;33m\u001b[0m\u001b[1;33m\u001b[0m\u001b[0m\n\u001b[0;32m     52\u001b[0m         \u001b[0mcallbacks\u001b[0m\u001b[1;33m=\u001b[0m\u001b[0mcallback_list\u001b[0m\u001b[1;33m,\u001b[0m\u001b[1;33m\u001b[0m\u001b[1;33m\u001b[0m\u001b[0m\n\u001b[1;32m---> 53\u001b[1;33m         \u001b[0mverbose\u001b[0m\u001b[1;33m=\u001b[0m\u001b[1;36m0\u001b[0m\u001b[1;33m\u001b[0m\u001b[1;33m\u001b[0m\u001b[0m\n\u001b[0m\u001b[0;32m     54\u001b[0m     )\n\u001b[0;32m     55\u001b[0m \u001b[1;33m\u001b[0m\u001b[0m\n",
      "\u001b[1;32m~\\anaconda3\\envs\\TFM37\\lib\\site-packages\\keras\\utils\\traceback_utils.py\u001b[0m in \u001b[0;36merror_handler\u001b[1;34m(*args, **kwargs)\u001b[0m\n\u001b[0;32m     63\u001b[0m         \u001b[0mfiltered_tb\u001b[0m \u001b[1;33m=\u001b[0m \u001b[1;32mNone\u001b[0m\u001b[1;33m\u001b[0m\u001b[1;33m\u001b[0m\u001b[0m\n\u001b[0;32m     64\u001b[0m         \u001b[1;32mtry\u001b[0m\u001b[1;33m:\u001b[0m\u001b[1;33m\u001b[0m\u001b[1;33m\u001b[0m\u001b[0m\n\u001b[1;32m---> 65\u001b[1;33m             \u001b[1;32mreturn\u001b[0m \u001b[0mfn\u001b[0m\u001b[1;33m(\u001b[0m\u001b[1;33m*\u001b[0m\u001b[0margs\u001b[0m\u001b[1;33m,\u001b[0m \u001b[1;33m**\u001b[0m\u001b[0mkwargs\u001b[0m\u001b[1;33m)\u001b[0m\u001b[1;33m\u001b[0m\u001b[1;33m\u001b[0m\u001b[0m\n\u001b[0m\u001b[0;32m     66\u001b[0m         \u001b[1;32mexcept\u001b[0m \u001b[0mException\u001b[0m \u001b[1;32mas\u001b[0m \u001b[0me\u001b[0m\u001b[1;33m:\u001b[0m\u001b[1;33m\u001b[0m\u001b[1;33m\u001b[0m\u001b[0m\n\u001b[0;32m     67\u001b[0m             \u001b[0mfiltered_tb\u001b[0m \u001b[1;33m=\u001b[0m \u001b[0m_process_traceback_frames\u001b[0m\u001b[1;33m(\u001b[0m\u001b[0me\u001b[0m\u001b[1;33m.\u001b[0m\u001b[0m__traceback__\u001b[0m\u001b[1;33m)\u001b[0m\u001b[1;33m\u001b[0m\u001b[1;33m\u001b[0m\u001b[0m\n",
      "\u001b[1;32m~\\anaconda3\\envs\\TFM37\\lib\\site-packages\\keras\\engine\\training.py\u001b[0m in \u001b[0;36mfit\u001b[1;34m(self, x, y, batch_size, epochs, verbose, callbacks, validation_split, validation_data, shuffle, class_weight, sample_weight, initial_epoch, steps_per_epoch, validation_steps, validation_batch_size, validation_freq, max_queue_size, workers, use_multiprocessing)\u001b[0m\n\u001b[0;32m   1615\u001b[0m                         \u001b[0muse_multiprocessing\u001b[0m\u001b[1;33m=\u001b[0m\u001b[0muse_multiprocessing\u001b[0m\u001b[1;33m,\u001b[0m\u001b[1;33m\u001b[0m\u001b[1;33m\u001b[0m\u001b[0m\n\u001b[0;32m   1616\u001b[0m                         \u001b[0mreturn_dict\u001b[0m\u001b[1;33m=\u001b[0m\u001b[1;32mTrue\u001b[0m\u001b[1;33m,\u001b[0m\u001b[1;33m\u001b[0m\u001b[1;33m\u001b[0m\u001b[0m\n\u001b[1;32m-> 1617\u001b[1;33m                         \u001b[0m_use_cached_eval_dataset\u001b[0m\u001b[1;33m=\u001b[0m\u001b[1;32mTrue\u001b[0m\u001b[1;33m,\u001b[0m\u001b[1;33m\u001b[0m\u001b[1;33m\u001b[0m\u001b[0m\n\u001b[0m\u001b[0;32m   1618\u001b[0m                     )\n\u001b[0;32m   1619\u001b[0m                     val_logs = {\n",
      "\u001b[1;32m~\\anaconda3\\envs\\TFM37\\lib\\site-packages\\keras\\utils\\traceback_utils.py\u001b[0m in \u001b[0;36merror_handler\u001b[1;34m(*args, **kwargs)\u001b[0m\n\u001b[0;32m     63\u001b[0m         \u001b[0mfiltered_tb\u001b[0m \u001b[1;33m=\u001b[0m \u001b[1;32mNone\u001b[0m\u001b[1;33m\u001b[0m\u001b[1;33m\u001b[0m\u001b[0m\n\u001b[0;32m     64\u001b[0m         \u001b[1;32mtry\u001b[0m\u001b[1;33m:\u001b[0m\u001b[1;33m\u001b[0m\u001b[1;33m\u001b[0m\u001b[0m\n\u001b[1;32m---> 65\u001b[1;33m             \u001b[1;32mreturn\u001b[0m \u001b[0mfn\u001b[0m\u001b[1;33m(\u001b[0m\u001b[1;33m*\u001b[0m\u001b[0margs\u001b[0m\u001b[1;33m,\u001b[0m \u001b[1;33m**\u001b[0m\u001b[0mkwargs\u001b[0m\u001b[1;33m)\u001b[0m\u001b[1;33m\u001b[0m\u001b[1;33m\u001b[0m\u001b[0m\n\u001b[0m\u001b[0;32m     66\u001b[0m         \u001b[1;32mexcept\u001b[0m \u001b[0mException\u001b[0m \u001b[1;32mas\u001b[0m \u001b[0me\u001b[0m\u001b[1;33m:\u001b[0m\u001b[1;33m\u001b[0m\u001b[1;33m\u001b[0m\u001b[0m\n\u001b[0;32m     67\u001b[0m             \u001b[0mfiltered_tb\u001b[0m \u001b[1;33m=\u001b[0m \u001b[0m_process_traceback_frames\u001b[0m\u001b[1;33m(\u001b[0m\u001b[0me\u001b[0m\u001b[1;33m.\u001b[0m\u001b[0m__traceback__\u001b[0m\u001b[1;33m)\u001b[0m\u001b[1;33m\u001b[0m\u001b[1;33m\u001b[0m\u001b[0m\n",
      "\u001b[1;32m~\\anaconda3\\envs\\TFM37\\lib\\site-packages\\keras\\engine\\training.py\u001b[0m in \u001b[0;36mevaluate\u001b[1;34m(self, x, y, batch_size, verbose, sample_weight, steps, callbacks, max_queue_size, workers, use_multiprocessing, return_dict, **kwargs)\u001b[0m\n\u001b[0;32m   1945\u001b[0m                         ):\n\u001b[0;32m   1946\u001b[0m                             \u001b[0mcallbacks\u001b[0m\u001b[1;33m.\u001b[0m\u001b[0mon_test_batch_begin\u001b[0m\u001b[1;33m(\u001b[0m\u001b[0mstep\u001b[0m\u001b[1;33m)\u001b[0m\u001b[1;33m\u001b[0m\u001b[1;33m\u001b[0m\u001b[0m\n\u001b[1;32m-> 1947\u001b[1;33m                             \u001b[0mtmp_logs\u001b[0m \u001b[1;33m=\u001b[0m \u001b[0mself\u001b[0m\u001b[1;33m.\u001b[0m\u001b[0mtest_function\u001b[0m\u001b[1;33m(\u001b[0m\u001b[0miterator\u001b[0m\u001b[1;33m)\u001b[0m\u001b[1;33m\u001b[0m\u001b[1;33m\u001b[0m\u001b[0m\n\u001b[0m\u001b[0;32m   1948\u001b[0m                             \u001b[1;32mif\u001b[0m \u001b[0mdata_handler\u001b[0m\u001b[1;33m.\u001b[0m\u001b[0mshould_sync\u001b[0m\u001b[1;33m:\u001b[0m\u001b[1;33m\u001b[0m\u001b[1;33m\u001b[0m\u001b[0m\n\u001b[0;32m   1949\u001b[0m                                 \u001b[0mcontext\u001b[0m\u001b[1;33m.\u001b[0m\u001b[0masync_wait\u001b[0m\u001b[1;33m(\u001b[0m\u001b[1;33m)\u001b[0m\u001b[1;33m\u001b[0m\u001b[1;33m\u001b[0m\u001b[0m\n",
      "\u001b[1;32m~\\anaconda3\\envs\\TFM37\\lib\\site-packages\\tensorflow\\python\\util\\traceback_utils.py\u001b[0m in \u001b[0;36merror_handler\u001b[1;34m(*args, **kwargs)\u001b[0m\n\u001b[0;32m    148\u001b[0m     \u001b[0mfiltered_tb\u001b[0m \u001b[1;33m=\u001b[0m \u001b[1;32mNone\u001b[0m\u001b[1;33m\u001b[0m\u001b[1;33m\u001b[0m\u001b[0m\n\u001b[0;32m    149\u001b[0m     \u001b[1;32mtry\u001b[0m\u001b[1;33m:\u001b[0m\u001b[1;33m\u001b[0m\u001b[1;33m\u001b[0m\u001b[0m\n\u001b[1;32m--> 150\u001b[1;33m       \u001b[1;32mreturn\u001b[0m \u001b[0mfn\u001b[0m\u001b[1;33m(\u001b[0m\u001b[1;33m*\u001b[0m\u001b[0margs\u001b[0m\u001b[1;33m,\u001b[0m \u001b[1;33m**\u001b[0m\u001b[0mkwargs\u001b[0m\u001b[1;33m)\u001b[0m\u001b[1;33m\u001b[0m\u001b[1;33m\u001b[0m\u001b[0m\n\u001b[0m\u001b[0;32m    151\u001b[0m     \u001b[1;32mexcept\u001b[0m \u001b[0mException\u001b[0m \u001b[1;32mas\u001b[0m \u001b[0me\u001b[0m\u001b[1;33m:\u001b[0m\u001b[1;33m\u001b[0m\u001b[1;33m\u001b[0m\u001b[0m\n\u001b[0;32m    152\u001b[0m       \u001b[0mfiltered_tb\u001b[0m \u001b[1;33m=\u001b[0m \u001b[0m_process_traceback_frames\u001b[0m\u001b[1;33m(\u001b[0m\u001b[0me\u001b[0m\u001b[1;33m.\u001b[0m\u001b[0m__traceback__\u001b[0m\u001b[1;33m)\u001b[0m\u001b[1;33m\u001b[0m\u001b[1;33m\u001b[0m\u001b[0m\n",
      "\u001b[1;32m~\\anaconda3\\envs\\TFM37\\lib\\site-packages\\tensorflow\\python\\eager\\def_function.py\u001b[0m in \u001b[0;36m__call__\u001b[1;34m(self, *args, **kwds)\u001b[0m\n\u001b[0;32m    913\u001b[0m \u001b[1;33m\u001b[0m\u001b[0m\n\u001b[0;32m    914\u001b[0m       \u001b[1;32mwith\u001b[0m \u001b[0mOptionalXlaContext\u001b[0m\u001b[1;33m(\u001b[0m\u001b[0mself\u001b[0m\u001b[1;33m.\u001b[0m\u001b[0m_jit_compile\u001b[0m\u001b[1;33m)\u001b[0m\u001b[1;33m:\u001b[0m\u001b[1;33m\u001b[0m\u001b[1;33m\u001b[0m\u001b[0m\n\u001b[1;32m--> 915\u001b[1;33m         \u001b[0mresult\u001b[0m \u001b[1;33m=\u001b[0m \u001b[0mself\u001b[0m\u001b[1;33m.\u001b[0m\u001b[0m_call\u001b[0m\u001b[1;33m(\u001b[0m\u001b[1;33m*\u001b[0m\u001b[0margs\u001b[0m\u001b[1;33m,\u001b[0m \u001b[1;33m**\u001b[0m\u001b[0mkwds\u001b[0m\u001b[1;33m)\u001b[0m\u001b[1;33m\u001b[0m\u001b[1;33m\u001b[0m\u001b[0m\n\u001b[0m\u001b[0;32m    916\u001b[0m \u001b[1;33m\u001b[0m\u001b[0m\n\u001b[0;32m    917\u001b[0m       \u001b[0mnew_tracing_count\u001b[0m \u001b[1;33m=\u001b[0m \u001b[0mself\u001b[0m\u001b[1;33m.\u001b[0m\u001b[0mexperimental_get_tracing_count\u001b[0m\u001b[1;33m(\u001b[0m\u001b[1;33m)\u001b[0m\u001b[1;33m\u001b[0m\u001b[1;33m\u001b[0m\u001b[0m\n",
      "\u001b[1;32m~\\anaconda3\\envs\\TFM37\\lib\\site-packages\\tensorflow\\python\\eager\\def_function.py\u001b[0m in \u001b[0;36m_call\u001b[1;34m(self, *args, **kwds)\u001b[0m\n\u001b[0;32m    952\u001b[0m       \u001b[1;31m# In this case we have not created variables on the first call. So we can\u001b[0m\u001b[1;33m\u001b[0m\u001b[1;33m\u001b[0m\u001b[1;33m\u001b[0m\u001b[0m\n\u001b[0;32m    953\u001b[0m       \u001b[1;31m# run the first trace but we should fail if variables are created.\u001b[0m\u001b[1;33m\u001b[0m\u001b[1;33m\u001b[0m\u001b[1;33m\u001b[0m\u001b[0m\n\u001b[1;32m--> 954\u001b[1;33m       \u001b[0mresults\u001b[0m \u001b[1;33m=\u001b[0m \u001b[0mself\u001b[0m\u001b[1;33m.\u001b[0m\u001b[0m_stateful_fn\u001b[0m\u001b[1;33m(\u001b[0m\u001b[1;33m*\u001b[0m\u001b[0margs\u001b[0m\u001b[1;33m,\u001b[0m \u001b[1;33m**\u001b[0m\u001b[0mkwds\u001b[0m\u001b[1;33m)\u001b[0m\u001b[1;33m\u001b[0m\u001b[1;33m\u001b[0m\u001b[0m\n\u001b[0m\u001b[0;32m    955\u001b[0m       \u001b[1;32mif\u001b[0m \u001b[0mself\u001b[0m\u001b[1;33m.\u001b[0m\u001b[0m_created_variables\u001b[0m \u001b[1;32mand\u001b[0m \u001b[1;32mnot\u001b[0m \u001b[0mALLOW_DYNAMIC_VARIABLE_CREATION\u001b[0m\u001b[1;33m:\u001b[0m\u001b[1;33m\u001b[0m\u001b[1;33m\u001b[0m\u001b[0m\n\u001b[0;32m    956\u001b[0m         raise ValueError(\"Creating variables on a non-first call to a function\"\n",
      "\u001b[1;32m~\\anaconda3\\envs\\TFM37\\lib\\site-packages\\tensorflow\\python\\eager\\function.py\u001b[0m in \u001b[0;36m__call__\u001b[1;34m(self, *args, **kwargs)\u001b[0m\n\u001b[0;32m   2495\u001b[0m        filtered_flat_args) = self._maybe_define_function(args, kwargs)\n\u001b[0;32m   2496\u001b[0m     return graph_function._call_flat(\n\u001b[1;32m-> 2497\u001b[1;33m         filtered_flat_args, captured_inputs=graph_function.captured_inputs)  # pylint: disable=protected-access\n\u001b[0m\u001b[0;32m   2498\u001b[0m \u001b[1;33m\u001b[0m\u001b[0m\n\u001b[0;32m   2499\u001b[0m   \u001b[1;33m@\u001b[0m\u001b[0mproperty\u001b[0m\u001b[1;33m\u001b[0m\u001b[1;33m\u001b[0m\u001b[0m\n",
      "\u001b[1;32m~\\anaconda3\\envs\\TFM37\\lib\\site-packages\\tensorflow\\python\\eager\\function.py\u001b[0m in \u001b[0;36m_call_flat\u001b[1;34m(self, args, captured_inputs, cancellation_manager)\u001b[0m\n\u001b[0;32m   1861\u001b[0m       \u001b[1;31m# No tape is watching; skip to running the function.\u001b[0m\u001b[1;33m\u001b[0m\u001b[1;33m\u001b[0m\u001b[1;33m\u001b[0m\u001b[0m\n\u001b[0;32m   1862\u001b[0m       return self._build_call_outputs(self._inference_function.call(\n\u001b[1;32m-> 1863\u001b[1;33m           ctx, args, cancellation_manager=cancellation_manager))\n\u001b[0m\u001b[0;32m   1864\u001b[0m     forward_backward = self._select_forward_and_backward_functions(\n\u001b[0;32m   1865\u001b[0m         \u001b[0margs\u001b[0m\u001b[1;33m,\u001b[0m\u001b[1;33m\u001b[0m\u001b[1;33m\u001b[0m\u001b[0m\n",
      "\u001b[1;32m~\\anaconda3\\envs\\TFM37\\lib\\site-packages\\tensorflow\\python\\eager\\function.py\u001b[0m in \u001b[0;36mcall\u001b[1;34m(self, ctx, args, cancellation_manager)\u001b[0m\n\u001b[0;32m    502\u001b[0m               \u001b[0minputs\u001b[0m\u001b[1;33m=\u001b[0m\u001b[0margs\u001b[0m\u001b[1;33m,\u001b[0m\u001b[1;33m\u001b[0m\u001b[1;33m\u001b[0m\u001b[0m\n\u001b[0;32m    503\u001b[0m               \u001b[0mattrs\u001b[0m\u001b[1;33m=\u001b[0m\u001b[0mattrs\u001b[0m\u001b[1;33m,\u001b[0m\u001b[1;33m\u001b[0m\u001b[1;33m\u001b[0m\u001b[0m\n\u001b[1;32m--> 504\u001b[1;33m               ctx=ctx)\n\u001b[0m\u001b[0;32m    505\u001b[0m         \u001b[1;32melse\u001b[0m\u001b[1;33m:\u001b[0m\u001b[1;33m\u001b[0m\u001b[1;33m\u001b[0m\u001b[0m\n\u001b[0;32m    506\u001b[0m           outputs = execute.execute_with_cancellation(\n",
      "\u001b[1;32m~\\anaconda3\\envs\\TFM37\\lib\\site-packages\\tensorflow\\python\\eager\\execute.py\u001b[0m in \u001b[0;36mquick_execute\u001b[1;34m(op_name, num_outputs, inputs, attrs, ctx, name)\u001b[0m\n\u001b[0;32m     53\u001b[0m     \u001b[0mctx\u001b[0m\u001b[1;33m.\u001b[0m\u001b[0mensure_initialized\u001b[0m\u001b[1;33m(\u001b[0m\u001b[1;33m)\u001b[0m\u001b[1;33m\u001b[0m\u001b[1;33m\u001b[0m\u001b[0m\n\u001b[0;32m     54\u001b[0m     tensors = pywrap_tfe.TFE_Py_Execute(ctx._handle, device_name, op_name,\n\u001b[1;32m---> 55\u001b[1;33m                                         inputs, attrs, num_outputs)\n\u001b[0m\u001b[0;32m     56\u001b[0m   \u001b[1;32mexcept\u001b[0m \u001b[0mcore\u001b[0m\u001b[1;33m.\u001b[0m\u001b[0m_NotOkStatusException\u001b[0m \u001b[1;32mas\u001b[0m \u001b[0me\u001b[0m\u001b[1;33m:\u001b[0m\u001b[1;33m\u001b[0m\u001b[1;33m\u001b[0m\u001b[0m\n\u001b[0;32m     57\u001b[0m     \u001b[1;32mif\u001b[0m \u001b[0mname\u001b[0m \u001b[1;32mis\u001b[0m \u001b[1;32mnot\u001b[0m \u001b[1;32mNone\u001b[0m\u001b[1;33m:\u001b[0m\u001b[1;33m\u001b[0m\u001b[1;33m\u001b[0m\u001b[0m\n",
      "\u001b[1;31mKeyboardInterrupt\u001b[0m: "
     ]
    }
   ],
   "source": [
    "import optuna\n",
    "import gc\n",
    "import time\n",
    "\n",
    "def objective(trial):\n",
    "    embedding_dim = trial.suggest_categorical('embedding_dim',[32, 64])\n",
    "    depth = trial.suggest_int('depth',1,6,1)\n",
    "    heads = trial.suggest_int('heads',2,8,1)\n",
    "    attn_dropout = trial.suggest_float(\"attn_dropout\", 0.05, 0.5)\n",
    "    ff_dropout = trial.suggest_float(\"ff_dropout\", 0.05, 0.5)\n",
    "    mlp_hidden_factor1 = trial.suggest_int(\"mlp_hidden_factor1\", 1, 4, 1)\n",
    "    mlp_hidden_factor2 = trial.suggest_int(\"mlp_hidden_factor2\", 1, 4, 1)\n",
    "    use_column_embedding = trial.suggest_categorical('use_column_embedding', [True, False])\n",
    "    \n",
    "    tabtransformer = TabTransformer(\n",
    "        numerical_features = NUMERIC_FEATURES,\n",
    "        categorical_features = CATEGORICAL_FEATURES,\n",
    "        categorical_lookup=category_prep_layers,\n",
    "        numerical_discretisers=None, # simply passing the numeric features\n",
    "        embedding_dim=embedding_dim,\n",
    "        out_dim=NUM_CLASES,\n",
    "        out_activation='softmax',\n",
    "        depth=depth,\n",
    "        heads=heads,\n",
    "        attn_dropout=attn_dropout,\n",
    "        ff_dropout=ff_dropout,\n",
    "        mlp_hidden_factors=[mlp_hidden_factor1, mlp_hidden_factor2],\n",
    "        use_column_embedding=use_column_embedding,\n",
    "    )\n",
    "        \n",
    "    LEARNING_RATE = 0.001\n",
    "    WEIGHT_DECAY = 0.0001\n",
    "    NUM_EPOCHS = 1000\n",
    "\n",
    "    optimizer = tfa.optimizers.AdamW(\n",
    "            learning_rate=LEARNING_RATE, weight_decay=WEIGHT_DECAY\n",
    "        )\n",
    "\n",
    "    tabtransformer.compile(\n",
    "        optimizer = optimizer,\n",
    "        loss = tf.keras.losses.SparseCategoricalCrossentropy(),\n",
    "        metrics= [tf.keras.metrics.SparseCategoricalAccuracy(name=\"accuracy\")],\n",
    "    )\n",
    "    \n",
    "    early = EarlyStopping(monitor=\"val_loss\", mode=\"min\", patience=20, restore_best_weights=True)\n",
    "    callback_list = [early]\n",
    "\n",
    "    history = tabtransformer.fit(\n",
    "        train_dataset, \n",
    "        epochs=NUM_EPOCHS, \n",
    "        validation_data=val_dataset,\n",
    "        callbacks=callback_list,\n",
    "        verbose=0\n",
    "    )\n",
    "    \n",
    "    val_preds = tabtransformer.predict(val_dataset)\n",
    "    accuracy = tf.keras.metrics.CategoricalAccuracy()\n",
    "    accuracy.update_state(val_data[LABEL_Y], val_preds)\n",
    "    return accuracy.result().numpy()\n",
    "    \n",
    "\n",
    "start_time = time.time()\n",
    "study = optuna.create_study(direction='maximize')\n",
    "study.optimize(objective, n_trials=50)\n",
    "training_time = time.time() - start_time\n",
    "# Imprimir el tiempo de entrenamiento en segundos\n",
    "print(\"Tiempo de entrenamiento: %.4f segundos\" % training_time)"
   ]
  },
  {
   "cell_type": "code",
   "execution_count": 18,
   "id": "e7746d05",
   "metadata": {},
   "outputs": [
    {
     "data": {
      "text/plain": [
       "{'embedding_dim': 8,\n",
       " 'depth': 6,\n",
       " 'heads': 5,\n",
       " 'attn_dropout': 0.129029275961549,\n",
       " 'ff_dropout': 0.49548774016019154,\n",
       " 'mlp_hidden_factor1': 4,\n",
       " 'mlp_hidden_factor2': 4,\n",
       " 'use_column_embedding': False}"
      ]
     },
     "execution_count": 18,
     "metadata": {},
     "output_type": "execute_result"
    }
   ],
   "source": [
    "study.best_params"
   ]
  },
  {
   "cell_type": "code",
   "execution_count": 48,
   "id": "07858a7c",
   "metadata": {},
   "outputs": [
    {
     "data": {
      "text/plain": [
       "{'embedding_dim': 64,\n",
       " 'depth': 6,\n",
       " 'heads': 2,\n",
       " 'attn_dropout': 0.29098729210450314,\n",
       " 'ff_dropout': 0.29996879447375824,\n",
       " 'mlp_hidden_factor1': 4,\n",
       " 'mlp_hidden_factor2': 2,\n",
       " 'use_column_embedding': True}"
      ]
     },
     "execution_count": 48,
     "metadata": {},
     "output_type": "execute_result"
    }
   ],
   "source": [
    "study.best_params"
   ]
  },
  {
   "cell_type": "code",
   "execution_count": 17,
   "id": "84803ef6",
   "metadata": {
    "scrolled": true
   },
   "outputs": [
    {
     "name": "stdout",
     "output_type": "stream",
     "text": [
      "Epoch 1/2000\n",
      "1/1 [==============================] - 8s 8s/step - loss: 3.0066 - accuracy: 0.1513 - val_loss: 2.5522 - val_accuracy: 0.2480\n",
      "Epoch 2/2000\n",
      "1/1 [==============================] - 1s 542ms/step - loss: 2.8350 - accuracy: 0.1597 - val_loss: 2.3773 - val_accuracy: 0.2362\n",
      "Epoch 3/2000\n",
      "1/1 [==============================] - 1s 595ms/step - loss: 2.6924 - accuracy: 0.1688 - val_loss: 2.3426 - val_accuracy: 0.2520\n",
      "Epoch 4/2000\n",
      "1/1 [==============================] - 1s 601ms/step - loss: 2.6057 - accuracy: 0.1855 - val_loss: 2.3623 - val_accuracy: 0.2756\n",
      "Epoch 5/2000\n",
      "1/1 [==============================] - 1s 560ms/step - loss: 2.4607 - accuracy: 0.2015 - val_loss: 2.4226 - val_accuracy: 0.2913\n",
      "Epoch 6/2000\n",
      "1/1 [==============================] - 1s 567ms/step - loss: 2.4248 - accuracy: 0.2029 - val_loss: 2.4535 - val_accuracy: 0.3071\n",
      "Epoch 7/2000\n",
      "1/1 [==============================] - 1s 560ms/step - loss: 2.3734 - accuracy: 0.2343 - val_loss: 2.5277 - val_accuracy: 0.3150\n",
      "Epoch 8/2000\n",
      "1/1 [==============================] - 1s 536ms/step - loss: 2.2045 - accuracy: 0.2664 - val_loss: 2.6332 - val_accuracy: 0.3268\n",
      "Epoch 9/2000\n",
      "1/1 [==============================] - 1s 542ms/step - loss: 2.1545 - accuracy: 0.2838 - val_loss: 2.7490 - val_accuracy: 0.3268\n",
      "Epoch 10/2000\n",
      "1/1 [==============================] - 1s 554ms/step - loss: 2.1315 - accuracy: 0.2810 - val_loss: 2.8316 - val_accuracy: 0.3386\n",
      "Epoch 11/2000\n",
      "1/1 [==============================] - 1s 562ms/step - loss: 2.0843 - accuracy: 0.3033 - val_loss: 2.8788 - val_accuracy: 0.3543\n",
      "Epoch 12/2000\n",
      "1/1 [==============================] - 1s 553ms/step - loss: 2.0560 - accuracy: 0.3201 - val_loss: 2.8863 - val_accuracy: 0.3583\n",
      "Epoch 13/2000\n",
      "1/1 [==============================] - 1s 568ms/step - loss: 2.0244 - accuracy: 0.3047 - val_loss: 2.8499 - val_accuracy: 0.3661\n",
      "Epoch 14/2000\n",
      "1/1 [==============================] - 1s 559ms/step - loss: 1.9290 - accuracy: 0.3452 - val_loss: 2.8098 - val_accuracy: 0.3858\n",
      "Epoch 15/2000\n",
      "1/1 [==============================] - 1s 572ms/step - loss: 1.9310 - accuracy: 0.3354 - val_loss: 2.7512 - val_accuracy: 0.4094\n",
      "Epoch 16/2000\n",
      "1/1 [==============================] - 1s 600ms/step - loss: 1.9123 - accuracy: 0.3577 - val_loss: 2.6966 - val_accuracy: 0.4173\n",
      "Epoch 17/2000\n",
      "1/1 [==============================] - 1s 553ms/step - loss: 1.8825 - accuracy: 0.3529 - val_loss: 2.6299 - val_accuracy: 0.4213\n",
      "Epoch 18/2000\n",
      "1/1 [==============================] - 1s 538ms/step - loss: 1.8284 - accuracy: 0.3891 - val_loss: 2.5579 - val_accuracy: 0.4291\n",
      "Epoch 19/2000\n",
      "1/1 [==============================] - 1s 527ms/step - loss: 1.7808 - accuracy: 0.3752 - val_loss: 2.4761 - val_accuracy: 0.4409\n",
      "Epoch 20/2000\n",
      "1/1 [==============================] - 1s 541ms/step - loss: 1.8223 - accuracy: 0.3724 - val_loss: 2.3903 - val_accuracy: 0.4685\n",
      "Epoch 21/2000\n",
      "1/1 [==============================] - 1s 585ms/step - loss: 1.7483 - accuracy: 0.3821 - val_loss: 2.3148 - val_accuracy: 0.4724\n",
      "Epoch 22/2000\n",
      "1/1 [==============================] - 1s 572ms/step - loss: 1.7306 - accuracy: 0.3954 - val_loss: 2.2442 - val_accuracy: 0.4724\n",
      "Epoch 23/2000\n",
      "1/1 [==============================] - 1s 570ms/step - loss: 1.7341 - accuracy: 0.3808 - val_loss: 2.2058 - val_accuracy: 0.4764\n",
      "Epoch 24/2000\n",
      "1/1 [==============================] - 1s 639ms/step - loss: 1.6538 - accuracy: 0.4177 - val_loss: 2.1657 - val_accuracy: 0.4646\n",
      "Epoch 25/2000\n",
      "1/1 [==============================] - 1s 574ms/step - loss: 1.7093 - accuracy: 0.3940 - val_loss: 2.1115 - val_accuracy: 0.4843\n",
      "Epoch 26/2000\n",
      "1/1 [==============================] - 1s 572ms/step - loss: 1.6437 - accuracy: 0.4045 - val_loss: 2.0584 - val_accuracy: 0.4921\n",
      "Epoch 27/2000\n",
      "1/1 [==============================] - 1s 570ms/step - loss: 1.6459 - accuracy: 0.4198 - val_loss: 2.0018 - val_accuracy: 0.4961\n",
      "Epoch 28/2000\n",
      "1/1 [==============================] - 1s 578ms/step - loss: 1.6131 - accuracy: 0.4031 - val_loss: 1.9491 - val_accuracy: 0.5000\n",
      "Epoch 29/2000\n",
      "1/1 [==============================] - 1s 598ms/step - loss: 1.6094 - accuracy: 0.4261 - val_loss: 1.8960 - val_accuracy: 0.5039\n",
      "Epoch 30/2000\n",
      "1/1 [==============================] - 1s 584ms/step - loss: 1.5917 - accuracy: 0.4344 - val_loss: 1.8574 - val_accuracy: 0.4921\n",
      "Epoch 31/2000\n",
      "1/1 [==============================] - 1s 575ms/step - loss: 1.5733 - accuracy: 0.4289 - val_loss: 1.8217 - val_accuracy: 0.4921\n",
      "Epoch 32/2000\n",
      "1/1 [==============================] - 1s 603ms/step - loss: 1.5300 - accuracy: 0.4142 - val_loss: 1.7885 - val_accuracy: 0.5039\n",
      "Epoch 33/2000\n",
      "1/1 [==============================] - 1s 560ms/step - loss: 1.5137 - accuracy: 0.4435 - val_loss: 1.7717 - val_accuracy: 0.5079\n",
      "Epoch 34/2000\n",
      "1/1 [==============================] - 1s 588ms/step - loss: 1.5073 - accuracy: 0.4310 - val_loss: 1.7448 - val_accuracy: 0.5039\n",
      "Epoch 35/2000\n",
      "1/1 [==============================] - 1s 561ms/step - loss: 1.5175 - accuracy: 0.4407 - val_loss: 1.7085 - val_accuracy: 0.5000\n",
      "Epoch 36/2000\n",
      "1/1 [==============================] - 1s 589ms/step - loss: 1.4316 - accuracy: 0.4630 - val_loss: 1.6655 - val_accuracy: 0.5079\n",
      "Epoch 37/2000\n",
      "1/1 [==============================] - 1s 591ms/step - loss: 1.4396 - accuracy: 0.4582 - val_loss: 1.6249 - val_accuracy: 0.5118\n",
      "Epoch 38/2000\n",
      "1/1 [==============================] - 1s 608ms/step - loss: 1.4803 - accuracy: 0.4693 - val_loss: 1.5912 - val_accuracy: 0.5118\n",
      "Epoch 39/2000\n",
      "1/1 [==============================] - 1s 592ms/step - loss: 1.4728 - accuracy: 0.4561 - val_loss: 1.5486 - val_accuracy: 0.5157\n",
      "Epoch 40/2000\n",
      "1/1 [==============================] - 1s 609ms/step - loss: 1.4216 - accuracy: 0.4714 - val_loss: 1.5001 - val_accuracy: 0.5118\n",
      "Epoch 41/2000\n",
      "1/1 [==============================] - 1s 593ms/step - loss: 1.4350 - accuracy: 0.4498 - val_loss: 1.4546 - val_accuracy: 0.5197\n",
      "Epoch 42/2000\n",
      "1/1 [==============================] - 1s 602ms/step - loss: 1.4144 - accuracy: 0.4596 - val_loss: 1.4176 - val_accuracy: 0.5276\n",
      "Epoch 43/2000\n",
      "1/1 [==============================] - 1s 597ms/step - loss: 1.4050 - accuracy: 0.4735 - val_loss: 1.3967 - val_accuracy: 0.5315\n",
      "Epoch 44/2000\n",
      "1/1 [==============================] - 1s 642ms/step - loss: 1.3824 - accuracy: 0.4791 - val_loss: 1.3835 - val_accuracy: 0.5433\n",
      "Epoch 45/2000\n",
      "1/1 [==============================] - 1s 608ms/step - loss: 1.3916 - accuracy: 0.4888 - val_loss: 1.3689 - val_accuracy: 0.5394\n",
      "Epoch 46/2000\n",
      "1/1 [==============================] - 1s 602ms/step - loss: 1.3384 - accuracy: 0.5007 - val_loss: 1.3615 - val_accuracy: 0.5236\n",
      "Epoch 47/2000\n",
      "1/1 [==============================] - 1s 602ms/step - loss: 1.3399 - accuracy: 0.4881 - val_loss: 1.3506 - val_accuracy: 0.5118\n",
      "Epoch 48/2000\n",
      "1/1 [==============================] - 1s 615ms/step - loss: 1.3252 - accuracy: 0.5049 - val_loss: 1.3289 - val_accuracy: 0.5157\n",
      "Epoch 49/2000\n",
      "1/1 [==============================] - 1s 591ms/step - loss: 1.3288 - accuracy: 0.5084 - val_loss: 1.2976 - val_accuracy: 0.5236\n",
      "Epoch 50/2000\n",
      "1/1 [==============================] - 1s 621ms/step - loss: 1.3047 - accuracy: 0.5153 - val_loss: 1.2749 - val_accuracy: 0.5315\n",
      "Epoch 51/2000\n",
      "1/1 [==============================] - 1s 567ms/step - loss: 1.3031 - accuracy: 0.5035 - val_loss: 1.2794 - val_accuracy: 0.5276\n",
      "Epoch 52/2000\n",
      "1/1 [==============================] - 1s 567ms/step - loss: 1.3261 - accuracy: 0.4937 - val_loss: 1.2864 - val_accuracy: 0.5236\n",
      "Epoch 53/2000\n",
      "1/1 [==============================] - 1s 582ms/step - loss: 1.3120 - accuracy: 0.4951 - val_loss: 1.2718 - val_accuracy: 0.5157\n",
      "Epoch 54/2000\n",
      "1/1 [==============================] - 1s 626ms/step - loss: 1.2693 - accuracy: 0.5293 - val_loss: 1.2638 - val_accuracy: 0.5157\n",
      "Epoch 55/2000\n",
      "1/1 [==============================] - 1s 622ms/step - loss: 1.2594 - accuracy: 0.5188 - val_loss: 1.2548 - val_accuracy: 0.5079\n",
      "Epoch 56/2000\n",
      "1/1 [==============================] - 1s 611ms/step - loss: 1.2359 - accuracy: 0.5230 - val_loss: 1.2319 - val_accuracy: 0.5039\n",
      "Epoch 57/2000\n",
      "1/1 [==============================] - 1s 585ms/step - loss: 1.2773 - accuracy: 0.5230 - val_loss: 1.1989 - val_accuracy: 0.5157\n",
      "Epoch 58/2000\n",
      "1/1 [==============================] - 1s 617ms/step - loss: 1.2267 - accuracy: 0.5265 - val_loss: 1.1620 - val_accuracy: 0.5236\n",
      "Epoch 59/2000\n",
      "1/1 [==============================] - 1s 611ms/step - loss: 1.2290 - accuracy: 0.5314 - val_loss: 1.1660 - val_accuracy: 0.5276\n",
      "Epoch 60/2000\n",
      "1/1 [==============================] - 1s 695ms/step - loss: 1.2210 - accuracy: 0.5384 - val_loss: 1.1675 - val_accuracy: 0.5236\n",
      "Epoch 61/2000\n",
      "1/1 [==============================] - 1s 633ms/step - loss: 1.2157 - accuracy: 0.5537 - val_loss: 1.1703 - val_accuracy: 0.5197\n",
      "Epoch 62/2000\n",
      "1/1 [==============================] - 1s 592ms/step - loss: 1.2047 - accuracy: 0.5300 - val_loss: 1.1696 - val_accuracy: 0.5118\n",
      "Epoch 63/2000\n",
      "1/1 [==============================] - 1s 579ms/step - loss: 1.1775 - accuracy: 0.5391 - val_loss: 1.1643 - val_accuracy: 0.5197\n",
      "Epoch 64/2000\n",
      "1/1 [==============================] - 1s 616ms/step - loss: 1.1895 - accuracy: 0.5432 - val_loss: 1.1510 - val_accuracy: 0.5157\n",
      "Epoch 65/2000\n",
      "1/1 [==============================] - 1s 635ms/step - loss: 1.2039 - accuracy: 0.5516 - val_loss: 1.1251 - val_accuracy: 0.5079\n",
      "Epoch 66/2000\n",
      "1/1 [==============================] - 1s 627ms/step - loss: 1.2005 - accuracy: 0.5391 - val_loss: 1.1166 - val_accuracy: 0.5157\n",
      "Epoch 67/2000\n",
      "1/1 [==============================] - 1s 601ms/step - loss: 1.1251 - accuracy: 0.5690 - val_loss: 1.1202 - val_accuracy: 0.5000\n",
      "Epoch 68/2000\n",
      "1/1 [==============================] - 1s 605ms/step - loss: 1.1408 - accuracy: 0.5635 - val_loss: 1.1328 - val_accuracy: 0.5315\n",
      "Epoch 69/2000\n",
      "1/1 [==============================] - 1s 602ms/step - loss: 1.1852 - accuracy: 0.5614 - val_loss: 1.1290 - val_accuracy: 0.5354\n",
      "Epoch 70/2000\n",
      "1/1 [==============================] - 1s 690ms/step - loss: 1.1399 - accuracy: 0.5816 - val_loss: 1.1154 - val_accuracy: 0.5472\n",
      "Epoch 71/2000\n",
      "1/1 [==============================] - 1s 629ms/step - loss: 1.0931 - accuracy: 0.5865 - val_loss: 1.0934 - val_accuracy: 0.5591\n",
      "Epoch 72/2000\n",
      "1/1 [==============================] - 1s 643ms/step - loss: 1.1403 - accuracy: 0.5781 - val_loss: 1.0703 - val_accuracy: 0.5669\n",
      "Epoch 73/2000\n",
      "1/1 [==============================] - 1s 610ms/step - loss: 1.1263 - accuracy: 0.5739 - val_loss: 1.0496 - val_accuracy: 0.5630\n",
      "Epoch 74/2000\n",
      "1/1 [==============================] - 1s 631ms/step - loss: 1.0886 - accuracy: 0.6067 - val_loss: 1.0377 - val_accuracy: 0.5906\n",
      "Epoch 75/2000\n",
      "1/1 [==============================] - 1s 635ms/step - loss: 1.0448 - accuracy: 0.5997 - val_loss: 1.0342 - val_accuracy: 0.5787\n",
      "Epoch 76/2000\n",
      "1/1 [==============================] - 1s 604ms/step - loss: 1.0766 - accuracy: 0.5948 - val_loss: 1.0421 - val_accuracy: 0.5787\n",
      "Epoch 77/2000\n",
      "1/1 [==============================] - 1s 590ms/step - loss: 1.0735 - accuracy: 0.5781 - val_loss: 1.0556 - val_accuracy: 0.5787\n",
      "Epoch 78/2000\n",
      "1/1 [==============================] - 1s 593ms/step - loss: 1.0500 - accuracy: 0.6067 - val_loss: 1.0699 - val_accuracy: 0.5787\n",
      "Epoch 79/2000\n",
      "1/1 [==============================] - 1s 607ms/step - loss: 1.0790 - accuracy: 0.5941 - val_loss: 1.0671 - val_accuracy: 0.5827\n",
      "Epoch 80/2000\n",
      "1/1 [==============================] - 1s 629ms/step - loss: 1.0414 - accuracy: 0.6109 - val_loss: 1.0564 - val_accuracy: 0.5591\n",
      "Epoch 81/2000\n",
      "1/1 [==============================] - 1s 634ms/step - loss: 1.0254 - accuracy: 0.6032 - val_loss: 1.0443 - val_accuracy: 0.5551\n",
      "Epoch 82/2000\n",
      "1/1 [==============================] - 1s 678ms/step - loss: 1.0475 - accuracy: 0.6011 - val_loss: 1.0340 - val_accuracy: 0.5630\n",
      "Epoch 83/2000\n",
      "1/1 [==============================] - 1s 589ms/step - loss: 1.0497 - accuracy: 0.5934 - val_loss: 1.0305 - val_accuracy: 0.5551\n",
      "Epoch 84/2000\n",
      "1/1 [==============================] - 1s 602ms/step - loss: 0.9981 - accuracy: 0.6185 - val_loss: 1.0334 - val_accuracy: 0.5630\n",
      "Epoch 85/2000\n",
      "1/1 [==============================] - 1s 567ms/step - loss: 1.0097 - accuracy: 0.6123 - val_loss: 1.0433 - val_accuracy: 0.5472\n",
      "Epoch 86/2000\n",
      "1/1 [==============================] - 1s 585ms/step - loss: 1.0163 - accuracy: 0.6172 - val_loss: 1.0594 - val_accuracy: 0.5551\n",
      "Epoch 87/2000\n",
      "1/1 [==============================] - 1s 582ms/step - loss: 1.0227 - accuracy: 0.6165 - val_loss: 1.0682 - val_accuracy: 0.5630\n",
      "Epoch 88/2000\n",
      "1/1 [==============================] - 1s 592ms/step - loss: 1.0080 - accuracy: 0.6151 - val_loss: 1.0676 - val_accuracy: 0.5669\n",
      "Epoch 89/2000\n",
      "1/1 [==============================] - 1s 628ms/step - loss: 0.9921 - accuracy: 0.6227 - val_loss: 1.0546 - val_accuracy: 0.5669\n",
      "Epoch 90/2000\n",
      "1/1 [==============================] - 1s 606ms/step - loss: 0.9763 - accuracy: 0.6227 - val_loss: 1.0417 - val_accuracy: 0.5748\n",
      "Epoch 91/2000\n",
      "1/1 [==============================] - 1s 616ms/step - loss: 0.9751 - accuracy: 0.6255 - val_loss: 1.0286 - val_accuracy: 0.5787\n",
      "Epoch 92/2000\n",
      "1/1 [==============================] - 1s 638ms/step - loss: 0.9202 - accuracy: 0.6548 - val_loss: 1.0217 - val_accuracy: 0.5827\n",
      "Epoch 93/2000\n",
      "1/1 [==============================] - 1s 618ms/step - loss: 0.9771 - accuracy: 0.6276 - val_loss: 1.0157 - val_accuracy: 0.5906\n",
      "Epoch 94/2000\n",
      "1/1 [==============================] - 1s 590ms/step - loss: 0.9568 - accuracy: 0.6395 - val_loss: 1.0186 - val_accuracy: 0.5906\n",
      "Epoch 95/2000\n",
      "1/1 [==============================] - 1s 589ms/step - loss: 0.9223 - accuracy: 0.6513 - val_loss: 1.0176 - val_accuracy: 0.5866\n",
      "Epoch 96/2000\n",
      "1/1 [==============================] - 1s 606ms/step - loss: 0.9377 - accuracy: 0.6388 - val_loss: 1.0096 - val_accuracy: 0.5945\n",
      "Epoch 97/2000\n",
      "1/1 [==============================] - 1s 610ms/step - loss: 0.9142 - accuracy: 0.6548 - val_loss: 1.0053 - val_accuracy: 0.6063\n",
      "Epoch 98/2000\n",
      "1/1 [==============================] - 1s 566ms/step - loss: 0.9376 - accuracy: 0.6388 - val_loss: 1.0136 - val_accuracy: 0.6102\n",
      "Epoch 99/2000\n",
      "1/1 [==============================] - 1s 581ms/step - loss: 0.9034 - accuracy: 0.6478 - val_loss: 1.0137 - val_accuracy: 0.6063\n",
      "Epoch 100/2000\n",
      "1/1 [==============================] - 1s 605ms/step - loss: 0.9008 - accuracy: 0.6632 - val_loss: 1.0197 - val_accuracy: 0.5906\n",
      "Epoch 101/2000\n",
      "1/1 [==============================] - 1s 606ms/step - loss: 0.9114 - accuracy: 0.6583 - val_loss: 1.0156 - val_accuracy: 0.6063\n",
      "Epoch 102/2000\n",
      "1/1 [==============================] - 1s 604ms/step - loss: 0.8898 - accuracy: 0.6660 - val_loss: 1.0048 - val_accuracy: 0.6063\n",
      "Epoch 103/2000\n",
      "1/1 [==============================] - 1s 604ms/step - loss: 0.9040 - accuracy: 0.6667 - val_loss: 0.9882 - val_accuracy: 0.6102\n",
      "Epoch 104/2000\n",
      "1/1 [==============================] - 1s 598ms/step - loss: 0.9005 - accuracy: 0.6569 - val_loss: 0.9835 - val_accuracy: 0.6024\n",
      "Epoch 105/2000\n",
      "1/1 [==============================] - 1s 627ms/step - loss: 0.9057 - accuracy: 0.6464 - val_loss: 0.9829 - val_accuracy: 0.5945\n",
      "Epoch 106/2000\n",
      "1/1 [==============================] - 1s 586ms/step - loss: 0.8726 - accuracy: 0.6771 - val_loss: 0.9855 - val_accuracy: 0.6181\n",
      "Epoch 107/2000\n",
      "1/1 [==============================] - 1s 587ms/step - loss: 0.8676 - accuracy: 0.6757 - val_loss: 0.9881 - val_accuracy: 0.6142\n",
      "Epoch 108/2000\n",
      "1/1 [==============================] - 1s 595ms/step - loss: 0.8575 - accuracy: 0.6736 - val_loss: 0.9898 - val_accuracy: 0.6181\n",
      "Epoch 109/2000\n",
      "1/1 [==============================] - 1s 613ms/step - loss: 0.8555 - accuracy: 0.6764 - val_loss: 0.9827 - val_accuracy: 0.6220\n",
      "Epoch 110/2000\n",
      "1/1 [==============================] - 1s 607ms/step - loss: 0.8402 - accuracy: 0.6743 - val_loss: 0.9682 - val_accuracy: 0.6142\n",
      "Epoch 111/2000\n",
      "1/1 [==============================] - 1s 600ms/step - loss: 0.8458 - accuracy: 0.6757 - val_loss: 0.9622 - val_accuracy: 0.6299\n",
      "Epoch 112/2000\n",
      "1/1 [==============================] - 1s 603ms/step - loss: 0.8629 - accuracy: 0.6806 - val_loss: 0.9655 - val_accuracy: 0.6339\n",
      "Epoch 113/2000\n",
      "1/1 [==============================] - 1s 585ms/step - loss: 0.8211 - accuracy: 0.6841 - val_loss: 0.9624 - val_accuracy: 0.6299\n",
      "Epoch 114/2000\n",
      "1/1 [==============================] - 1s 609ms/step - loss: 0.8047 - accuracy: 0.6967 - val_loss: 0.9452 - val_accuracy: 0.6457\n",
      "Epoch 115/2000\n"
     ]
    },
    {
     "name": "stdout",
     "output_type": "stream",
     "text": [
      "1/1 [==============================] - 1s 632ms/step - loss: 0.8406 - accuracy: 0.6994 - val_loss: 0.9370 - val_accuracy: 0.6535\n",
      "Epoch 116/2000\n",
      "1/1 [==============================] - 1s 603ms/step - loss: 0.8062 - accuracy: 0.7036 - val_loss: 0.9404 - val_accuracy: 0.6457\n",
      "Epoch 117/2000\n",
      "1/1 [==============================] - 1s 591ms/step - loss: 0.8029 - accuracy: 0.6967 - val_loss: 0.9774 - val_accuracy: 0.6260\n",
      "Epoch 118/2000\n",
      "1/1 [==============================] - 1s 616ms/step - loss: 0.8053 - accuracy: 0.6980 - val_loss: 1.0062 - val_accuracy: 0.6102\n",
      "Epoch 119/2000\n",
      "1/1 [==============================] - 1s 602ms/step - loss: 0.7809 - accuracy: 0.7176 - val_loss: 1.0174 - val_accuracy: 0.6024\n",
      "Epoch 120/2000\n",
      "1/1 [==============================] - 1s 594ms/step - loss: 0.7797 - accuracy: 0.7169 - val_loss: 1.0025 - val_accuracy: 0.6024\n",
      "Epoch 121/2000\n",
      "1/1 [==============================] - 1s 612ms/step - loss: 0.7981 - accuracy: 0.7127 - val_loss: 0.9878 - val_accuracy: 0.6024\n",
      "Epoch 122/2000\n",
      "1/1 [==============================] - 1s 601ms/step - loss: 0.8003 - accuracy: 0.7015 - val_loss: 0.9746 - val_accuracy: 0.6063\n",
      "Epoch 123/2000\n",
      "1/1 [==============================] - 1s 602ms/step - loss: 0.7854 - accuracy: 0.7155 - val_loss: 0.9733 - val_accuracy: 0.6142\n",
      "Epoch 124/2000\n",
      "1/1 [==============================] - 1s 587ms/step - loss: 0.7757 - accuracy: 0.7071 - val_loss: 0.9882 - val_accuracy: 0.6063\n",
      "Epoch 125/2000\n",
      "1/1 [==============================] - 1s 614ms/step - loss: 0.7637 - accuracy: 0.7134 - val_loss: 0.9952 - val_accuracy: 0.5945\n",
      "Epoch 126/2000\n",
      "1/1 [==============================] - 1s 594ms/step - loss: 0.7826 - accuracy: 0.7155 - val_loss: 0.9559 - val_accuracy: 0.6181\n",
      "Epoch 127/2000\n",
      "1/1 [==============================] - 1s 609ms/step - loss: 0.7814 - accuracy: 0.7085 - val_loss: 0.9320 - val_accuracy: 0.6181\n",
      "Epoch 128/2000\n",
      "1/1 [==============================] - 1s 570ms/step - loss: 0.7686 - accuracy: 0.7071 - val_loss: 0.9321 - val_accuracy: 0.6220\n",
      "Epoch 129/2000\n",
      "1/1 [==============================] - 1s 591ms/step - loss: 0.7922 - accuracy: 0.6960 - val_loss: 0.9557 - val_accuracy: 0.6339\n",
      "Epoch 130/2000\n",
      "1/1 [==============================] - 1s 615ms/step - loss: 0.7482 - accuracy: 0.7127 - val_loss: 0.9611 - val_accuracy: 0.6378\n",
      "Epoch 131/2000\n",
      "1/1 [==============================] - 1s 595ms/step - loss: 0.7938 - accuracy: 0.7071 - val_loss: 0.9337 - val_accuracy: 0.6417\n",
      "Epoch 132/2000\n",
      "1/1 [==============================] - 1s 598ms/step - loss: 0.7787 - accuracy: 0.7162 - val_loss: 0.9096 - val_accuracy: 0.6260\n",
      "Epoch 133/2000\n",
      "1/1 [==============================] - 1s 620ms/step - loss: 0.7716 - accuracy: 0.7106 - val_loss: 0.9101 - val_accuracy: 0.6378\n",
      "Epoch 134/2000\n",
      "1/1 [==============================] - 1s 610ms/step - loss: 0.7557 - accuracy: 0.7155 - val_loss: 0.9343 - val_accuracy: 0.6378\n",
      "Epoch 135/2000\n",
      "1/1 [==============================] - 1s 636ms/step - loss: 0.7355 - accuracy: 0.7350 - val_loss: 0.9516 - val_accuracy: 0.6417\n",
      "Epoch 136/2000\n",
      "1/1 [==============================] - 1s 601ms/step - loss: 0.7568 - accuracy: 0.7322 - val_loss: 0.9623 - val_accuracy: 0.6378\n",
      "Epoch 137/2000\n",
      "1/1 [==============================] - 1s 607ms/step - loss: 0.7370 - accuracy: 0.7308 - val_loss: 0.9365 - val_accuracy: 0.6299\n",
      "Epoch 138/2000\n",
      "1/1 [==============================] - 1s 635ms/step - loss: 0.7520 - accuracy: 0.7204 - val_loss: 0.9067 - val_accuracy: 0.6457\n",
      "Epoch 139/2000\n",
      "1/1 [==============================] - 1s 613ms/step - loss: 0.7362 - accuracy: 0.7378 - val_loss: 0.8943 - val_accuracy: 0.6614\n",
      "Epoch 140/2000\n",
      "1/1 [==============================] - 1s 595ms/step - loss: 0.7271 - accuracy: 0.7364 - val_loss: 0.9111 - val_accuracy: 0.6535\n",
      "Epoch 141/2000\n",
      "1/1 [==============================] - 1s 603ms/step - loss: 0.6997 - accuracy: 0.7350 - val_loss: 0.9495 - val_accuracy: 0.6378\n",
      "Epoch 142/2000\n",
      "1/1 [==============================] - 1s 596ms/step - loss: 0.7295 - accuracy: 0.7336 - val_loss: 0.9731 - val_accuracy: 0.6260\n",
      "Epoch 143/2000\n",
      "1/1 [==============================] - 1s 607ms/step - loss: 0.7578 - accuracy: 0.7092 - val_loss: 0.9252 - val_accuracy: 0.6614\n",
      "Epoch 144/2000\n",
      "1/1 [==============================] - 1s 640ms/step - loss: 0.7156 - accuracy: 0.7364 - val_loss: 0.8880 - val_accuracy: 0.6890\n",
      "Epoch 145/2000\n",
      "1/1 [==============================] - 1s 612ms/step - loss: 0.7350 - accuracy: 0.7280 - val_loss: 0.8975 - val_accuracy: 0.6811\n",
      "Epoch 146/2000\n",
      "1/1 [==============================] - 1s 593ms/step - loss: 0.7383 - accuracy: 0.7301 - val_loss: 0.9250 - val_accuracy: 0.6575\n",
      "Epoch 147/2000\n",
      "1/1 [==============================] - 1s 605ms/step - loss: 0.7290 - accuracy: 0.7294 - val_loss: 0.9544 - val_accuracy: 0.6378\n",
      "Epoch 148/2000\n",
      "1/1 [==============================] - 1s 587ms/step - loss: 0.6940 - accuracy: 0.7455 - val_loss: 0.9777 - val_accuracy: 0.6299\n",
      "Epoch 149/2000\n",
      "1/1 [==============================] - 1s 593ms/step - loss: 0.7062 - accuracy: 0.7385 - val_loss: 0.9653 - val_accuracy: 0.6417\n",
      "Epoch 150/2000\n",
      "1/1 [==============================] - 1s 578ms/step - loss: 0.7227 - accuracy: 0.7329 - val_loss: 0.9055 - val_accuracy: 0.6811\n",
      "Epoch 151/2000\n",
      "1/1 [==============================] - 1s 601ms/step - loss: 0.7240 - accuracy: 0.7441 - val_loss: 0.8829 - val_accuracy: 0.6654\n",
      "Epoch 152/2000\n",
      "1/1 [==============================] - 1s 640ms/step - loss: 0.6998 - accuracy: 0.7455 - val_loss: 0.8867 - val_accuracy: 0.6732\n",
      "Epoch 153/2000\n",
      "1/1 [==============================] - 1s 644ms/step - loss: 0.7228 - accuracy: 0.7280 - val_loss: 0.9107 - val_accuracy: 0.6654\n",
      "Epoch 154/2000\n",
      "1/1 [==============================] - 1s 613ms/step - loss: 0.7102 - accuracy: 0.7441 - val_loss: 0.9509 - val_accuracy: 0.6417\n",
      "Epoch 155/2000\n",
      "1/1 [==============================] - 1s 618ms/step - loss: 0.7215 - accuracy: 0.7483 - val_loss: 0.9798 - val_accuracy: 0.6339\n",
      "Epoch 156/2000\n",
      "1/1 [==============================] - 1s 603ms/step - loss: 0.6931 - accuracy: 0.7357 - val_loss: 0.9653 - val_accuracy: 0.6378\n",
      "Epoch 157/2000\n",
      "1/1 [==============================] - 1s 631ms/step - loss: 0.6947 - accuracy: 0.7448 - val_loss: 0.9376 - val_accuracy: 0.6575\n",
      "Epoch 158/2000\n",
      "1/1 [==============================] - 1s 614ms/step - loss: 0.6941 - accuracy: 0.7476 - val_loss: 0.9176 - val_accuracy: 0.6614\n",
      "Epoch 159/2000\n",
      "1/1 [==============================] - 1s 618ms/step - loss: 0.6816 - accuracy: 0.7476 - val_loss: 0.9059 - val_accuracy: 0.6693\n",
      "Epoch 160/2000\n",
      "1/1 [==============================] - 1s 629ms/step - loss: 0.6811 - accuracy: 0.7413 - val_loss: 0.9102 - val_accuracy: 0.6654\n",
      "Epoch 161/2000\n",
      "1/1 [==============================] - 1s 616ms/step - loss: 0.6782 - accuracy: 0.7517 - val_loss: 0.9269 - val_accuracy: 0.6535\n",
      "Epoch 162/2000\n",
      "1/1 [==============================] - 1s 614ms/step - loss: 0.6763 - accuracy: 0.7434 - val_loss: 0.9259 - val_accuracy: 0.6496\n",
      "Epoch 163/2000\n",
      "1/1 [==============================] - 1s 618ms/step - loss: 0.6973 - accuracy: 0.7538 - val_loss: 0.9269 - val_accuracy: 0.6614\n",
      "Epoch 164/2000\n",
      "1/1 [==============================] - 1s 615ms/step - loss: 0.6657 - accuracy: 0.7636 - val_loss: 0.9379 - val_accuracy: 0.6535\n",
      "Epoch 165/2000\n",
      "1/1 [==============================] - 1s 604ms/step - loss: 0.6941 - accuracy: 0.7524 - val_loss: 0.9235 - val_accuracy: 0.6614\n",
      "Epoch 166/2000\n",
      "1/1 [==============================] - 1s 596ms/step - loss: 0.6492 - accuracy: 0.7622 - val_loss: 0.9089 - val_accuracy: 0.6654\n",
      "Epoch 167/2000\n",
      "1/1 [==============================] - 1s 616ms/step - loss: 0.6568 - accuracy: 0.7545 - val_loss: 0.8967 - val_accuracy: 0.6693\n",
      "Epoch 168/2000\n",
      "1/1 [==============================] - 1s 626ms/step - loss: 0.6829 - accuracy: 0.7503 - val_loss: 0.8919 - val_accuracy: 0.6732\n",
      "Epoch 169/2000\n",
      "1/1 [==============================] - 1s 670ms/step - loss: 0.6672 - accuracy: 0.7483 - val_loss: 0.8819 - val_accuracy: 0.6732\n",
      "Epoch 170/2000\n",
      "1/1 [==============================] - 1s 626ms/step - loss: 0.6624 - accuracy: 0.7608 - val_loss: 0.8886 - val_accuracy: 0.6693\n",
      "Epoch 171/2000\n",
      "1/1 [==============================] - 1s 618ms/step - loss: 0.6359 - accuracy: 0.7490 - val_loss: 0.8995 - val_accuracy: 0.6614\n"
     ]
    },
    {
     "name": "stdout",
     "output_type": "stream",
     "text": [
      "Epoch 172/2000\n",
      "1/1 [==============================] - 1s 602ms/step - loss: 0.6526 - accuracy: 0.7608 - val_loss: 0.8941 - val_accuracy: 0.6850\n",
      "Epoch 173/2000\n",
      "1/1 [==============================] - 1s 646ms/step - loss: 0.6499 - accuracy: 0.7587 - val_loss: 0.8679 - val_accuracy: 0.6890\n",
      "Epoch 174/2000\n",
      "1/1 [==============================] - 1s 674ms/step - loss: 0.6625 - accuracy: 0.7476 - val_loss: 0.8467 - val_accuracy: 0.6969\n",
      "Epoch 175/2000\n",
      "1/1 [==============================] - 1s 612ms/step - loss: 0.6416 - accuracy: 0.7678 - val_loss: 0.8467 - val_accuracy: 0.6929\n",
      "Epoch 176/2000\n",
      "1/1 [==============================] - 1s 593ms/step - loss: 0.6682 - accuracy: 0.7524 - val_loss: 0.8658 - val_accuracy: 0.6929\n",
      "Epoch 177/2000\n",
      "1/1 [==============================] - 1s 604ms/step - loss: 0.6719 - accuracy: 0.7580 - val_loss: 0.8931 - val_accuracy: 0.6811\n",
      "Epoch 178/2000\n",
      "1/1 [==============================] - 1s 615ms/step - loss: 0.6604 - accuracy: 0.7538 - val_loss: 0.9054 - val_accuracy: 0.6772\n",
      "Epoch 179/2000\n",
      "1/1 [==============================] - 1s 607ms/step - loss: 0.6447 - accuracy: 0.7713 - val_loss: 0.8919 - val_accuracy: 0.6811\n",
      "Epoch 180/2000\n",
      "1/1 [==============================] - 1s 605ms/step - loss: 0.6448 - accuracy: 0.7650 - val_loss: 0.8837 - val_accuracy: 0.6890\n",
      "Epoch 181/2000\n",
      "1/1 [==============================] - 1s 590ms/step - loss: 0.6456 - accuracy: 0.7538 - val_loss: 0.8850 - val_accuracy: 0.6890\n",
      "Epoch 182/2000\n",
      "1/1 [==============================] - 1s 585ms/step - loss: 0.6696 - accuracy: 0.7497 - val_loss: 0.8607 - val_accuracy: 0.7008\n",
      "Epoch 183/2000\n",
      "1/1 [==============================] - 1s 590ms/step - loss: 0.6272 - accuracy: 0.7629 - val_loss: 0.8599 - val_accuracy: 0.6890\n",
      "Epoch 184/2000\n",
      "1/1 [==============================] - 1s 598ms/step - loss: 0.6289 - accuracy: 0.7755 - val_loss: 0.8597 - val_accuracy: 0.6929\n",
      "Epoch 185/2000\n",
      "1/1 [==============================] - 1s 589ms/step - loss: 0.6306 - accuracy: 0.7664 - val_loss: 0.8669 - val_accuracy: 0.6929\n",
      "Epoch 186/2000\n",
      "1/1 [==============================] - 1s 581ms/step - loss: 0.6460 - accuracy: 0.7692 - val_loss: 0.8759 - val_accuracy: 0.6929\n",
      "Epoch 187/2000\n",
      "1/1 [==============================] - 1s 582ms/step - loss: 0.6222 - accuracy: 0.7713 - val_loss: 0.8637 - val_accuracy: 0.6969\n",
      "Epoch 188/2000\n",
      "1/1 [==============================] - 1s 577ms/step - loss: 0.6349 - accuracy: 0.7678 - val_loss: 0.8498 - val_accuracy: 0.6929\n",
      "Epoch 189/2000\n",
      "1/1 [==============================] - 1s 575ms/step - loss: 0.6186 - accuracy: 0.7810 - val_loss: 0.8550 - val_accuracy: 0.6850\n",
      "Epoch 190/2000\n",
      "1/1 [==============================] - 1s 583ms/step - loss: 0.6607 - accuracy: 0.7545 - val_loss: 0.8661 - val_accuracy: 0.6929\n",
      "Epoch 191/2000\n",
      "1/1 [==============================] - 1s 607ms/step - loss: 0.6507 - accuracy: 0.7545 - val_loss: 0.8968 - val_accuracy: 0.6732\n",
      "Epoch 192/2000\n",
      "1/1 [==============================] - 1s 609ms/step - loss: 0.5980 - accuracy: 0.7782 - val_loss: 0.9099 - val_accuracy: 0.6614\n",
      "Epoch 193/2000\n",
      "1/1 [==============================] - 1s 606ms/step - loss: 0.6089 - accuracy: 0.7852 - val_loss: 0.9152 - val_accuracy: 0.6693\n",
      "Epoch 194/2000\n",
      "1/1 [==============================] - 1s 598ms/step - loss: 0.6077 - accuracy: 0.7796 - val_loss: 0.9061 - val_accuracy: 0.6811\n",
      "Epoch 195/2000\n",
      "1/1 [==============================] - 1s 603ms/step - loss: 0.6239 - accuracy: 0.7824 - val_loss: 0.9020 - val_accuracy: 0.6811\n",
      "Epoch 196/2000\n",
      "1/1 [==============================] - 1s 612ms/step - loss: 0.6006 - accuracy: 0.7796 - val_loss: 0.8916 - val_accuracy: 0.6890\n",
      "Epoch 197/2000\n",
      "1/1 [==============================] - 1s 615ms/step - loss: 0.6171 - accuracy: 0.7741 - val_loss: 0.9139 - val_accuracy: 0.6811\n",
      "Epoch 198/2000\n",
      "1/1 [==============================] - 1s 604ms/step - loss: 0.6094 - accuracy: 0.7768 - val_loss: 0.9254 - val_accuracy: 0.6772\n",
      "Epoch 199/2000\n",
      "1/1 [==============================] - 1s 623ms/step - loss: 0.5893 - accuracy: 0.7859 - val_loss: 0.9179 - val_accuracy: 0.6654\n",
      "Epoch 200/2000\n",
      "1/1 [==============================] - 1s 631ms/step - loss: 0.5940 - accuracy: 0.7831 - val_loss: 0.8967 - val_accuracy: 0.6850\n",
      "Epoch 201/2000\n",
      "1/1 [==============================] - 1s 611ms/step - loss: 0.6146 - accuracy: 0.7685 - val_loss: 0.8772 - val_accuracy: 0.6929\n",
      "Epoch 202/2000\n",
      "1/1 [==============================] - 1s 592ms/step - loss: 0.6175 - accuracy: 0.7817 - val_loss: 0.8612 - val_accuracy: 0.7008\n",
      "Epoch 203/2000\n",
      "1/1 [==============================] - 1s 584ms/step - loss: 0.6075 - accuracy: 0.7734 - val_loss: 0.8574 - val_accuracy: 0.7126\n",
      "Epoch 204/2000\n",
      "1/1 [==============================] - 1s 636ms/step - loss: 0.5986 - accuracy: 0.7838 - val_loss: 0.8604 - val_accuracy: 0.7008\n",
      "Epoch 205/2000\n",
      "1/1 [==============================] - 1s 603ms/step - loss: 0.6306 - accuracy: 0.7685 - val_loss: 0.8665 - val_accuracy: 0.6929\n",
      "Epoch 206/2000\n",
      "1/1 [==============================] - 1s 584ms/step - loss: 0.6100 - accuracy: 0.7755 - val_loss: 0.8621 - val_accuracy: 0.6929\n",
      "Epoch 207/2000\n",
      "1/1 [==============================] - 1s 588ms/step - loss: 0.5863 - accuracy: 0.7824 - val_loss: 0.8672 - val_accuracy: 0.6929\n",
      "Epoch 208/2000\n",
      "1/1 [==============================] - 1s 582ms/step - loss: 0.6243 - accuracy: 0.7692 - val_loss: 0.8619 - val_accuracy: 0.6929\n",
      "Epoch 209/2000\n",
      "1/1 [==============================] - 1s 608ms/step - loss: 0.6043 - accuracy: 0.7880 - val_loss: 0.8665 - val_accuracy: 0.6890\n",
      "Epoch 210/2000\n",
      "1/1 [==============================] - 1s 613ms/step - loss: 0.5990 - accuracy: 0.7817 - val_loss: 0.8750 - val_accuracy: 0.6890\n",
      "Epoch 211/2000\n",
      "1/1 [==============================] - 1s 640ms/step - loss: 0.5972 - accuracy: 0.7852 - val_loss: 0.8615 - val_accuracy: 0.6929\n",
      "Epoch 212/2000\n",
      "1/1 [==============================] - 1s 661ms/step - loss: 0.5969 - accuracy: 0.7796 - val_loss: 0.8192 - val_accuracy: 0.7126\n",
      "Epoch 213/2000\n",
      "1/1 [==============================] - 1s 667ms/step - loss: 0.6182 - accuracy: 0.7768 - val_loss: 0.7972 - val_accuracy: 0.7205\n",
      "Epoch 214/2000\n",
      "1/1 [==============================] - 1s 664ms/step - loss: 0.5856 - accuracy: 0.7859 - val_loss: 0.7966 - val_accuracy: 0.7244\n",
      "Epoch 215/2000\n",
      "1/1 [==============================] - 1s 670ms/step - loss: 0.5886 - accuracy: 0.7901 - val_loss: 0.8223 - val_accuracy: 0.7283\n",
      "Epoch 216/2000\n",
      "1/1 [==============================] - 1s 651ms/step - loss: 0.5989 - accuracy: 0.7880 - val_loss: 0.8614 - val_accuracy: 0.6929\n",
      "Epoch 217/2000\n",
      "1/1 [==============================] - 1s 639ms/step - loss: 0.5829 - accuracy: 0.7789 - val_loss: 0.8698 - val_accuracy: 0.6890\n",
      "Epoch 218/2000\n",
      "1/1 [==============================] - 1s 641ms/step - loss: 0.5922 - accuracy: 0.7866 - val_loss: 0.8440 - val_accuracy: 0.7047\n",
      "Epoch 219/2000\n",
      "1/1 [==============================] - 1s 635ms/step - loss: 0.5763 - accuracy: 0.7922 - val_loss: 0.8124 - val_accuracy: 0.7244\n",
      "Epoch 220/2000\n",
      "1/1 [==============================] - 1s 622ms/step - loss: 0.5835 - accuracy: 0.7929 - val_loss: 0.8024 - val_accuracy: 0.7165\n",
      "Epoch 221/2000\n",
      "1/1 [==============================] - 1s 638ms/step - loss: 0.5671 - accuracy: 0.7908 - val_loss: 0.8080 - val_accuracy: 0.6929\n",
      "Epoch 222/2000\n",
      "1/1 [==============================] - 1s 633ms/step - loss: 0.5965 - accuracy: 0.7887 - val_loss: 0.8293 - val_accuracy: 0.7087\n",
      "Epoch 223/2000\n",
      "1/1 [==============================] - 1s 664ms/step - loss: 0.5855 - accuracy: 0.7915 - val_loss: 0.8585 - val_accuracy: 0.6969\n",
      "Epoch 224/2000\n",
      "1/1 [==============================] - 1s 642ms/step - loss: 0.5759 - accuracy: 0.7803 - val_loss: 0.8404 - val_accuracy: 0.7087\n",
      "Epoch 225/2000\n",
      "1/1 [==============================] - 1s 665ms/step - loss: 0.5560 - accuracy: 0.8020 - val_loss: 0.8190 - val_accuracy: 0.7244\n",
      "Epoch 226/2000\n",
      "1/1 [==============================] - 1s 635ms/step - loss: 0.5819 - accuracy: 0.7880 - val_loss: 0.8231 - val_accuracy: 0.7244\n",
      "Epoch 227/2000\n",
      "1/1 [==============================] - 1s 656ms/step - loss: 0.6029 - accuracy: 0.7880 - val_loss: 0.8412 - val_accuracy: 0.6929\n",
      "Epoch 228/2000\n",
      "1/1 [==============================] - 1s 655ms/step - loss: 0.5964 - accuracy: 0.7706 - val_loss: 0.8505 - val_accuracy: 0.7047\n"
     ]
    },
    {
     "name": "stdout",
     "output_type": "stream",
     "text": [
      "Epoch 229/2000\n",
      "1/1 [==============================] - 1s 615ms/step - loss: 0.5894 - accuracy: 0.7831 - val_loss: 0.8453 - val_accuracy: 0.7047\n",
      "Epoch 230/2000\n",
      "1/1 [==============================] - 1s 601ms/step - loss: 0.5940 - accuracy: 0.7671 - val_loss: 0.8019 - val_accuracy: 0.7362\n",
      "Epoch 231/2000\n",
      "1/1 [==============================] - 1s 619ms/step - loss: 0.5929 - accuracy: 0.7845 - val_loss: 0.7721 - val_accuracy: 0.7441\n",
      "Epoch 232/2000\n",
      "1/1 [==============================] - 1s 610ms/step - loss: 0.5749 - accuracy: 0.7992 - val_loss: 0.7780 - val_accuracy: 0.7402\n",
      "Epoch 233/2000\n",
      "1/1 [==============================] - 1s 586ms/step - loss: 0.5803 - accuracy: 0.7894 - val_loss: 0.8202 - val_accuracy: 0.7283\n",
      "Epoch 234/2000\n",
      "1/1 [==============================] - 1s 591ms/step - loss: 0.5776 - accuracy: 0.7859 - val_loss: 0.8567 - val_accuracy: 0.7126\n",
      "Epoch 235/2000\n",
      "1/1 [==============================] - 1s 613ms/step - loss: 0.5778 - accuracy: 0.7755 - val_loss: 0.8522 - val_accuracy: 0.7205\n",
      "Epoch 236/2000\n",
      "1/1 [==============================] - 1s 589ms/step - loss: 0.5653 - accuracy: 0.8075 - val_loss: 0.8213 - val_accuracy: 0.7244\n",
      "Epoch 237/2000\n",
      "1/1 [==============================] - 1s 585ms/step - loss: 0.6104 - accuracy: 0.7775 - val_loss: 0.7881 - val_accuracy: 0.7480\n",
      "Epoch 238/2000\n",
      "1/1 [==============================] - 1s 592ms/step - loss: 0.5785 - accuracy: 0.7873 - val_loss: 0.7795 - val_accuracy: 0.7441\n",
      "Epoch 239/2000\n",
      "1/1 [==============================] - 1s 613ms/step - loss: 0.5991 - accuracy: 0.7845 - val_loss: 0.8033 - val_accuracy: 0.7283\n",
      "Epoch 240/2000\n",
      "1/1 [==============================] - 1s 588ms/step - loss: 0.5569 - accuracy: 0.7929 - val_loss: 0.8483 - val_accuracy: 0.7047\n",
      "Epoch 241/2000\n",
      "1/1 [==============================] - 1s 589ms/step - loss: 0.5935 - accuracy: 0.7831 - val_loss: 0.8642 - val_accuracy: 0.6969\n",
      "Epoch 242/2000\n",
      "1/1 [==============================] - 1s 609ms/step - loss: 0.5656 - accuracy: 0.7824 - val_loss: 0.8534 - val_accuracy: 0.7047\n",
      "Epoch 243/2000\n",
      "1/1 [==============================] - 1s 601ms/step - loss: 0.5769 - accuracy: 0.7880 - val_loss: 0.8331 - val_accuracy: 0.7087\n",
      "Epoch 244/2000\n",
      "1/1 [==============================] - 1s 631ms/step - loss: 0.5663 - accuracy: 0.8047 - val_loss: 0.8181 - val_accuracy: 0.7283\n",
      "Epoch 245/2000\n",
      "1/1 [==============================] - 1s 647ms/step - loss: 0.5546 - accuracy: 0.8054 - val_loss: 0.8029 - val_accuracy: 0.7283\n",
      "Epoch 246/2000\n",
      "1/1 [==============================] - 1s 668ms/step - loss: 0.5714 - accuracy: 0.7873 - val_loss: 0.7973 - val_accuracy: 0.7362\n",
      "Epoch 247/2000\n",
      "1/1 [==============================] - 1s 631ms/step - loss: 0.5520 - accuracy: 0.8047 - val_loss: 0.8087 - val_accuracy: 0.7402\n",
      "Epoch 248/2000\n",
      "1/1 [==============================] - 1s 653ms/step - loss: 0.5406 - accuracy: 0.8006 - val_loss: 0.8146 - val_accuracy: 0.7441\n",
      "Epoch 249/2000\n",
      "1/1 [==============================] - 1s 669ms/step - loss: 0.5567 - accuracy: 0.7957 - val_loss: 0.8079 - val_accuracy: 0.7362\n",
      "Epoch 250/2000\n",
      "1/1 [==============================] - 1s 654ms/step - loss: 0.5371 - accuracy: 0.7978 - val_loss: 0.7883 - val_accuracy: 0.7323\n",
      "Epoch 251/2000\n",
      "1/1 [==============================] - 1s 720ms/step - loss: 0.5586 - accuracy: 0.8061 - val_loss: 0.7832 - val_accuracy: 0.7205\n",
      "Epoch 252/2000\n",
      "1/1 [==============================] - 1s 665ms/step - loss: 0.5543 - accuracy: 0.7964 - val_loss: 0.7936 - val_accuracy: 0.7205\n",
      "Epoch 253/2000\n",
      "1/1 [==============================] - 1s 679ms/step - loss: 0.5707 - accuracy: 0.7838 - val_loss: 0.8211 - val_accuracy: 0.7244\n",
      "Epoch 254/2000\n",
      "1/1 [==============================] - 1s 704ms/step - loss: 0.5637 - accuracy: 0.7859 - val_loss: 0.8432 - val_accuracy: 0.7244\n",
      "Epoch 255/2000\n",
      "1/1 [==============================] - 1s 696ms/step - loss: 0.5809 - accuracy: 0.7894 - val_loss: 0.8280 - val_accuracy: 0.7362\n",
      "Epoch 256/2000\n",
      "1/1 [==============================] - 1s 753ms/step - loss: 0.5594 - accuracy: 0.8061 - val_loss: 0.7868 - val_accuracy: 0.7520\n",
      "Epoch 257/2000\n",
      "1/1 [==============================] - 1s 781ms/step - loss: 0.5577 - accuracy: 0.8020 - val_loss: 0.7598 - val_accuracy: 0.7598\n",
      "Epoch 258/2000\n",
      "1/1 [==============================] - 1s 698ms/step - loss: 0.5700 - accuracy: 0.7964 - val_loss: 0.7589 - val_accuracy: 0.7598\n",
      "Epoch 259/2000\n",
      "1/1 [==============================] - 1s 633ms/step - loss: 0.5516 - accuracy: 0.8068 - val_loss: 0.7788 - val_accuracy: 0.7520\n",
      "Epoch 260/2000\n",
      "1/1 [==============================] - 1s 642ms/step - loss: 0.5494 - accuracy: 0.7908 - val_loss: 0.8125 - val_accuracy: 0.7559\n",
      "Epoch 261/2000\n",
      "1/1 [==============================] - 1s 628ms/step - loss: 0.5617 - accuracy: 0.7992 - val_loss: 0.8345 - val_accuracy: 0.7559\n",
      "Epoch 262/2000\n",
      "1/1 [==============================] - 1s 609ms/step - loss: 0.5525 - accuracy: 0.7964 - val_loss: 0.8179 - val_accuracy: 0.7520\n",
      "Epoch 263/2000\n",
      "1/1 [==============================] - 1s 615ms/step - loss: 0.5530 - accuracy: 0.7957 - val_loss: 0.7880 - val_accuracy: 0.7480\n",
      "Epoch 264/2000\n",
      "1/1 [==============================] - 1s 612ms/step - loss: 0.5272 - accuracy: 0.8068 - val_loss: 0.7733 - val_accuracy: 0.7441\n",
      "Epoch 265/2000\n",
      "1/1 [==============================] - 1s 619ms/step - loss: 0.5490 - accuracy: 0.8110 - val_loss: 0.7656 - val_accuracy: 0.7520\n",
      "Epoch 266/2000\n",
      "1/1 [==============================] - 1s 614ms/step - loss: 0.5621 - accuracy: 0.8013 - val_loss: 0.7709 - val_accuracy: 0.7480\n",
      "Epoch 267/2000\n",
      "1/1 [==============================] - 1s 612ms/step - loss: 0.5625 - accuracy: 0.7978 - val_loss: 0.7775 - val_accuracy: 0.7441\n",
      "Epoch 268/2000\n",
      "1/1 [==============================] - 1s 626ms/step - loss: 0.5579 - accuracy: 0.7985 - val_loss: 0.7781 - val_accuracy: 0.7441\n",
      "Epoch 269/2000\n",
      "1/1 [==============================] - 1s 640ms/step - loss: 0.5548 - accuracy: 0.7950 - val_loss: 0.7761 - val_accuracy: 0.7520\n",
      "Epoch 270/2000\n",
      "1/1 [==============================] - 1s 620ms/step - loss: 0.5558 - accuracy: 0.8033 - val_loss: 0.7712 - val_accuracy: 0.7480\n",
      "Epoch 271/2000\n",
      "1/1 [==============================] - 1s 639ms/step - loss: 0.5368 - accuracy: 0.8089 - val_loss: 0.7735 - val_accuracy: 0.7480\n",
      "Epoch 272/2000\n",
      "1/1 [==============================] - 1s 626ms/step - loss: 0.5262 - accuracy: 0.8075 - val_loss: 0.7757 - val_accuracy: 0.7480\n",
      "Epoch 273/2000\n",
      "1/1 [==============================] - 1s 622ms/step - loss: 0.5392 - accuracy: 0.8047 - val_loss: 0.7795 - val_accuracy: 0.7559\n",
      "Epoch 274/2000\n",
      "1/1 [==============================] - 1s 627ms/step - loss: 0.5499 - accuracy: 0.8075 - val_loss: 0.7779 - val_accuracy: 0.7520\n",
      "Epoch 275/2000\n",
      "1/1 [==============================] - 1s 692ms/step - loss: 0.5632 - accuracy: 0.8033 - val_loss: 0.7641 - val_accuracy: 0.7480\n",
      "Epoch 276/2000\n",
      "1/1 [==============================] - 1s 669ms/step - loss: 0.5444 - accuracy: 0.8061 - val_loss: 0.7463 - val_accuracy: 0.7441\n",
      "Epoch 277/2000\n",
      "1/1 [==============================] - 1s 664ms/step - loss: 0.5616 - accuracy: 0.7936 - val_loss: 0.7420 - val_accuracy: 0.7520\n",
      "Epoch 278/2000\n",
      "1/1 [==============================] - 1s 622ms/step - loss: 0.5494 - accuracy: 0.8026 - val_loss: 0.7501 - val_accuracy: 0.7402\n",
      "Epoch 279/2000\n",
      "1/1 [==============================] - 1s 599ms/step - loss: 0.5491 - accuracy: 0.8013 - val_loss: 0.7712 - val_accuracy: 0.7402\n",
      "Epoch 280/2000\n",
      "1/1 [==============================] - 1s 591ms/step - loss: 0.5295 - accuracy: 0.8061 - val_loss: 0.7894 - val_accuracy: 0.7402\n",
      "Epoch 281/2000\n",
      "1/1 [==============================] - 1s 575ms/step - loss: 0.5587 - accuracy: 0.7957 - val_loss: 0.8007 - val_accuracy: 0.7520\n",
      "Epoch 282/2000\n",
      "1/1 [==============================] - 1s 577ms/step - loss: 0.5190 - accuracy: 0.8243 - val_loss: 0.7879 - val_accuracy: 0.7520\n",
      "Epoch 283/2000\n",
      "1/1 [==============================] - 1s 573ms/step - loss: 0.5463 - accuracy: 0.7922 - val_loss: 0.7694 - val_accuracy: 0.7480\n",
      "Epoch 284/2000\n",
      "1/1 [==============================] - 1s 580ms/step - loss: 0.5254 - accuracy: 0.8006 - val_loss: 0.7455 - val_accuracy: 0.7598\n",
      "Epoch 285/2000\n",
      "1/1 [==============================] - 1s 597ms/step - loss: 0.5503 - accuracy: 0.7999 - val_loss: 0.7336 - val_accuracy: 0.7441\n"
     ]
    },
    {
     "name": "stdout",
     "output_type": "stream",
     "text": [
      "Epoch 286/2000\n",
      "1/1 [==============================] - 1s 708ms/step - loss: 0.5470 - accuracy: 0.8054 - val_loss: 0.7462 - val_accuracy: 0.7480\n",
      "Epoch 287/2000\n",
      "1/1 [==============================] - 1s 746ms/step - loss: 0.5310 - accuracy: 0.8096 - val_loss: 0.7641 - val_accuracy: 0.7362\n",
      "Epoch 288/2000\n",
      "1/1 [==============================] - 1s 650ms/step - loss: 0.5279 - accuracy: 0.8054 - val_loss: 0.7846 - val_accuracy: 0.7402\n",
      "Epoch 289/2000\n",
      "1/1 [==============================] - 1s 697ms/step - loss: 0.5362 - accuracy: 0.8040 - val_loss: 0.7974 - val_accuracy: 0.7362\n",
      "Epoch 290/2000\n",
      "1/1 [==============================] - 1s 712ms/step - loss: 0.5442 - accuracy: 0.7964 - val_loss: 0.7894 - val_accuracy: 0.7480\n",
      "Epoch 291/2000\n",
      "1/1 [==============================] - 1s 678ms/step - loss: 0.5315 - accuracy: 0.8013 - val_loss: 0.7725 - val_accuracy: 0.7559\n",
      "Epoch 292/2000\n",
      "1/1 [==============================] - 1s 701ms/step - loss: 0.5657 - accuracy: 0.7978 - val_loss: 0.7572 - val_accuracy: 0.7480\n",
      "Epoch 293/2000\n",
      "1/1 [==============================] - 1s 700ms/step - loss: 0.5291 - accuracy: 0.8040 - val_loss: 0.7502 - val_accuracy: 0.7402\n",
      "Epoch 294/2000\n",
      "1/1 [==============================] - 1s 720ms/step - loss: 0.5385 - accuracy: 0.7992 - val_loss: 0.7597 - val_accuracy: 0.7520\n",
      "Epoch 295/2000\n",
      "1/1 [==============================] - 1s 651ms/step - loss: 0.5314 - accuracy: 0.8138 - val_loss: 0.7838 - val_accuracy: 0.7520\n",
      "Epoch 296/2000\n",
      "1/1 [==============================] - 1s 636ms/step - loss: 0.5418 - accuracy: 0.8033 - val_loss: 0.7910 - val_accuracy: 0.7559\n",
      "Epoch 297/2000\n",
      "1/1 [==============================] - 1s 634ms/step - loss: 0.5371 - accuracy: 0.8068 - val_loss: 0.7818 - val_accuracy: 0.7520\n",
      "Epoch 298/2000\n",
      "1/1 [==============================] - 1s 645ms/step - loss: 0.5194 - accuracy: 0.8187 - val_loss: 0.7713 - val_accuracy: 0.7520\n",
      "Epoch 299/2000\n",
      "1/1 [==============================] - 1s 648ms/step - loss: 0.5228 - accuracy: 0.8006 - val_loss: 0.7682 - val_accuracy: 0.7520\n",
      "Epoch 300/2000\n",
      "1/1 [==============================] - 1s 639ms/step - loss: 0.5256 - accuracy: 0.8138 - val_loss: 0.7695 - val_accuracy: 0.7480\n",
      "Epoch 301/2000\n",
      "1/1 [==============================] - 1s 636ms/step - loss: 0.5275 - accuracy: 0.7992 - val_loss: 0.7800 - val_accuracy: 0.7480\n",
      "Epoch 302/2000\n",
      "1/1 [==============================] - 1s 618ms/step - loss: 0.5158 - accuracy: 0.8194 - val_loss: 0.7819 - val_accuracy: 0.7480\n",
      "Epoch 303/2000\n",
      "1/1 [==============================] - 1s 657ms/step - loss: 0.5210 - accuracy: 0.8180 - val_loss: 0.7817 - val_accuracy: 0.7520\n",
      "Epoch 304/2000\n",
      "1/1 [==============================] - 1s 659ms/step - loss: 0.5295 - accuracy: 0.8124 - val_loss: 0.7792 - val_accuracy: 0.7441\n",
      "Epoch 305/2000\n",
      "1/1 [==============================] - 1s 625ms/step - loss: 0.5172 - accuracy: 0.8075 - val_loss: 0.7774 - val_accuracy: 0.7362\n",
      "Epoch 306/2000\n",
      "1/1 [==============================] - 1s 611ms/step - loss: 0.4973 - accuracy: 0.8131 - val_loss: 0.7758 - val_accuracy: 0.7402\n",
      "Epoch 307/2000\n",
      "1/1 [==============================] - 1s 617ms/step - loss: 0.5340 - accuracy: 0.7957 - val_loss: 0.7733 - val_accuracy: 0.7402\n",
      "Epoch 308/2000\n",
      "1/1 [==============================] - 1s 608ms/step - loss: 0.5339 - accuracy: 0.8166 - val_loss: 0.7702 - val_accuracy: 0.7402\n",
      "Epoch 309/2000\n",
      "1/1 [==============================] - 1s 614ms/step - loss: 0.5272 - accuracy: 0.8103 - val_loss: 0.7721 - val_accuracy: 0.7402\n",
      "Epoch 310/2000\n",
      "1/1 [==============================] - 1s 592ms/step - loss: 0.4899 - accuracy: 0.8208 - val_loss: 0.7730 - val_accuracy: 0.7480\n",
      "Epoch 311/2000\n",
      "1/1 [==============================] - 1s 600ms/step - loss: 0.5148 - accuracy: 0.8103 - val_loss: 0.7713 - val_accuracy: 0.7559\n",
      "Epoch 312/2000\n",
      "1/1 [==============================] - 1s 606ms/step - loss: 0.5269 - accuracy: 0.8096 - val_loss: 0.7688 - val_accuracy: 0.7559\n",
      "Epoch 313/2000\n",
      "1/1 [==============================] - 1s 604ms/step - loss: 0.4952 - accuracy: 0.8222 - val_loss: 0.7637 - val_accuracy: 0.7598\n",
      "Epoch 314/2000\n",
      "1/1 [==============================] - 1s 582ms/step - loss: 0.5121 - accuracy: 0.8117 - val_loss: 0.7646 - val_accuracy: 0.7677\n",
      "Epoch 315/2000\n",
      "1/1 [==============================] - 1s 597ms/step - loss: 0.4897 - accuracy: 0.8103 - val_loss: 0.7754 - val_accuracy: 0.7677\n",
      "Epoch 316/2000\n",
      "1/1 [==============================] - 1s 594ms/step - loss: 0.5315 - accuracy: 0.8180 - val_loss: 0.7905 - val_accuracy: 0.7638\n",
      "Epoch 317/2000\n",
      "1/1 [==============================] - 1s 632ms/step - loss: 0.5008 - accuracy: 0.8257 - val_loss: 0.7888 - val_accuracy: 0.7559\n",
      "Epoch 318/2000\n",
      "1/1 [==============================] - 1s 614ms/step - loss: 0.4905 - accuracy: 0.8326 - val_loss: 0.7802 - val_accuracy: 0.7559\n",
      "Epoch 319/2000\n",
      "1/1 [==============================] - 1s 611ms/step - loss: 0.5254 - accuracy: 0.8096 - val_loss: 0.7702 - val_accuracy: 0.7559\n",
      "Epoch 320/2000\n",
      "1/1 [==============================] - 1s 607ms/step - loss: 0.5052 - accuracy: 0.8229 - val_loss: 0.7639 - val_accuracy: 0.7559\n",
      "Epoch 321/2000\n",
      "1/1 [==============================] - 1s 615ms/step - loss: 0.5056 - accuracy: 0.8180 - val_loss: 0.7697 - val_accuracy: 0.7441\n",
      "Epoch 322/2000\n",
      "1/1 [==============================] - 1s 640ms/step - loss: 0.4874 - accuracy: 0.8285 - val_loss: 0.7816 - val_accuracy: 0.7441\n",
      "Epoch 323/2000\n",
      "1/1 [==============================] - 1s 616ms/step - loss: 0.5073 - accuracy: 0.8131 - val_loss: 0.7895 - val_accuracy: 0.7480\n",
      "Epoch 324/2000\n",
      "1/1 [==============================] - 1s 614ms/step - loss: 0.5023 - accuracy: 0.8089 - val_loss: 0.7948 - val_accuracy: 0.7441\n",
      "Epoch 325/2000\n",
      "1/1 [==============================] - 1s 634ms/step - loss: 0.4909 - accuracy: 0.8159 - val_loss: 0.7975 - val_accuracy: 0.7441\n",
      "Epoch 326/2000\n",
      "1/1 [==============================] - 1s 639ms/step - loss: 0.5082 - accuracy: 0.8124 - val_loss: 0.7908 - val_accuracy: 0.7441\n",
      "Epoch 327/2000\n",
      "1/1 [==============================] - 1s 636ms/step - loss: 0.5230 - accuracy: 0.8068 - val_loss: 0.7840 - val_accuracy: 0.7441\n",
      "Epoch 328/2000\n",
      "1/1 [==============================] - 1s 617ms/step - loss: 0.5006 - accuracy: 0.8305 - val_loss: 0.7828 - val_accuracy: 0.7402\n",
      "Epoch 329/2000\n",
      "1/1 [==============================] - 1s 623ms/step - loss: 0.5159 - accuracy: 0.8187 - val_loss: 0.7863 - val_accuracy: 0.7441\n",
      "Epoch 330/2000\n",
      "1/1 [==============================] - 1s 594ms/step - loss: 0.5128 - accuracy: 0.8229 - val_loss: 0.7914 - val_accuracy: 0.7480\n",
      "Epoch 331/2000\n",
      "1/1 [==============================] - 1s 635ms/step - loss: 0.4963 - accuracy: 0.8138 - val_loss: 0.7979 - val_accuracy: 0.7480\n",
      "Epoch 332/2000\n",
      "1/1 [==============================] - 1s 634ms/step - loss: 0.5106 - accuracy: 0.8061 - val_loss: 0.7982 - val_accuracy: 0.7520\n",
      "Epoch 333/2000\n",
      "1/1 [==============================] - 1s 616ms/step - loss: 0.5019 - accuracy: 0.8229 - val_loss: 0.7868 - val_accuracy: 0.7598\n",
      "Epoch 334/2000\n",
      "1/1 [==============================] - 1s 626ms/step - loss: 0.4965 - accuracy: 0.8208 - val_loss: 0.7776 - val_accuracy: 0.7559\n",
      "Epoch 335/2000\n",
      "1/1 [==============================] - 1s 622ms/step - loss: 0.5041 - accuracy: 0.8033 - val_loss: 0.7757 - val_accuracy: 0.7520\n",
      "Epoch 336/2000\n",
      "1/1 [==============================] - 1s 614ms/step - loss: 0.4989 - accuracy: 0.8159 - val_loss: 0.7800 - val_accuracy: 0.7520\n",
      "Epoch 337/2000\n",
      "1/1 [==============================] - 1s 614ms/step - loss: 0.4996 - accuracy: 0.8138 - val_loss: 0.7961 - val_accuracy: 0.7441\n",
      "Epoch 338/2000\n",
      "1/1 [==============================] - 1s 641ms/step - loss: 0.4943 - accuracy: 0.8312 - val_loss: 0.7978 - val_accuracy: 0.7480\n",
      "Epoch 339/2000\n",
      "1/1 [==============================] - 1s 610ms/step - loss: 0.4868 - accuracy: 0.8173 - val_loss: 0.7922 - val_accuracy: 0.7559\n",
      "Epoch 340/2000\n",
      "1/1 [==============================] - 1s 605ms/step - loss: 0.5162 - accuracy: 0.8208 - val_loss: 0.7778 - val_accuracy: 0.7677\n",
      "Epoch 341/2000\n",
      "1/1 [==============================] - 1s 616ms/step - loss: 0.5035 - accuracy: 0.8222 - val_loss: 0.7692 - val_accuracy: 0.7717\n",
      "Epoch 342/2000\n",
      "1/1 [==============================] - 1s 616ms/step - loss: 0.4908 - accuracy: 0.8264 - val_loss: 0.7722 - val_accuracy: 0.7756\n"
     ]
    },
    {
     "name": "stdout",
     "output_type": "stream",
     "text": [
      "Epoch 343/2000\n",
      "1/1 [==============================] - 1s 645ms/step - loss: 0.4789 - accuracy: 0.8201 - val_loss: 0.7710 - val_accuracy: 0.7677\n",
      "Epoch 344/2000\n",
      "1/1 [==============================] - 1s 628ms/step - loss: 0.4887 - accuracy: 0.8201 - val_loss: 0.7780 - val_accuracy: 0.7559\n",
      "Epoch 345/2000\n",
      "1/1 [==============================] - 1s 631ms/step - loss: 0.4834 - accuracy: 0.8264 - val_loss: 0.7896 - val_accuracy: 0.7441\n",
      "Epoch 346/2000\n",
      "1/1 [==============================] - 1s 634ms/step - loss: 0.4889 - accuracy: 0.8166 - val_loss: 0.7983 - val_accuracy: 0.7283\n",
      "Epoch 347/2000\n",
      "1/1 [==============================] - 1s 641ms/step - loss: 0.4920 - accuracy: 0.8187 - val_loss: 0.7978 - val_accuracy: 0.7283\n",
      "Epoch 348/2000\n",
      "1/1 [==============================] - 1s 632ms/step - loss: 0.4821 - accuracy: 0.8285 - val_loss: 0.7907 - val_accuracy: 0.7402\n",
      "Epoch 349/2000\n",
      "1/1 [==============================] - 1s 640ms/step - loss: 0.4898 - accuracy: 0.8152 - val_loss: 0.7908 - val_accuracy: 0.7362\n",
      "Epoch 350/2000\n",
      "1/1 [==============================] - 1s 647ms/step - loss: 0.4551 - accuracy: 0.8424 - val_loss: 0.7970 - val_accuracy: 0.7402\n",
      "Epoch 351/2000\n",
      "1/1 [==============================] - 1s 639ms/step - loss: 0.4864 - accuracy: 0.8291 - val_loss: 0.8069 - val_accuracy: 0.7441\n",
      "Epoch 352/2000\n",
      "1/1 [==============================] - 1s 606ms/step - loss: 0.4830 - accuracy: 0.8166 - val_loss: 0.8113 - val_accuracy: 0.7480\n",
      "Epoch 353/2000\n",
      "1/1 [==============================] - 1s 635ms/step - loss: 0.4976 - accuracy: 0.8222 - val_loss: 0.8121 - val_accuracy: 0.7480\n",
      "Epoch 354/2000\n",
      "1/1 [==============================] - 1s 612ms/step - loss: 0.4791 - accuracy: 0.8208 - val_loss: 0.8011 - val_accuracy: 0.7480\n",
      "Epoch 355/2000\n",
      "1/1 [==============================] - 1s 626ms/step - loss: 0.5004 - accuracy: 0.8194 - val_loss: 0.7868 - val_accuracy: 0.7402\n",
      "Epoch 356/2000\n",
      "1/1 [==============================] - 1s 606ms/step - loss: 0.4707 - accuracy: 0.8250 - val_loss: 0.7751 - val_accuracy: 0.7520\n",
      "Epoch 357/2000\n",
      "1/1 [==============================] - 1s 611ms/step - loss: 0.4783 - accuracy: 0.8250 - val_loss: 0.7738 - val_accuracy: 0.7441\n",
      "Epoch 358/2000\n",
      "1/1 [==============================] - 1s 631ms/step - loss: 0.4868 - accuracy: 0.8222 - val_loss: 0.7789 - val_accuracy: 0.7480\n",
      "Epoch 359/2000\n",
      "1/1 [==============================] - 1s 634ms/step - loss: 0.4815 - accuracy: 0.8159 - val_loss: 0.7982 - val_accuracy: 0.7441\n",
      "Epoch 360/2000\n",
      "1/1 [==============================] - 1s 628ms/step - loss: 0.4733 - accuracy: 0.8250 - val_loss: 0.8079 - val_accuracy: 0.7402\n",
      "Epoch 361/2000\n",
      "1/1 [==============================] - 1s 626ms/step - loss: 0.4650 - accuracy: 0.8382 - val_loss: 0.8103 - val_accuracy: 0.7402\n",
      "Epoch 362/2000\n",
      "1/1 [==============================] - 1s 616ms/step - loss: 0.4624 - accuracy: 0.8403 - val_loss: 0.8185 - val_accuracy: 0.7402\n",
      "Epoch 363/2000\n",
      "1/1 [==============================] - 1s 636ms/step - loss: 0.4912 - accuracy: 0.8187 - val_loss: 0.8200 - val_accuracy: 0.7362\n",
      "Epoch 364/2000\n",
      "1/1 [==============================] - 1s 602ms/step - loss: 0.4771 - accuracy: 0.8173 - val_loss: 0.8201 - val_accuracy: 0.7402\n",
      "Epoch 365/2000\n",
      "1/1 [==============================] - 1s 600ms/step - loss: 0.4899 - accuracy: 0.8208 - val_loss: 0.8293 - val_accuracy: 0.7480\n",
      "Epoch 366/2000\n",
      "1/1 [==============================] - 1s 619ms/step - loss: 0.4669 - accuracy: 0.8396 - val_loss: 0.8296 - val_accuracy: 0.7559\n",
      "Epoch 367/2000\n",
      "1/1 [==============================] - 1s 600ms/step - loss: 0.4781 - accuracy: 0.8243 - val_loss: 0.8191 - val_accuracy: 0.7598\n",
      "Epoch 368/2000\n",
      "1/1 [==============================] - 1s 623ms/step - loss: 0.4686 - accuracy: 0.8257 - val_loss: 0.8163 - val_accuracy: 0.7441\n",
      "Epoch 369/2000\n",
      "1/1 [==============================] - 1s 640ms/step - loss: 0.4852 - accuracy: 0.8250 - val_loss: 0.8214 - val_accuracy: 0.7362\n",
      "Epoch 370/2000\n",
      "1/1 [==============================] - 1s 657ms/step - loss: 0.4816 - accuracy: 0.8417 - val_loss: 0.8284 - val_accuracy: 0.7402\n",
      "Epoch 371/2000\n",
      "1/1 [==============================] - 1s 643ms/step - loss: 0.5014 - accuracy: 0.8117 - val_loss: 0.8324 - val_accuracy: 0.7402\n",
      "Epoch 372/2000\n",
      "1/1 [==============================] - 1s 640ms/step - loss: 0.4718 - accuracy: 0.8187 - val_loss: 0.8173 - val_accuracy: 0.7441\n",
      "Epoch 373/2000\n",
      "1/1 [==============================] - 1s 646ms/step - loss: 0.4929 - accuracy: 0.8271 - val_loss: 0.8111 - val_accuracy: 0.7402\n",
      "Epoch 374/2000\n",
      "1/1 [==============================] - 1s 650ms/step - loss: 0.4778 - accuracy: 0.8278 - val_loss: 0.8051 - val_accuracy: 0.7441\n",
      "Epoch 375/2000\n",
      "1/1 [==============================] - 1s 624ms/step - loss: 0.4833 - accuracy: 0.8229 - val_loss: 0.8035 - val_accuracy: 0.7598\n",
      "Epoch 376/2000\n",
      "1/1 [==============================] - 1s 641ms/step - loss: 0.4859 - accuracy: 0.8201 - val_loss: 0.8067 - val_accuracy: 0.7638\n",
      "Epoch 377/2000\n",
      "1/1 [==============================] - 1s 617ms/step - loss: 0.4899 - accuracy: 0.8124 - val_loss: 0.8187 - val_accuracy: 0.7598\n",
      "Epoch 378/2000\n",
      "1/1 [==============================] - 1s 633ms/step - loss: 0.4625 - accuracy: 0.8291 - val_loss: 0.8375 - val_accuracy: 0.7598\n",
      "Epoch 379/2000\n",
      "1/1 [==============================] - 1s 623ms/step - loss: 0.4735 - accuracy: 0.8368 - val_loss: 0.8523 - val_accuracy: 0.7638\n",
      "Epoch 380/2000\n",
      "1/1 [==============================] - 1s 635ms/step - loss: 0.4741 - accuracy: 0.8250 - val_loss: 0.8467 - val_accuracy: 0.7717\n",
      "Epoch 381/2000\n",
      "1/1 [==============================] - 1s 619ms/step - loss: 0.4773 - accuracy: 0.8340 - val_loss: 0.8262 - val_accuracy: 0.7559\n",
      "Epoch 382/2000\n",
      "1/1 [==============================] - 1s 618ms/step - loss: 0.4727 - accuracy: 0.8250 - val_loss: 0.8128 - val_accuracy: 0.7559\n",
      "Epoch 383/2000\n",
      "1/1 [==============================] - 1s 619ms/step - loss: 0.4664 - accuracy: 0.8340 - val_loss: 0.8141 - val_accuracy: 0.7559\n",
      "Epoch 384/2000\n",
      "1/1 [==============================] - 1s 618ms/step - loss: 0.4663 - accuracy: 0.8319 - val_loss: 0.8340 - val_accuracy: 0.7559\n",
      "Epoch 385/2000\n",
      "1/1 [==============================] - 1s 677ms/step - loss: 0.4773 - accuracy: 0.8264 - val_loss: 0.8525 - val_accuracy: 0.7441\n",
      "Tiempo de entrenamiento: 248.56 segundos\n"
     ]
    }
   ],
   "source": [
    "import time\n",
    "tabtransformer = TabTransformer(\n",
    "        numerical_features = NUMERIC_FEATURES,\n",
    "        categorical_features = CATEGORICAL_FEATURES,\n",
    "        categorical_lookup=category_prep_layers,\n",
    "        numerical_discretisers=None, # simply passing the numeric features\n",
    "        embedding_dim=32,\n",
    "        out_dim=NUM_CLASES,\n",
    "        out_activation='softmax',\n",
    "        depth=6,\n",
    "        heads=5,\n",
    "        attn_dropout=0.129029275961549,\n",
    "        ff_dropout=0.4801456916260881,\n",
    "        mlp_hidden_factors=[3, 2],\n",
    "        use_column_embedding=False,\n",
    "    )\n",
    "\n",
    "\n",
    "\n",
    "LEARNING_RATE = 0.001\n",
    "WEIGHT_DECAY = 0.0001\n",
    "NUM_EPOCHS = 2000\n",
    "\n",
    "optimizer = tfa.optimizers.AdamW(\n",
    "        learning_rate=LEARNING_RATE, weight_decay=WEIGHT_DECAY\n",
    "    )\n",
    "\n",
    "tabtransformer.compile(\n",
    "    optimizer = optimizer,\n",
    "    loss = tf.keras.losses.SparseCategoricalCrossentropy(),\n",
    "    metrics= [tf.keras.metrics.SparseCategoricalAccuracy(name=\"accuracy\")],\n",
    ")\n",
    "\n",
    "early = EarlyStopping(monitor=\"val_loss\", mode=\"min\", patience=100, restore_best_weights=True)\n",
    "callback_list = [early]\n",
    "\n",
    "start_time = time.time()\n",
    "history = tabtransformer.fit(\n",
    "    train_dataset, \n",
    "    epochs=NUM_EPOCHS, \n",
    "    validation_data=val_dataset,\n",
    "    callbacks=callback_list,\n",
    "    verbose=1,\n",
    ")\n",
    "\n",
    "training_time = time.time() - start_time\n",
    "# Imprimir el tiempo de entrenamiento en segundos\n",
    "print(\"Tiempo de entrenamiento: %.2f segundos\" % training_time)"
   ]
  },
  {
   "cell_type": "code",
   "execution_count": 18,
   "id": "6f53e7ea",
   "metadata": {},
   "outputs": [
    {
     "name": "stdout",
     "output_type": "stream",
     "text": [
      "1/1 [==============================] - 1s 1s/step\n",
      "1/1 [==============================] - 1s 897ms/step\n"
     ]
    }
   ],
   "source": [
    "# Predicciones para el conjunto de validación\n",
    "val_preds = tabtransformer.predict(val_dataset)\n",
    "val_pred_classes = np.argmax(val_preds, axis=1)  # Clase predicha (argmax)\n",
    "\n",
    "# Predicciones para el conjunto de prueba\n",
    "test_preds = tabtransformer.predict(test_dataset)\n",
    "test_pred_classes = np.argmax(test_preds, axis=1)  # Clase predicha (argmax)"
   ]
  },
  {
   "cell_type": "code",
   "execution_count": 19,
   "id": "a099afb9",
   "metadata": {},
   "outputs": [
    {
     "name": "stdout",
     "output_type": "stream",
     "text": [
      "Validation Accuracy: 74.41\n",
      "Test Accuracy: 75.65\n",
      "Test F1-score: 75.46\n",
      "Test Precision: 76.42\n",
      "Test Recall: 75.65\n"
     ]
    }
   ],
   "source": [
    "# Accuracy en validación y prueba\n",
    "val_accuracy = accuracy_score(val_data[LABEL_Y], val_pred_classes)\n",
    "test_accuracy = accuracy_score(test_data[LABEL_Y], test_pred_classes)\n",
    "\n",
    "print(f\"Validation Accuracy: {val_accuracy*100:.2f}\")\n",
    "print(f\"Test Accuracy: {test_accuracy*100:.2f}\")\n",
    "\n",
    "\n",
    "test_f1 = f1_score(test_data[LABEL_Y], test_pred_classes, average='weighted')\n",
    "test_precision = precision_score(test_data[LABEL_Y], test_pred_classes, average='weighted')\n",
    "test_recall = recall_score(test_data[LABEL_Y], test_pred_classes, average='weighted')\n",
    "\n",
    "print(f\"Test F1-score: {test_f1*100:.2f}\")\n",
    "print(f\"Test Precision: {test_precision*100:.2f}\")\n",
    "print(f\"Test Recall: {test_recall*100:.2f}\")"
   ]
  },
  {
   "cell_type": "code",
   "execution_count": 19,
   "id": "5b06b5c7",
   "metadata": {},
   "outputs": [
    {
     "data": {
      "image/png": "[encoded data removed]",
      "text/plain": [
       "<Figure size 800x600 with 2 Axes>"
      ]
     },
     "metadata": {},
     "output_type": "display_data"
    }
   ],
   "source": [
    "# Matriz de confusión\n",
    "conf_matrix = confusion_matrix(test_data[LABEL_Y], test_pred_classes)\n",
    "\n",
    "# Visualización\n",
    "plt.figure(figsize=(8, 6))\n",
    "sns.heatmap(conf_matrix, annot=True, fmt='d', cmap='Blues', xticklabels=label_encoder.classes_, yticklabels=label_encoder.classes_)\n",
    "plt.xlabel('Predicted Classes')\n",
    "plt.ylabel('True Classes')\n",
    "plt.title('Confusion Matrix')\n",
    "plt.show()"
   ]
  },
  {
   "cell_type": "code",
   "execution_count": 32,
   "id": "9ca25586",
   "metadata": {},
   "outputs": [
    {
     "data": {
      "image/png": "[encoded data removed]",
      "text/plain": [
       "<Figure size 640x480 with 2 Axes>"
      ]
     },
     "metadata": {},
     "output_type": "display_data"
    }
   ],
   "source": [
    "fig, ax = plt.subplots(nrows=1, ncols=2)\n",
    "\n",
    "ax[0].plot(history.history['loss'], label='Training Loss')\n",
    "ax[0].plot(history.history['val_loss'], label='Validation Loss')\n",
    "ax[0].legend()\n",
    "\n",
    "ax[1].plot(history.history['accuracy'], label='Training Accuracy')\n",
    "ax[1].plot(history.history['val_accuracy'], label='Validation Accuracy')\n",
    "ax[1].legend()\n",
    "\n",
    "plt.show()"
   ]
  },
  {
   "cell_type": "markdown",
   "id": "9924eb2c-7f16-4f57-ad25-0e7abc802fa7",
   "metadata": {},
   "source": [
    "## Bone Marrow Transplant"
   ]
  },
  {
   "cell_type": "code",
   "execution_count": 8,
   "id": "8c547b06-61cd-4398-b1d5-0340be7a8deb",
   "metadata": {},
   "outputs": [
    {
     "name": "stdout",
     "output_type": "stream",
     "text": [
      "81\n"
     ]
    },
    {
     "data": {
      "text/html": [
       "<div>\n",
       "<style scoped>\n",
       "    .dataframe tbody tr th:only-of-type {\n",
       "        vertical-align: middle;\n",
       "    }\n",
       "\n",
       "    .dataframe tbody tr th {\n",
       "        vertical-align: top;\n",
       "    }\n",
       "\n",
       "    .dataframe thead th {\n",
       "        text-align: right;\n",
       "    }\n",
       "</style>\n",
       "<table border=\"1\" class=\"dataframe\">\n",
       "  <thead>\n",
       "    <tr style=\"text-align: right;\">\n",
       "      <th></th>\n",
       "      <th>Recipientgender</th>\n",
       "      <th>Stemcellsource</th>\n",
       "      <th>Donorage</th>\n",
       "      <th>Donorage35</th>\n",
       "      <th>IIIV</th>\n",
       "      <th>Gendermatch</th>\n",
       "      <th>DonorABO</th>\n",
       "      <th>RecipientABO</th>\n",
       "      <th>RecipientRh</th>\n",
       "      <th>ABOmatch</th>\n",
       "      <th>...</th>\n",
       "      <th>aGvHDIIIIV</th>\n",
       "      <th>extcGvHD</th>\n",
       "      <th>CD34kgx10d6</th>\n",
       "      <th>CD3dCD34</th>\n",
       "      <th>CD3dkgx10d8</th>\n",
       "      <th>Rbodymass</th>\n",
       "      <th>ANCrecovery</th>\n",
       "      <th>PLTrecovery</th>\n",
       "      <th>time_to_aGvHD_III_IV</th>\n",
       "      <th>survival_status</th>\n",
       "    </tr>\n",
       "  </thead>\n",
       "  <tbody>\n",
       "    <tr>\n",
       "      <th>0</th>\n",
       "      <td>1</td>\n",
       "      <td>1</td>\n",
       "      <td>22.830137</td>\n",
       "      <td>0</td>\n",
       "      <td>1</td>\n",
       "      <td>0</td>\n",
       "      <td>1</td>\n",
       "      <td>1</td>\n",
       "      <td>1</td>\n",
       "      <td>0</td>\n",
       "      <td>...</td>\n",
       "      <td>0</td>\n",
       "      <td>1</td>\n",
       "      <td>7.20</td>\n",
       "      <td>1.338760</td>\n",
       "      <td>5.38</td>\n",
       "      <td>35.0</td>\n",
       "      <td>19.0</td>\n",
       "      <td>51.0</td>\n",
       "      <td>32.0</td>\n",
       "      <td>0</td>\n",
       "    </tr>\n",
       "    <tr>\n",
       "      <th>1</th>\n",
       "      <td>1</td>\n",
       "      <td>0</td>\n",
       "      <td>23.342466</td>\n",
       "      <td>0</td>\n",
       "      <td>1</td>\n",
       "      <td>0</td>\n",
       "      <td>-1</td>\n",
       "      <td>-1</td>\n",
       "      <td>1</td>\n",
       "      <td>0</td>\n",
       "      <td>...</td>\n",
       "      <td>1</td>\n",
       "      <td>1</td>\n",
       "      <td>4.50</td>\n",
       "      <td>11.078295</td>\n",
       "      <td>0.41</td>\n",
       "      <td>20.6</td>\n",
       "      <td>16.0</td>\n",
       "      <td>37.0</td>\n",
       "      <td>1000000.0</td>\n",
       "      <td>1</td>\n",
       "    </tr>\n",
       "    <tr>\n",
       "      <th>2</th>\n",
       "      <td>1</td>\n",
       "      <td>0</td>\n",
       "      <td>26.394521</td>\n",
       "      <td>0</td>\n",
       "      <td>1</td>\n",
       "      <td>0</td>\n",
       "      <td>-1</td>\n",
       "      <td>-1</td>\n",
       "      <td>1</td>\n",
       "      <td>0</td>\n",
       "      <td>...</td>\n",
       "      <td>1</td>\n",
       "      <td>1</td>\n",
       "      <td>7.94</td>\n",
       "      <td>19.013230</td>\n",
       "      <td>0.42</td>\n",
       "      <td>23.4</td>\n",
       "      <td>23.0</td>\n",
       "      <td>20.0</td>\n",
       "      <td>1000000.0</td>\n",
       "      <td>1</td>\n",
       "    </tr>\n",
       "    <tr>\n",
       "      <th>3</th>\n",
       "      <td>0</td>\n",
       "      <td>0</td>\n",
       "      <td>39.684932</td>\n",
       "      <td>1</td>\n",
       "      <td>1</td>\n",
       "      <td>0</td>\n",
       "      <td>1</td>\n",
       "      <td>2</td>\n",
       "      <td>1</td>\n",
       "      <td>1</td>\n",
       "      <td>...</td>\n",
       "      <td>0</td>\n",
       "      <td>NaN</td>\n",
       "      <td>4.25</td>\n",
       "      <td>29.481647</td>\n",
       "      <td>0.14</td>\n",
       "      <td>50.0</td>\n",
       "      <td>23.0</td>\n",
       "      <td>29.0</td>\n",
       "      <td>19.0</td>\n",
       "      <td>1</td>\n",
       "    </tr>\n",
       "    <tr>\n",
       "      <th>4</th>\n",
       "      <td>0</td>\n",
       "      <td>1</td>\n",
       "      <td>33.358904</td>\n",
       "      <td>0</td>\n",
       "      <td>0</td>\n",
       "      <td>0</td>\n",
       "      <td>1</td>\n",
       "      <td>2</td>\n",
       "      <td>0</td>\n",
       "      <td>1</td>\n",
       "      <td>...</td>\n",
       "      <td>1</td>\n",
       "      <td>1</td>\n",
       "      <td>51.85</td>\n",
       "      <td>3.972255</td>\n",
       "      <td>13.05</td>\n",
       "      <td>9.0</td>\n",
       "      <td>14.0</td>\n",
       "      <td>14.0</td>\n",
       "      <td>1000000.0</td>\n",
       "      <td>0</td>\n",
       "    </tr>\n",
       "    <tr>\n",
       "      <th>...</th>\n",
       "      <td>...</td>\n",
       "      <td>...</td>\n",
       "      <td>...</td>\n",
       "      <td>...</td>\n",
       "      <td>...</td>\n",
       "      <td>...</td>\n",
       "      <td>...</td>\n",
       "      <td>...</td>\n",
       "      <td>...</td>\n",
       "      <td>...</td>\n",
       "      <td>...</td>\n",
       "      <td>...</td>\n",
       "      <td>...</td>\n",
       "      <td>...</td>\n",
       "      <td>...</td>\n",
       "      <td>...</td>\n",
       "      <td>...</td>\n",
       "      <td>...</td>\n",
       "      <td>...</td>\n",
       "      <td>...</td>\n",
       "      <td>...</td>\n",
       "    </tr>\n",
       "    <tr>\n",
       "      <th>182</th>\n",
       "      <td>1</td>\n",
       "      <td>1</td>\n",
       "      <td>37.575342</td>\n",
       "      <td>1</td>\n",
       "      <td>1</td>\n",
       "      <td>0</td>\n",
       "      <td>1</td>\n",
       "      <td>1</td>\n",
       "      <td>0</td>\n",
       "      <td>0</td>\n",
       "      <td>...</td>\n",
       "      <td>0</td>\n",
       "      <td>1</td>\n",
       "      <td>11.08</td>\n",
       "      <td>2.522750</td>\n",
       "      <td>4.39</td>\n",
       "      <td>44.0</td>\n",
       "      <td>15.0</td>\n",
       "      <td>22.0</td>\n",
       "      <td>16.0</td>\n",
       "      <td>1</td>\n",
       "    </tr>\n",
       "    <tr>\n",
       "      <th>183</th>\n",
       "      <td>0</td>\n",
       "      <td>1</td>\n",
       "      <td>22.895890</td>\n",
       "      <td>0</td>\n",
       "      <td>0</td>\n",
       "      <td>0</td>\n",
       "      <td>1</td>\n",
       "      <td>0</td>\n",
       "      <td>1</td>\n",
       "      <td>1</td>\n",
       "      <td>...</td>\n",
       "      <td>1</td>\n",
       "      <td>1</td>\n",
       "      <td>4.64</td>\n",
       "      <td>1.038858</td>\n",
       "      <td>4.47</td>\n",
       "      <td>44.5</td>\n",
       "      <td>12.0</td>\n",
       "      <td>30.0</td>\n",
       "      <td>1000000.0</td>\n",
       "      <td>1</td>\n",
       "    </tr>\n",
       "    <tr>\n",
       "      <th>184</th>\n",
       "      <td>0</td>\n",
       "      <td>1</td>\n",
       "      <td>27.347945</td>\n",
       "      <td>0</td>\n",
       "      <td>1</td>\n",
       "      <td>0</td>\n",
       "      <td>1</td>\n",
       "      <td>-1</td>\n",
       "      <td>1</td>\n",
       "      <td>1</td>\n",
       "      <td>...</td>\n",
       "      <td>1</td>\n",
       "      <td>1</td>\n",
       "      <td>7.73</td>\n",
       "      <td>1.635559</td>\n",
       "      <td>4.73</td>\n",
       "      <td>33.0</td>\n",
       "      <td>16.0</td>\n",
       "      <td>16.0</td>\n",
       "      <td>1000000.0</td>\n",
       "      <td>0</td>\n",
       "    </tr>\n",
       "    <tr>\n",
       "      <th>185</th>\n",
       "      <td>1</td>\n",
       "      <td>1</td>\n",
       "      <td>27.780822</td>\n",
       "      <td>0</td>\n",
       "      <td>1</td>\n",
       "      <td>0</td>\n",
       "      <td>1</td>\n",
       "      <td>0</td>\n",
       "      <td>1</td>\n",
       "      <td>1</td>\n",
       "      <td>...</td>\n",
       "      <td>0</td>\n",
       "      <td>0</td>\n",
       "      <td>15.41</td>\n",
       "      <td>8.077770</td>\n",
       "      <td>1.91</td>\n",
       "      <td>24.0</td>\n",
       "      <td>13.0</td>\n",
       "      <td>14.0</td>\n",
       "      <td>54.0</td>\n",
       "      <td>1</td>\n",
       "    </tr>\n",
       "    <tr>\n",
       "      <th>186</th>\n",
       "      <td>1</td>\n",
       "      <td>1</td>\n",
       "      <td>55.553425</td>\n",
       "      <td>1</td>\n",
       "      <td>1</td>\n",
       "      <td>0</td>\n",
       "      <td>1</td>\n",
       "      <td>2</td>\n",
       "      <td>1</td>\n",
       "      <td>1</td>\n",
       "      <td>...</td>\n",
       "      <td>1</td>\n",
       "      <td>1</td>\n",
       "      <td>9.91</td>\n",
       "      <td>0.948135</td>\n",
       "      <td>10.45</td>\n",
       "      <td>37.0</td>\n",
       "      <td>18.0</td>\n",
       "      <td>20.0</td>\n",
       "      <td>1000000.0</td>\n",
       "      <td>0</td>\n",
       "    </tr>\n",
       "  </tbody>\n",
       "</table>\n",
       "<p>187 rows × 36 columns</p>\n",
       "</div>"
      ],
      "text/plain": [
       "     Recipientgender  Stemcellsource   Donorage  Donorage35  IIIV  \\\n",
       "0                  1               1  22.830137           0     1   \n",
       "1                  1               0  23.342466           0     1   \n",
       "2                  1               0  26.394521           0     1   \n",
       "3                  0               0  39.684932           1     1   \n",
       "4                  0               1  33.358904           0     0   \n",
       "..               ...             ...        ...         ...   ...   \n",
       "182                1               1  37.575342           1     1   \n",
       "183                0               1  22.895890           0     0   \n",
       "184                0               1  27.347945           0     1   \n",
       "185                1               1  27.780822           0     1   \n",
       "186                1               1  55.553425           1     1   \n",
       "\n",
       "     Gendermatch DonorABO RecipientABO RecipientRh ABOmatch  ... aGvHDIIIIV  \\\n",
       "0              0        1            1           1        0  ...          0   \n",
       "1              0       -1           -1           1        0  ...          1   \n",
       "2              0       -1           -1           1        0  ...          1   \n",
       "3              0        1            2           1        1  ...          0   \n",
       "4              0        1            2           0        1  ...          1   \n",
       "..           ...      ...          ...         ...      ...  ...        ...   \n",
       "182            0        1            1           0        0  ...          0   \n",
       "183            0        1            0           1        1  ...          1   \n",
       "184            0        1           -1           1        1  ...          1   \n",
       "185            0        1            0           1        1  ...          0   \n",
       "186            0        1            2           1        1  ...          1   \n",
       "\n",
       "    extcGvHD CD34kgx10d6   CD3dCD34  CD3dkgx10d8  Rbodymass  ANCrecovery  \\\n",
       "0          1        7.20   1.338760         5.38       35.0         19.0   \n",
       "1          1        4.50  11.078295         0.41       20.6         16.0   \n",
       "2          1        7.94  19.013230         0.42       23.4         23.0   \n",
       "3        NaN        4.25  29.481647         0.14       50.0         23.0   \n",
       "4          1       51.85   3.972255        13.05        9.0         14.0   \n",
       "..       ...         ...        ...          ...        ...          ...   \n",
       "182        1       11.08   2.522750         4.39       44.0         15.0   \n",
       "183        1        4.64   1.038858         4.47       44.5         12.0   \n",
       "184        1        7.73   1.635559         4.73       33.0         16.0   \n",
       "185        0       15.41   8.077770         1.91       24.0         13.0   \n",
       "186        1        9.91   0.948135        10.45       37.0         18.0   \n",
       "\n",
       "    PLTrecovery  time_to_aGvHD_III_IV survival_status  \n",
       "0          51.0                  32.0               0  \n",
       "1          37.0             1000000.0               1  \n",
       "2          20.0             1000000.0               1  \n",
       "3          29.0                  19.0               1  \n",
       "4          14.0             1000000.0               0  \n",
       "..          ...                   ...             ...  \n",
       "182        22.0                  16.0               1  \n",
       "183        30.0             1000000.0               1  \n",
       "184        16.0             1000000.0               0  \n",
       "185        14.0                  54.0               1  \n",
       "186        20.0             1000000.0               0  \n",
       "\n",
       "[187 rows x 36 columns]"
      ]
     },
     "metadata": {},
     "output_type": "display_data"
    }
   ],
   "source": [
    "dataRff = arff.loadarff('Bone_Marrow_Transplant/bone-marrow.arff')\n",
    "df = pd.DataFrame(dataRff[0])\n",
    "df.survival_status = df.survival_status.astype(int)\n",
    "\n",
    "df.drop(columns='survival_time', inplace=True)\n",
    "\n",
    "\n",
    "# Decodificar las columnas binarias o categóricas que están en bytes\n",
    "for column in df.select_dtypes([object]).columns:\n",
    "    # Convertir las columnas de bytes a strings (y opcionalmente a enteros si son 0/1)\n",
    "    df[column] = df[column].str.decode('utf-8')  # Para texto\n",
    "    if set(df[column].unique()).issubset({'0', '1'}):\n",
    "        df[column] = df[column].astype(int)  # Convertir 0/1 a enteros\n",
    "\n",
    "for i in range(len(df)):\n",
    "    for col in df:\n",
    "        if df[col].dtype == np.dtype('object'):\n",
    "            if df.at[i, col] == '?':\n",
    "                df.at[i, col] = np.nan\n",
    "        else:\n",
    "            if pd.isna(df.loc[i, col]):\n",
    "                df.at[i, col] = np.nan\n",
    "\n",
    "print(df.isna().sum().sum())\n",
    "display(df)"
   ]
  },
  {
   "cell_type": "code",
   "execution_count": 9,
   "id": "630222bb-1a3e-4bb2-9c1a-1da99e1d2747",
   "metadata": {},
   "outputs": [],
   "source": [
    "CATEGORICAL_FEATURES = df.select_dtypes(include=['object']).columns.tolist()\n",
    "#print(CATEGORICAL_FEATURES)\n",
    "\n",
    "NUMERIC_FEATURES = df.select_dtypes(exclude=['object']).columns.tolist()\n",
    "NUMERIC_FEATURES.remove('survival_status')\n",
    "#print(NUMERIC_FEATURES)\n",
    "\n",
    "FEATURES = list(NUMERIC_FEATURES) + list(CATEGORICAL_FEATURES)\n",
    "LABEL_Y = 'survival_status'"
   ]
  },
  {
   "cell_type": "code",
   "execution_count": 10,
   "id": "f701e167-2bb6-4ede-a135-92a94f717388",
   "metadata": {},
   "outputs": [
    {
     "name": "stdout",
     "output_type": "stream",
     "text": [
      "0    80\n",
      "1    69\n",
      "Name: survival_status, dtype: int64\n"
     ]
    }
   ],
   "source": [
    "train_data, test_data = train_test_split(df, test_size=0.2, random_state=42)\n",
    "print(train_data[LABEL_Y].value_counts())"
   ]
  },
  {
   "cell_type": "code",
   "execution_count": 11,
   "id": "a2b05d47-eb61-4bf0-b424-4cceaa40d713",
   "metadata": {},
   "outputs": [
    {
     "data": {
      "text/plain": [
       "((134, 36), (15, 36), (38, 36))"
      ]
     },
     "execution_count": 11,
     "metadata": {},
     "output_type": "execute_result"
    }
   ],
   "source": [
    "train_data, val_data = train_test_split(train_data, test_size=0.10, stratify=train_data['survival_status'])\n",
    "train_data.shape, val_data.shape, test_data.shape"
   ]
  },
  {
   "cell_type": "markdown",
   "id": "c0816c60-8cd3-4859-9baf-8199dd7ab5f7",
   "metadata": {},
   "source": [
    "#### Numeric Cleaning"
   ]
  },
  {
   "cell_type": "code",
   "execution_count": 12,
   "id": "059de787-387b-4d7b-b021-939c25547cd1",
   "metadata": {},
   "outputs": [
    {
     "data": {
      "text/plain": [
       "Pipeline(steps=[('impute', SimpleImputer(strategy='median')),\n",
       "                ('scale', StandardScaler())])"
      ]
     },
     "execution_count": 12,
     "metadata": {},
     "output_type": "execute_result"
    }
   ],
   "source": [
    "imputer = SimpleImputer(strategy='median')\n",
    "scaler = StandardScaler()\n",
    "\n",
    "numeric_pipe = Pipeline([\n",
    "    ('impute', imputer),\n",
    "    ('scale', scaler),\n",
    "])\n",
    "\n",
    "numeric_pipe.fit(train_data[NUMERIC_FEATURES])"
   ]
  },
  {
   "cell_type": "code",
   "execution_count": 13,
   "id": "7f6192de-8157-4ab6-807e-5bbba05b54f5",
   "metadata": {},
   "outputs": [],
   "source": [
    "train_data[NUMERIC_FEATURES] = numeric_pipe.transform(train_data[NUMERIC_FEATURES])\n",
    "val_data[NUMERIC_FEATURES] = numeric_pipe.transform(val_data[NUMERIC_FEATURES])\n",
    "test_data[NUMERIC_FEATURES] = numeric_pipe.transform(test_data[NUMERIC_FEATURES])"
   ]
  },
  {
   "cell_type": "markdown",
   "id": "fa9fcc04-6028-45f2-86e7-a73ccf5bbe49",
   "metadata": {},
   "source": [
    "#### TF Datasets"
   ]
  },
  {
   "cell_type": "code",
   "execution_count": 14,
   "id": "7848f39c-f07e-4b72-96a5-02333e2040fd",
   "metadata": {},
   "outputs": [],
   "source": [
    "train_data[CATEGORICAL_FEATURES] = train_data[CATEGORICAL_FEATURES].astype(str)\n",
    "val_data[CATEGORICAL_FEATURES] = val_data[CATEGORICAL_FEATURES].astype(str)\n",
    "test_data[CATEGORICAL_FEATURES] = test_data[CATEGORICAL_FEATURES].astype(str)\n",
    "\n",
    "train_data[NUMERIC_FEATURES] = train_data[NUMERIC_FEATURES].astype(float)\n",
    "val_data[NUMERIC_FEATURES] = val_data[NUMERIC_FEATURES].astype(float)\n",
    "test_data[NUMERIC_FEATURES] = test_data[NUMERIC_FEATURES].astype(float)"
   ]
  },
  {
   "cell_type": "code",
   "execution_count": 15,
   "id": "72fc758e-6e64-419e-960a-a68f5f8bd747",
   "metadata": {},
   "outputs": [
    {
     "name": "stderr",
     "output_type": "stream",
     "text": [
      "C:\\Users\\raulg\\anaconda3\\envs\\TFM37\\lib\\site-packages\\tabtransformertf\\utils\\preprocessing.py:21: FutureWarning: Support for multi-dimensional indexing (e.g. `obj[:, None]`) is deprecated and will be removed in a future version.  Convert to a numpy array before indexing instead.\n",
      "  dataset[key] = value[:, tf.newaxis]\n",
      "C:\\Users\\raulg\\anaconda3\\envs\\TFM37\\lib\\site-packages\\tabtransformertf\\utils\\preprocessing.py:27: FutureWarning: Support for multi-dimensional indexing (e.g. `obj[:, None]`) is deprecated and will be removed in a future version.  Convert to a numpy array before indexing instead.\n",
      "  dataset[key] = value[:, tf.newaxis]\n"
     ]
    }
   ],
   "source": [
    "train_dataset = df_to_dataset(train_data[FEATURES + [LABEL_Y]], LABEL_Y, batch_size=3072)\n",
    "val_dataset = df_to_dataset(val_data[FEATURES + [LABEL_Y]], LABEL_Y, shuffle=False, batch_size=3072)\n",
    "test_dataset = df_to_dataset(test_data[FEATURES], shuffle=False, batch_size=3072)"
   ]
  },
  {
   "cell_type": "code",
   "execution_count": 16,
   "id": "715d20df-ed10-4e65-89c6-c0ce646f4e57",
   "metadata": {},
   "outputs": [
    {
     "name": "stderr",
     "output_type": "stream",
     "text": [
      "100%|██████████| 14/14 [00:00<00:00, 349.17it/s]\n"
     ]
    }
   ],
   "source": [
    "category_prep_layers = build_categorical_prep(train_data, CATEGORICAL_FEATURES)"
   ]
  },
  {
   "cell_type": "code",
   "execution_count": 24,
   "id": "668efce6-f280-4d31-bd18-8e1cd56c3ddc",
   "metadata": {
    "scrolled": true
   },
   "outputs": [
    {
     "name": "stderr",
     "output_type": "stream",
     "text": [
      "[I 2025-01-13 18:00:01,963] A new study created in memory with name: no-name-d5f169be-c50d-4682-b447-053916dc3072\n",
      "C:\\Users\\raulg\\anaconda3\\envs\\TFM37\\lib\\site-packages\\ipykernel_launcher.py:7: FutureWarning: suggest_int() got {'step'} as positional arguments but they were expected to be given as keyword arguments.\n",
      "  import sys\n",
      "C:\\Users\\raulg\\anaconda3\\envs\\TFM37\\lib\\site-packages\\ipykernel_launcher.py:8: FutureWarning: suggest_int() got {'step'} as positional arguments but they were expected to be given as keyword arguments.\n",
      "  \n",
      "C:\\Users\\raulg\\anaconda3\\envs\\TFM37\\lib\\site-packages\\ipykernel_launcher.py:11: FutureWarning: suggest_int() got {'step'} as positional arguments but they were expected to be given as keyword arguments.\n",
      "  # This is added back by InteractiveShellApp.init_path()\n",
      "C:\\Users\\raulg\\anaconda3\\envs\\TFM37\\lib\\site-packages\\ipykernel_launcher.py:12: FutureWarning: suggest_int() got {'step'} as positional arguments but they were expected to be given as keyword arguments.\n",
      "  if sys.path[0] == \"\":\n"
     ]
    },
    {
     "name": "stdout",
     "output_type": "stream",
     "text": [
      "1/1 [==============================] - 1s 800ms/step\n"
     ]
    },
    {
     "name": "stderr",
     "output_type": "stream",
     "text": [
      "[I 2025-01-13 18:00:16,158] Trial 0 finished with value: 0.8636363636363636 and parameters: {'embedding_dim': 16, 'depth': 5, 'heads': 4, 'attn_dropout': 0.28755569752072185, 'ff_dropout': 0.10068817036872482, 'mlp_hidden_factor1': 2, 'mlp_hidden_factor2': 1, 'use_column_embedding': True}. Best is trial 0 with value: 0.8636363636363636.\n",
      "C:\\Users\\raulg\\anaconda3\\envs\\TFM37\\lib\\site-packages\\ipykernel_launcher.py:7: FutureWarning: suggest_int() got {'step'} as positional arguments but they were expected to be given as keyword arguments.\n",
      "  import sys\n",
      "C:\\Users\\raulg\\anaconda3\\envs\\TFM37\\lib\\site-packages\\ipykernel_launcher.py:8: FutureWarning: suggest_int() got {'step'} as positional arguments but they were expected to be given as keyword arguments.\n",
      "  \n",
      "C:\\Users\\raulg\\anaconda3\\envs\\TFM37\\lib\\site-packages\\ipykernel_launcher.py:11: FutureWarning: suggest_int() got {'step'} as positional arguments but they were expected to be given as keyword arguments.\n",
      "  # This is added back by InteractiveShellApp.init_path()\n",
      "C:\\Users\\raulg\\anaconda3\\envs\\TFM37\\lib\\site-packages\\ipykernel_launcher.py:12: FutureWarning: suggest_int() got {'step'} as positional arguments but they were expected to be given as keyword arguments.\n",
      "  if sys.path[0] == \"\":\n"
     ]
    },
    {
     "name": "stdout",
     "output_type": "stream",
     "text": [
      "1/1 [==============================] - 1s 743ms/step\n"
     ]
    },
    {
     "name": "stderr",
     "output_type": "stream",
     "text": [
      "[I 2025-01-13 18:00:28,354] Trial 1 finished with value: 0.8030303030303031 and parameters: {'embedding_dim': 8, 'depth': 4, 'heads': 2, 'attn_dropout': 0.13614095409365656, 'ff_dropout': 0.08854192664603644, 'mlp_hidden_factor1': 1, 'mlp_hidden_factor2': 4, 'use_column_embedding': False}. Best is trial 0 with value: 0.8636363636363636.\n",
      "C:\\Users\\raulg\\anaconda3\\envs\\TFM37\\lib\\site-packages\\ipykernel_launcher.py:7: FutureWarning: suggest_int() got {'step'} as positional arguments but they were expected to be given as keyword arguments.\n",
      "  import sys\n",
      "C:\\Users\\raulg\\anaconda3\\envs\\TFM37\\lib\\site-packages\\ipykernel_launcher.py:8: FutureWarning: suggest_int() got {'step'} as positional arguments but they were expected to be given as keyword arguments.\n",
      "  \n",
      "C:\\Users\\raulg\\anaconda3\\envs\\TFM37\\lib\\site-packages\\ipykernel_launcher.py:11: FutureWarning: suggest_int() got {'step'} as positional arguments but they were expected to be given as keyword arguments.\n",
      "  # This is added back by InteractiveShellApp.init_path()\n",
      "C:\\Users\\raulg\\anaconda3\\envs\\TFM37\\lib\\site-packages\\ipykernel_launcher.py:12: FutureWarning: suggest_int() got {'step'} as positional arguments but they were expected to be given as keyword arguments.\n",
      "  if sys.path[0] == \"\":\n"
     ]
    },
    {
     "name": "stdout",
     "output_type": "stream",
     "text": [
      "1/1 [==============================] - 1s 781ms/step\n"
     ]
    },
    {
     "name": "stderr",
     "output_type": "stream",
     "text": [
      "[I 2025-01-13 18:00:41,689] Trial 2 finished with value: 0.8257575757575757 and parameters: {'embedding_dim': 16, 'depth': 3, 'heads': 5, 'attn_dropout': 0.36293428518225007, 'ff_dropout': 0.1337619875881919, 'mlp_hidden_factor1': 1, 'mlp_hidden_factor2': 3, 'use_column_embedding': False}. Best is trial 0 with value: 0.8636363636363636.\n",
      "C:\\Users\\raulg\\anaconda3\\envs\\TFM37\\lib\\site-packages\\ipykernel_launcher.py:7: FutureWarning: suggest_int() got {'step'} as positional arguments but they were expected to be given as keyword arguments.\n",
      "  import sys\n",
      "C:\\Users\\raulg\\anaconda3\\envs\\TFM37\\lib\\site-packages\\ipykernel_launcher.py:8: FutureWarning: suggest_int() got {'step'} as positional arguments but they were expected to be given as keyword arguments.\n",
      "  \n",
      "C:\\Users\\raulg\\anaconda3\\envs\\TFM37\\lib\\site-packages\\ipykernel_launcher.py:11: FutureWarning: suggest_int() got {'step'} as positional arguments but they were expected to be given as keyword arguments.\n",
      "  # This is added back by InteractiveShellApp.init_path()\n",
      "C:\\Users\\raulg\\anaconda3\\envs\\TFM37\\lib\\site-packages\\ipykernel_launcher.py:12: FutureWarning: suggest_int() got {'step'} as positional arguments but they were expected to be given as keyword arguments.\n",
      "  if sys.path[0] == \"\":\n"
     ]
    },
    {
     "name": "stdout",
     "output_type": "stream",
     "text": [
      "1/1 [==============================] - 1s 687ms/step\n"
     ]
    },
    {
     "name": "stderr",
     "output_type": "stream",
     "text": [
      "[I 2025-01-13 18:01:00,571] Trial 3 finished with value: 0.7727272727272727 and parameters: {'embedding_dim': 64, 'depth': 2, 'heads': 8, 'attn_dropout': 0.2737449342296092, 'ff_dropout': 0.4255916330048848, 'mlp_hidden_factor1': 3, 'mlp_hidden_factor2': 2, 'use_column_embedding': False}. Best is trial 0 with value: 0.8636363636363636.\n",
      "C:\\Users\\raulg\\anaconda3\\envs\\TFM37\\lib\\site-packages\\ipykernel_launcher.py:7: FutureWarning: suggest_int() got {'step'} as positional arguments but they were expected to be given as keyword arguments.\n",
      "  import sys\n",
      "C:\\Users\\raulg\\anaconda3\\envs\\TFM37\\lib\\site-packages\\ipykernel_launcher.py:8: FutureWarning: suggest_int() got {'step'} as positional arguments but they were expected to be given as keyword arguments.\n",
      "  \n",
      "C:\\Users\\raulg\\anaconda3\\envs\\TFM37\\lib\\site-packages\\ipykernel_launcher.py:11: FutureWarning: suggest_int() got {'step'} as positional arguments but they were expected to be given as keyword arguments.\n",
      "  # This is added back by InteractiveShellApp.init_path()\n",
      "C:\\Users\\raulg\\anaconda3\\envs\\TFM37\\lib\\site-packages\\ipykernel_launcher.py:12: FutureWarning: suggest_int() got {'step'} as positional arguments but they were expected to be given as keyword arguments.\n",
      "  if sys.path[0] == \"\":\n"
     ]
    },
    {
     "name": "stdout",
     "output_type": "stream",
     "text": [
      "WARNING:tensorflow:5 out of the last 5 calls to <function Model.make_predict_function.<locals>.predict_function at 0x0000022AC245DEE8> triggered tf.function retracing. Tracing is expensive and the excessive number of tracings could be due to (1) creating @tf.function repeatedly in a loop, (2) passing tensors with different shapes, (3) passing Python objects instead of tensors. For (1), please define your @tf.function outside of the loop. For (2), @tf.function has reduce_retracing=True option that can avoid unnecessary retracing. For (3), please refer to https://www.tensorflow.org/guide/function#controlling_retracing and https://www.tensorflow.org/api_docs/python/tf/function for  more details.\n",
      "1/1 [==============================] - 0s 333ms/step\n"
     ]
    },
    {
     "name": "stderr",
     "output_type": "stream",
     "text": [
      "[I 2025-01-13 18:01:07,160] Trial 4 finished with value: 0.7651515151515151 and parameters: {'embedding_dim': 8, 'depth': 1, 'heads': 2, 'attn_dropout': 0.2931838613356593, 'ff_dropout': 0.2861686635195187, 'mlp_hidden_factor1': 1, 'mlp_hidden_factor2': 1, 'use_column_embedding': False}. Best is trial 0 with value: 0.8636363636363636.\n",
      "C:\\Users\\raulg\\anaconda3\\envs\\TFM37\\lib\\site-packages\\ipykernel_launcher.py:7: FutureWarning: suggest_int() got {'step'} as positional arguments but they were expected to be given as keyword arguments.\n",
      "  import sys\n",
      "C:\\Users\\raulg\\anaconda3\\envs\\TFM37\\lib\\site-packages\\ipykernel_launcher.py:8: FutureWarning: suggest_int() got {'step'} as positional arguments but they were expected to be given as keyword arguments.\n",
      "  \n",
      "C:\\Users\\raulg\\anaconda3\\envs\\TFM37\\lib\\site-packages\\ipykernel_launcher.py:11: FutureWarning: suggest_int() got {'step'} as positional arguments but they were expected to be given as keyword arguments.\n",
      "  # This is added back by InteractiveShellApp.init_path()\n",
      "C:\\Users\\raulg\\anaconda3\\envs\\TFM37\\lib\\site-packages\\ipykernel_launcher.py:12: FutureWarning: suggest_int() got {'step'} as positional arguments but they were expected to be given as keyword arguments.\n",
      "  if sys.path[0] == \"\":\n"
     ]
    },
    {
     "name": "stdout",
     "output_type": "stream",
     "text": [
      "WARNING:tensorflow:6 out of the last 6 calls to <function Model.make_predict_function.<locals>.predict_function at 0x0000022ACE111E58> triggered tf.function retracing. Tracing is expensive and the excessive number of tracings could be due to (1) creating @tf.function repeatedly in a loop, (2) passing tensors with different shapes, (3) passing Python objects instead of tensors. For (1), please define your @tf.function outside of the loop. For (2), @tf.function has reduce_retracing=True option that can avoid unnecessary retracing. For (3), please refer to https://www.tensorflow.org/guide/function#controlling_retracing and https://www.tensorflow.org/api_docs/python/tf/function for  more details.\n",
      "1/1 [==============================] - 0s 408ms/step\n"
     ]
    },
    {
     "name": "stderr",
     "output_type": "stream",
     "text": [
      "[I 2025-01-13 18:01:15,824] Trial 5 finished with value: 0.7121212121212122 and parameters: {'embedding_dim': 8, 'depth': 1, 'heads': 7, 'attn_dropout': 0.15460690733659235, 'ff_dropout': 0.3558338238078267, 'mlp_hidden_factor1': 2, 'mlp_hidden_factor2': 4, 'use_column_embedding': False}. Best is trial 0 with value: 0.8636363636363636.\n",
      "C:\\Users\\raulg\\anaconda3\\envs\\TFM37\\lib\\site-packages\\ipykernel_launcher.py:7: FutureWarning: suggest_int() got {'step'} as positional arguments but they were expected to be given as keyword arguments.\n",
      "  import sys\n",
      "C:\\Users\\raulg\\anaconda3\\envs\\TFM37\\lib\\site-packages\\ipykernel_launcher.py:8: FutureWarning: suggest_int() got {'step'} as positional arguments but they were expected to be given as keyword arguments.\n",
      "  \n",
      "C:\\Users\\raulg\\anaconda3\\envs\\TFM37\\lib\\site-packages\\ipykernel_launcher.py:11: FutureWarning: suggest_int() got {'step'} as positional arguments but they were expected to be given as keyword arguments.\n",
      "  # This is added back by InteractiveShellApp.init_path()\n",
      "C:\\Users\\raulg\\anaconda3\\envs\\TFM37\\lib\\site-packages\\ipykernel_launcher.py:12: FutureWarning: suggest_int() got {'step'} as positional arguments but they were expected to be given as keyword arguments.\n",
      "  if sys.path[0] == \"\":\n"
     ]
    },
    {
     "name": "stdout",
     "output_type": "stream",
     "text": [
      "1/1 [==============================] - 1s 824ms/step\n"
     ]
    },
    {
     "name": "stderr",
     "output_type": "stream",
     "text": [
      "[I 2025-01-13 18:01:30,623] Trial 6 finished with value: 0.7651515151515151 and parameters: {'embedding_dim': 32, 'depth': 4, 'heads': 3, 'attn_dropout': 0.07520846127342619, 'ff_dropout': 0.2371588939784406, 'mlp_hidden_factor1': 2, 'mlp_hidden_factor2': 2, 'use_column_embedding': False}. Best is trial 0 with value: 0.8636363636363636.\n",
      "C:\\Users\\raulg\\anaconda3\\envs\\TFM37\\lib\\site-packages\\ipykernel_launcher.py:7: FutureWarning: suggest_int() got {'step'} as positional arguments but they were expected to be given as keyword arguments.\n",
      "  import sys\n",
      "C:\\Users\\raulg\\anaconda3\\envs\\TFM37\\lib\\site-packages\\ipykernel_launcher.py:8: FutureWarning: suggest_int() got {'step'} as positional arguments but they were expected to be given as keyword arguments.\n",
      "  \n",
      "C:\\Users\\raulg\\anaconda3\\envs\\TFM37\\lib\\site-packages\\ipykernel_launcher.py:11: FutureWarning: suggest_int() got {'step'} as positional arguments but they were expected to be given as keyword arguments.\n",
      "  # This is added back by InteractiveShellApp.init_path()\n",
      "C:\\Users\\raulg\\anaconda3\\envs\\TFM37\\lib\\site-packages\\ipykernel_launcher.py:12: FutureWarning: suggest_int() got {'step'} as positional arguments but they were expected to be given as keyword arguments.\n",
      "  if sys.path[0] == \"\":\n"
     ]
    },
    {
     "name": "stdout",
     "output_type": "stream",
     "text": [
      "1/1 [==============================] - 1s 610ms/step\n"
     ]
    },
    {
     "name": "stderr",
     "output_type": "stream",
     "text": [
      "[I 2025-01-13 18:01:45,037] Trial 7 finished with value: 0.7878787878787878 and parameters: {'embedding_dim': 16, 'depth': 3, 'heads': 6, 'attn_dropout': 0.09052550501358905, 'ff_dropout': 0.3771399056455626, 'mlp_hidden_factor1': 2, 'mlp_hidden_factor2': 4, 'use_column_embedding': True}. Best is trial 0 with value: 0.8636363636363636.\n",
      "C:\\Users\\raulg\\anaconda3\\envs\\TFM37\\lib\\site-packages\\ipykernel_launcher.py:7: FutureWarning: suggest_int() got {'step'} as positional arguments but they were expected to be given as keyword arguments.\n",
      "  import sys\n",
      "C:\\Users\\raulg\\anaconda3\\envs\\TFM37\\lib\\site-packages\\ipykernel_launcher.py:8: FutureWarning: suggest_int() got {'step'} as positional arguments but they were expected to be given as keyword arguments.\n",
      "  \n",
      "C:\\Users\\raulg\\anaconda3\\envs\\TFM37\\lib\\site-packages\\ipykernel_launcher.py:11: FutureWarning: suggest_int() got {'step'} as positional arguments but they were expected to be given as keyword arguments.\n",
      "  # This is added back by InteractiveShellApp.init_path()\n",
      "C:\\Users\\raulg\\anaconda3\\envs\\TFM37\\lib\\site-packages\\ipykernel_launcher.py:12: FutureWarning: suggest_int() got {'step'} as positional arguments but they were expected to be given as keyword arguments.\n",
      "  if sys.path[0] == \"\":\n"
     ]
    },
    {
     "name": "stdout",
     "output_type": "stream",
     "text": [
      "1/1 [==============================] - 0s 485ms/step\n"
     ]
    },
    {
     "name": "stderr",
     "output_type": "stream",
     "text": [
      "[I 2025-01-13 18:02:02,685] Trial 8 finished with value: 0.7803030303030303 and parameters: {'embedding_dim': 64, 'depth': 1, 'heads': 8, 'attn_dropout': 0.4349054835655156, 'ff_dropout': 0.26348842938168876, 'mlp_hidden_factor1': 1, 'mlp_hidden_factor2': 1, 'use_column_embedding': True}. Best is trial 0 with value: 0.8636363636363636.\n",
      "C:\\Users\\raulg\\anaconda3\\envs\\TFM37\\lib\\site-packages\\ipykernel_launcher.py:7: FutureWarning: suggest_int() got {'step'} as positional arguments but they were expected to be given as keyword arguments.\n",
      "  import sys\n",
      "C:\\Users\\raulg\\anaconda3\\envs\\TFM37\\lib\\site-packages\\ipykernel_launcher.py:8: FutureWarning: suggest_int() got {'step'} as positional arguments but they were expected to be given as keyword arguments.\n",
      "  \n",
      "C:\\Users\\raulg\\anaconda3\\envs\\TFM37\\lib\\site-packages\\ipykernel_launcher.py:11: FutureWarning: suggest_int() got {'step'} as positional arguments but they were expected to be given as keyword arguments.\n",
      "  # This is added back by InteractiveShellApp.init_path()\n",
      "C:\\Users\\raulg\\anaconda3\\envs\\TFM37\\lib\\site-packages\\ipykernel_launcher.py:12: FutureWarning: suggest_int() got {'step'} as positional arguments but they were expected to be given as keyword arguments.\n",
      "  if sys.path[0] == \"\":\n"
     ]
    },
    {
     "name": "stdout",
     "output_type": "stream",
     "text": [
      "1/1 [==============================] - 0s 484ms/step\n"
     ]
    },
    {
     "name": "stderr",
     "output_type": "stream",
     "text": [
      "[I 2025-01-13 18:02:12,304] Trial 9 finished with value: 0.7424242424242424 and parameters: {'embedding_dim': 8, 'depth': 2, 'heads': 4, 'attn_dropout': 0.3809115399082634, 'ff_dropout': 0.08759074235125293, 'mlp_hidden_factor1': 3, 'mlp_hidden_factor2': 2, 'use_column_embedding': False}. Best is trial 0 with value: 0.8636363636363636.\n",
      "C:\\Users\\raulg\\anaconda3\\envs\\TFM37\\lib\\site-packages\\ipykernel_launcher.py:7: FutureWarning: suggest_int() got {'step'} as positional arguments but they were expected to be given as keyword arguments.\n",
      "  import sys\n",
      "C:\\Users\\raulg\\anaconda3\\envs\\TFM37\\lib\\site-packages\\ipykernel_launcher.py:8: FutureWarning: suggest_int() got {'step'} as positional arguments but they were expected to be given as keyword arguments.\n",
      "  \n",
      "C:\\Users\\raulg\\anaconda3\\envs\\TFM37\\lib\\site-packages\\ipykernel_launcher.py:11: FutureWarning: suggest_int() got {'step'} as positional arguments but they were expected to be given as keyword arguments.\n",
      "  # This is added back by InteractiveShellApp.init_path()\n",
      "C:\\Users\\raulg\\anaconda3\\envs\\TFM37\\lib\\site-packages\\ipykernel_launcher.py:12: FutureWarning: suggest_int() got {'step'} as positional arguments but they were expected to be given as keyword arguments.\n",
      "  if sys.path[0] == \"\":\n"
     ]
    },
    {
     "name": "stdout",
     "output_type": "stream",
     "text": [
      "1/1 [==============================] - 1s 1s/step\n"
     ]
    },
    {
     "name": "stderr",
     "output_type": "stream",
     "text": [
      "[I 2025-01-13 18:02:34,143] Trial 10 finished with value: 0.7424242424242424 and parameters: {'embedding_dim': 16, 'depth': 6, 'heads': 4, 'attn_dropout': 0.22258498297379203, 'ff_dropout': 0.18026841364715923, 'mlp_hidden_factor1': 4, 'mlp_hidden_factor2': 1, 'use_column_embedding': True}. Best is trial 0 with value: 0.8636363636363636.\n",
      "C:\\Users\\raulg\\anaconda3\\envs\\TFM37\\lib\\site-packages\\ipykernel_launcher.py:7: FutureWarning: suggest_int() got {'step'} as positional arguments but they were expected to be given as keyword arguments.\n",
      "  import sys\n",
      "C:\\Users\\raulg\\anaconda3\\envs\\TFM37\\lib\\site-packages\\ipykernel_launcher.py:8: FutureWarning: suggest_int() got {'step'} as positional arguments but they were expected to be given as keyword arguments.\n",
      "  \n",
      "C:\\Users\\raulg\\anaconda3\\envs\\TFM37\\lib\\site-packages\\ipykernel_launcher.py:11: FutureWarning: suggest_int() got {'step'} as positional arguments but they were expected to be given as keyword arguments.\n",
      "  # This is added back by InteractiveShellApp.init_path()\n",
      "C:\\Users\\raulg\\anaconda3\\envs\\TFM37\\lib\\site-packages\\ipykernel_launcher.py:12: FutureWarning: suggest_int() got {'step'} as positional arguments but they were expected to be given as keyword arguments.\n",
      "  if sys.path[0] == \"\":\n"
     ]
    },
    {
     "name": "stdout",
     "output_type": "stream",
     "text": [
      "1/1 [==============================] - 1s 938ms/step\n"
     ]
    },
    {
     "name": "stderr",
     "output_type": "stream",
     "text": [
      "[I 2025-01-13 18:02:54,863] Trial 11 finished with value: 0.5833333333333334 and parameters: {'embedding_dim': 16, 'depth': 6, 'heads': 5, 'attn_dropout': 0.3622739096815435, 'ff_dropout': 0.1355554342465053, 'mlp_hidden_factor1': 1, 'mlp_hidden_factor2': 3, 'use_column_embedding': True}. Best is trial 0 with value: 0.8636363636363636.\n",
      "C:\\Users\\raulg\\anaconda3\\envs\\TFM37\\lib\\site-packages\\ipykernel_launcher.py:7: FutureWarning: suggest_int() got {'step'} as positional arguments but they were expected to be given as keyword arguments.\n",
      "  import sys\n",
      "C:\\Users\\raulg\\anaconda3\\envs\\TFM37\\lib\\site-packages\\ipykernel_launcher.py:8: FutureWarning: suggest_int() got {'step'} as positional arguments but they were expected to be given as keyword arguments.\n",
      "  \n",
      "C:\\Users\\raulg\\anaconda3\\envs\\TFM37\\lib\\site-packages\\ipykernel_launcher.py:11: FutureWarning: suggest_int() got {'step'} as positional arguments but they were expected to be given as keyword arguments.\n",
      "  # This is added back by InteractiveShellApp.init_path()\n",
      "C:\\Users\\raulg\\anaconda3\\envs\\TFM37\\lib\\site-packages\\ipykernel_launcher.py:12: FutureWarning: suggest_int() got {'step'} as positional arguments but they were expected to be given as keyword arguments.\n",
      "  if sys.path[0] == \"\":\n"
     ]
    },
    {
     "name": "stdout",
     "output_type": "stream",
     "text": [
      "1/1 [==============================] - 1s 1s/step\n"
     ]
    },
    {
     "name": "stderr",
     "output_type": "stream",
     "text": [
      "[I 2025-01-13 18:03:13,740] Trial 12 finished with value: 0.8181818181818181 and parameters: {'embedding_dim': 16, 'depth': 5, 'heads': 5, 'attn_dropout': 0.4620032587300993, 'ff_dropout': 0.050827328196553494, 'mlp_hidden_factor1': 2, 'mlp_hidden_factor2': 3, 'use_column_embedding': True}. Best is trial 0 with value: 0.8636363636363636.\n",
      "C:\\Users\\raulg\\anaconda3\\envs\\TFM37\\lib\\site-packages\\ipykernel_launcher.py:7: FutureWarning: suggest_int() got {'step'} as positional arguments but they were expected to be given as keyword arguments.\n",
      "  import sys\n",
      "C:\\Users\\raulg\\anaconda3\\envs\\TFM37\\lib\\site-packages\\ipykernel_launcher.py:8: FutureWarning: suggest_int() got {'step'} as positional arguments but they were expected to be given as keyword arguments.\n",
      "  \n",
      "C:\\Users\\raulg\\anaconda3\\envs\\TFM37\\lib\\site-packages\\ipykernel_launcher.py:11: FutureWarning: suggest_int() got {'step'} as positional arguments but they were expected to be given as keyword arguments.\n",
      "  # This is added back by InteractiveShellApp.init_path()\n",
      "C:\\Users\\raulg\\anaconda3\\envs\\TFM37\\lib\\site-packages\\ipykernel_launcher.py:12: FutureWarning: suggest_int() got {'step'} as positional arguments but they were expected to be given as keyword arguments.\n",
      "  if sys.path[0] == \"\":\n"
     ]
    },
    {
     "name": "stdout",
     "output_type": "stream",
     "text": [
      "1/1 [==============================] - 1s 1s/step\n"
     ]
    },
    {
     "name": "stderr",
     "output_type": "stream",
     "text": [
      "[I 2025-01-13 18:03:35,291] Trial 13 finished with value: 0.7575757575757576 and parameters: {'embedding_dim': 16, 'depth': 5, 'heads': 4, 'attn_dropout': 0.32351780787980705, 'ff_dropout': 0.1922428819699813, 'mlp_hidden_factor1': 3, 'mlp_hidden_factor2': 3, 'use_column_embedding': True}. Best is trial 0 with value: 0.8636363636363636.\n",
      "C:\\Users\\raulg\\anaconda3\\envs\\TFM37\\lib\\site-packages\\ipykernel_launcher.py:7: FutureWarning: suggest_int() got {'step'} as positional arguments but they were expected to be given as keyword arguments.\n",
      "  import sys\n",
      "C:\\Users\\raulg\\anaconda3\\envs\\TFM37\\lib\\site-packages\\ipykernel_launcher.py:8: FutureWarning: suggest_int() got {'step'} as positional arguments but they were expected to be given as keyword arguments.\n",
      "  \n",
      "C:\\Users\\raulg\\anaconda3\\envs\\TFM37\\lib\\site-packages\\ipykernel_launcher.py:11: FutureWarning: suggest_int() got {'step'} as positional arguments but they were expected to be given as keyword arguments.\n",
      "  # This is added back by InteractiveShellApp.init_path()\n",
      "C:\\Users\\raulg\\anaconda3\\envs\\TFM37\\lib\\site-packages\\ipykernel_launcher.py:12: FutureWarning: suggest_int() got {'step'} as positional arguments but they were expected to be given as keyword arguments.\n",
      "  if sys.path[0] == \"\":\n"
     ]
    },
    {
     "name": "stdout",
     "output_type": "stream",
     "text": [
      "1/1 [==============================] - 1s 600ms/step\n"
     ]
    },
    {
     "name": "stderr",
     "output_type": "stream",
     "text": [
      "[I 2025-01-13 18:04:01,575] Trial 14 finished with value: 0.8257575757575757 and parameters: {'embedding_dim': 32, 'depth': 3, 'heads': 6, 'attn_dropout': 0.4993533079376487, 'ff_dropout': 0.14939317573097022, 'mlp_hidden_factor1': 1, 'mlp_hidden_factor2': 2, 'use_column_embedding': False}. Best is trial 0 with value: 0.8636363636363636.\n",
      "C:\\Users\\raulg\\anaconda3\\envs\\TFM37\\lib\\site-packages\\ipykernel_launcher.py:7: FutureWarning: suggest_int() got {'step'} as positional arguments but they were expected to be given as keyword arguments.\n",
      "  import sys\n",
      "C:\\Users\\raulg\\anaconda3\\envs\\TFM37\\lib\\site-packages\\ipykernel_launcher.py:8: FutureWarning: suggest_int() got {'step'} as positional arguments but they were expected to be given as keyword arguments.\n",
      "  \n",
      "C:\\Users\\raulg\\anaconda3\\envs\\TFM37\\lib\\site-packages\\ipykernel_launcher.py:11: FutureWarning: suggest_int() got {'step'} as positional arguments but they were expected to be given as keyword arguments.\n",
      "  # This is added back by InteractiveShellApp.init_path()\n",
      "C:\\Users\\raulg\\anaconda3\\envs\\TFM37\\lib\\site-packages\\ipykernel_launcher.py:12: FutureWarning: suggest_int() got {'step'} as positional arguments but they were expected to be given as keyword arguments.\n",
      "  if sys.path[0] == \"\":\n"
     ]
    },
    {
     "name": "stdout",
     "output_type": "stream",
     "text": [
      "1/1 [==============================] - 1s 678ms/step\n"
     ]
    },
    {
     "name": "stderr",
     "output_type": "stream",
     "text": [
      "[I 2025-01-13 18:04:16,085] Trial 15 finished with value: 0.818181818181818 and parameters: {'embedding_dim': 16, 'depth': 4, 'heads': 3, 'attn_dropout': 0.23762834950134665, 'ff_dropout': 0.12403051578446272, 'mlp_hidden_factor1': 2, 'mlp_hidden_factor2': 3, 'use_column_embedding': True}. Best is trial 0 with value: 0.8636363636363636.\n",
      "C:\\Users\\raulg\\anaconda3\\envs\\TFM37\\lib\\site-packages\\ipykernel_launcher.py:7: FutureWarning: suggest_int() got {'step'} as positional arguments but they were expected to be given as keyword arguments.\n",
      "  import sys\n",
      "C:\\Users\\raulg\\anaconda3\\envs\\TFM37\\lib\\site-packages\\ipykernel_launcher.py:8: FutureWarning: suggest_int() got {'step'} as positional arguments but they were expected to be given as keyword arguments.\n",
      "  \n",
      "C:\\Users\\raulg\\anaconda3\\envs\\TFM37\\lib\\site-packages\\ipykernel_launcher.py:11: FutureWarning: suggest_int() got {'step'} as positional arguments but they were expected to be given as keyword arguments.\n",
      "  # This is added back by InteractiveShellApp.init_path()\n",
      "C:\\Users\\raulg\\anaconda3\\envs\\TFM37\\lib\\site-packages\\ipykernel_launcher.py:12: FutureWarning: suggest_int() got {'step'} as positional arguments but they were expected to be given as keyword arguments.\n",
      "  if sys.path[0] == \"\":\n"
     ]
    },
    {
     "name": "stdout",
     "output_type": "stream",
     "text": [
      "1/1 [==============================] - 1s 1s/step\n"
     ]
    },
    {
     "name": "stderr",
     "output_type": "stream",
     "text": [
      "[I 2025-01-13 18:04:38,212] Trial 16 finished with value: 0.7803030303030304 and parameters: {'embedding_dim': 16, 'depth': 5, 'heads': 6, 'attn_dropout': 0.3783124609629904, 'ff_dropout': 0.21564373201779277, 'mlp_hidden_factor1': 4, 'mlp_hidden_factor2': 1, 'use_column_embedding': True}. Best is trial 0 with value: 0.8636363636363636.\n",
      "C:\\Users\\raulg\\anaconda3\\envs\\TFM37\\lib\\site-packages\\ipykernel_launcher.py:7: FutureWarning: suggest_int() got {'step'} as positional arguments but they were expected to be given as keyword arguments.\n",
      "  import sys\n",
      "C:\\Users\\raulg\\anaconda3\\envs\\TFM37\\lib\\site-packages\\ipykernel_launcher.py:8: FutureWarning: suggest_int() got {'step'} as positional arguments but they were expected to be given as keyword arguments.\n",
      "  \n",
      "C:\\Users\\raulg\\anaconda3\\envs\\TFM37\\lib\\site-packages\\ipykernel_launcher.py:11: FutureWarning: suggest_int() got {'step'} as positional arguments but they were expected to be given as keyword arguments.\n",
      "  # This is added back by InteractiveShellApp.init_path()\n",
      "C:\\Users\\raulg\\anaconda3\\envs\\TFM37\\lib\\site-packages\\ipykernel_launcher.py:12: FutureWarning: suggest_int() got {'step'} as positional arguments but they were expected to be given as keyword arguments.\n",
      "  if sys.path[0] == \"\":\n"
     ]
    },
    {
     "name": "stdout",
     "output_type": "stream",
     "text": [
      "1/1 [==============================] - 1s 570ms/step\n"
     ]
    },
    {
     "name": "stderr",
     "output_type": "stream",
     "text": [
      "[I 2025-01-13 18:04:50,942] Trial 17 finished with value: 0.6893939393939393 and parameters: {'embedding_dim': 16, 'depth': 3, 'heads': 3, 'attn_dropout': 0.1892426694537916, 'ff_dropout': 0.05091237237019297, 'mlp_hidden_factor1': 1, 'mlp_hidden_factor2': 2, 'use_column_embedding': False}. Best is trial 0 with value: 0.8636363636363636.\n",
      "C:\\Users\\raulg\\anaconda3\\envs\\TFM37\\lib\\site-packages\\ipykernel_launcher.py:7: FutureWarning: suggest_int() got {'step'} as positional arguments but they were expected to be given as keyword arguments.\n",
      "  import sys\n",
      "C:\\Users\\raulg\\anaconda3\\envs\\TFM37\\lib\\site-packages\\ipykernel_launcher.py:8: FutureWarning: suggest_int() got {'step'} as positional arguments but they were expected to be given as keyword arguments.\n",
      "  \n",
      "C:\\Users\\raulg\\anaconda3\\envs\\TFM37\\lib\\site-packages\\ipykernel_launcher.py:11: FutureWarning: suggest_int() got {'step'} as positional arguments but they were expected to be given as keyword arguments.\n",
      "  # This is added back by InteractiveShellApp.init_path()\n",
      "C:\\Users\\raulg\\anaconda3\\envs\\TFM37\\lib\\site-packages\\ipykernel_launcher.py:12: FutureWarning: suggest_int() got {'step'} as positional arguments but they were expected to be given as keyword arguments.\n",
      "  if sys.path[0] == \"\":\n"
     ]
    },
    {
     "name": "stdout",
     "output_type": "stream",
     "text": [
      "1/1 [==============================] - 1s 515ms/step\n"
     ]
    },
    {
     "name": "stderr",
     "output_type": "stream",
     "text": [
      "[I 2025-01-13 18:05:07,544] Trial 18 finished with value: 0.75 and parameters: {'embedding_dim': 32, 'depth': 2, 'heads': 5, 'attn_dropout': 0.325733151642103, 'ff_dropout': 0.4904050364212641, 'mlp_hidden_factor1': 2, 'mlp_hidden_factor2': 3, 'use_column_embedding': True}. Best is trial 0 with value: 0.8636363636363636.\n",
      "C:\\Users\\raulg\\anaconda3\\envs\\TFM37\\lib\\site-packages\\ipykernel_launcher.py:7: FutureWarning: suggest_int() got {'step'} as positional arguments but they were expected to be given as keyword arguments.\n",
      "  import sys\n",
      "C:\\Users\\raulg\\anaconda3\\envs\\TFM37\\lib\\site-packages\\ipykernel_launcher.py:8: FutureWarning: suggest_int() got {'step'} as positional arguments but they were expected to be given as keyword arguments.\n",
      "  \n",
      "C:\\Users\\raulg\\anaconda3\\envs\\TFM37\\lib\\site-packages\\ipykernel_launcher.py:11: FutureWarning: suggest_int() got {'step'} as positional arguments but they were expected to be given as keyword arguments.\n",
      "  # This is added back by InteractiveShellApp.init_path()\n",
      "C:\\Users\\raulg\\anaconda3\\envs\\TFM37\\lib\\site-packages\\ipykernel_launcher.py:12: FutureWarning: suggest_int() got {'step'} as positional arguments but they were expected to be given as keyword arguments.\n",
      "  if sys.path[0] == \"\":\n"
     ]
    },
    {
     "name": "stdout",
     "output_type": "stream",
     "text": [
      "1/1 [==============================] - 1s 941ms/step\n"
     ]
    },
    {
     "name": "stderr",
     "output_type": "stream",
     "text": [
      "[I 2025-01-13 18:05:52,245] Trial 19 finished with value: 0.8560606060606061 and parameters: {'embedding_dim': 64, 'depth': 5, 'heads': 4, 'attn_dropout': 0.4171229083186494, 'ff_dropout': 0.3103675168923855, 'mlp_hidden_factor1': 3, 'mlp_hidden_factor2': 4, 'use_column_embedding': False}. Best is trial 0 with value: 0.8636363636363636.\n",
      "C:\\Users\\raulg\\anaconda3\\envs\\TFM37\\lib\\site-packages\\ipykernel_launcher.py:7: FutureWarning: suggest_int() got {'step'} as positional arguments but they were expected to be given as keyword arguments.\n",
      "  import sys\n",
      "C:\\Users\\raulg\\anaconda3\\envs\\TFM37\\lib\\site-packages\\ipykernel_launcher.py:8: FutureWarning: suggest_int() got {'step'} as positional arguments but they were expected to be given as keyword arguments.\n",
      "  \n",
      "C:\\Users\\raulg\\anaconda3\\envs\\TFM37\\lib\\site-packages\\ipykernel_launcher.py:11: FutureWarning: suggest_int() got {'step'} as positional arguments but they were expected to be given as keyword arguments.\n",
      "  # This is added back by InteractiveShellApp.init_path()\n",
      "C:\\Users\\raulg\\anaconda3\\envs\\TFM37\\lib\\site-packages\\ipykernel_launcher.py:12: FutureWarning: suggest_int() got {'step'} as positional arguments but they were expected to be given as keyword arguments.\n",
      "  if sys.path[0] == \"\":\n"
     ]
    },
    {
     "name": "stdout",
     "output_type": "stream",
     "text": [
      "1/1 [==============================] - 1s 1s/step\n"
     ]
    },
    {
     "name": "stderr",
     "output_type": "stream",
     "text": [
      "[I 2025-01-13 18:06:47,773] Trial 20 finished with value: 0.818181818181818 and parameters: {'embedding_dim': 64, 'depth': 6, 'heads': 4, 'attn_dropout': 0.4248893103951767, 'ff_dropout': 0.34361680571015857, 'mlp_hidden_factor1': 3, 'mlp_hidden_factor2': 4, 'use_column_embedding': True}. Best is trial 0 with value: 0.8636363636363636.\n",
      "C:\\Users\\raulg\\anaconda3\\envs\\TFM37\\lib\\site-packages\\ipykernel_launcher.py:7: FutureWarning: suggest_int() got {'step'} as positional arguments but they were expected to be given as keyword arguments.\n",
      "  import sys\n",
      "C:\\Users\\raulg\\anaconda3\\envs\\TFM37\\lib\\site-packages\\ipykernel_launcher.py:8: FutureWarning: suggest_int() got {'step'} as positional arguments but they were expected to be given as keyword arguments.\n",
      "  \n",
      "C:\\Users\\raulg\\anaconda3\\envs\\TFM37\\lib\\site-packages\\ipykernel_launcher.py:11: FutureWarning: suggest_int() got {'step'} as positional arguments but they were expected to be given as keyword arguments.\n",
      "  # This is added back by InteractiveShellApp.init_path()\n",
      "C:\\Users\\raulg\\anaconda3\\envs\\TFM37\\lib\\site-packages\\ipykernel_launcher.py:12: FutureWarning: suggest_int() got {'step'} as positional arguments but they were expected to be given as keyword arguments.\n",
      "  if sys.path[0] == \"\":\n"
     ]
    },
    {
     "name": "stdout",
     "output_type": "stream",
     "text": [
      "1/1 [==============================] - 1s 985ms/step\n"
     ]
    },
    {
     "name": "stderr",
     "output_type": "stream",
     "text": [
      "[I 2025-01-13 18:07:39,997] Trial 21 finished with value: 0.7272727272727273 and parameters: {'embedding_dim': 64, 'depth': 5, 'heads': 4, 'attn_dropout': 0.4097032175444877, 'ff_dropout': 0.3155745174739235, 'mlp_hidden_factor1': 3, 'mlp_hidden_factor2': 4, 'use_column_embedding': False}. Best is trial 0 with value: 0.8636363636363636.\n",
      "C:\\Users\\raulg\\anaconda3\\envs\\TFM37\\lib\\site-packages\\ipykernel_launcher.py:7: FutureWarning: suggest_int() got {'step'} as positional arguments but they were expected to be given as keyword arguments.\n",
      "  import sys\n",
      "C:\\Users\\raulg\\anaconda3\\envs\\TFM37\\lib\\site-packages\\ipykernel_launcher.py:8: FutureWarning: suggest_int() got {'step'} as positional arguments but they were expected to be given as keyword arguments.\n",
      "  \n",
      "C:\\Users\\raulg\\anaconda3\\envs\\TFM37\\lib\\site-packages\\ipykernel_launcher.py:11: FutureWarning: suggest_int() got {'step'} as positional arguments but they were expected to be given as keyword arguments.\n",
      "  # This is added back by InteractiveShellApp.init_path()\n",
      "C:\\Users\\raulg\\anaconda3\\envs\\TFM37\\lib\\site-packages\\ipykernel_launcher.py:12: FutureWarning: suggest_int() got {'step'} as positional arguments but they were expected to be given as keyword arguments.\n",
      "  if sys.path[0] == \"\":\n"
     ]
    },
    {
     "name": "stdout",
     "output_type": "stream",
     "text": [
      "1/1 [==============================] - 1s 798ms/step\n"
     ]
    },
    {
     "name": "stderr",
     "output_type": "stream",
     "text": [
      "[I 2025-01-13 18:08:18,401] Trial 22 finished with value: 0.9545454545454546 and parameters: {'embedding_dim': 64, 'depth': 4, 'heads': 5, 'attn_dropout': 0.3363855226889751, 'ff_dropout': 0.1652609935675714, 'mlp_hidden_factor1': 4, 'mlp_hidden_factor2': 3, 'use_column_embedding': False}. Best is trial 22 with value: 0.9545454545454546.\n",
      "C:\\Users\\raulg\\anaconda3\\envs\\TFM37\\lib\\site-packages\\ipykernel_launcher.py:7: FutureWarning: suggest_int() got {'step'} as positional arguments but they were expected to be given as keyword arguments.\n",
      "  import sys\n",
      "C:\\Users\\raulg\\anaconda3\\envs\\TFM37\\lib\\site-packages\\ipykernel_launcher.py:8: FutureWarning: suggest_int() got {'step'} as positional arguments but they were expected to be given as keyword arguments.\n",
      "  \n",
      "C:\\Users\\raulg\\anaconda3\\envs\\TFM37\\lib\\site-packages\\ipykernel_launcher.py:11: FutureWarning: suggest_int() got {'step'} as positional arguments but they were expected to be given as keyword arguments.\n",
      "  # This is added back by InteractiveShellApp.init_path()\n",
      "C:\\Users\\raulg\\anaconda3\\envs\\TFM37\\lib\\site-packages\\ipykernel_launcher.py:12: FutureWarning: suggest_int() got {'step'} as positional arguments but they were expected to be given as keyword arguments.\n",
      "  if sys.path[0] == \"\":\n"
     ]
    },
    {
     "name": "stdout",
     "output_type": "stream",
     "text": [
      "1/1 [==============================] - 1s 923ms/step\n"
     ]
    },
    {
     "name": "stderr",
     "output_type": "stream",
     "text": [
      "[I 2025-01-13 18:08:59,502] Trial 23 finished with value: 0.8181818181818182 and parameters: {'embedding_dim': 64, 'depth': 5, 'heads': 3, 'attn_dropout': 0.3157468734973817, 'ff_dropout': 0.26006511467923243, 'mlp_hidden_factor1': 4, 'mlp_hidden_factor2': 4, 'use_column_embedding': False}. Best is trial 22 with value: 0.9545454545454546.\n",
      "C:\\Users\\raulg\\anaconda3\\envs\\TFM37\\lib\\site-packages\\ipykernel_launcher.py:7: FutureWarning: suggest_int() got {'step'} as positional arguments but they were expected to be given as keyword arguments.\n",
      "  import sys\n",
      "C:\\Users\\raulg\\anaconda3\\envs\\TFM37\\lib\\site-packages\\ipykernel_launcher.py:8: FutureWarning: suggest_int() got {'step'} as positional arguments but they were expected to be given as keyword arguments.\n",
      "  \n",
      "C:\\Users\\raulg\\anaconda3\\envs\\TFM37\\lib\\site-packages\\ipykernel_launcher.py:11: FutureWarning: suggest_int() got {'step'} as positional arguments but they were expected to be given as keyword arguments.\n",
      "  # This is added back by InteractiveShellApp.init_path()\n",
      "C:\\Users\\raulg\\anaconda3\\envs\\TFM37\\lib\\site-packages\\ipykernel_launcher.py:12: FutureWarning: suggest_int() got {'step'} as positional arguments but they were expected to be given as keyword arguments.\n",
      "  if sys.path[0] == \"\":\n"
     ]
    },
    {
     "name": "stdout",
     "output_type": "stream",
     "text": [
      "1/1 [==============================] - 1s 759ms/step\n"
     ]
    },
    {
     "name": "stderr",
     "output_type": "stream",
     "text": [
      "[I 2025-01-13 18:09:40,114] Trial 24 finished with value: 0.8257575757575757 and parameters: {'embedding_dim': 64, 'depth': 4, 'heads': 6, 'attn_dropout': 0.2789288779294799, 'ff_dropout': 0.18491613550001668, 'mlp_hidden_factor1': 4, 'mlp_hidden_factor2': 3, 'use_column_embedding': False}. Best is trial 22 with value: 0.9545454545454546.\n",
      "C:\\Users\\raulg\\anaconda3\\envs\\TFM37\\lib\\site-packages\\ipykernel_launcher.py:7: FutureWarning: suggest_int() got {'step'} as positional arguments but they were expected to be given as keyword arguments.\n",
      "  import sys\n",
      "C:\\Users\\raulg\\anaconda3\\envs\\TFM37\\lib\\site-packages\\ipykernel_launcher.py:8: FutureWarning: suggest_int() got {'step'} as positional arguments but they were expected to be given as keyword arguments.\n",
      "  \n",
      "C:\\Users\\raulg\\anaconda3\\envs\\TFM37\\lib\\site-packages\\ipykernel_launcher.py:11: FutureWarning: suggest_int() got {'step'} as positional arguments but they were expected to be given as keyword arguments.\n",
      "  # This is added back by InteractiveShellApp.init_path()\n",
      "C:\\Users\\raulg\\anaconda3\\envs\\TFM37\\lib\\site-packages\\ipykernel_launcher.py:12: FutureWarning: suggest_int() got {'step'} as positional arguments but they were expected to be given as keyword arguments.\n",
      "  if sys.path[0] == \"\":\n"
     ]
    },
    {
     "name": "stdout",
     "output_type": "stream",
     "text": [
      "1/1 [==============================] - 1s 880ms/step\n"
     ]
    },
    {
     "name": "stderr",
     "output_type": "stream",
     "text": [
      "[I 2025-01-13 18:10:36,642] Trial 25 finished with value: 0.7878787878787878 and parameters: {'embedding_dim': 64, 'depth': 5, 'heads': 7, 'attn_dropout': 0.23800127885420053, 'ff_dropout': 0.4050837184217293, 'mlp_hidden_factor1': 4, 'mlp_hidden_factor2': 2, 'use_column_embedding': False}. Best is trial 22 with value: 0.9545454545454546.\n",
      "C:\\Users\\raulg\\anaconda3\\envs\\TFM37\\lib\\site-packages\\ipykernel_launcher.py:7: FutureWarning: suggest_int() got {'step'} as positional arguments but they were expected to be given as keyword arguments.\n",
      "  import sys\n",
      "C:\\Users\\raulg\\anaconda3\\envs\\TFM37\\lib\\site-packages\\ipykernel_launcher.py:8: FutureWarning: suggest_int() got {'step'} as positional arguments but they were expected to be given as keyword arguments.\n",
      "  \n",
      "C:\\Users\\raulg\\anaconda3\\envs\\TFM37\\lib\\site-packages\\ipykernel_launcher.py:11: FutureWarning: suggest_int() got {'step'} as positional arguments but they were expected to be given as keyword arguments.\n",
      "  # This is added back by InteractiveShellApp.init_path()\n",
      "C:\\Users\\raulg\\anaconda3\\envs\\TFM37\\lib\\site-packages\\ipykernel_launcher.py:12: FutureWarning: suggest_int() got {'step'} as positional arguments but they were expected to be given as keyword arguments.\n",
      "  if sys.path[0] == \"\":\n"
     ]
    },
    {
     "name": "stdout",
     "output_type": "stream",
     "text": [
      "1/1 [==============================] - 1s 857ms/step\n"
     ]
    },
    {
     "name": "stderr",
     "output_type": "stream",
     "text": [
      "[I 2025-01-13 18:11:13,597] Trial 26 finished with value: 0.7121212121212122 and parameters: {'embedding_dim': 64, 'depth': 4, 'heads': 4, 'attn_dropout': 0.46362460289978663, 'ff_dropout': 0.3229026107267435, 'mlp_hidden_factor1': 3, 'mlp_hidden_factor2': 4, 'use_column_embedding': False}. Best is trial 22 with value: 0.9545454545454546.\n",
      "C:\\Users\\raulg\\anaconda3\\envs\\TFM37\\lib\\site-packages\\ipykernel_launcher.py:7: FutureWarning: suggest_int() got {'step'} as positional arguments but they were expected to be given as keyword arguments.\n",
      "  import sys\n",
      "C:\\Users\\raulg\\anaconda3\\envs\\TFM37\\lib\\site-packages\\ipykernel_launcher.py:8: FutureWarning: suggest_int() got {'step'} as positional arguments but they were expected to be given as keyword arguments.\n",
      "  \n",
      "C:\\Users\\raulg\\anaconda3\\envs\\TFM37\\lib\\site-packages\\ipykernel_launcher.py:11: FutureWarning: suggest_int() got {'step'} as positional arguments but they were expected to be given as keyword arguments.\n",
      "  # This is added back by InteractiveShellApp.init_path()\n",
      "C:\\Users\\raulg\\anaconda3\\envs\\TFM37\\lib\\site-packages\\ipykernel_launcher.py:12: FutureWarning: suggest_int() got {'step'} as positional arguments but they were expected to be given as keyword arguments.\n",
      "  if sys.path[0] == \"\":\n"
     ]
    },
    {
     "name": "stdout",
     "output_type": "stream",
     "text": [
      "1/1 [==============================] - 1s 981ms/step\n"
     ]
    },
    {
     "name": "stderr",
     "output_type": "stream",
     "text": [
      "[I 2025-01-13 18:12:08,595] Trial 27 finished with value: 0.8636363636363636 and parameters: {'embedding_dim': 64, 'depth': 6, 'heads': 5, 'attn_dropout': 0.33660935692914534, 'ff_dropout': 0.10092596529409831, 'mlp_hidden_factor1': 4, 'mlp_hidden_factor2': 1, 'use_column_embedding': False}. Best is trial 22 with value: 0.9545454545454546.\n",
      "C:\\Users\\raulg\\anaconda3\\envs\\TFM37\\lib\\site-packages\\ipykernel_launcher.py:7: FutureWarning: suggest_int() got {'step'} as positional arguments but they were expected to be given as keyword arguments.\n",
      "  import sys\n",
      "C:\\Users\\raulg\\anaconda3\\envs\\TFM37\\lib\\site-packages\\ipykernel_launcher.py:8: FutureWarning: suggest_int() got {'step'} as positional arguments but they were expected to be given as keyword arguments.\n",
      "  \n",
      "C:\\Users\\raulg\\anaconda3\\envs\\TFM37\\lib\\site-packages\\ipykernel_launcher.py:11: FutureWarning: suggest_int() got {'step'} as positional arguments but they were expected to be given as keyword arguments.\n",
      "  # This is added back by InteractiveShellApp.init_path()\n",
      "C:\\Users\\raulg\\anaconda3\\envs\\TFM37\\lib\\site-packages\\ipykernel_launcher.py:12: FutureWarning: suggest_int() got {'step'} as positional arguments but they were expected to be given as keyword arguments.\n",
      "  if sys.path[0] == \"\":\n"
     ]
    },
    {
     "name": "stdout",
     "output_type": "stream",
     "text": [
      "1/1 [==============================] - 1s 1s/step\n"
     ]
    },
    {
     "name": "stderr",
     "output_type": "stream",
     "text": [
      "[I 2025-01-13 18:13:13,275] Trial 28 finished with value: 0.7878787878787878 and parameters: {'embedding_dim': 64, 'depth': 6, 'heads': 7, 'attn_dropout': 0.34181725472351426, 'ff_dropout': 0.09477396226492131, 'mlp_hidden_factor1': 4, 'mlp_hidden_factor2': 1, 'use_column_embedding': True}. Best is trial 22 with value: 0.9545454545454546.\n",
      "C:\\Users\\raulg\\anaconda3\\envs\\TFM37\\lib\\site-packages\\ipykernel_launcher.py:7: FutureWarning: suggest_int() got {'step'} as positional arguments but they were expected to be given as keyword arguments.\n",
      "  import sys\n",
      "C:\\Users\\raulg\\anaconda3\\envs\\TFM37\\lib\\site-packages\\ipykernel_launcher.py:8: FutureWarning: suggest_int() got {'step'} as positional arguments but they were expected to be given as keyword arguments.\n",
      "  \n",
      "C:\\Users\\raulg\\anaconda3\\envs\\TFM37\\lib\\site-packages\\ipykernel_launcher.py:11: FutureWarning: suggest_int() got {'step'} as positional arguments but they were expected to be given as keyword arguments.\n",
      "  # This is added back by InteractiveShellApp.init_path()\n",
      "C:\\Users\\raulg\\anaconda3\\envs\\TFM37\\lib\\site-packages\\ipykernel_launcher.py:12: FutureWarning: suggest_int() got {'step'} as positional arguments but they were expected to be given as keyword arguments.\n",
      "  if sys.path[0] == \"\":\n"
     ]
    },
    {
     "name": "stdout",
     "output_type": "stream",
     "text": [
      "1/1 [==============================] - 1s 913ms/step\n"
     ]
    },
    {
     "name": "stderr",
     "output_type": "stream",
     "text": [
      "[I 2025-01-13 18:13:49,461] Trial 29 finished with value: 0.8712121212121212 and parameters: {'embedding_dim': 32, 'depth': 6, 'heads': 5, 'attn_dropout': 0.26147568455663894, 'ff_dropout': 0.0887003803769001, 'mlp_hidden_factor1': 4, 'mlp_hidden_factor2': 1, 'use_column_embedding': False}. Best is trial 22 with value: 0.9545454545454546.\n",
      "C:\\Users\\raulg\\anaconda3\\envs\\TFM37\\lib\\site-packages\\ipykernel_launcher.py:7: FutureWarning: suggest_int() got {'step'} as positional arguments but they were expected to be given as keyword arguments.\n",
      "  import sys\n",
      "C:\\Users\\raulg\\anaconda3\\envs\\TFM37\\lib\\site-packages\\ipykernel_launcher.py:8: FutureWarning: suggest_int() got {'step'} as positional arguments but they were expected to be given as keyword arguments.\n",
      "  \n",
      "C:\\Users\\raulg\\anaconda3\\envs\\TFM37\\lib\\site-packages\\ipykernel_launcher.py:11: FutureWarning: suggest_int() got {'step'} as positional arguments but they were expected to be given as keyword arguments.\n",
      "  # This is added back by InteractiveShellApp.init_path()\n",
      "C:\\Users\\raulg\\anaconda3\\envs\\TFM37\\lib\\site-packages\\ipykernel_launcher.py:12: FutureWarning: suggest_int() got {'step'} as positional arguments but they were expected to be given as keyword arguments.\n",
      "  if sys.path[0] == \"\":\n"
     ]
    },
    {
     "name": "stdout",
     "output_type": "stream",
     "text": [
      "1/1 [==============================] - 1s 684ms/step\n"
     ]
    },
    {
     "name": "stderr",
     "output_type": "stream",
     "text": [
      "[I 2025-01-13 18:14:08,052] Trial 30 finished with value: 0.7954545454545454 and parameters: {'embedding_dim': 32, 'depth': 4, 'heads': 2, 'attn_dropout': 0.2053810773861985, 'ff_dropout': 0.1619901236215878, 'mlp_hidden_factor1': 4, 'mlp_hidden_factor2': 1, 'use_column_embedding': False}. Best is trial 22 with value: 0.9545454545454546.\n",
      "C:\\Users\\raulg\\anaconda3\\envs\\TFM37\\lib\\site-packages\\ipykernel_launcher.py:7: FutureWarning: suggest_int() got {'step'} as positional arguments but they were expected to be given as keyword arguments.\n",
      "  import sys\n",
      "C:\\Users\\raulg\\anaconda3\\envs\\TFM37\\lib\\site-packages\\ipykernel_launcher.py:8: FutureWarning: suggest_int() got {'step'} as positional arguments but they were expected to be given as keyword arguments.\n",
      "  \n",
      "C:\\Users\\raulg\\anaconda3\\envs\\TFM37\\lib\\site-packages\\ipykernel_launcher.py:11: FutureWarning: suggest_int() got {'step'} as positional arguments but they were expected to be given as keyword arguments.\n",
      "  # This is added back by InteractiveShellApp.init_path()\n",
      "C:\\Users\\raulg\\anaconda3\\envs\\TFM37\\lib\\site-packages\\ipykernel_launcher.py:12: FutureWarning: suggest_int() got {'step'} as positional arguments but they were expected to be given as keyword arguments.\n",
      "  if sys.path[0] == \"\":\n"
     ]
    },
    {
     "name": "stdout",
     "output_type": "stream",
     "text": [
      "1/1 [==============================] - 1s 1s/step\n"
     ]
    },
    {
     "name": "stderr",
     "output_type": "stream",
     "text": [
      "[I 2025-01-13 18:14:47,241] Trial 31 finished with value: 0.8409090909090909 and parameters: {'embedding_dim': 32, 'depth': 6, 'heads': 5, 'attn_dropout': 0.26843372770704976, 'ff_dropout': 0.09498820915008079, 'mlp_hidden_factor1': 4, 'mlp_hidden_factor2': 1, 'use_column_embedding': False}. Best is trial 22 with value: 0.9545454545454546.\n",
      "C:\\Users\\raulg\\anaconda3\\envs\\TFM37\\lib\\site-packages\\ipykernel_launcher.py:7: FutureWarning: suggest_int() got {'step'} as positional arguments but they were expected to be given as keyword arguments.\n",
      "  import sys\n",
      "C:\\Users\\raulg\\anaconda3\\envs\\TFM37\\lib\\site-packages\\ipykernel_launcher.py:8: FutureWarning: suggest_int() got {'step'} as positional arguments but they were expected to be given as keyword arguments.\n",
      "  \n",
      "C:\\Users\\raulg\\anaconda3\\envs\\TFM37\\lib\\site-packages\\ipykernel_launcher.py:11: FutureWarning: suggest_int() got {'step'} as positional arguments but they were expected to be given as keyword arguments.\n",
      "  # This is added back by InteractiveShellApp.init_path()\n",
      "C:\\Users\\raulg\\anaconda3\\envs\\TFM37\\lib\\site-packages\\ipykernel_launcher.py:12: FutureWarning: suggest_int() got {'step'} as positional arguments but they were expected to be given as keyword arguments.\n",
      "  if sys.path[0] == \"\":\n"
     ]
    },
    {
     "name": "stdout",
     "output_type": "stream",
     "text": [
      "1/1 [==============================] - 1s 917ms/step\n"
     ]
    },
    {
     "name": "stderr",
     "output_type": "stream",
     "text": [
      "[I 2025-01-13 18:15:23,089] Trial 32 finished with value: 0.8106060606060606 and parameters: {'embedding_dim': 32, 'depth': 6, 'heads': 5, 'attn_dropout': 0.30064040971628697, 'ff_dropout': 0.11191548787630162, 'mlp_hidden_factor1': 4, 'mlp_hidden_factor2': 1, 'use_column_embedding': False}. Best is trial 22 with value: 0.9545454545454546.\n",
      "C:\\Users\\raulg\\anaconda3\\envs\\TFM37\\lib\\site-packages\\ipykernel_launcher.py:7: FutureWarning: suggest_int() got {'step'} as positional arguments but they were expected to be given as keyword arguments.\n",
      "  import sys\n",
      "C:\\Users\\raulg\\anaconda3\\envs\\TFM37\\lib\\site-packages\\ipykernel_launcher.py:8: FutureWarning: suggest_int() got {'step'} as positional arguments but they were expected to be given as keyword arguments.\n",
      "  \n",
      "C:\\Users\\raulg\\anaconda3\\envs\\TFM37\\lib\\site-packages\\ipykernel_launcher.py:11: FutureWarning: suggest_int() got {'step'} as positional arguments but they were expected to be given as keyword arguments.\n",
      "  # This is added back by InteractiveShellApp.init_path()\n",
      "C:\\Users\\raulg\\anaconda3\\envs\\TFM37\\lib\\site-packages\\ipykernel_launcher.py:12: FutureWarning: suggest_int() got {'step'} as positional arguments but they were expected to be given as keyword arguments.\n",
      "  if sys.path[0] == \"\":\n"
     ]
    },
    {
     "name": "stdout",
     "output_type": "stream",
     "text": [
      "1/1 [==============================] - 1s 915ms/step\n"
     ]
    },
    {
     "name": "stderr",
     "output_type": "stream",
     "text": [
      "[I 2025-01-13 18:15:54,387] Trial 33 finished with value: 0.7121212121212122 and parameters: {'embedding_dim': 32, 'depth': 6, 'heads': 5, 'attn_dropout': 0.24591707045259242, 'ff_dropout': 0.07428269112304875, 'mlp_hidden_factor1': 4, 'mlp_hidden_factor2': 1, 'use_column_embedding': False}. Best is trial 22 with value: 0.9545454545454546.\n",
      "C:\\Users\\raulg\\anaconda3\\envs\\TFM37\\lib\\site-packages\\ipykernel_launcher.py:7: FutureWarning: suggest_int() got {'step'} as positional arguments but they were expected to be given as keyword arguments.\n",
      "  import sys\n",
      "C:\\Users\\raulg\\anaconda3\\envs\\TFM37\\lib\\site-packages\\ipykernel_launcher.py:8: FutureWarning: suggest_int() got {'step'} as positional arguments but they were expected to be given as keyword arguments.\n",
      "  \n",
      "C:\\Users\\raulg\\anaconda3\\envs\\TFM37\\lib\\site-packages\\ipykernel_launcher.py:11: FutureWarning: suggest_int() got {'step'} as positional arguments but they were expected to be given as keyword arguments.\n",
      "  # This is added back by InteractiveShellApp.init_path()\n",
      "C:\\Users\\raulg\\anaconda3\\envs\\TFM37\\lib\\site-packages\\ipykernel_launcher.py:12: FutureWarning: suggest_int() got {'step'} as positional arguments but they were expected to be given as keyword arguments.\n",
      "  if sys.path[0] == \"\":\n"
     ]
    },
    {
     "name": "stdout",
     "output_type": "stream",
     "text": [
      "1/1 [==============================] - 1s 765ms/step\n"
     ]
    },
    {
     "name": "stderr",
     "output_type": "stream",
     "text": [
      "[I 2025-01-13 18:16:08,529] Trial 34 finished with value: 0.6893939393939393 and parameters: {'embedding_dim': 8, 'depth': 5, 'heads': 6, 'attn_dropout': 0.34851534511797344, 'ff_dropout': 0.11686015040398001, 'mlp_hidden_factor1': 3, 'mlp_hidden_factor2': 1, 'use_column_embedding': False}. Best is trial 22 with value: 0.9545454545454546.\n",
      "C:\\Users\\raulg\\anaconda3\\envs\\TFM37\\lib\\site-packages\\ipykernel_launcher.py:7: FutureWarning: suggest_int() got {'step'} as positional arguments but they were expected to be given as keyword arguments.\n",
      "  import sys\n",
      "C:\\Users\\raulg\\anaconda3\\envs\\TFM37\\lib\\site-packages\\ipykernel_launcher.py:8: FutureWarning: suggest_int() got {'step'} as positional arguments but they were expected to be given as keyword arguments.\n",
      "  \n",
      "C:\\Users\\raulg\\anaconda3\\envs\\TFM37\\lib\\site-packages\\ipykernel_launcher.py:11: FutureWarning: suggest_int() got {'step'} as positional arguments but they were expected to be given as keyword arguments.\n",
      "  # This is added back by InteractiveShellApp.init_path()\n",
      "C:\\Users\\raulg\\anaconda3\\envs\\TFM37\\lib\\site-packages\\ipykernel_launcher.py:12: FutureWarning: suggest_int() got {'step'} as positional arguments but they were expected to be given as keyword arguments.\n",
      "  if sys.path[0] == \"\":\n"
     ]
    },
    {
     "name": "stdout",
     "output_type": "stream",
     "text": [
      "1/1 [==============================] - 1s 949ms/step\n"
     ]
    },
    {
     "name": "stderr",
     "output_type": "stream",
     "text": [
      "[I 2025-01-13 18:17:03,450] Trial 35 finished with value: 0.7803030303030303 and parameters: {'embedding_dim': 64, 'depth': 6, 'heads': 5, 'attn_dropout': 0.16937112377797658, 'ff_dropout': 0.16099058653012882, 'mlp_hidden_factor1': 4, 'mlp_hidden_factor2': 2, 'use_column_embedding': False}. Best is trial 22 with value: 0.9545454545454546.\n",
      "C:\\Users\\raulg\\anaconda3\\envs\\TFM37\\lib\\site-packages\\ipykernel_launcher.py:7: FutureWarning: suggest_int() got {'step'} as positional arguments but they were expected to be given as keyword arguments.\n",
      "  import sys\n",
      "C:\\Users\\raulg\\anaconda3\\envs\\TFM37\\lib\\site-packages\\ipykernel_launcher.py:8: FutureWarning: suggest_int() got {'step'} as positional arguments but they were expected to be given as keyword arguments.\n",
      "  \n",
      "C:\\Users\\raulg\\anaconda3\\envs\\TFM37\\lib\\site-packages\\ipykernel_launcher.py:11: FutureWarning: suggest_int() got {'step'} as positional arguments but they were expected to be given as keyword arguments.\n",
      "  # This is added back by InteractiveShellApp.init_path()\n",
      "C:\\Users\\raulg\\anaconda3\\envs\\TFM37\\lib\\site-packages\\ipykernel_launcher.py:12: FutureWarning: suggest_int() got {'step'} as positional arguments but they were expected to be given as keyword arguments.\n",
      "  if sys.path[0] == \"\":\n"
     ]
    },
    {
     "name": "stdout",
     "output_type": "stream",
     "text": [
      "1/1 [==============================] - 1s 781ms/step\n"
     ]
    },
    {
     "name": "stderr",
     "output_type": "stream",
     "text": [
      "[I 2025-01-13 18:17:19,478] Trial 36 finished with value: 0.75 and parameters: {'embedding_dim': 8, 'depth': 5, 'heads': 5, 'attn_dropout': 0.27059014171875245, 'ff_dropout': 0.07126856046882546, 'mlp_hidden_factor1': 2, 'mlp_hidden_factor2': 2, 'use_column_embedding': False}. Best is trial 22 with value: 0.9545454545454546.\n",
      "C:\\Users\\raulg\\anaconda3\\envs\\TFM37\\lib\\site-packages\\ipykernel_launcher.py:7: FutureWarning: suggest_int() got {'step'} as positional arguments but they were expected to be given as keyword arguments.\n",
      "  import sys\n",
      "C:\\Users\\raulg\\anaconda3\\envs\\TFM37\\lib\\site-packages\\ipykernel_launcher.py:8: FutureWarning: suggest_int() got {'step'} as positional arguments but they were expected to be given as keyword arguments.\n",
      "  \n",
      "C:\\Users\\raulg\\anaconda3\\envs\\TFM37\\lib\\site-packages\\ipykernel_launcher.py:11: FutureWarning: suggest_int() got {'step'} as positional arguments but they were expected to be given as keyword arguments.\n",
      "  # This is added back by InteractiveShellApp.init_path()\n",
      "C:\\Users\\raulg\\anaconda3\\envs\\TFM37\\lib\\site-packages\\ipykernel_launcher.py:12: FutureWarning: suggest_int() got {'step'} as positional arguments but they were expected to be given as keyword arguments.\n",
      "  if sys.path[0] == \"\":\n"
     ]
    },
    {
     "name": "stdout",
     "output_type": "stream",
     "text": [
      "1/1 [==============================] - 1s 708ms/step\n"
     ]
    },
    {
     "name": "stderr",
     "output_type": "stream",
     "text": [
      "[I 2025-01-13 18:17:49,762] Trial 37 finished with value: 0.8636363636363636 and parameters: {'embedding_dim': 32, 'depth': 4, 'heads': 6, 'attn_dropout': 0.30147005053522374, 'ff_dropout': 0.14103511396394577, 'mlp_hidden_factor1': 3, 'mlp_hidden_factor2': 1, 'use_column_embedding': False}. Best is trial 22 with value: 0.9545454545454546.\n",
      "C:\\Users\\raulg\\anaconda3\\envs\\TFM37\\lib\\site-packages\\ipykernel_launcher.py:7: FutureWarning: suggest_int() got {'step'} as positional arguments but they were expected to be given as keyword arguments.\n",
      "  import sys\n",
      "C:\\Users\\raulg\\anaconda3\\envs\\TFM37\\lib\\site-packages\\ipykernel_launcher.py:8: FutureWarning: suggest_int() got {'step'} as positional arguments but they were expected to be given as keyword arguments.\n",
      "  \n",
      "C:\\Users\\raulg\\anaconda3\\envs\\TFM37\\lib\\site-packages\\ipykernel_launcher.py:11: FutureWarning: suggest_int() got {'step'} as positional arguments but they were expected to be given as keyword arguments.\n",
      "  # This is added back by InteractiveShellApp.init_path()\n",
      "C:\\Users\\raulg\\anaconda3\\envs\\TFM37\\lib\\site-packages\\ipykernel_launcher.py:12: FutureWarning: suggest_int() got {'step'} as positional arguments but they were expected to be given as keyword arguments.\n",
      "  if sys.path[0] == \"\":\n"
     ]
    },
    {
     "name": "stdout",
     "output_type": "stream",
     "text": [
      "1/1 [==============================] - 1s 1s/step\n"
     ]
    },
    {
     "name": "stderr",
     "output_type": "stream",
     "text": [
      "[I 2025-01-13 18:18:44,977] Trial 38 finished with value: 0.803030303030303 and parameters: {'embedding_dim': 64, 'depth': 6, 'heads': 3, 'attn_dropout': 0.1266861040727602, 'ff_dropout': 0.22669300025004674, 'mlp_hidden_factor1': 4, 'mlp_hidden_factor2': 1, 'use_column_embedding': False}. Best is trial 22 with value: 0.9545454545454546.\n",
      "C:\\Users\\raulg\\anaconda3\\envs\\TFM37\\lib\\site-packages\\ipykernel_launcher.py:7: FutureWarning: suggest_int() got {'step'} as positional arguments but they were expected to be given as keyword arguments.\n",
      "  import sys\n",
      "C:\\Users\\raulg\\anaconda3\\envs\\TFM37\\lib\\site-packages\\ipykernel_launcher.py:8: FutureWarning: suggest_int() got {'step'} as positional arguments but they were expected to be given as keyword arguments.\n",
      "  \n",
      "C:\\Users\\raulg\\anaconda3\\envs\\TFM37\\lib\\site-packages\\ipykernel_launcher.py:11: FutureWarning: suggest_int() got {'step'} as positional arguments but they were expected to be given as keyword arguments.\n",
      "  # This is added back by InteractiveShellApp.init_path()\n",
      "C:\\Users\\raulg\\anaconda3\\envs\\TFM37\\lib\\site-packages\\ipykernel_launcher.py:12: FutureWarning: suggest_int() got {'step'} as positional arguments but they were expected to be given as keyword arguments.\n",
      "  if sys.path[0] == \"\":\n"
     ]
    },
    {
     "name": "stdout",
     "output_type": "stream",
     "text": [
      "1/1 [==============================] - 1s 902ms/step\n"
     ]
    },
    {
     "name": "stderr",
     "output_type": "stream",
     "text": [
      "[I 2025-01-13 18:19:33,563] Trial 39 finished with value: 0.8333333333333334 and parameters: {'embedding_dim': 64, 'depth': 5, 'heads': 4, 'attn_dropout': 0.38453080142457424, 'ff_dropout': 0.10656432744864115, 'mlp_hidden_factor1': 4, 'mlp_hidden_factor2': 2, 'use_column_embedding': False}. Best is trial 22 with value: 0.9545454545454546.\n",
      "C:\\Users\\raulg\\anaconda3\\envs\\TFM37\\lib\\site-packages\\ipykernel_launcher.py:7: FutureWarning: suggest_int() got {'step'} as positional arguments but they were expected to be given as keyword arguments.\n",
      "  import sys\n",
      "C:\\Users\\raulg\\anaconda3\\envs\\TFM37\\lib\\site-packages\\ipykernel_launcher.py:8: FutureWarning: suggest_int() got {'step'} as positional arguments but they were expected to be given as keyword arguments.\n",
      "  \n",
      "C:\\Users\\raulg\\anaconda3\\envs\\TFM37\\lib\\site-packages\\ipykernel_launcher.py:11: FutureWarning: suggest_int() got {'step'} as positional arguments but they were expected to be given as keyword arguments.\n",
      "  # This is added back by InteractiveShellApp.init_path()\n",
      "C:\\Users\\raulg\\anaconda3\\envs\\TFM37\\lib\\site-packages\\ipykernel_launcher.py:12: FutureWarning: suggest_int() got {'step'} as positional arguments but they were expected to be given as keyword arguments.\n",
      "  if sys.path[0] == \"\":\n"
     ]
    },
    {
     "name": "stdout",
     "output_type": "stream",
     "text": [
      "1/1 [==============================] - 1s 1s/step\n"
     ]
    },
    {
     "name": "stderr",
     "output_type": "stream",
     "text": [
      "[I 2025-01-13 18:19:51,844] Trial 40 finished with value: 0.7651515151515152 and parameters: {'embedding_dim': 8, 'depth': 6, 'heads': 6, 'attn_dropout': 0.3413266299396076, 'ff_dropout': 0.06896005024109136, 'mlp_hidden_factor1': 2, 'mlp_hidden_factor2': 1, 'use_column_embedding': True}. Best is trial 22 with value: 0.9545454545454546.\n",
      "C:\\Users\\raulg\\anaconda3\\envs\\TFM37\\lib\\site-packages\\ipykernel_launcher.py:7: FutureWarning: suggest_int() got {'step'} as positional arguments but they were expected to be given as keyword arguments.\n",
      "  import sys\n",
      "C:\\Users\\raulg\\anaconda3\\envs\\TFM37\\lib\\site-packages\\ipykernel_launcher.py:8: FutureWarning: suggest_int() got {'step'} as positional arguments but they were expected to be given as keyword arguments.\n",
      "  \n",
      "C:\\Users\\raulg\\anaconda3\\envs\\TFM37\\lib\\site-packages\\ipykernel_launcher.py:11: FutureWarning: suggest_int() got {'step'} as positional arguments but they were expected to be given as keyword arguments.\n",
      "  # This is added back by InteractiveShellApp.init_path()\n",
      "C:\\Users\\raulg\\anaconda3\\envs\\TFM37\\lib\\site-packages\\ipykernel_launcher.py:12: FutureWarning: suggest_int() got {'step'} as positional arguments but they were expected to be given as keyword arguments.\n",
      "  if sys.path[0] == \"\":\n"
     ]
    },
    {
     "name": "stdout",
     "output_type": "stream",
     "text": [
      "1/1 [==============================] - 1s 743ms/step\n"
     ]
    },
    {
     "name": "stderr",
     "output_type": "stream",
     "text": [
      "[I 2025-01-13 18:20:20,433] Trial 41 finished with value: 0.803030303030303 and parameters: {'embedding_dim': 32, 'depth': 4, 'heads': 6, 'attn_dropout': 0.29891362757504997, 'ff_dropout': 0.14016786679295737, 'mlp_hidden_factor1': 3, 'mlp_hidden_factor2': 1, 'use_column_embedding': False}. Best is trial 22 with value: 0.9545454545454546.\n",
      "C:\\Users\\raulg\\anaconda3\\envs\\TFM37\\lib\\site-packages\\ipykernel_launcher.py:7: FutureWarning: suggest_int() got {'step'} as positional arguments but they were expected to be given as keyword arguments.\n",
      "  import sys\n",
      "C:\\Users\\raulg\\anaconda3\\envs\\TFM37\\lib\\site-packages\\ipykernel_launcher.py:8: FutureWarning: suggest_int() got {'step'} as positional arguments but they were expected to be given as keyword arguments.\n",
      "  \n",
      "C:\\Users\\raulg\\anaconda3\\envs\\TFM37\\lib\\site-packages\\ipykernel_launcher.py:11: FutureWarning: suggest_int() got {'step'} as positional arguments but they were expected to be given as keyword arguments.\n",
      "  # This is added back by InteractiveShellApp.init_path()\n",
      "C:\\Users\\raulg\\anaconda3\\envs\\TFM37\\lib\\site-packages\\ipykernel_launcher.py:12: FutureWarning: suggest_int() got {'step'} as positional arguments but they were expected to be given as keyword arguments.\n",
      "  if sys.path[0] == \"\":\n"
     ]
    },
    {
     "name": "stdout",
     "output_type": "stream",
     "text": [
      "1/1 [==============================] - 1s 784ms/step\n"
     ]
    },
    {
     "name": "stderr",
     "output_type": "stream",
     "text": [
      "[I 2025-01-13 18:20:54,162] Trial 42 finished with value: 0.7651515151515151 and parameters: {'embedding_dim': 32, 'depth': 4, 'heads': 7, 'attn_dropout': 0.2879555784481712, 'ff_dropout': 0.13653152254965917, 'mlp_hidden_factor1': 3, 'mlp_hidden_factor2': 1, 'use_column_embedding': False}. Best is trial 22 with value: 0.9545454545454546.\n",
      "C:\\Users\\raulg\\anaconda3\\envs\\TFM37\\lib\\site-packages\\ipykernel_launcher.py:7: FutureWarning: suggest_int() got {'step'} as positional arguments but they were expected to be given as keyword arguments.\n",
      "  import sys\n",
      "C:\\Users\\raulg\\anaconda3\\envs\\TFM37\\lib\\site-packages\\ipykernel_launcher.py:8: FutureWarning: suggest_int() got {'step'} as positional arguments but they were expected to be given as keyword arguments.\n",
      "  \n",
      "C:\\Users\\raulg\\anaconda3\\envs\\TFM37\\lib\\site-packages\\ipykernel_launcher.py:11: FutureWarning: suggest_int() got {'step'} as positional arguments but they were expected to be given as keyword arguments.\n",
      "  # This is added back by InteractiveShellApp.init_path()\n",
      "C:\\Users\\raulg\\anaconda3\\envs\\TFM37\\lib\\site-packages\\ipykernel_launcher.py:12: FutureWarning: suggest_int() got {'step'} as positional arguments but they were expected to be given as keyword arguments.\n",
      "  if sys.path[0] == \"\":\n"
     ]
    },
    {
     "name": "stdout",
     "output_type": "stream",
     "text": [
      "1/1 [==============================] - 1s 709ms/step\n"
     ]
    },
    {
     "name": "stderr",
     "output_type": "stream",
     "text": [
      "[I 2025-01-13 18:21:28,102] Trial 43 finished with value: 0.8636363636363636 and parameters: {'embedding_dim': 32, 'depth': 4, 'heads': 6, 'attn_dropout': 0.2665933668193223, 'ff_dropout': 0.20872651641124962, 'mlp_hidden_factor1': 4, 'mlp_hidden_factor2': 1, 'use_column_embedding': False}. Best is trial 22 with value: 0.9545454545454546.\n",
      "C:\\Users\\raulg\\anaconda3\\envs\\TFM37\\lib\\site-packages\\ipykernel_launcher.py:7: FutureWarning: suggest_int() got {'step'} as positional arguments but they were expected to be given as keyword arguments.\n",
      "  import sys\n",
      "C:\\Users\\raulg\\anaconda3\\envs\\TFM37\\lib\\site-packages\\ipykernel_launcher.py:8: FutureWarning: suggest_int() got {'step'} as positional arguments but they were expected to be given as keyword arguments.\n",
      "  \n",
      "C:\\Users\\raulg\\anaconda3\\envs\\TFM37\\lib\\site-packages\\ipykernel_launcher.py:11: FutureWarning: suggest_int() got {'step'} as positional arguments but they were expected to be given as keyword arguments.\n",
      "  # This is added back by InteractiveShellApp.init_path()\n",
      "C:\\Users\\raulg\\anaconda3\\envs\\TFM37\\lib\\site-packages\\ipykernel_launcher.py:12: FutureWarning: suggest_int() got {'step'} as positional arguments but they were expected to be given as keyword arguments.\n",
      "  if sys.path[0] == \"\":\n"
     ]
    },
    {
     "name": "stdout",
     "output_type": "stream",
     "text": [
      "1/1 [==============================] - 1s 585ms/step\n"
     ]
    },
    {
     "name": "stderr",
     "output_type": "stream",
     "text": [
      "[I 2025-01-13 18:21:47,337] Trial 44 finished with value: 0.803030303030303 and parameters: {'embedding_dim': 32, 'depth': 3, 'heads': 5, 'attn_dropout': 0.3100078270737057, 'ff_dropout': 0.17790346794966086, 'mlp_hidden_factor1': 2, 'mlp_hidden_factor2': 1, 'use_column_embedding': False}. Best is trial 22 with value: 0.9545454545454546.\n",
      "C:\\Users\\raulg\\anaconda3\\envs\\TFM37\\lib\\site-packages\\ipykernel_launcher.py:7: FutureWarning: suggest_int() got {'step'} as positional arguments but they were expected to be given as keyword arguments.\n",
      "  import sys\n",
      "C:\\Users\\raulg\\anaconda3\\envs\\TFM37\\lib\\site-packages\\ipykernel_launcher.py:8: FutureWarning: suggest_int() got {'step'} as positional arguments but they were expected to be given as keyword arguments.\n",
      "  \n",
      "C:\\Users\\raulg\\anaconda3\\envs\\TFM37\\lib\\site-packages\\ipykernel_launcher.py:11: FutureWarning: suggest_int() got {'step'} as positional arguments but they were expected to be given as keyword arguments.\n",
      "  # This is added back by InteractiveShellApp.init_path()\n",
      "C:\\Users\\raulg\\anaconda3\\envs\\TFM37\\lib\\site-packages\\ipykernel_launcher.py:12: FutureWarning: suggest_int() got {'step'} as positional arguments but they were expected to be given as keyword arguments.\n",
      "  if sys.path[0] == \"\":\n"
     ]
    },
    {
     "name": "stdout",
     "output_type": "stream",
     "text": [
      "1/1 [==============================] - 1s 579ms/step\n"
     ]
    },
    {
     "name": "stderr",
     "output_type": "stream",
     "text": [
      "[I 2025-01-13 18:22:00,485] Trial 45 finished with value: 0.7348484848484849 and parameters: {'embedding_dim': 16, 'depth': 3, 'heads': 5, 'attn_dropout': 0.25261343493607397, 'ff_dropout': 0.08535612121635047, 'mlp_hidden_factor1': 3, 'mlp_hidden_factor2': 3, 'use_column_embedding': False}. Best is trial 22 with value: 0.9545454545454546.\n",
      "C:\\Users\\raulg\\anaconda3\\envs\\TFM37\\lib\\site-packages\\ipykernel_launcher.py:7: FutureWarning: suggest_int() got {'step'} as positional arguments but they were expected to be given as keyword arguments.\n",
      "  import sys\n",
      "C:\\Users\\raulg\\anaconda3\\envs\\TFM37\\lib\\site-packages\\ipykernel_launcher.py:8: FutureWarning: suggest_int() got {'step'} as positional arguments but they were expected to be given as keyword arguments.\n",
      "  \n",
      "C:\\Users\\raulg\\anaconda3\\envs\\TFM37\\lib\\site-packages\\ipykernel_launcher.py:11: FutureWarning: suggest_int() got {'step'} as positional arguments but they were expected to be given as keyword arguments.\n",
      "  # This is added back by InteractiveShellApp.init_path()\n",
      "C:\\Users\\raulg\\anaconda3\\envs\\TFM37\\lib\\site-packages\\ipykernel_launcher.py:12: FutureWarning: suggest_int() got {'step'} as positional arguments but they were expected to be given as keyword arguments.\n",
      "  if sys.path[0] == \"\":\n"
     ]
    },
    {
     "name": "stdout",
     "output_type": "stream",
     "text": [
      "1/1 [==============================] - 1s 918ms/step\n"
     ]
    },
    {
     "name": "stderr",
     "output_type": "stream",
     "text": [
      "[I 2025-01-13 18:22:46,647] Trial 46 finished with value: 0.75 and parameters: {'embedding_dim': 32, 'depth': 5, 'heads': 7, 'attn_dropout': 0.21015027768586086, 'ff_dropout': 0.16329919446169955, 'mlp_hidden_factor1': 4, 'mlp_hidden_factor2': 1, 'use_column_embedding': True}. Best is trial 22 with value: 0.9545454545454546.\n",
      "C:\\Users\\raulg\\anaconda3\\envs\\TFM37\\lib\\site-packages\\ipykernel_launcher.py:7: FutureWarning: suggest_int() got {'step'} as positional arguments but they were expected to be given as keyword arguments.\n",
      "  import sys\n",
      "C:\\Users\\raulg\\anaconda3\\envs\\TFM37\\lib\\site-packages\\ipykernel_launcher.py:8: FutureWarning: suggest_int() got {'step'} as positional arguments but they were expected to be given as keyword arguments.\n",
      "  \n",
      "C:\\Users\\raulg\\anaconda3\\envs\\TFM37\\lib\\site-packages\\ipykernel_launcher.py:11: FutureWarning: suggest_int() got {'step'} as positional arguments but they were expected to be given as keyword arguments.\n",
      "  # This is added back by InteractiveShellApp.init_path()\n",
      "C:\\Users\\raulg\\anaconda3\\envs\\TFM37\\lib\\site-packages\\ipykernel_launcher.py:12: FutureWarning: suggest_int() got {'step'} as positional arguments but they were expected to be given as keyword arguments.\n",
      "  if sys.path[0] == \"\":\n"
     ]
    },
    {
     "name": "stdout",
     "output_type": "stream",
     "text": [
      "1/1 [==============================] - 1s 758ms/step\n"
     ]
    },
    {
     "name": "stderr",
     "output_type": "stream",
     "text": [
      "[I 2025-01-13 18:23:02,221] Trial 47 finished with value: 0.7651515151515151 and parameters: {'embedding_dim': 16, 'depth': 4, 'heads': 4, 'attn_dropout': 0.39416859394898135, 'ff_dropout': 0.11554916053664178, 'mlp_hidden_factor1': 2, 'mlp_hidden_factor2': 2, 'use_column_embedding': False}. Best is trial 22 with value: 0.9545454545454546.\n",
      "C:\\Users\\raulg\\anaconda3\\envs\\TFM37\\lib\\site-packages\\ipykernel_launcher.py:7: FutureWarning: suggest_int() got {'step'} as positional arguments but they were expected to be given as keyword arguments.\n",
      "  import sys\n",
      "C:\\Users\\raulg\\anaconda3\\envs\\TFM37\\lib\\site-packages\\ipykernel_launcher.py:8: FutureWarning: suggest_int() got {'step'} as positional arguments but they were expected to be given as keyword arguments.\n",
      "  \n",
      "C:\\Users\\raulg\\anaconda3\\envs\\TFM37\\lib\\site-packages\\ipykernel_launcher.py:11: FutureWarning: suggest_int() got {'step'} as positional arguments but they were expected to be given as keyword arguments.\n",
      "  # This is added back by InteractiveShellApp.init_path()\n",
      "C:\\Users\\raulg\\anaconda3\\envs\\TFM37\\lib\\site-packages\\ipykernel_launcher.py:12: FutureWarning: suggest_int() got {'step'} as positional arguments but they were expected to be given as keyword arguments.\n",
      "  if sys.path[0] == \"\":\n"
     ]
    },
    {
     "name": "stdout",
     "output_type": "stream",
     "text": [
      "1/1 [==============================] - 1s 1s/step\n"
     ]
    },
    {
     "name": "stderr",
     "output_type": "stream",
     "text": [
      "[I 2025-01-13 18:23:40,795] Trial 48 finished with value: 0.7272727272727272 and parameters: {'embedding_dim': 32, 'depth': 6, 'heads': 5, 'attn_dropout': 0.3686287843942635, 'ff_dropout': 0.05169666083645638, 'mlp_hidden_factor1': 3, 'mlp_hidden_factor2': 1, 'use_column_embedding': True}. Best is trial 22 with value: 0.9545454545454546.\n",
      "C:\\Users\\raulg\\anaconda3\\envs\\TFM37\\lib\\site-packages\\ipykernel_launcher.py:7: FutureWarning: suggest_int() got {'step'} as positional arguments but they were expected to be given as keyword arguments.\n",
      "  import sys\n",
      "C:\\Users\\raulg\\anaconda3\\envs\\TFM37\\lib\\site-packages\\ipykernel_launcher.py:8: FutureWarning: suggest_int() got {'step'} as positional arguments but they were expected to be given as keyword arguments.\n",
      "  \n",
      "C:\\Users\\raulg\\anaconda3\\envs\\TFM37\\lib\\site-packages\\ipykernel_launcher.py:11: FutureWarning: suggest_int() got {'step'} as positional arguments but they were expected to be given as keyword arguments.\n",
      "  # This is added back by InteractiveShellApp.init_path()\n",
      "C:\\Users\\raulg\\anaconda3\\envs\\TFM37\\lib\\site-packages\\ipykernel_launcher.py:12: FutureWarning: suggest_int() got {'step'} as positional arguments but they were expected to be given as keyword arguments.\n",
      "  if sys.path[0] == \"\":\n"
     ]
    },
    {
     "name": "stdout",
     "output_type": "stream",
     "text": [
      "1/1 [==============================] - 1s 821ms/step\n"
     ]
    },
    {
     "name": "stderr",
     "output_type": "stream",
     "text": [
      "[I 2025-01-13 18:24:00,902] Trial 49 finished with value: 0.75 and parameters: {'embedding_dim': 16, 'depth': 5, 'heads': 8, 'attn_dropout': 0.3535355052236604, 'ff_dropout': 0.14750246350005075, 'mlp_hidden_factor1': 4, 'mlp_hidden_factor2': 2, 'use_column_embedding': False}. Best is trial 22 with value: 0.9545454545454546.\n"
     ]
    },
    {
     "name": "stdout",
     "output_type": "stream",
     "text": [
      "Tiempo de entrenamiento: 1438.9394 segundos\n"
     ]
    }
   ],
   "source": [
    "import optuna\n",
    "import gc\n",
    "import time\n",
    "\n",
    "def objective(trial):\n",
    "    embedding_dim = trial.suggest_categorical('embedding_dim',[32, 64])\n",
    "    depth = trial.suggest_int('depth',1,6,1)\n",
    "    heads = trial.suggest_int('heads',2,8,1)\n",
    "    attn_dropout = trial.suggest_float(\"attn_dropout\", 0.05, 0.5)\n",
    "    ff_dropout = trial.suggest_float(\"ff_dropout\", 0.05, 0.5)\n",
    "    mlp_hidden_factor1 = trial.suggest_int(\"mlp_hidden_factor1\", 1, 4, 1)\n",
    "    mlp_hidden_factor2 = trial.suggest_int(\"mlp_hidden_factor2\", 1, 4, 1)\n",
    "    use_column_embedding = trial.suggest_categorical('use_column_embedding', [True, False])\n",
    "    \n",
    "    #category_prep_layers = build_categorical_prep(train_data, CATEGORICAL_FEATURES)\n",
    "    \n",
    "    tabtransformer = TabTransformer(\n",
    "        numerical_features = NUMERIC_FEATURES,\n",
    "        categorical_features = CATEGORICAL_FEATURES,\n",
    "        categorical_lookup=category_prep_layers,\n",
    "        numerical_discretisers=None, # simply passing the numeric features\n",
    "        embedding_dim=embedding_dim,\n",
    "        out_dim=1,\n",
    "        out_activation='sigmoid',\n",
    "        depth=depth,\n",
    "        heads=heads,\n",
    "        attn_dropout=attn_dropout,\n",
    "        ff_dropout=ff_dropout,\n",
    "        mlp_hidden_factors=[mlp_hidden_factor1, mlp_hidden_factor2],\n",
    "        use_column_embedding=use_column_embedding,\n",
    "    )\n",
    "        \n",
    "    LEARNING_RATE = 0.001\n",
    "    WEIGHT_DECAY = 0.0001\n",
    "    NUM_EPOCHS = 1000\n",
    "\n",
    "    optimizer = tfa.optimizers.AdamW(\n",
    "            learning_rate=LEARNING_RATE, weight_decay=WEIGHT_DECAY\n",
    "        )\n",
    "\n",
    "    tabtransformer.compile(\n",
    "        optimizer = optimizer,\n",
    "        loss = tf.keras.losses.BinaryCrossentropy(),\n",
    "        metrics= [tf.keras.metrics.AUC(name=\"AUC\", curve='ROC')]\n",
    "    )\n",
    "    \n",
    "    early = EarlyStopping(monitor=\"val_loss\", mode=\"min\", patience=50, restore_best_weights=True)\n",
    "    callback_list = [early]\n",
    "\n",
    "    history = tabtransformer.fit(\n",
    "        train_dataset, \n",
    "        epochs=NUM_EPOCHS, \n",
    "        validation_data=val_dataset,\n",
    "        callbacks=callback_list,\n",
    "        verbose=0\n",
    "    )\n",
    "    \n",
    "    val_preds = tabtransformer.predict(val_dataset)\n",
    "    roc = roc_auc_score(val_data[LABEL_Y], val_preds.ravel())\n",
    "    \n",
    "    gc.collect()\n",
    "    \n",
    "    \n",
    "    return roc\n",
    "\n",
    "start_time = time.time()\n",
    "study = optuna.create_study(direction='maximize')\n",
    "study.optimize(objective, n_trials=50)\n",
    "training_time = time.time() - start_time\n",
    "# Imprimir el tiempo de entrenamiento en segundos\n",
    "print(\"Tiempo de entrenamiento: %.4f segundos\" % training_time)"
   ]
  },
  {
   "cell_type": "code",
   "execution_count": 57,
   "id": "f75f7223",
   "metadata": {
    "scrolled": false
   },
   "outputs": [
    {
     "data": {
      "text/plain": [
       "{'embedding_dim': 64,\n",
       " 'depth': 4,\n",
       " 'heads': 5,\n",
       " 'attn_dropout': 0.3363855226889751,\n",
       " 'ff_dropout': 0.1652609935675714,\n",
       " 'mlp_hidden_factor1': 4,\n",
       " 'mlp_hidden_factor2': 3,\n",
       " 'use_column_embedding': False}"
      ]
     },
     "execution_count": 57,
     "metadata": {},
     "output_type": "execute_result"
    }
   ],
   "source": [
    "study.best_params"
   ]
  },
  {
   "cell_type": "markdown",
   "id": "f700df56",
   "metadata": {},
   "source": [
    "#### Trainning Model"
   ]
  },
  {
   "cell_type": "code",
   "execution_count": 17,
   "id": "0e4c7f9d",
   "metadata": {
    "scrolled": true
   },
   "outputs": [
    {
     "name": "stdout",
     "output_type": "stream",
     "text": [
      "Epoch 1/1000\n",
      "1/1 [==============================] - 6s 6s/step - loss: 1.0442 - AUC_ROC: 0.4693 - accuracy: 0.4925 - false_negatives: 32.0000 - AUC_PR: 0.4447 - val_loss: 0.7308 - val_AUC_ROC: 0.5268 - val_accuracy: 0.4000 - val_false_negatives: 6.0000 - val_AUC_PR: 0.5343\n",
      "Epoch 2/1000\n",
      "1/1 [==============================] - 0s 69ms/step - loss: 0.8176 - AUC_ROC: 0.5617 - accuracy: 0.5522 - false_negatives: 31.0000 - AUC_PR: 0.5083 - val_loss: 0.7147 - val_AUC_ROC: 0.5893 - val_accuracy: 0.6000 - val_false_negatives: 3.0000 - val_AUC_PR: 0.5626\n",
      "Epoch 3/1000\n",
      "1/1 [==============================] - 0s 66ms/step - loss: 0.7464 - AUC_ROC: 0.6493 - accuracy: 0.5597 - false_negatives: 29.0000 - AUC_PR: 0.6658 - val_loss: 0.7634 - val_AUC_ROC: 0.5893 - val_accuracy: 0.6000 - val_false_negatives: 2.0000 - val_AUC_PR: 0.5874\n",
      "Epoch 4/1000\n",
      "1/1 [==============================] - 0s 72ms/step - loss: 0.8357 - AUC_ROC: 0.5867 - accuracy: 0.5597 - false_negatives: 32.0000 - AUC_PR: 0.5096 - val_loss: 0.8128 - val_AUC_ROC: 0.6071 - val_accuracy: 0.5333 - val_false_negatives: 2.0000 - val_AUC_PR: 0.5975\n",
      "Epoch 5/1000\n",
      "1/1 [==============================] - 0s 66ms/step - loss: 0.6987 - AUC_ROC: 0.7219 - accuracy: 0.6866 - false_negatives: 21.0000 - AUC_PR: 0.6829 - val_loss: 0.8246 - val_AUC_ROC: 0.6518 - val_accuracy: 0.5333 - val_false_negatives: 2.0000 - val_AUC_PR: 0.6890\n",
      "Epoch 6/1000\n",
      "1/1 [==============================] - 0s 65ms/step - loss: 0.6618 - AUC_ROC: 0.7352 - accuracy: 0.6567 - false_negatives: 22.0000 - AUC_PR: 0.7391 - val_loss: 0.8259 - val_AUC_ROC: 0.6607 - val_accuracy: 0.5333 - val_false_negatives: 2.0000 - val_AUC_PR: 0.7110\n",
      "Epoch 7/1000\n",
      "1/1 [==============================] - 0s 63ms/step - loss: 0.6228 - AUC_ROC: 0.7718 - accuracy: 0.6791 - false_negatives: 21.0000 - AUC_PR: 0.7531 - val_loss: 0.8100 - val_AUC_ROC: 0.6607 - val_accuracy: 0.5333 - val_false_negatives: 2.0000 - val_AUC_PR: 0.7442\n",
      "Epoch 8/1000\n",
      "1/1 [==============================] - 0s 66ms/step - loss: 0.6133 - AUC_ROC: 0.7894 - accuracy: 0.7015 - false_negatives: 20.0000 - AUC_PR: 0.7696 - val_loss: 0.7656 - val_AUC_ROC: 0.6786 - val_accuracy: 0.5333 - val_false_negatives: 3.0000 - val_AUC_PR: 0.7761\n",
      "Epoch 9/1000\n",
      "1/1 [==============================] - 0s 68ms/step - loss: 0.5848 - AUC_ROC: 0.8010 - accuracy: 0.6940 - false_negatives: 21.0000 - AUC_PR: 0.7701 - val_loss: 0.7406 - val_AUC_ROC: 0.6786 - val_accuracy: 0.6000 - val_false_negatives: 3.0000 - val_AUC_PR: 0.7761\n",
      "Epoch 10/1000\n",
      "1/1 [==============================] - 0s 62ms/step - loss: 0.5794 - AUC_ROC: 0.8215 - accuracy: 0.7761 - false_negatives: 15.0000 - AUC_PR: 0.7667 - val_loss: 0.7310 - val_AUC_ROC: 0.6786 - val_accuracy: 0.6000 - val_false_negatives: 3.0000 - val_AUC_PR: 0.7761\n",
      "Epoch 11/1000\n",
      "1/1 [==============================] - 0s 75ms/step - loss: 0.5726 - AUC_ROC: 0.8183 - accuracy: 0.7463 - false_negatives: 19.0000 - AUC_PR: 0.8054 - val_loss: 0.7101 - val_AUC_ROC: 0.6786 - val_accuracy: 0.6667 - val_false_negatives: 3.0000 - val_AUC_PR: 0.7761\n",
      "Epoch 12/1000\n",
      "1/1 [==============================] - 0s 70ms/step - loss: 0.5668 - AUC_ROC: 0.8234 - accuracy: 0.7612 - false_negatives: 17.0000 - AUC_PR: 0.8137 - val_loss: 0.6981 - val_AUC_ROC: 0.6786 - val_accuracy: 0.6667 - val_false_negatives: 3.0000 - val_AUC_PR: 0.7751\n",
      "Epoch 13/1000\n",
      "1/1 [==============================] - 0s 72ms/step - loss: 0.5707 - AUC_ROC: 0.8142 - accuracy: 0.7388 - false_negatives: 21.0000 - AUC_PR: 0.8142 - val_loss: 0.6890 - val_AUC_ROC: 0.6964 - val_accuracy: 0.6000 - val_false_negatives: 3.0000 - val_AUC_PR: 0.7816\n",
      "Epoch 14/1000\n",
      "1/1 [==============================] - 0s 58ms/step - loss: 0.5131 - AUC_ROC: 0.8485 - accuracy: 0.7537 - false_negatives: 19.0000 - AUC_PR: 0.8210 - val_loss: 0.7050 - val_AUC_ROC: 0.6964 - val_accuracy: 0.6000 - val_false_negatives: 3.0000 - val_AUC_PR: 0.7816\n",
      "Epoch 15/1000\n",
      "1/1 [==============================] - 0s 59ms/step - loss: 0.5799 - AUC_ROC: 0.8127 - accuracy: 0.7015 - false_negatives: 25.0000 - AUC_PR: 0.8091 - val_loss: 0.7149 - val_AUC_ROC: 0.6964 - val_accuracy: 0.6000 - val_false_negatives: 3.0000 - val_AUC_PR: 0.7816\n",
      "Epoch 16/1000\n",
      "1/1 [==============================] - 0s 59ms/step - loss: 0.4408 - AUC_ROC: 0.8709 - accuracy: 0.8209 - false_negatives: 17.0000 - AUC_PR: 0.8937 - val_loss: 0.7315 - val_AUC_ROC: 0.6964 - val_accuracy: 0.5333 - val_false_negatives: 3.0000 - val_AUC_PR: 0.7816\n",
      "Epoch 17/1000\n",
      "1/1 [==============================] - 0s 61ms/step - loss: 0.5251 - AUC_ROC: 0.8466 - accuracy: 0.7463 - false_negatives: 21.0000 - AUC_PR: 0.8409 - val_loss: 0.7538 - val_AUC_ROC: 0.7143 - val_accuracy: 0.5333 - val_false_negatives: 3.0000 - val_AUC_PR: 0.7895\n",
      "Epoch 18/1000\n",
      "1/1 [==============================] - 0s 60ms/step - loss: 0.4290 - AUC_ROC: 0.8854 - accuracy: 0.8209 - false_negatives: 14.0000 - AUC_PR: 0.8923 - val_loss: 0.7555 - val_AUC_ROC: 0.7143 - val_accuracy: 0.5333 - val_false_negatives: 3.0000 - val_AUC_PR: 0.7895\n",
      "Epoch 19/1000\n",
      "1/1 [==============================] - 0s 64ms/step - loss: 0.5131 - AUC_ROC: 0.8545 - accuracy: 0.7687 - false_negatives: 21.0000 - AUC_PR: 0.8707 - val_loss: 0.7368 - val_AUC_ROC: 0.7143 - val_accuracy: 0.5333 - val_false_negatives: 3.0000 - val_AUC_PR: 0.7895\n",
      "Epoch 20/1000\n",
      "1/1 [==============================] - 0s 66ms/step - loss: 0.4490 - AUC_ROC: 0.8824 - accuracy: 0.7985 - false_negatives: 18.0000 - AUC_PR: 0.8805 - val_loss: 0.7096 - val_AUC_ROC: 0.7143 - val_accuracy: 0.5333 - val_false_negatives: 3.0000 - val_AUC_PR: 0.7895\n",
      "Epoch 21/1000\n",
      "1/1 [==============================] - 0s 68ms/step - loss: 0.5569 - AUC_ROC: 0.8336 - accuracy: 0.7537 - false_negatives: 20.0000 - AUC_PR: 0.8555 - val_loss: 0.6828 - val_AUC_ROC: 0.7143 - val_accuracy: 0.6000 - val_false_negatives: 3.0000 - val_AUC_PR: 0.7895\n",
      "Epoch 22/1000\n",
      "1/1 [==============================] - 0s 67ms/step - loss: 0.3883 - AUC_ROC: 0.9106 - accuracy: 0.7910 - false_negatives: 14.0000 - AUC_PR: 0.9044 - val_loss: 0.6709 - val_AUC_ROC: 0.7143 - val_accuracy: 0.6000 - val_false_negatives: 3.0000 - val_AUC_PR: 0.7895\n",
      "Epoch 23/1000\n",
      "1/1 [==============================] - 0s 66ms/step - loss: 0.5037 - AUC_ROC: 0.8515 - accuracy: 0.7687 - false_negatives: 20.0000 - AUC_PR: 0.8483 - val_loss: 0.6675 - val_AUC_ROC: 0.7143 - val_accuracy: 0.6000 - val_false_negatives: 3.0000 - val_AUC_PR: 0.7895\n",
      "Epoch 24/1000\n",
      "1/1 [==============================] - 0s 68ms/step - loss: 0.4574 - AUC_ROC: 0.8720 - accuracy: 0.7836 - false_negatives: 16.0000 - AUC_PR: 0.8793 - val_loss: 0.6631 - val_AUC_ROC: 0.6964 - val_accuracy: 0.6000 - val_false_negatives: 3.0000 - val_AUC_PR: 0.7816\n",
      "Epoch 25/1000\n",
      "1/1 [==============================] - 0s 58ms/step - loss: 0.3548 - AUC_ROC: 0.9220 - accuracy: 0.8358 - false_negatives: 12.0000 - AUC_PR: 0.9148 - val_loss: 0.6710 - val_AUC_ROC: 0.7232 - val_accuracy: 0.6667 - val_false_negatives: 3.0000 - val_AUC_PR: 0.7912\n",
      "Epoch 26/1000\n",
      "1/1 [==============================] - 0s 58ms/step - loss: 0.4412 - AUC_ROC: 0.8922 - accuracy: 0.7985 - false_negatives: 15.0000 - AUC_PR: 0.8828 - val_loss: 0.6949 - val_AUC_ROC: 0.7054 - val_accuracy: 0.6667 - val_false_negatives: 3.0000 - val_AUC_PR: 0.7847\n",
      "Epoch 27/1000\n",
      "1/1 [==============================] - 0s 59ms/step - loss: 0.4281 - AUC_ROC: 0.8846 - accuracy: 0.7910 - false_negatives: 14.0000 - AUC_PR: 0.8790 - val_loss: 0.7454 - val_AUC_ROC: 0.6964 - val_accuracy: 0.6667 - val_false_negatives: 3.0000 - val_AUC_PR: 0.7816\n",
      "Epoch 28/1000\n",
      "1/1 [==============================] - 0s 57ms/step - loss: 0.3989 - AUC_ROC: 0.9058 - accuracy: 0.8284 - false_negatives: 15.0000 - AUC_PR: 0.9020 - val_loss: 0.7783 - val_AUC_ROC: 0.6964 - val_accuracy: 0.6667 - val_false_negatives: 3.0000 - val_AUC_PR: 0.7816\n",
      "Epoch 29/1000\n",
      "1/1 [==============================] - 0s 59ms/step - loss: 0.4199 - AUC_ROC: 0.9020 - accuracy: 0.7985 - false_negatives: 15.0000 - AUC_PR: 0.9045 - val_loss: 0.7925 - val_AUC_ROC: 0.6964 - val_accuracy: 0.6667 - val_false_negatives: 3.0000 - val_AUC_PR: 0.7816\n",
      "Epoch 30/1000\n",
      "1/1 [==============================] - 0s 58ms/step - loss: 0.4690 - AUC_ROC: 0.8816 - accuracy: 0.7612 - false_negatives: 21.0000 - AUC_PR: 0.8776 - val_loss: 0.8020 - val_AUC_ROC: 0.6786 - val_accuracy: 0.6667 - val_false_negatives: 3.0000 - val_AUC_PR: 0.7751\n"
     ]
    },
    {
     "name": "stdout",
     "output_type": "stream",
     "text": [
      "Epoch 31/1000\n",
      "1/1 [==============================] - 0s 60ms/step - loss: 0.3722 - AUC_ROC: 0.9087 - accuracy: 0.8060 - false_negatives: 17.0000 - AUC_PR: 0.9142 - val_loss: 0.7927 - val_AUC_ROC: 0.6875 - val_accuracy: 0.6667 - val_false_negatives: 3.0000 - val_AUC_PR: 0.7782\n",
      "Epoch 32/1000\n",
      "1/1 [==============================] - 0s 57ms/step - loss: 0.3374 - AUC_ROC: 0.9274 - accuracy: 0.8582 - false_negatives: 11.0000 - AUC_PR: 0.9293 - val_loss: 0.7748 - val_AUC_ROC: 0.6875 - val_accuracy: 0.6667 - val_false_negatives: 3.0000 - val_AUC_PR: 0.7782\n",
      "Epoch 33/1000\n",
      "1/1 [==============================] - 0s 61ms/step - loss: 0.4724 - AUC_ROC: 0.8899 - accuracy: 0.8134 - false_negatives: 15.0000 - AUC_PR: 0.8837 - val_loss: 0.7572 - val_AUC_ROC: 0.6964 - val_accuracy: 0.6667 - val_false_negatives: 3.0000 - val_AUC_PR: 0.7816\n",
      "Epoch 34/1000\n",
      "1/1 [==============================] - 0s 59ms/step - loss: 0.3351 - AUC_ROC: 0.9325 - accuracy: 0.8657 - false_negatives: 10.0000 - AUC_PR: 0.9358 - val_loss: 0.7665 - val_AUC_ROC: 0.6875 - val_accuracy: 0.7333 - val_false_negatives: 3.0000 - val_AUC_PR: 0.7782\n",
      "Epoch 35/1000\n",
      "1/1 [==============================] - 0s 58ms/step - loss: 0.4144 - AUC_ROC: 0.9083 - accuracy: 0.8134 - false_negatives: 10.0000 - AUC_PR: 0.9145 - val_loss: 0.7639 - val_AUC_ROC: 0.6786 - val_accuracy: 0.7333 - val_false_negatives: 3.0000 - val_AUC_PR: 0.7751\n",
      "Epoch 36/1000\n",
      "1/1 [==============================] - 0s 65ms/step - loss: 0.3839 - AUC_ROC: 0.9043 - accuracy: 0.8284 - false_negatives: 16.0000 - AUC_PR: 0.9115 - val_loss: 0.7611 - val_AUC_ROC: 0.6875 - val_accuracy: 0.7333 - val_false_negatives: 3.0000 - val_AUC_PR: 0.7782\n",
      "Epoch 37/1000\n",
      "1/1 [==============================] - 0s 61ms/step - loss: 0.4099 - AUC_ROC: 0.9004 - accuracy: 0.8209 - false_negatives: 11.0000 - AUC_PR: 0.8906 - val_loss: 0.7823 - val_AUC_ROC: 0.6786 - val_accuracy: 0.7333 - val_false_negatives: 3.0000 - val_AUC_PR: 0.7751\n",
      "Epoch 38/1000\n",
      "1/1 [==============================] - 0s 60ms/step - loss: 0.3885 - AUC_ROC: 0.9116 - accuracy: 0.8507 - false_negatives: 10.0000 - AUC_PR: 0.9207 - val_loss: 0.8119 - val_AUC_ROC: 0.6786 - val_accuracy: 0.7333 - val_false_negatives: 3.0000 - val_AUC_PR: 0.7751\n",
      "Epoch 39/1000\n",
      "1/1 [==============================] - 0s 58ms/step - loss: 0.3887 - AUC_ROC: 0.9131 - accuracy: 0.8433 - false_negatives: 12.0000 - AUC_PR: 0.9107 - val_loss: 0.8315 - val_AUC_ROC: 0.6786 - val_accuracy: 0.7333 - val_false_negatives: 3.0000 - val_AUC_PR: 0.7751\n",
      "Epoch 40/1000\n",
      "1/1 [==============================] - 0s 58ms/step - loss: 0.3602 - AUC_ROC: 0.9239 - accuracy: 0.8433 - false_negatives: 10.0000 - AUC_PR: 0.9263 - val_loss: 0.8694 - val_AUC_ROC: 0.6786 - val_accuracy: 0.7333 - val_false_negatives: 3.0000 - val_AUC_PR: 0.7751\n",
      "Epoch 41/1000\n",
      "1/1 [==============================] - 0s 63ms/step - loss: 0.3513 - AUC_ROC: 0.9227 - accuracy: 0.8433 - false_negatives: 10.0000 - AUC_PR: 0.9187 - val_loss: 0.8932 - val_AUC_ROC: 0.6786 - val_accuracy: 0.7333 - val_false_negatives: 3.0000 - val_AUC_PR: 0.7751\n",
      "Epoch 42/1000\n",
      "1/1 [==============================] - 0s 59ms/step - loss: 0.2464 - AUC_ROC: 0.9633 - accuracy: 0.8881 - false_negatives: 9.0000 - AUC_PR: 0.9643 - val_loss: 0.9094 - val_AUC_ROC: 0.6786 - val_accuracy: 0.7333 - val_false_negatives: 3.0000 - val_AUC_PR: 0.7751\n",
      "Epoch 43/1000\n",
      "1/1 [==============================] - 0s 57ms/step - loss: 0.3638 - AUC_ROC: 0.9211 - accuracy: 0.7985 - false_negatives: 13.0000 - AUC_PR: 0.9181 - val_loss: 0.9155 - val_AUC_ROC: 0.6786 - val_accuracy: 0.7333 - val_false_negatives: 3.0000 - val_AUC_PR: 0.7751\n",
      "Epoch 44/1000\n",
      "1/1 [==============================] - 0s 62ms/step - loss: 0.3053 - AUC_ROC: 0.9425 - accuracy: 0.8507 - false_negatives: 13.0000 - AUC_PR: 0.9438 - val_loss: 0.9068 - val_AUC_ROC: 0.6786 - val_accuracy: 0.7333 - val_false_negatives: 3.0000 - val_AUC_PR: 0.7751\n",
      "Epoch 45/1000\n",
      "1/1 [==============================] - 0s 62ms/step - loss: 0.3026 - AUC_ROC: 0.9442 - accuracy: 0.8507 - false_negatives: 12.0000 - AUC_PR: 0.9381 - val_loss: 0.8882 - val_AUC_ROC: 0.6786 - val_accuracy: 0.7333 - val_false_negatives: 3.0000 - val_AUC_PR: 0.7751\n",
      "Epoch 46/1000\n",
      "1/1 [==============================] - 0s 67ms/step - loss: 0.3454 - AUC_ROC: 0.9353 - accuracy: 0.8582 - false_negatives: 9.0000 - AUC_PR: 0.9301 - val_loss: 0.8534 - val_AUC_ROC: 0.6786 - val_accuracy: 0.7333 - val_false_negatives: 3.0000 - val_AUC_PR: 0.7751\n",
      "Epoch 47/1000\n",
      "1/1 [==============================] - 0s 67ms/step - loss: 0.2609 - AUC_ROC: 0.9560 - accuracy: 0.8806 - false_negatives: 8.0000 - AUC_PR: 0.9615 - val_loss: 0.8122 - val_AUC_ROC: 0.6786 - val_accuracy: 0.7333 - val_false_negatives: 3.0000 - val_AUC_PR: 0.7751\n",
      "Epoch 48/1000\n",
      "1/1 [==============================] - 0s 60ms/step - loss: 0.4050 - AUC_ROC: 0.9076 - accuracy: 0.8433 - false_negatives: 12.0000 - AUC_PR: 0.9162 - val_loss: 0.7501 - val_AUC_ROC: 0.7143 - val_accuracy: 0.6667 - val_false_negatives: 3.0000 - val_AUC_PR: 0.7885\n",
      "Epoch 49/1000\n",
      "1/1 [==============================] - 0s 60ms/step - loss: 0.2715 - AUC_ROC: 0.9534 - accuracy: 0.8881 - false_negatives: 9.0000 - AUC_PR: 0.9529 - val_loss: 0.6942 - val_AUC_ROC: 0.7946 - val_accuracy: 0.6667 - val_false_negatives: 3.0000 - val_AUC_PR: 0.8319\n",
      "Epoch 50/1000\n",
      "1/1 [==============================] - 0s 66ms/step - loss: 0.2784 - AUC_ROC: 0.9528 - accuracy: 0.8507 - false_negatives: 7.0000 - AUC_PR: 0.9539 - val_loss: 0.6374 - val_AUC_ROC: 0.8214 - val_accuracy: 0.7333 - val_false_negatives: 3.0000 - val_AUC_PR: 0.8433\n",
      "Epoch 51/1000\n",
      "1/1 [==============================] - 0s 75ms/step - loss: 0.3301 - AUC_ROC: 0.9399 - accuracy: 0.8731 - false_negatives: 8.0000 - AUC_PR: 0.9390 - val_loss: 0.5974 - val_AUC_ROC: 0.8571 - val_accuracy: 0.7333 - val_false_negatives: 3.0000 - val_AUC_PR: 0.8603\n",
      "Epoch 52/1000\n",
      "1/1 [==============================] - 0s 82ms/step - loss: 0.2815 - AUC_ROC: 0.9441 - accuracy: 0.8657 - false_negatives: 9.0000 - AUC_PR: 0.9461 - val_loss: 0.5836 - val_AUC_ROC: 0.8393 - val_accuracy: 0.7333 - val_false_negatives: 3.0000 - val_AUC_PR: 0.8510\n",
      "Epoch 53/1000\n",
      "1/1 [==============================] - 0s 78ms/step - loss: 0.3638 - AUC_ROC: 0.9339 - accuracy: 0.8358 - false_negatives: 10.0000 - AUC_PR: 0.9390 - val_loss: 0.5655 - val_AUC_ROC: 0.8571 - val_accuracy: 0.7333 - val_false_negatives: 3.0000 - val_AUC_PR: 0.8633\n",
      "Epoch 54/1000\n",
      "1/1 [==============================] - 0s 60ms/step - loss: 0.3294 - AUC_ROC: 0.9354 - accuracy: 0.8731 - false_negatives: 10.0000 - AUC_PR: 0.9369 - val_loss: 0.5700 - val_AUC_ROC: 0.8571 - val_accuracy: 0.7333 - val_false_negatives: 3.0000 - val_AUC_PR: 0.8633\n",
      "Epoch 55/1000\n",
      "1/1 [==============================] - 0s 65ms/step - loss: 0.2885 - AUC_ROC: 0.9493 - accuracy: 0.8433 - false_negatives: 9.0000 - AUC_PR: 0.9478 - val_loss: 0.6006 - val_AUC_ROC: 0.8571 - val_accuracy: 0.7333 - val_false_negatives: 3.0000 - val_AUC_PR: 0.8710\n",
      "Epoch 56/1000\n",
      "1/1 [==============================] - 0s 63ms/step - loss: 0.3157 - AUC_ROC: 0.9387 - accuracy: 0.8731 - false_negatives: 9.0000 - AUC_PR: 0.9451 - val_loss: 0.6392 - val_AUC_ROC: 0.8214 - val_accuracy: 0.7333 - val_false_negatives: 3.0000 - val_AUC_PR: 0.8516\n",
      "Epoch 57/1000\n",
      "1/1 [==============================] - 0s 68ms/step - loss: 0.3125 - AUC_ROC: 0.9411 - accuracy: 0.8657 - false_negatives: 10.0000 - AUC_PR: 0.9399 - val_loss: 0.7049 - val_AUC_ROC: 0.7857 - val_accuracy: 0.7333 - val_false_negatives: 3.0000 - val_AUC_PR: 0.8257\n",
      "Epoch 58/1000\n",
      "1/1 [==============================] - 0s 70ms/step - loss: 0.2598 - AUC_ROC: 0.9618 - accuracy: 0.8657 - false_negatives: 12.0000 - AUC_PR: 0.9593 - val_loss: 0.7615 - val_AUC_ROC: 0.7500 - val_accuracy: 0.7333 - val_false_negatives: 3.0000 - val_AUC_PR: 0.8091\n",
      "Epoch 59/1000\n",
      "1/1 [==============================] - 0s 66ms/step - loss: 0.2572 - AUC_ROC: 0.9565 - accuracy: 0.8657 - false_negatives: 13.0000 - AUC_PR: 0.9554 - val_loss: 0.8146 - val_AUC_ROC: 0.7054 - val_accuracy: 0.7333 - val_false_negatives: 3.0000 - val_AUC_PR: 0.7854\n",
      "Epoch 60/1000\n",
      "1/1 [==============================] - 0s 68ms/step - loss: 0.3175 - AUC_ROC: 0.9424 - accuracy: 0.8582 - false_negatives: 14.0000 - AUC_PR: 0.9436 - val_loss: 0.8587 - val_AUC_ROC: 0.6875 - val_accuracy: 0.7333 - val_false_negatives: 3.0000 - val_AUC_PR: 0.7782\n"
     ]
    },
    {
     "name": "stdout",
     "output_type": "stream",
     "text": [
      "Epoch 61/1000\n",
      "1/1 [==============================] - 0s 60ms/step - loss: 0.2415 - AUC_ROC: 0.9631 - accuracy: 0.8881 - false_negatives: 10.0000 - AUC_PR: 0.9614 - val_loss: 0.8710 - val_AUC_ROC: 0.6786 - val_accuracy: 0.7333 - val_false_negatives: 3.0000 - val_AUC_PR: 0.7751\n",
      "Epoch 62/1000\n",
      "1/1 [==============================] - 0s 62ms/step - loss: 0.2428 - AUC_ROC: 0.9607 - accuracy: 0.9104 - false_negatives: 9.0000 - AUC_PR: 0.9647 - val_loss: 0.8515 - val_AUC_ROC: 0.6786 - val_accuracy: 0.7333 - val_false_negatives: 3.0000 - val_AUC_PR: 0.7751\n",
      "Epoch 63/1000\n",
      "1/1 [==============================] - 0s 63ms/step - loss: 0.3038 - AUC_ROC: 0.9459 - accuracy: 0.8955 - false_negatives: 9.0000 - AUC_PR: 0.9531 - val_loss: 0.8308 - val_AUC_ROC: 0.6786 - val_accuracy: 0.7333 - val_false_negatives: 3.0000 - val_AUC_PR: 0.7751\n",
      "Epoch 64/1000\n",
      "1/1 [==============================] - 0s 65ms/step - loss: 0.2125 - AUC_ROC: 0.9730 - accuracy: 0.9104 - false_negatives: 6.0000 - AUC_PR: 0.9710 - val_loss: 0.8110 - val_AUC_ROC: 0.6786 - val_accuracy: 0.7333 - val_false_negatives: 3.0000 - val_AUC_PR: 0.7751\n",
      "Epoch 65/1000\n",
      "1/1 [==============================] - 0s 64ms/step - loss: 0.2141 - AUC_ROC: 0.9730 - accuracy: 0.9179 - false_negatives: 4.0000 - AUC_PR: 0.9703 - val_loss: 0.7825 - val_AUC_ROC: 0.6875 - val_accuracy: 0.7333 - val_false_negatives: 3.0000 - val_AUC_PR: 0.7782\n",
      "Epoch 66/1000\n",
      "1/1 [==============================] - 0s 62ms/step - loss: 0.1938 - AUC_ROC: 0.9808 - accuracy: 0.9179 - false_negatives: 8.0000 - AUC_PR: 0.9785 - val_loss: 0.7420 - val_AUC_ROC: 0.7232 - val_accuracy: 0.7333 - val_false_negatives: 3.0000 - val_AUC_PR: 0.7912\n",
      "Epoch 67/1000\n",
      "1/1 [==============================] - 0s 71ms/step - loss: 0.3183 - AUC_ROC: 0.9394 - accuracy: 0.8507 - false_negatives: 11.0000 - AUC_PR: 0.9438 - val_loss: 0.7260 - val_AUC_ROC: 0.7321 - val_accuracy: 0.7333 - val_false_negatives: 3.0000 - val_AUC_PR: 0.7945\n",
      "Epoch 68/1000\n",
      "1/1 [==============================] - 0s 75ms/step - loss: 0.2114 - AUC_ROC: 0.9730 - accuracy: 0.9030 - false_negatives: 4.0000 - AUC_PR: 0.9715 - val_loss: 0.6959 - val_AUC_ROC: 0.7321 - val_accuracy: 0.7333 - val_false_negatives: 3.0000 - val_AUC_PR: 0.7945\n",
      "Epoch 69/1000\n",
      "1/1 [==============================] - 0s 62ms/step - loss: 0.2161 - AUC_ROC: 0.9722 - accuracy: 0.9104 - false_negatives: 5.0000 - AUC_PR: 0.9673 - val_loss: 0.6728 - val_AUC_ROC: 0.7321 - val_accuracy: 0.7333 - val_false_negatives: 3.0000 - val_AUC_PR: 0.7945\n",
      "Epoch 70/1000\n",
      "1/1 [==============================] - 0s 60ms/step - loss: 0.1600 - AUC_ROC: 0.9852 - accuracy: 0.9179 - false_negatives: 6.0000 - AUC_PR: 0.9844 - val_loss: 0.6581 - val_AUC_ROC: 0.7500 - val_accuracy: 0.7333 - val_false_negatives: 3.0000 - val_AUC_PR: 0.8025\n",
      "Epoch 71/1000\n",
      "1/1 [==============================] - 0s 64ms/step - loss: 0.2175 - AUC_ROC: 0.9630 - accuracy: 0.9104 - false_negatives: 7.0000 - AUC_PR: 0.9698 - val_loss: 0.6551 - val_AUC_ROC: 0.7857 - val_accuracy: 0.7333 - val_false_negatives: 3.0000 - val_AUC_PR: 0.8180\n",
      "Epoch 72/1000\n",
      "1/1 [==============================] - 0s 67ms/step - loss: 0.3324 - AUC_ROC: 0.9409 - accuracy: 0.8582 - false_negatives: 11.0000 - AUC_PR: 0.9437 - val_loss: 0.6663 - val_AUC_ROC: 0.7857 - val_accuracy: 0.7333 - val_false_negatives: 3.0000 - val_AUC_PR: 0.8180\n",
      "Epoch 73/1000\n",
      "1/1 [==============================] - 0s 61ms/step - loss: 0.1583 - AUC_ROC: 0.9849 - accuracy: 0.9328 - false_negatives: 5.0000 - AUC_PR: 0.9832 - val_loss: 0.6870 - val_AUC_ROC: 0.7857 - val_accuracy: 0.7333 - val_false_negatives: 3.0000 - val_AUC_PR: 0.8180\n",
      "Epoch 74/1000\n",
      "1/1 [==============================] - 0s 61ms/step - loss: 0.2357 - AUC_ROC: 0.9646 - accuracy: 0.8806 - false_negatives: 10.0000 - AUC_PR: 0.9674 - val_loss: 0.6935 - val_AUC_ROC: 0.7857 - val_accuracy: 0.7333 - val_false_negatives: 3.0000 - val_AUC_PR: 0.8180\n",
      "Epoch 75/1000\n",
      "1/1 [==============================] - 0s 63ms/step - loss: 0.1841 - AUC_ROC: 0.9784 - accuracy: 0.9328 - false_negatives: 6.0000 - AUC_PR: 0.9777 - val_loss: 0.6786 - val_AUC_ROC: 0.7857 - val_accuracy: 0.7333 - val_false_negatives: 3.0000 - val_AUC_PR: 0.8180\n",
      "Epoch 76/1000\n",
      "1/1 [==============================] - 0s 64ms/step - loss: 0.2285 - AUC_ROC: 0.9679 - accuracy: 0.8955 - false_negatives: 7.0000 - AUC_PR: 0.9655 - val_loss: 0.6618 - val_AUC_ROC: 0.8125 - val_accuracy: 0.7333 - val_false_negatives: 3.0000 - val_AUC_PR: 0.8328\n",
      "Epoch 77/1000\n",
      "1/1 [==============================] - 0s 62ms/step - loss: 0.1983 - AUC_ROC: 0.9758 - accuracy: 0.9179 - false_negatives: 6.0000 - AUC_PR: 0.9774 - val_loss: 0.6532 - val_AUC_ROC: 0.8571 - val_accuracy: 0.7333 - val_false_negatives: 3.0000 - val_AUC_PR: 0.8603\n",
      "Epoch 78/1000\n",
      "1/1 [==============================] - 0s 58ms/step - loss: 0.1698 - AUC_ROC: 0.9814 - accuracy: 0.9403 - false_negatives: 4.0000 - AUC_PR: 0.9798 - val_loss: 0.6343 - val_AUC_ROC: 0.8571 - val_accuracy: 0.7333 - val_false_negatives: 3.0000 - val_AUC_PR: 0.8603\n",
      "Epoch 79/1000\n",
      "1/1 [==============================] - 0s 64ms/step - loss: 0.2247 - AUC_ROC: 0.9685 - accuracy: 0.9030 - false_negatives: 8.0000 - AUC_PR: 0.9702 - val_loss: 0.6300 - val_AUC_ROC: 0.8571 - val_accuracy: 0.7333 - val_false_negatives: 3.0000 - val_AUC_PR: 0.8633\n",
      "Epoch 80/1000\n",
      "1/1 [==============================] - 0s 65ms/step - loss: 0.3133 - AUC_ROC: 0.9448 - accuracy: 0.8582 - false_negatives: 10.0000 - AUC_PR: 0.9492 - val_loss: 0.6112 - val_AUC_ROC: 0.8571 - val_accuracy: 0.7333 - val_false_negatives: 3.0000 - val_AUC_PR: 0.8633\n",
      "Epoch 81/1000\n",
      "1/1 [==============================] - 0s 59ms/step - loss: 0.2770 - AUC_ROC: 0.9581 - accuracy: 0.8806 - false_negatives: 7.0000 - AUC_PR: 0.9554 - val_loss: 0.6116 - val_AUC_ROC: 0.8393 - val_accuracy: 0.7333 - val_false_negatives: 3.0000 - val_AUC_PR: 0.8510\n",
      "Epoch 82/1000\n",
      "1/1 [==============================] - 0s 63ms/step - loss: 0.2415 - AUC_ROC: 0.9659 - accuracy: 0.8806 - false_negatives: 8.0000 - AUC_PR: 0.9663 - val_loss: 0.6064 - val_AUC_ROC: 0.8304 - val_accuracy: 0.7333 - val_false_negatives: 3.0000 - val_AUC_PR: 0.8460\n",
      "Epoch 83/1000\n",
      "1/1 [==============================] - 0s 65ms/step - loss: 0.2256 - AUC_ROC: 0.9708 - accuracy: 0.8955 - false_negatives: 5.0000 - AUC_PR: 0.9671 - val_loss: 0.5909 - val_AUC_ROC: 0.8393 - val_accuracy: 0.7333 - val_false_negatives: 3.0000 - val_AUC_PR: 0.8510\n",
      "Epoch 84/1000\n",
      "1/1 [==============================] - 0s 72ms/step - loss: 0.2007 - AUC_ROC: 0.9767 - accuracy: 0.9030 - false_negatives: 7.0000 - AUC_PR: 0.9730 - val_loss: 0.5943 - val_AUC_ROC: 0.8571 - val_accuracy: 0.7333 - val_false_negatives: 3.0000 - val_AUC_PR: 0.8690\n",
      "Epoch 85/1000\n",
      "1/1 [==============================] - 0s 63ms/step - loss: 0.2439 - AUC_ROC: 0.9603 - accuracy: 0.8657 - false_negatives: 10.0000 - AUC_PR: 0.9589 - val_loss: 0.6170 - val_AUC_ROC: 0.8393 - val_accuracy: 0.7333 - val_false_negatives: 3.0000 - val_AUC_PR: 0.8601\n",
      "Epoch 86/1000\n",
      "1/1 [==============================] - 0s 64ms/step - loss: 0.1384 - AUC_ROC: 0.9912 - accuracy: 0.9403 - false_negatives: 3.0000 - AUC_PR: 0.9900 - val_loss: 0.6474 - val_AUC_ROC: 0.8304 - val_accuracy: 0.7333 - val_false_negatives: 3.0000 - val_AUC_PR: 0.8553\n",
      "Epoch 87/1000\n",
      "1/1 [==============================] - 0s 63ms/step - loss: 0.1484 - AUC_ROC: 0.9870 - accuracy: 0.9104 - false_negatives: 6.0000 - AUC_PR: 0.9861 - val_loss: 0.6864 - val_AUC_ROC: 0.8125 - val_accuracy: 0.7333 - val_false_negatives: 3.0000 - val_AUC_PR: 0.8483\n",
      "Epoch 88/1000\n",
      "1/1 [==============================] - 0s 66ms/step - loss: 0.1757 - AUC_ROC: 0.9788 - accuracy: 0.9179 - false_negatives: 3.0000 - AUC_PR: 0.9766 - val_loss: 0.7397 - val_AUC_ROC: 0.7946 - val_accuracy: 0.7333 - val_false_negatives: 3.0000 - val_AUC_PR: 0.8358\n",
      "Epoch 89/1000\n",
      "1/1 [==============================] - 0s 65ms/step - loss: 0.2027 - AUC_ROC: 0.9755 - accuracy: 0.9179 - false_negatives: 6.0000 - AUC_PR: 0.9737 - val_loss: 0.7733 - val_AUC_ROC: 0.7679 - val_accuracy: 0.7333 - val_false_negatives: 3.0000 - val_AUC_PR: 0.8193\n",
      "Epoch 90/1000\n",
      "1/1 [==============================] - 0s 62ms/step - loss: 0.2557 - AUC_ROC: 0.9619 - accuracy: 0.8806 - false_negatives: 9.0000 - AUC_PR: 0.9630 - val_loss: 0.7852 - val_AUC_ROC: 0.7589 - val_accuracy: 0.7333 - val_false_negatives: 3.0000 - val_AUC_PR: 0.8159\n"
     ]
    },
    {
     "name": "stdout",
     "output_type": "stream",
     "text": [
      "Epoch 91/1000\n",
      "1/1 [==============================] - 0s 58ms/step - loss: 0.2068 - AUC_ROC: 0.9726 - accuracy: 0.9179 - false_negatives: 9.0000 - AUC_PR: 0.9750 - val_loss: 0.7624 - val_AUC_ROC: 0.7500 - val_accuracy: 0.7333 - val_false_negatives: 3.0000 - val_AUC_PR: 0.8128\n",
      "Epoch 92/1000\n",
      "1/1 [==============================] - 0s 58ms/step - loss: 0.1722 - AUC_ROC: 0.9828 - accuracy: 0.9179 - false_negatives: 6.0000 - AUC_PR: 0.9823 - val_loss: 0.7370 - val_AUC_ROC: 0.7679 - val_accuracy: 0.7333 - val_false_negatives: 3.0000 - val_AUC_PR: 0.8308\n",
      "Epoch 93/1000\n",
      "1/1 [==============================] - 0s 56ms/step - loss: 0.2018 - AUC_ROC: 0.9733 - accuracy: 0.9179 - false_negatives: 7.0000 - AUC_PR: 0.9721 - val_loss: 0.7248 - val_AUC_ROC: 0.7679 - val_accuracy: 0.7333 - val_false_negatives: 3.0000 - val_AUC_PR: 0.8308\n",
      "Epoch 94/1000\n",
      "1/1 [==============================] - 0s 57ms/step - loss: 0.1829 - AUC_ROC: 0.9803 - accuracy: 0.9254 - false_negatives: 5.0000 - AUC_PR: 0.9787 - val_loss: 0.7288 - val_AUC_ROC: 0.7679 - val_accuracy: 0.7333 - val_false_negatives: 3.0000 - val_AUC_PR: 0.8308\n",
      "Epoch 95/1000\n",
      "1/1 [==============================] - 0s 58ms/step - loss: 0.1365 - AUC_ROC: 0.9892 - accuracy: 0.9478 - false_negatives: 3.0000 - AUC_PR: 0.9896 - val_loss: 0.7119 - val_AUC_ROC: 0.7857 - val_accuracy: 0.7333 - val_false_negatives: 3.0000 - val_AUC_PR: 0.8373\n",
      "Epoch 96/1000\n",
      "1/1 [==============================] - 0s 57ms/step - loss: 0.1489 - AUC_ROC: 0.9852 - accuracy: 0.9254 - false_negatives: 6.0000 - AUC_PR: 0.9845 - val_loss: 0.7048 - val_AUC_ROC: 0.8036 - val_accuracy: 0.7333 - val_false_negatives: 3.0000 - val_AUC_PR: 0.8437\n",
      "Epoch 97/1000\n",
      "1/1 [==============================] - 0s 58ms/step - loss: 0.1563 - AUC_ROC: 0.9859 - accuracy: 0.9403 - false_negatives: 4.0000 - AUC_PR: 0.9829 - val_loss: 0.6832 - val_AUC_ROC: 0.8036 - val_accuracy: 0.7333 - val_false_negatives: 3.0000 - val_AUC_PR: 0.8437\n",
      "Epoch 98/1000\n",
      "1/1 [==============================] - 0s 58ms/step - loss: 0.1369 - AUC_ROC: 0.9889 - accuracy: 0.9328 - false_negatives: 7.0000 - AUC_PR: 0.9891 - val_loss: 0.6651 - val_AUC_ROC: 0.8036 - val_accuracy: 0.8000 - val_false_negatives: 2.0000 - val_AUC_PR: 0.8437\n",
      "Epoch 99/1000\n",
      "1/1 [==============================] - 0s 60ms/step - loss: 0.1236 - AUC_ROC: 0.9906 - accuracy: 0.9328 - false_negatives: 5.0000 - AUC_PR: 0.9898 - val_loss: 0.6389 - val_AUC_ROC: 0.8125 - val_accuracy: 0.8000 - val_false_negatives: 2.0000 - val_AUC_PR: 0.8475\n",
      "Epoch 100/1000\n",
      "1/1 [==============================] - 0s 69ms/step - loss: 0.1538 - AUC_ROC: 0.9861 - accuracy: 0.9179 - false_negatives: 3.0000 - AUC_PR: 0.9848 - val_loss: 0.6169 - val_AUC_ROC: 0.8214 - val_accuracy: 0.8000 - val_false_negatives: 2.0000 - val_AUC_PR: 0.8516\n",
      "Epoch 101/1000\n",
      "1/1 [==============================] - 0s 71ms/step - loss: 0.1106 - AUC_ROC: 0.9922 - accuracy: 0.9478 - false_negatives: 4.0000 - AUC_PR: 0.9920 - val_loss: 0.6214 - val_AUC_ROC: 0.8304 - val_accuracy: 0.7333 - val_false_negatives: 3.0000 - val_AUC_PR: 0.8563\n",
      "Epoch 102/1000\n",
      "1/1 [==============================] - 0s 62ms/step - loss: 0.1668 - AUC_ROC: 0.9850 - accuracy: 0.9179 - false_negatives: 4.0000 - AUC_PR: 0.9842 - val_loss: 0.6119 - val_AUC_ROC: 0.8393 - val_accuracy: 0.7333 - val_false_negatives: 3.0000 - val_AUC_PR: 0.8613\n",
      "Epoch 103/1000\n",
      "1/1 [==============================] - 0s 86ms/step - loss: 0.1054 - AUC_ROC: 0.9948 - accuracy: 0.9701 - false_negatives: 2.0000 - AUC_PR: 0.9945 - val_loss: 0.6265 - val_AUC_ROC: 0.8571 - val_accuracy: 0.7333 - val_false_negatives: 3.0000 - val_AUC_PR: 0.8737\n",
      "Tiempo de entrenamiento: 14.0125 segundos\n",
      "1/1 [==============================] - 1s 567ms/step\n",
      "60.529999999999994\n"
     ]
    }
   ],
   "source": [
    "tabtransformer = TabTransformer(\n",
    "        numerical_features = NUMERIC_FEATURES,\n",
    "        categorical_features = CATEGORICAL_FEATURES,\n",
    "        categorical_lookup=category_prep_layers,\n",
    "        numerical_discretisers=None, # simply passing the numeric features\n",
    "        embedding_dim=32,\n",
    "        out_dim=1,\n",
    "        out_activation='sigmoid',\n",
    "        depth=2,\n",
    "        heads=4,\n",
    "        attn_dropout=0.4381628474606785,\n",
    "        ff_dropout=0.4101221992918215,\n",
    "        mlp_hidden_factors=[2, 1],\n",
    "        use_column_embedding=True,\n",
    "    )\n",
    "\n",
    "\n",
    "\n",
    "LEARNING_RATE = 0.001\n",
    "WEIGHT_DECAY = 0.0001\n",
    "NUM_EPOCHS = 1000\n",
    "\n",
    "optimizer = tfa.optimizers.AdamW(\n",
    "        learning_rate=LEARNING_RATE, weight_decay=WEIGHT_DECAY\n",
    "    )\n",
    "\n",
    "tabtransformer.compile(\n",
    "    optimizer = optimizer,\n",
    "    loss = tf.keras.losses.BinaryCrossentropy(),\n",
    "    metrics= [tf.keras.metrics.AUC(name=\"AUC_ROC\", curve='ROC'), keras.metrics.BinaryAccuracy(name=\"accuracy\"),\n",
    "                       tf.keras.metrics.FalseNegatives(), tf.keras.metrics.AUC(name=\"AUC_PR\", curve='PR')],\n",
    ")\n",
    "\n",
    "early = EarlyStopping(monitor=\"val_loss\", mode=\"min\", patience=50, restore_best_weights=True)\n",
    "callback_list = [early]\n",
    "\n",
    "start_time = time.time()\n",
    "history = tabtransformer.fit(\n",
    "    train_dataset, \n",
    "    epochs=NUM_EPOCHS, \n",
    "    validation_data=val_dataset,\n",
    "    callbacks=callback_list,\n",
    "    verbose=1,\n",
    ")\n",
    "\n",
    "training_time = time.time() - start_time\n",
    "# Imprimir el tiempo de entrenamiento en segundos\n",
    "print(\"Tiempo de entrenamiento: %.4f segundos\" % training_time)\n",
    "\n",
    "test_preds = tabtransformer.predict(test_dataset)\n",
    "accura = np.round(accuracy_score(test_data[LABEL_Y], test_preds.ravel() > 0.5), 4)*100\n",
    "print(accura)"
   ]
  },
  {
   "cell_type": "code",
   "execution_count": 18,
   "id": "ed87f03f",
   "metadata": {},
   "outputs": [
    {
     "name": "stdout",
     "output_type": "stream",
     "text": [
      "[0.5654990077018738, 0.8571428060531616, 0.7333333492279053, 3.0, 0.8633421659469604]\n"
     ]
    }
   ],
   "source": [
    "print(tabtransformer.evaluate(val_dataset, verbose=0))"
   ]
  },
  {
   "cell_type": "code",
   "execution_count": 19,
   "id": "d43d2944",
   "metadata": {},
   "outputs": [
    {
     "name": "stdout",
     "output_type": "stream",
     "text": [
      "1/1 [==============================] - 0s 399ms/step\n",
      "PR AUC: 0.8715213358070499\n",
      "ROC AUC: 0.8571428571428571\n",
      "Val Accuracy: 0.7333\n"
     ]
    }
   ],
   "source": [
    "val_preds = tabtransformer.predict(val_dataset)\n",
    "\n",
    "print(f\"PR AUC: {average_precision_score(val_data[LABEL_Y], val_preds.ravel())}\")\n",
    "print(f\"ROC AUC: {roc_auc_score(val_data[LABEL_Y], val_preds.ravel())}\")\n",
    "print(\"Val Accuracy:\", np.round(accuracy_score(val_data[LABEL_Y], val_preds.ravel() > 0.5), 4))"
   ]
  },
  {
   "cell_type": "code",
   "execution_count": 20,
   "id": "0e7efae2",
   "metadata": {},
   "outputs": [
    {
     "name": "stdout",
     "output_type": "stream",
     "text": [
      "1/1 [==============================] - 0s 21ms/step\n",
      "Test Accuracy: 60.529999999999994\n",
      "Test ROC AUC: 71.02000000000001\n",
      "Test PR AUC: 68.28999999999999\n",
      "Test F1-score: 44.440000000000005\n",
      "Test Precision: 54.55\n",
      "Test Recall: 37.5\n"
     ]
    }
   ],
   "source": [
    "test_preds = tabtransformer.predict(test_dataset)\n",
    "print(\"Test Accuracy:\", np.round(accuracy_score(test_data[LABEL_Y], test_preds.ravel() > 0.5), 4)*100)\n",
    "print(\"Test ROC AUC:\", np.round(roc_auc_score(test_data[LABEL_Y], test_preds.ravel()), 4)*100)\n",
    "print(\"Test PR AUC:\", np.round(average_precision_score(test_data[LABEL_Y], test_preds.ravel()), 4)*100)\n",
    "print(\"Test F1-score:\", np.round(f1_score(test_data[LABEL_Y], test_preds.ravel() > 0.5), 4)*100)\n",
    "print(\"Test Precision:\", np.round(precision_score(test_data[LABEL_Y], test_preds.ravel() > 0.5), 4)*100)\n",
    "print(\"Test Recall:\", np.round(recall_score(test_data[LABEL_Y], test_preds.ravel() > 0.5), 4)*100)"
   ]
  },
  {
   "cell_type": "code",
   "execution_count": 18,
   "id": "89f437f4",
   "metadata": {},
   "outputs": [
    {
     "data": {
      "image/png": "[encoded data removed]",
      "text/plain": [
       "<Figure size 750x750 with 1 Axes>"
      ]
     },
     "metadata": {},
     "output_type": "display_data"
    }
   ],
   "source": [
    "conf_matrix = confusion_matrix(test_data[LABEL_Y], test_preds.ravel() > 0.5)\n",
    "conf_matrix\n",
    "\n",
    "fig, ax = plt.subplots(figsize=(7.5, 7.5))\n",
    "ax.matshow(conf_matrix, cmap=plt.cm.Blues, alpha=0.3)\n",
    "for i in range(conf_matrix.shape[0]):\n",
    "    for j in range(conf_matrix.shape[1]):\n",
    "        ax.text(x=j, y=i,s=conf_matrix[i, j], va='center', ha='center', size='xx-large')\n",
    "plt.xlabel('Predictions', fontsize=18)\n",
    "plt.ylabel('Actuals', fontsize=18)\n",
    "plt.title('Confusion Matrix', fontsize=18)\n",
    "plt.show()"
   ]
  },
  {
   "cell_type": "code",
   "execution_count": 19,
   "id": "56aaca8d",
   "metadata": {},
   "outputs": [
    {
     "data": {
      "image/png": "[encoded data removed]",
      "text/plain": [
       "<Figure size 640x480 with 2 Axes>"
      ]
     },
     "metadata": {},
     "output_type": "display_data"
    }
   ],
   "source": [
    "fig, ax = plt.subplots(nrows=1, ncols=2)\n",
    "\n",
    "ax[0].plot(history.history['loss'], label='Training Loss')\n",
    "ax[0].plot(history.history['val_loss'], label='Validation Loss')\n",
    "ax[0].legend()\n",
    "\n",
    "ax[1].plot(history.history['accuracy'], label='Training Accuracy')\n",
    "ax[1].plot(history.history['val_accuracy'], label='Validation Accuracy')\n",
    "ax[1].legend()\n",
    "\n",
    "plt.show()"
   ]
  },
  {
   "cell_type": "markdown",
   "id": "c7d90a37",
   "metadata": {},
   "source": [
    "## Chronic Kidney Disease"
   ]
  },
  {
   "cell_type": "code",
   "execution_count": 2,
   "id": "6d9b8aa7",
   "metadata": {
    "scrolled": true
   },
   "outputs": [
    {
     "data": {
      "text/html": [
       "<div>\n",
       "<style scoped>\n",
       "    .dataframe tbody tr th:only-of-type {\n",
       "        vertical-align: middle;\n",
       "    }\n",
       "\n",
       "    .dataframe tbody tr th {\n",
       "        vertical-align: top;\n",
       "    }\n",
       "\n",
       "    .dataframe thead th {\n",
       "        text-align: right;\n",
       "    }\n",
       "</style>\n",
       "<table border=\"1\" class=\"dataframe\">\n",
       "  <thead>\n",
       "    <tr style=\"text-align: right;\">\n",
       "      <th></th>\n",
       "      <th>age</th>\n",
       "      <th>bp</th>\n",
       "      <th>sg</th>\n",
       "      <th>al</th>\n",
       "      <th>su</th>\n",
       "      <th>rbc</th>\n",
       "      <th>pc</th>\n",
       "      <th>pcc</th>\n",
       "      <th>ba</th>\n",
       "      <th>bgr</th>\n",
       "      <th>...</th>\n",
       "      <th>pcv</th>\n",
       "      <th>wc</th>\n",
       "      <th>rc</th>\n",
       "      <th>htn</th>\n",
       "      <th>dm</th>\n",
       "      <th>cad</th>\n",
       "      <th>appet</th>\n",
       "      <th>pe</th>\n",
       "      <th>ane</th>\n",
       "      <th>classification</th>\n",
       "    </tr>\n",
       "  </thead>\n",
       "  <tbody>\n",
       "    <tr>\n",
       "      <th>0</th>\n",
       "      <td>48.0</td>\n",
       "      <td>80.0</td>\n",
       "      <td>1.020</td>\n",
       "      <td>1.0</td>\n",
       "      <td>0.0</td>\n",
       "      <td>NaN</td>\n",
       "      <td>normal</td>\n",
       "      <td>notpresent</td>\n",
       "      <td>notpresent</td>\n",
       "      <td>121.0</td>\n",
       "      <td>...</td>\n",
       "      <td>44</td>\n",
       "      <td>7800</td>\n",
       "      <td>5.2</td>\n",
       "      <td>yes</td>\n",
       "      <td>yes</td>\n",
       "      <td>no</td>\n",
       "      <td>good</td>\n",
       "      <td>no</td>\n",
       "      <td>no</td>\n",
       "      <td>ckd</td>\n",
       "    </tr>\n",
       "    <tr>\n",
       "      <th>1</th>\n",
       "      <td>7.0</td>\n",
       "      <td>50.0</td>\n",
       "      <td>1.020</td>\n",
       "      <td>4.0</td>\n",
       "      <td>0.0</td>\n",
       "      <td>NaN</td>\n",
       "      <td>normal</td>\n",
       "      <td>notpresent</td>\n",
       "      <td>notpresent</td>\n",
       "      <td>NaN</td>\n",
       "      <td>...</td>\n",
       "      <td>38</td>\n",
       "      <td>6000</td>\n",
       "      <td>NaN</td>\n",
       "      <td>no</td>\n",
       "      <td>no</td>\n",
       "      <td>no</td>\n",
       "      <td>good</td>\n",
       "      <td>no</td>\n",
       "      <td>no</td>\n",
       "      <td>ckd</td>\n",
       "    </tr>\n",
       "    <tr>\n",
       "      <th>2</th>\n",
       "      <td>62.0</td>\n",
       "      <td>80.0</td>\n",
       "      <td>1.010</td>\n",
       "      <td>2.0</td>\n",
       "      <td>3.0</td>\n",
       "      <td>normal</td>\n",
       "      <td>normal</td>\n",
       "      <td>notpresent</td>\n",
       "      <td>notpresent</td>\n",
       "      <td>423.0</td>\n",
       "      <td>...</td>\n",
       "      <td>31</td>\n",
       "      <td>7500</td>\n",
       "      <td>NaN</td>\n",
       "      <td>no</td>\n",
       "      <td>yes</td>\n",
       "      <td>no</td>\n",
       "      <td>poor</td>\n",
       "      <td>no</td>\n",
       "      <td>yes</td>\n",
       "      <td>ckd</td>\n",
       "    </tr>\n",
       "    <tr>\n",
       "      <th>3</th>\n",
       "      <td>48.0</td>\n",
       "      <td>70.0</td>\n",
       "      <td>1.005</td>\n",
       "      <td>4.0</td>\n",
       "      <td>0.0</td>\n",
       "      <td>normal</td>\n",
       "      <td>abnormal</td>\n",
       "      <td>present</td>\n",
       "      <td>notpresent</td>\n",
       "      <td>117.0</td>\n",
       "      <td>...</td>\n",
       "      <td>32</td>\n",
       "      <td>6700</td>\n",
       "      <td>3.9</td>\n",
       "      <td>yes</td>\n",
       "      <td>no</td>\n",
       "      <td>no</td>\n",
       "      <td>poor</td>\n",
       "      <td>yes</td>\n",
       "      <td>yes</td>\n",
       "      <td>ckd</td>\n",
       "    </tr>\n",
       "    <tr>\n",
       "      <th>4</th>\n",
       "      <td>51.0</td>\n",
       "      <td>80.0</td>\n",
       "      <td>1.010</td>\n",
       "      <td>2.0</td>\n",
       "      <td>0.0</td>\n",
       "      <td>normal</td>\n",
       "      <td>normal</td>\n",
       "      <td>notpresent</td>\n",
       "      <td>notpresent</td>\n",
       "      <td>106.0</td>\n",
       "      <td>...</td>\n",
       "      <td>35</td>\n",
       "      <td>7300</td>\n",
       "      <td>4.6</td>\n",
       "      <td>no</td>\n",
       "      <td>no</td>\n",
       "      <td>no</td>\n",
       "      <td>good</td>\n",
       "      <td>no</td>\n",
       "      <td>no</td>\n",
       "      <td>ckd</td>\n",
       "    </tr>\n",
       "    <tr>\n",
       "      <th>...</th>\n",
       "      <td>...</td>\n",
       "      <td>...</td>\n",
       "      <td>...</td>\n",
       "      <td>...</td>\n",
       "      <td>...</td>\n",
       "      <td>...</td>\n",
       "      <td>...</td>\n",
       "      <td>...</td>\n",
       "      <td>...</td>\n",
       "      <td>...</td>\n",
       "      <td>...</td>\n",
       "      <td>...</td>\n",
       "      <td>...</td>\n",
       "      <td>...</td>\n",
       "      <td>...</td>\n",
       "      <td>...</td>\n",
       "      <td>...</td>\n",
       "      <td>...</td>\n",
       "      <td>...</td>\n",
       "      <td>...</td>\n",
       "      <td>...</td>\n",
       "    </tr>\n",
       "    <tr>\n",
       "      <th>395</th>\n",
       "      <td>55.0</td>\n",
       "      <td>80.0</td>\n",
       "      <td>1.020</td>\n",
       "      <td>0.0</td>\n",
       "      <td>0.0</td>\n",
       "      <td>normal</td>\n",
       "      <td>normal</td>\n",
       "      <td>notpresent</td>\n",
       "      <td>notpresent</td>\n",
       "      <td>140.0</td>\n",
       "      <td>...</td>\n",
       "      <td>47</td>\n",
       "      <td>6700</td>\n",
       "      <td>4.9</td>\n",
       "      <td>no</td>\n",
       "      <td>no</td>\n",
       "      <td>no</td>\n",
       "      <td>good</td>\n",
       "      <td>no</td>\n",
       "      <td>no</td>\n",
       "      <td>notckd</td>\n",
       "    </tr>\n",
       "    <tr>\n",
       "      <th>396</th>\n",
       "      <td>42.0</td>\n",
       "      <td>70.0</td>\n",
       "      <td>1.025</td>\n",
       "      <td>0.0</td>\n",
       "      <td>0.0</td>\n",
       "      <td>normal</td>\n",
       "      <td>normal</td>\n",
       "      <td>notpresent</td>\n",
       "      <td>notpresent</td>\n",
       "      <td>75.0</td>\n",
       "      <td>...</td>\n",
       "      <td>54</td>\n",
       "      <td>7800</td>\n",
       "      <td>6.2</td>\n",
       "      <td>no</td>\n",
       "      <td>no</td>\n",
       "      <td>no</td>\n",
       "      <td>good</td>\n",
       "      <td>no</td>\n",
       "      <td>no</td>\n",
       "      <td>notckd</td>\n",
       "    </tr>\n",
       "    <tr>\n",
       "      <th>397</th>\n",
       "      <td>12.0</td>\n",
       "      <td>80.0</td>\n",
       "      <td>1.020</td>\n",
       "      <td>0.0</td>\n",
       "      <td>0.0</td>\n",
       "      <td>normal</td>\n",
       "      <td>normal</td>\n",
       "      <td>notpresent</td>\n",
       "      <td>notpresent</td>\n",
       "      <td>100.0</td>\n",
       "      <td>...</td>\n",
       "      <td>49</td>\n",
       "      <td>6600</td>\n",
       "      <td>5.4</td>\n",
       "      <td>no</td>\n",
       "      <td>no</td>\n",
       "      <td>no</td>\n",
       "      <td>good</td>\n",
       "      <td>no</td>\n",
       "      <td>no</td>\n",
       "      <td>notckd</td>\n",
       "    </tr>\n",
       "    <tr>\n",
       "      <th>398</th>\n",
       "      <td>17.0</td>\n",
       "      <td>60.0</td>\n",
       "      <td>1.025</td>\n",
       "      <td>0.0</td>\n",
       "      <td>0.0</td>\n",
       "      <td>normal</td>\n",
       "      <td>normal</td>\n",
       "      <td>notpresent</td>\n",
       "      <td>notpresent</td>\n",
       "      <td>114.0</td>\n",
       "      <td>...</td>\n",
       "      <td>51</td>\n",
       "      <td>7200</td>\n",
       "      <td>5.9</td>\n",
       "      <td>no</td>\n",
       "      <td>no</td>\n",
       "      <td>no</td>\n",
       "      <td>good</td>\n",
       "      <td>no</td>\n",
       "      <td>no</td>\n",
       "      <td>notckd</td>\n",
       "    </tr>\n",
       "    <tr>\n",
       "      <th>399</th>\n",
       "      <td>58.0</td>\n",
       "      <td>80.0</td>\n",
       "      <td>1.025</td>\n",
       "      <td>0.0</td>\n",
       "      <td>0.0</td>\n",
       "      <td>normal</td>\n",
       "      <td>normal</td>\n",
       "      <td>notpresent</td>\n",
       "      <td>notpresent</td>\n",
       "      <td>131.0</td>\n",
       "      <td>...</td>\n",
       "      <td>53</td>\n",
       "      <td>6800</td>\n",
       "      <td>6.1</td>\n",
       "      <td>no</td>\n",
       "      <td>no</td>\n",
       "      <td>no</td>\n",
       "      <td>good</td>\n",
       "      <td>no</td>\n",
       "      <td>no</td>\n",
       "      <td>notckd</td>\n",
       "    </tr>\n",
       "  </tbody>\n",
       "</table>\n",
       "<p>400 rows × 25 columns</p>\n",
       "</div>"
      ],
      "text/plain": [
       "      age    bp     sg   al   su     rbc        pc         pcc          ba  \\\n",
       "0    48.0  80.0  1.020  1.0  0.0     NaN    normal  notpresent  notpresent   \n",
       "1     7.0  50.0  1.020  4.0  0.0     NaN    normal  notpresent  notpresent   \n",
       "2    62.0  80.0  1.010  2.0  3.0  normal    normal  notpresent  notpresent   \n",
       "3    48.0  70.0  1.005  4.0  0.0  normal  abnormal     present  notpresent   \n",
       "4    51.0  80.0  1.010  2.0  0.0  normal    normal  notpresent  notpresent   \n",
       "..    ...   ...    ...  ...  ...     ...       ...         ...         ...   \n",
       "395  55.0  80.0  1.020  0.0  0.0  normal    normal  notpresent  notpresent   \n",
       "396  42.0  70.0  1.025  0.0  0.0  normal    normal  notpresent  notpresent   \n",
       "397  12.0  80.0  1.020  0.0  0.0  normal    normal  notpresent  notpresent   \n",
       "398  17.0  60.0  1.025  0.0  0.0  normal    normal  notpresent  notpresent   \n",
       "399  58.0  80.0  1.025  0.0  0.0  normal    normal  notpresent  notpresent   \n",
       "\n",
       "       bgr  ...  pcv    wc   rc  htn   dm cad appet   pe  ane classification  \n",
       "0    121.0  ...   44  7800  5.2  yes  yes  no  good   no   no            ckd  \n",
       "1      NaN  ...   38  6000  NaN   no   no  no  good   no   no            ckd  \n",
       "2    423.0  ...   31  7500  NaN   no  yes  no  poor   no  yes            ckd  \n",
       "3    117.0  ...   32  6700  3.9  yes   no  no  poor  yes  yes            ckd  \n",
       "4    106.0  ...   35  7300  4.6   no   no  no  good   no   no            ckd  \n",
       "..     ...  ...  ...   ...  ...  ...  ...  ..   ...  ...  ...            ...  \n",
       "395  140.0  ...   47  6700  4.9   no   no  no  good   no   no         notckd  \n",
       "396   75.0  ...   54  7800  6.2   no   no  no  good   no   no         notckd  \n",
       "397  100.0  ...   49  6600  5.4   no   no  no  good   no   no         notckd  \n",
       "398  114.0  ...   51  7200  5.9   no   no  no  good   no   no         notckd  \n",
       "399  131.0  ...   53  6800  6.1   no   no  no  good   no   no         notckd  \n",
       "\n",
       "[400 rows x 25 columns]"
      ]
     },
     "metadata": {},
     "output_type": "display_data"
    },
    {
     "data": {
      "text/plain": [
       "age               float64\n",
       "bp                float64\n",
       "sg                float64\n",
       "al                float64\n",
       "su                float64\n",
       "rbc                object\n",
       "pc                 object\n",
       "pcc                object\n",
       "ba                 object\n",
       "bgr               float64\n",
       "bu                float64\n",
       "sc                float64\n",
       "sod               float64\n",
       "pot               float64\n",
       "hemo              float64\n",
       "pcv                object\n",
       "wc                 object\n",
       "rc                 object\n",
       "htn                object\n",
       "dm                 object\n",
       "cad                object\n",
       "appet              object\n",
       "pe                 object\n",
       "ane                object\n",
       "classification     object\n",
       "dtype: object"
      ]
     },
     "execution_count": 2,
     "metadata": {},
     "output_type": "execute_result"
    }
   ],
   "source": [
    "df = pd.read_csv('Chronic_Kidney_Disease/kidney_disease.csv')\n",
    "\n",
    "df.drop(columns='id', inplace=True)\n",
    "\n",
    "df = df.replace(r' ', '', regex=True)\n",
    "df = df.replace(r'\\t', '', regex=True)\n",
    "for i in range(len(df)):\n",
    "    for col in df:\n",
    "        if df[col].dtype == np.dtype('object'):\n",
    "            if df.at[i, col] == '?':\n",
    "                df.at[i, col] = np.nan\n",
    "        else:\n",
    "            if pd.isna(df.loc[i, col]):\n",
    "                df.at[i, col] = np.nan\n",
    "\n",
    "display(df)\n",
    "\n",
    "df.dtypes"
   ]
  },
  {
   "cell_type": "code",
   "execution_count": 3,
   "id": "bb09abd1",
   "metadata": {},
   "outputs": [],
   "source": [
    "num_col=[col for col in df.columns if df[col].dtype !='object'] # numeric\n",
    "cat_col=[col for col in df.columns if df[col].dtype =='object'] # categoric\n",
    "df['classification'] = df['classification'].map({'ckd': 0, 'notckd': 1})"
   ]
  },
  {
   "cell_type": "markdown",
   "id": "ccb1b815",
   "metadata": {},
   "source": [
    "#### Filling Missing Values"
   ]
  },
  {
   "cell_type": "code",
   "execution_count": 4,
   "id": "5440d2a4",
   "metadata": {
    "scrolled": true
   },
   "outputs": [
    {
     "data": {
      "text/plain": [
       "rbc               0\n",
       "pc                0\n",
       "pcc               0\n",
       "ba                0\n",
       "pcv               0\n",
       "wc                0\n",
       "rc                0\n",
       "htn               0\n",
       "dm                0\n",
       "cad               0\n",
       "appet             0\n",
       "pe                0\n",
       "ane               0\n",
       "classification    0\n",
       "dtype: int64"
      ]
     },
     "execution_count": 4,
     "metadata": {},
     "output_type": "execute_result"
    }
   ],
   "source": [
    "def solve_mv_mode(feature):\n",
    "    mode=df[feature].mode()[0]\n",
    "    df[feature]=df[feature].fillna(mode)\n",
    "    \n",
    "for col in cat_col:\n",
    "    solve_mv_mode(col)\n",
    "df[cat_col].isna().sum()"
   ]
  },
  {
   "cell_type": "code",
   "execution_count": 5,
   "id": "aa1fe2de",
   "metadata": {},
   "outputs": [
    {
     "name": "stdout",
     "output_type": "stream",
     "text": [
      "['rbc', 'pc', 'pcc', 'ba', 'pcv', 'wc', 'rc', 'htn', 'dm', 'cad', 'appet', 'pe', 'ane']\n",
      "['age', 'bp', 'sg', 'al', 'su', 'bgr', 'bu', 'sc', 'sod', 'pot', 'hemo']\n"
     ]
    }
   ],
   "source": [
    "CATEGORICAL_FEATURES = df.select_dtypes(include=['object']).columns.tolist()\n",
    "print(CATEGORICAL_FEATURES)\n",
    "\n",
    "NUMERIC_FEATURES = df.select_dtypes(exclude=['object']).columns.tolist()\n",
    "NUMERIC_FEATURES.remove('classification')\n",
    "print(NUMERIC_FEATURES)\n",
    "\n",
    "FEATURES = list(NUMERIC_FEATURES) + list(CATEGORICAL_FEATURES)\n",
    "LABEL_Y = 'classification'"
   ]
  },
  {
   "cell_type": "code",
   "execution_count": 6,
   "id": "45e60304",
   "metadata": {
    "scrolled": true
   },
   "outputs": [
    {
     "name": "stdout",
     "output_type": "stream",
     "text": [
      "0    198\n",
      "1    122\n",
      "Name: classification, dtype: int64\n",
      "0    52\n",
      "1    28\n",
      "Name: classification, dtype: int64\n"
     ]
    }
   ],
   "source": [
    "train_data, test_data = train_test_split(df, test_size=0.20, random_state=42)\n",
    "print(round(train_data[LABEL_Y].value_counts(),4))\n",
    "print(round(test_data[LABEL_Y].value_counts(),4)) "
   ]
  },
  {
   "cell_type": "code",
   "execution_count": 7,
   "id": "ae51e10d",
   "metadata": {},
   "outputs": [
    {
     "data": {
      "text/plain": [
       "((272, 25), (48, 25), (80, 25))"
      ]
     },
     "execution_count": 7,
     "metadata": {},
     "output_type": "execute_result"
    }
   ],
   "source": [
    "train_data, val_data = train_test_split(train_data, test_size=0.15, stratify=train_data['classification'])\n",
    "train_data.shape, val_data.shape, test_data.shape"
   ]
  },
  {
   "cell_type": "markdown",
   "id": "1b1e343f",
   "metadata": {},
   "source": [
    "#### Numeric Cleaning"
   ]
  },
  {
   "cell_type": "code",
   "execution_count": 8,
   "id": "e797ed33",
   "metadata": {},
   "outputs": [
    {
     "data": {
      "text/plain": [
       "Pipeline(steps=[('impute', SimpleImputer(strategy='median')),\n",
       "                ('scale', StandardScaler())])"
      ]
     },
     "execution_count": 8,
     "metadata": {},
     "output_type": "execute_result"
    }
   ],
   "source": [
    "imputer = SimpleImputer(strategy='median')\n",
    "scaler = StandardScaler()\n",
    "\n",
    "numeric_pipe = Pipeline([\n",
    "    ('impute', imputer),\n",
    "    ('scale', scaler),\n",
    "])\n",
    "\n",
    "numeric_pipe.fit(train_data[NUMERIC_FEATURES])"
   ]
  },
  {
   "cell_type": "code",
   "execution_count": 9,
   "id": "15f55e83",
   "metadata": {},
   "outputs": [],
   "source": [
    "train_data[NUMERIC_FEATURES] = numeric_pipe.transform(train_data[NUMERIC_FEATURES])\n",
    "val_data[NUMERIC_FEATURES] = numeric_pipe.transform(val_data[NUMERIC_FEATURES])\n",
    "test_data[NUMERIC_FEATURES] = numeric_pipe.transform(test_data[NUMERIC_FEATURES])"
   ]
  },
  {
   "cell_type": "markdown",
   "id": "769f7723",
   "metadata": {},
   "source": [
    "#### TF Datasets"
   ]
  },
  {
   "cell_type": "code",
   "execution_count": 10,
   "id": "2a5f11fe",
   "metadata": {},
   "outputs": [],
   "source": [
    "train_data[CATEGORICAL_FEATURES] = train_data[CATEGORICAL_FEATURES].astype(str)\n",
    "val_data[CATEGORICAL_FEATURES] = val_data[CATEGORICAL_FEATURES].astype(str)\n",
    "test_data[CATEGORICAL_FEATURES] = test_data[CATEGORICAL_FEATURES].astype(str)\n",
    "\n",
    "train_data[NUMERIC_FEATURES] = train_data[NUMERIC_FEATURES].astype(float)\n",
    "val_data[NUMERIC_FEATURES] = val_data[NUMERIC_FEATURES].astype(float)\n",
    "test_data[NUMERIC_FEATURES] = test_data[NUMERIC_FEATURES].astype(float)"
   ]
  },
  {
   "cell_type": "code",
   "execution_count": 11,
   "id": "1a1e5c76",
   "metadata": {
    "scrolled": true
   },
   "outputs": [
    {
     "name": "stderr",
     "output_type": "stream",
     "text": [
      "C:\\Users\\raulg\\anaconda3\\envs\\TFM37\\lib\\site-packages\\tabtransformertf\\utils\\preprocessing.py:21: FutureWarning: Support for multi-dimensional indexing (e.g. `obj[:, None]`) is deprecated and will be removed in a future version.  Convert to a numpy array before indexing instead.\n",
      "  dataset[key] = value[:, tf.newaxis]\n",
      "C:\\Users\\raulg\\anaconda3\\envs\\TFM37\\lib\\site-packages\\tabtransformertf\\utils\\preprocessing.py:27: FutureWarning: Support for multi-dimensional indexing (e.g. `obj[:, None]`) is deprecated and will be removed in a future version.  Convert to a numpy array before indexing instead.\n",
      "  dataset[key] = value[:, tf.newaxis]\n"
     ]
    }
   ],
   "source": [
    "train_dataset = df_to_dataset(train_data[FEATURES + [LABEL_Y]], LABEL_Y, batch_size=3072)\n",
    "val_dataset = df_to_dataset(val_data[FEATURES + [LABEL_Y]], LABEL_Y, shuffle=False, batch_size=3072)\n",
    "test_dataset = df_to_dataset(test_data[FEATURES], shuffle=False, batch_size=3072)"
   ]
  },
  {
   "cell_type": "code",
   "execution_count": 12,
   "id": "77c97bb2",
   "metadata": {},
   "outputs": [
    {
     "name": "stderr",
     "output_type": "stream",
     "text": [
      "100%|██████████| 13/13 [00:00<00:00, 324.80it/s]\n"
     ]
    }
   ],
   "source": [
    "category_prep_layers = build_categorical_prep(train_data, CATEGORICAL_FEATURES)"
   ]
  },
  {
   "cell_type": "code",
   "execution_count": 37,
   "id": "fe0b4ba2",
   "metadata": {},
   "outputs": [
    {
     "name": "stderr",
     "output_type": "stream",
     "text": [
      "C:\\Users\\raulg\\anaconda3\\envs\\TFM37\\lib\\site-packages\\tqdm\\auto.py:21: TqdmWarning: IProgress not found. Please update jupyter and ipywidgets. See https://ipywidgets.readthedocs.io/en/stable/user_install.html\n",
      "  from .autonotebook import tqdm as notebook_tqdm\n",
      "[I 2024-12-23 18:50:57,503] A new study created in memory with name: no-name-7a3489e1-a3cc-480b-9b52-b3a53c8a5485\n",
      "C:\\Users\\raulg\\anaconda3\\envs\\TFM37\\lib\\site-packages\\ipykernel_launcher.py:7: FutureWarning: suggest_int() got {'step'} as positional arguments but they were expected to be given as keyword arguments.\n",
      "  import sys\n",
      "C:\\Users\\raulg\\anaconda3\\envs\\TFM37\\lib\\site-packages\\ipykernel_launcher.py:8: FutureWarning: suggest_int() got {'step'} as positional arguments but they were expected to be given as keyword arguments.\n",
      "  \n",
      "C:\\Users\\raulg\\anaconda3\\envs\\TFM37\\lib\\site-packages\\ipykernel_launcher.py:11: FutureWarning: suggest_int() got {'step'} as positional arguments but they were expected to be given as keyword arguments.\n",
      "  # This is added back by InteractiveShellApp.init_path()\n",
      "C:\\Users\\raulg\\anaconda3\\envs\\TFM37\\lib\\site-packages\\ipykernel_launcher.py:12: FutureWarning: suggest_int() got {'step'} as positional arguments but they were expected to be given as keyword arguments.\n",
      "  if sys.path[0] == \"\":\n"
     ]
    },
    {
     "name": "stdout",
     "output_type": "stream",
     "text": [
      "1/1 [==============================] - 1s 570ms/step\n"
     ]
    },
    {
     "name": "stderr",
     "output_type": "stream",
     "text": [
      "[I 2024-12-23 18:51:08,645] Trial 0 finished with value: 0.9925925925925926 and parameters: {'embedding_dim': 16, 'depth': 3, 'heads': 5, 'attn_dropout': 0.27214026754753584, 'ff_dropout': 0.31285001770924725, 'mlp_hidden_factor1': 3, 'mlp_hidden_factor2': 4, 'use_column_embedding': False}. Best is trial 0 with value: 0.9925925925925926.\n",
      "C:\\Users\\raulg\\anaconda3\\envs\\TFM37\\lib\\site-packages\\ipykernel_launcher.py:7: FutureWarning: suggest_int() got {'step'} as positional arguments but they were expected to be given as keyword arguments.\n",
      "  import sys\n",
      "C:\\Users\\raulg\\anaconda3\\envs\\TFM37\\lib\\site-packages\\ipykernel_launcher.py:8: FutureWarning: suggest_int() got {'step'} as positional arguments but they were expected to be given as keyword arguments.\n",
      "  \n",
      "C:\\Users\\raulg\\anaconda3\\envs\\TFM37\\lib\\site-packages\\ipykernel_launcher.py:11: FutureWarning: suggest_int() got {'step'} as positional arguments but they were expected to be given as keyword arguments.\n",
      "  # This is added back by InteractiveShellApp.init_path()\n",
      "C:\\Users\\raulg\\anaconda3\\envs\\TFM37\\lib\\site-packages\\ipykernel_launcher.py:12: FutureWarning: suggest_int() got {'step'} as positional arguments but they were expected to be given as keyword arguments.\n",
      "  if sys.path[0] == \"\":\n"
     ]
    },
    {
     "name": "stdout",
     "output_type": "stream",
     "text": [
      "1/1 [==============================] - 0s 323ms/step\n"
     ]
    },
    {
     "name": "stderr",
     "output_type": "stream",
     "text": [
      "[I 2024-12-23 18:51:15,768] Trial 1 finished with value: 0.987037037037037 and parameters: {'embedding_dim': 64, 'depth': 1, 'heads': 7, 'attn_dropout': 0.21632696266430312, 'ff_dropout': 0.3471149321973809, 'mlp_hidden_factor1': 4, 'mlp_hidden_factor2': 2, 'use_column_embedding': False}. Best is trial 0 with value: 0.9925925925925926.\n",
      "C:\\Users\\raulg\\anaconda3\\envs\\TFM37\\lib\\site-packages\\ipykernel_launcher.py:7: FutureWarning: suggest_int() got {'step'} as positional arguments but they were expected to be given as keyword arguments.\n",
      "  import sys\n",
      "C:\\Users\\raulg\\anaconda3\\envs\\TFM37\\lib\\site-packages\\ipykernel_launcher.py:8: FutureWarning: suggest_int() got {'step'} as positional arguments but they were expected to be given as keyword arguments.\n",
      "  \n",
      "C:\\Users\\raulg\\anaconda3\\envs\\TFM37\\lib\\site-packages\\ipykernel_launcher.py:11: FutureWarning: suggest_int() got {'step'} as positional arguments but they were expected to be given as keyword arguments.\n",
      "  # This is added back by InteractiveShellApp.init_path()\n",
      "C:\\Users\\raulg\\anaconda3\\envs\\TFM37\\lib\\site-packages\\ipykernel_launcher.py:12: FutureWarning: suggest_int() got {'step'} as positional arguments but they were expected to be given as keyword arguments.\n",
      "  if sys.path[0] == \"\":\n"
     ]
    },
    {
     "name": "stdout",
     "output_type": "stream",
     "text": [
      "1/1 [==============================] - 0s 320ms/step\n"
     ]
    },
    {
     "name": "stderr",
     "output_type": "stream",
     "text": [
      "[I 2024-12-23 18:51:21,725] Trial 2 finished with value: 0.9944444444444445 and parameters: {'embedding_dim': 16, 'depth': 1, 'heads': 6, 'attn_dropout': 0.16450901760523978, 'ff_dropout': 0.2590663567777139, 'mlp_hidden_factor1': 1, 'mlp_hidden_factor2': 4, 'use_column_embedding': True}. Best is trial 2 with value: 0.9944444444444445.\n",
      "C:\\Users\\raulg\\anaconda3\\envs\\TFM37\\lib\\site-packages\\ipykernel_launcher.py:7: FutureWarning: suggest_int() got {'step'} as positional arguments but they were expected to be given as keyword arguments.\n",
      "  import sys\n",
      "C:\\Users\\raulg\\anaconda3\\envs\\TFM37\\lib\\site-packages\\ipykernel_launcher.py:8: FutureWarning: suggest_int() got {'step'} as positional arguments but they were expected to be given as keyword arguments.\n",
      "  \n",
      "C:\\Users\\raulg\\anaconda3\\envs\\TFM37\\lib\\site-packages\\ipykernel_launcher.py:11: FutureWarning: suggest_int() got {'step'} as positional arguments but they were expected to be given as keyword arguments.\n",
      "  # This is added back by InteractiveShellApp.init_path()\n",
      "C:\\Users\\raulg\\anaconda3\\envs\\TFM37\\lib\\site-packages\\ipykernel_launcher.py:12: FutureWarning: suggest_int() got {'step'} as positional arguments but they were expected to be given as keyword arguments.\n",
      "  if sys.path[0] == \"\":\n"
     ]
    },
    {
     "name": "stdout",
     "output_type": "stream",
     "text": [
      "1/1 [==============================] - 1s 755ms/step\n"
     ]
    },
    {
     "name": "stderr",
     "output_type": "stream",
     "text": [
      "[I 2024-12-23 18:51:42,119] Trial 3 finished with value: 1.0 and parameters: {'embedding_dim': 32, 'depth': 5, 'heads': 3, 'attn_dropout': 0.3618873475905729, 'ff_dropout': 0.4067723058777808, 'mlp_hidden_factor1': 1, 'mlp_hidden_factor2': 4, 'use_column_embedding': True}. Best is trial 3 with value: 1.0.\n",
      "C:\\Users\\raulg\\anaconda3\\envs\\TFM37\\lib\\site-packages\\ipykernel_launcher.py:7: FutureWarning: suggest_int() got {'step'} as positional arguments but they were expected to be given as keyword arguments.\n",
      "  import sys\n",
      "C:\\Users\\raulg\\anaconda3\\envs\\TFM37\\lib\\site-packages\\ipykernel_launcher.py:8: FutureWarning: suggest_int() got {'step'} as positional arguments but they were expected to be given as keyword arguments.\n",
      "  \n",
      "C:\\Users\\raulg\\anaconda3\\envs\\TFM37\\lib\\site-packages\\ipykernel_launcher.py:11: FutureWarning: suggest_int() got {'step'} as positional arguments but they were expected to be given as keyword arguments.\n",
      "  # This is added back by InteractiveShellApp.init_path()\n",
      "C:\\Users\\raulg\\anaconda3\\envs\\TFM37\\lib\\site-packages\\ipykernel_launcher.py:12: FutureWarning: suggest_int() got {'step'} as positional arguments but they were expected to be given as keyword arguments.\n",
      "  if sys.path[0] == \"\":\n"
     ]
    },
    {
     "name": "stdout",
     "output_type": "stream",
     "text": [
      "WARNING:tensorflow:5 out of the last 5 calls to <function Model.make_predict_function.<locals>.predict_function at 0x00000292393D8828> triggered tf.function retracing. Tracing is expensive and the excessive number of tracings could be due to (1) creating @tf.function repeatedly in a loop, (2) passing tensors with different shapes, (3) passing Python objects instead of tensors. For (1), please define your @tf.function outside of the loop. For (2), @tf.function has reduce_retracing=True option that can avoid unnecessary retracing. For (3), please refer to https://www.tensorflow.org/guide/function#controlling_retracing and https://www.tensorflow.org/api_docs/python/tf/function for  more details.\n",
      "1/1 [==============================] - 1s 649ms/step\n"
     ]
    },
    {
     "name": "stderr",
     "output_type": "stream",
     "text": [
      "[I 2024-12-23 18:51:53,565] Trial 4 finished with value: 0.9888888888888889 and parameters: {'embedding_dim': 16, 'depth': 4, 'heads': 6, 'attn_dropout': 0.24967797465340585, 'ff_dropout': 0.13438990332063805, 'mlp_hidden_factor1': 1, 'mlp_hidden_factor2': 1, 'use_column_embedding': False}. Best is trial 3 with value: 1.0.\n",
      "C:\\Users\\raulg\\anaconda3\\envs\\TFM37\\lib\\site-packages\\ipykernel_launcher.py:7: FutureWarning: suggest_int() got {'step'} as positional arguments but they were expected to be given as keyword arguments.\n",
      "  import sys\n",
      "C:\\Users\\raulg\\anaconda3\\envs\\TFM37\\lib\\site-packages\\ipykernel_launcher.py:8: FutureWarning: suggest_int() got {'step'} as positional arguments but they were expected to be given as keyword arguments.\n",
      "  \n",
      "C:\\Users\\raulg\\anaconda3\\envs\\TFM37\\lib\\site-packages\\ipykernel_launcher.py:11: FutureWarning: suggest_int() got {'step'} as positional arguments but they were expected to be given as keyword arguments.\n",
      "  # This is added back by InteractiveShellApp.init_path()\n",
      "C:\\Users\\raulg\\anaconda3\\envs\\TFM37\\lib\\site-packages\\ipykernel_launcher.py:12: FutureWarning: suggest_int() got {'step'} as positional arguments but they were expected to be given as keyword arguments.\n",
      "  if sys.path[0] == \"\":\n"
     ]
    },
    {
     "name": "stdout",
     "output_type": "stream",
     "text": [
      "WARNING:tensorflow:6 out of the last 6 calls to <function Model.make_predict_function.<locals>.predict_function at 0x0000029243786288> triggered tf.function retracing. Tracing is expensive and the excessive number of tracings could be due to (1) creating @tf.function repeatedly in a loop, (2) passing tensors with different shapes, (3) passing Python objects instead of tensors. For (1), please define your @tf.function outside of the loop. For (2), @tf.function has reduce_retracing=True option that can avoid unnecessary retracing. For (3), please refer to https://www.tensorflow.org/guide/function#controlling_retracing and https://www.tensorflow.org/api_docs/python/tf/function for  more details.\n",
      "1/1 [==============================] - 0s 432ms/step\n"
     ]
    },
    {
     "name": "stderr",
     "output_type": "stream",
     "text": [
      "[I 2024-12-23 18:52:04,200] Trial 5 finished with value: 0.9916666666666667 and parameters: {'embedding_dim': 64, 'depth': 2, 'heads': 6, 'attn_dropout': 0.10664431543216618, 'ff_dropout': 0.46239552768747955, 'mlp_hidden_factor1': 2, 'mlp_hidden_factor2': 1, 'use_column_embedding': False}. Best is trial 3 with value: 1.0.\n",
      "C:\\Users\\raulg\\anaconda3\\envs\\TFM37\\lib\\site-packages\\ipykernel_launcher.py:7: FutureWarning: suggest_int() got {'step'} as positional arguments but they were expected to be given as keyword arguments.\n",
      "  import sys\n",
      "C:\\Users\\raulg\\anaconda3\\envs\\TFM37\\lib\\site-packages\\ipykernel_launcher.py:8: FutureWarning: suggest_int() got {'step'} as positional arguments but they were expected to be given as keyword arguments.\n",
      "  \n",
      "C:\\Users\\raulg\\anaconda3\\envs\\TFM37\\lib\\site-packages\\ipykernel_launcher.py:11: FutureWarning: suggest_int() got {'step'} as positional arguments but they were expected to be given as keyword arguments.\n",
      "  # This is added back by InteractiveShellApp.init_path()\n",
      "C:\\Users\\raulg\\anaconda3\\envs\\TFM37\\lib\\site-packages\\ipykernel_launcher.py:12: FutureWarning: suggest_int() got {'step'} as positional arguments but they were expected to be given as keyword arguments.\n",
      "  if sys.path[0] == \"\":\n"
     ]
    },
    {
     "name": "stdout",
     "output_type": "stream",
     "text": [
      "1/1 [==============================] - 1s 973ms/step\n"
     ]
    },
    {
     "name": "stderr",
     "output_type": "stream",
     "text": [
      "[I 2024-12-23 18:52:26,663] Trial 6 finished with value: 0.9925925925925926 and parameters: {'embedding_dim': 8, 'depth': 6, 'heads': 8, 'attn_dropout': 0.28908718820062845, 'ff_dropout': 0.11698622116754837, 'mlp_hidden_factor1': 2, 'mlp_hidden_factor2': 4, 'use_column_embedding': False}. Best is trial 3 with value: 1.0.\n",
      "C:\\Users\\raulg\\anaconda3\\envs\\TFM37\\lib\\site-packages\\ipykernel_launcher.py:7: FutureWarning: suggest_int() got {'step'} as positional arguments but they were expected to be given as keyword arguments.\n",
      "  import sys\n",
      "C:\\Users\\raulg\\anaconda3\\envs\\TFM37\\lib\\site-packages\\ipykernel_launcher.py:8: FutureWarning: suggest_int() got {'step'} as positional arguments but they were expected to be given as keyword arguments.\n",
      "  \n",
      "C:\\Users\\raulg\\anaconda3\\envs\\TFM37\\lib\\site-packages\\ipykernel_launcher.py:11: FutureWarning: suggest_int() got {'step'} as positional arguments but they were expected to be given as keyword arguments.\n",
      "  # This is added back by InteractiveShellApp.init_path()\n",
      "C:\\Users\\raulg\\anaconda3\\envs\\TFM37\\lib\\site-packages\\ipykernel_launcher.py:12: FutureWarning: suggest_int() got {'step'} as positional arguments but they were expected to be given as keyword arguments.\n",
      "  if sys.path[0] == \"\":\n"
     ]
    },
    {
     "name": "stdout",
     "output_type": "stream",
     "text": [
      "1/1 [==============================] - 1s 651ms/step\n"
     ]
    },
    {
     "name": "stderr",
     "output_type": "stream",
     "text": [
      "[I 2024-12-23 18:52:56,351] Trial 7 finished with value: 0.9962962962962963 and parameters: {'embedding_dim': 32, 'depth': 4, 'heads': 8, 'attn_dropout': 0.12309450815907781, 'ff_dropout': 0.4612042995224015, 'mlp_hidden_factor1': 2, 'mlp_hidden_factor2': 4, 'use_column_embedding': True}. Best is trial 3 with value: 1.0.\n",
      "C:\\Users\\raulg\\anaconda3\\envs\\TFM37\\lib\\site-packages\\ipykernel_launcher.py:7: FutureWarning: suggest_int() got {'step'} as positional arguments but they were expected to be given as keyword arguments.\n",
      "  import sys\n",
      "C:\\Users\\raulg\\anaconda3\\envs\\TFM37\\lib\\site-packages\\ipykernel_launcher.py:8: FutureWarning: suggest_int() got {'step'} as positional arguments but they were expected to be given as keyword arguments.\n",
      "  \n",
      "C:\\Users\\raulg\\anaconda3\\envs\\TFM37\\lib\\site-packages\\ipykernel_launcher.py:11: FutureWarning: suggest_int() got {'step'} as positional arguments but they were expected to be given as keyword arguments.\n",
      "  # This is added back by InteractiveShellApp.init_path()\n",
      "C:\\Users\\raulg\\anaconda3\\envs\\TFM37\\lib\\site-packages\\ipykernel_launcher.py:12: FutureWarning: suggest_int() got {'step'} as positional arguments but they were expected to be given as keyword arguments.\n",
      "  if sys.path[0] == \"\":\n"
     ]
    },
    {
     "name": "stdout",
     "output_type": "stream",
     "text": [
      "1/1 [==============================] - 1s 573ms/step\n"
     ]
    },
    {
     "name": "stderr",
     "output_type": "stream",
     "text": [
      "[I 2024-12-23 18:53:18,899] Trial 8 finished with value: 0.9796296296296296 and parameters: {'embedding_dim': 64, 'depth': 3, 'heads': 5, 'attn_dropout': 0.4594055572285271, 'ff_dropout': 0.42924884581551676, 'mlp_hidden_factor1': 2, 'mlp_hidden_factor2': 2, 'use_column_embedding': False}. Best is trial 3 with value: 1.0.\n",
      "C:\\Users\\raulg\\anaconda3\\envs\\TFM37\\lib\\site-packages\\ipykernel_launcher.py:7: FutureWarning: suggest_int() got {'step'} as positional arguments but they were expected to be given as keyword arguments.\n",
      "  import sys\n",
      "C:\\Users\\raulg\\anaconda3\\envs\\TFM37\\lib\\site-packages\\ipykernel_launcher.py:8: FutureWarning: suggest_int() got {'step'} as positional arguments but they were expected to be given as keyword arguments.\n",
      "  \n",
      "C:\\Users\\raulg\\anaconda3\\envs\\TFM37\\lib\\site-packages\\ipykernel_launcher.py:11: FutureWarning: suggest_int() got {'step'} as positional arguments but they were expected to be given as keyword arguments.\n",
      "  # This is added back by InteractiveShellApp.init_path()\n",
      "C:\\Users\\raulg\\anaconda3\\envs\\TFM37\\lib\\site-packages\\ipykernel_launcher.py:12: FutureWarning: suggest_int() got {'step'} as positional arguments but they were expected to be given as keyword arguments.\n",
      "  if sys.path[0] == \"\":\n"
     ]
    },
    {
     "name": "stdout",
     "output_type": "stream",
     "text": [
      "1/1 [==============================] - 1s 574ms/step\n"
     ]
    },
    {
     "name": "stderr",
     "output_type": "stream",
     "text": [
      "[I 2024-12-23 18:53:39,355] Trial 9 finished with value: 0.9907407407407407 and parameters: {'embedding_dim': 64, 'depth': 3, 'heads': 7, 'attn_dropout': 0.43436766363039103, 'ff_dropout': 0.45424729903111155, 'mlp_hidden_factor1': 3, 'mlp_hidden_factor2': 1, 'use_column_embedding': False}. Best is trial 3 with value: 1.0.\n",
      "C:\\Users\\raulg\\anaconda3\\envs\\TFM37\\lib\\site-packages\\ipykernel_launcher.py:7: FutureWarning: suggest_int() got {'step'} as positional arguments but they were expected to be given as keyword arguments.\n",
      "  import sys\n",
      "C:\\Users\\raulg\\anaconda3\\envs\\TFM37\\lib\\site-packages\\ipykernel_launcher.py:8: FutureWarning: suggest_int() got {'step'} as positional arguments but they were expected to be given as keyword arguments.\n",
      "  \n",
      "C:\\Users\\raulg\\anaconda3\\envs\\TFM37\\lib\\site-packages\\ipykernel_launcher.py:11: FutureWarning: suggest_int() got {'step'} as positional arguments but they were expected to be given as keyword arguments.\n",
      "  # This is added back by InteractiveShellApp.init_path()\n",
      "C:\\Users\\raulg\\anaconda3\\envs\\TFM37\\lib\\site-packages\\ipykernel_launcher.py:12: FutureWarning: suggest_int() got {'step'} as positional arguments but they were expected to be given as keyword arguments.\n",
      "  if sys.path[0] == \"\":\n"
     ]
    },
    {
     "name": "stdout",
     "output_type": "stream",
     "text": [
      "1/1 [==============================] - 1s 880ms/step\n"
     ]
    },
    {
     "name": "stderr",
     "output_type": "stream",
     "text": [
      "[I 2024-12-23 18:54:14,171] Trial 10 finished with value: 0.9981481481481481 and parameters: {'embedding_dim': 32, 'depth': 6, 'heads': 2, 'attn_dropout': 0.37269497642381555, 'ff_dropout': 0.2306232750542328, 'mlp_hidden_factor1': 1, 'mlp_hidden_factor2': 3, 'use_column_embedding': True}. Best is trial 3 with value: 1.0.\n",
      "C:\\Users\\raulg\\anaconda3\\envs\\TFM37\\lib\\site-packages\\ipykernel_launcher.py:7: FutureWarning: suggest_int() got {'step'} as positional arguments but they were expected to be given as keyword arguments.\n",
      "  import sys\n",
      "C:\\Users\\raulg\\anaconda3\\envs\\TFM37\\lib\\site-packages\\ipykernel_launcher.py:8: FutureWarning: suggest_int() got {'step'} as positional arguments but they were expected to be given as keyword arguments.\n",
      "  \n",
      "C:\\Users\\raulg\\anaconda3\\envs\\TFM37\\lib\\site-packages\\ipykernel_launcher.py:11: FutureWarning: suggest_int() got {'step'} as positional arguments but they were expected to be given as keyword arguments.\n",
      "  # This is added back by InteractiveShellApp.init_path()\n",
      "C:\\Users\\raulg\\anaconda3\\envs\\TFM37\\lib\\site-packages\\ipykernel_launcher.py:12: FutureWarning: suggest_int() got {'step'} as positional arguments but they were expected to be given as keyword arguments.\n",
      "  if sys.path[0] == \"\":\n"
     ]
    },
    {
     "name": "stdout",
     "output_type": "stream",
     "text": [
      "1/1 [==============================] - 1s 891ms/step\n"
     ]
    },
    {
     "name": "stderr",
     "output_type": "stream",
     "text": [
      "[I 2024-12-23 18:54:42,649] Trial 11 finished with value: 1.0 and parameters: {'embedding_dim': 32, 'depth': 6, 'heads': 2, 'attn_dropout': 0.3721755339803904, 'ff_dropout': 0.21082198220573536, 'mlp_hidden_factor1': 1, 'mlp_hidden_factor2': 3, 'use_column_embedding': True}. Best is trial 3 with value: 1.0.\n",
      "C:\\Users\\raulg\\anaconda3\\envs\\TFM37\\lib\\site-packages\\ipykernel_launcher.py:7: FutureWarning: suggest_int() got {'step'} as positional arguments but they were expected to be given as keyword arguments.\n",
      "  import sys\n",
      "C:\\Users\\raulg\\anaconda3\\envs\\TFM37\\lib\\site-packages\\ipykernel_launcher.py:8: FutureWarning: suggest_int() got {'step'} as positional arguments but they were expected to be given as keyword arguments.\n",
      "  \n",
      "C:\\Users\\raulg\\anaconda3\\envs\\TFM37\\lib\\site-packages\\ipykernel_launcher.py:11: FutureWarning: suggest_int() got {'step'} as positional arguments but they were expected to be given as keyword arguments.\n",
      "  # This is added back by InteractiveShellApp.init_path()\n",
      "C:\\Users\\raulg\\anaconda3\\envs\\TFM37\\lib\\site-packages\\ipykernel_launcher.py:12: FutureWarning: suggest_int() got {'step'} as positional arguments but they were expected to be given as keyword arguments.\n",
      "  if sys.path[0] == \"\":\n"
     ]
    },
    {
     "name": "stdout",
     "output_type": "stream",
     "text": [
      "1/1 [==============================] - 1s 766ms/step\n"
     ]
    },
    {
     "name": "stderr",
     "output_type": "stream",
     "text": [
      "[I 2024-12-23 18:55:03,103] Trial 12 finished with value: 0.9944444444444445 and parameters: {'embedding_dim': 32, 'depth': 5, 'heads': 2, 'attn_dropout': 0.3591354991002406, 'ff_dropout': 0.20800378681750442, 'mlp_hidden_factor1': 1, 'mlp_hidden_factor2': 3, 'use_column_embedding': True}. Best is trial 3 with value: 1.0.\n",
      "C:\\Users\\raulg\\anaconda3\\envs\\TFM37\\lib\\site-packages\\ipykernel_launcher.py:7: FutureWarning: suggest_int() got {'step'} as positional arguments but they were expected to be given as keyword arguments.\n",
      "  import sys\n",
      "C:\\Users\\raulg\\anaconda3\\envs\\TFM37\\lib\\site-packages\\ipykernel_launcher.py:8: FutureWarning: suggest_int() got {'step'} as positional arguments but they were expected to be given as keyword arguments.\n",
      "  \n",
      "C:\\Users\\raulg\\anaconda3\\envs\\TFM37\\lib\\site-packages\\ipykernel_launcher.py:11: FutureWarning: suggest_int() got {'step'} as positional arguments but they were expected to be given as keyword arguments.\n",
      "  # This is added back by InteractiveShellApp.init_path()\n",
      "C:\\Users\\raulg\\anaconda3\\envs\\TFM37\\lib\\site-packages\\ipykernel_launcher.py:12: FutureWarning: suggest_int() got {'step'} as positional arguments but they were expected to be given as keyword arguments.\n",
      "  if sys.path[0] == \"\":\n"
     ]
    },
    {
     "name": "stdout",
     "output_type": "stream",
     "text": [
      "1/1 [==============================] - 1s 775ms/step\n"
     ]
    },
    {
     "name": "stderr",
     "output_type": "stream",
     "text": [
      "[I 2024-12-23 18:55:37,854] Trial 13 finished with value: 1.0 and parameters: {'embedding_dim': 32, 'depth': 5, 'heads': 3, 'attn_dropout': 0.3586387019663474, 'ff_dropout': 0.37814338598753416, 'mlp_hidden_factor1': 1, 'mlp_hidden_factor2': 3, 'use_column_embedding': True}. Best is trial 3 with value: 1.0.\n",
      "C:\\Users\\raulg\\anaconda3\\envs\\TFM37\\lib\\site-packages\\ipykernel_launcher.py:7: FutureWarning: suggest_int() got {'step'} as positional arguments but they were expected to be given as keyword arguments.\n",
      "  import sys\n",
      "C:\\Users\\raulg\\anaconda3\\envs\\TFM37\\lib\\site-packages\\ipykernel_launcher.py:8: FutureWarning: suggest_int() got {'step'} as positional arguments but they were expected to be given as keyword arguments.\n",
      "  \n",
      "C:\\Users\\raulg\\anaconda3\\envs\\TFM37\\lib\\site-packages\\ipykernel_launcher.py:11: FutureWarning: suggest_int() got {'step'} as positional arguments but they were expected to be given as keyword arguments.\n",
      "  # This is added back by InteractiveShellApp.init_path()\n",
      "C:\\Users\\raulg\\anaconda3\\envs\\TFM37\\lib\\site-packages\\ipykernel_launcher.py:12: FutureWarning: suggest_int() got {'step'} as positional arguments but they were expected to be given as keyword arguments.\n",
      "  if sys.path[0] == \"\":\n"
     ]
    },
    {
     "name": "stdout",
     "output_type": "stream",
     "text": [
      "1/1 [==============================] - 1s 770ms/step\n"
     ]
    },
    {
     "name": "stderr",
     "output_type": "stream",
     "text": [
      "[I 2024-12-23 18:55:58,163] Trial 14 finished with value: 1.0 and parameters: {'embedding_dim': 32, 'depth': 5, 'heads': 3, 'attn_dropout': 0.40564317265765565, 'ff_dropout': 0.053201259877471624, 'mlp_hidden_factor1': 4, 'mlp_hidden_factor2': 3, 'use_column_embedding': True}. Best is trial 3 with value: 1.0.\n",
      "C:\\Users\\raulg\\anaconda3\\envs\\TFM37\\lib\\site-packages\\ipykernel_launcher.py:7: FutureWarning: suggest_int() got {'step'} as positional arguments but they were expected to be given as keyword arguments.\n",
      "  import sys\n",
      "C:\\Users\\raulg\\anaconda3\\envs\\TFM37\\lib\\site-packages\\ipykernel_launcher.py:8: FutureWarning: suggest_int() got {'step'} as positional arguments but they were expected to be given as keyword arguments.\n",
      "  \n",
      "C:\\Users\\raulg\\anaconda3\\envs\\TFM37\\lib\\site-packages\\ipykernel_launcher.py:11: FutureWarning: suggest_int() got {'step'} as positional arguments but they were expected to be given as keyword arguments.\n",
      "  # This is added back by InteractiveShellApp.init_path()\n",
      "C:\\Users\\raulg\\anaconda3\\envs\\TFM37\\lib\\site-packages\\ipykernel_launcher.py:12: FutureWarning: suggest_int() got {'step'} as positional arguments but they were expected to be given as keyword arguments.\n",
      "  if sys.path[0] == \"\":\n"
     ]
    },
    {
     "name": "stdout",
     "output_type": "stream",
     "text": [
      "1/1 [==============================] - 1s 917ms/step\n"
     ]
    },
    {
     "name": "stderr",
     "output_type": "stream",
     "text": [
      "[I 2024-12-23 18:56:11,512] Trial 15 finished with value: 0.8629629629629629 and parameters: {'embedding_dim': 8, 'depth': 6, 'heads': 3, 'attn_dropout': 0.3188878637956918, 'ff_dropout': 0.18005688396315747, 'mlp_hidden_factor1': 1, 'mlp_hidden_factor2': 2, 'use_column_embedding': True}. Best is trial 3 with value: 1.0.\n",
      "C:\\Users\\raulg\\anaconda3\\envs\\TFM37\\lib\\site-packages\\ipykernel_launcher.py:7: FutureWarning: suggest_int() got {'step'} as positional arguments but they were expected to be given as keyword arguments.\n",
      "  import sys\n",
      "C:\\Users\\raulg\\anaconda3\\envs\\TFM37\\lib\\site-packages\\ipykernel_launcher.py:8: FutureWarning: suggest_int() got {'step'} as positional arguments but they were expected to be given as keyword arguments.\n",
      "  \n",
      "C:\\Users\\raulg\\anaconda3\\envs\\TFM37\\lib\\site-packages\\ipykernel_launcher.py:11: FutureWarning: suggest_int() got {'step'} as positional arguments but they were expected to be given as keyword arguments.\n",
      "  # This is added back by InteractiveShellApp.init_path()\n",
      "C:\\Users\\raulg\\anaconda3\\envs\\TFM37\\lib\\site-packages\\ipykernel_launcher.py:12: FutureWarning: suggest_int() got {'step'} as positional arguments but they were expected to be given as keyword arguments.\n",
      "  if sys.path[0] == \"\":\n"
     ]
    },
    {
     "name": "stdout",
     "output_type": "stream",
     "text": [
      "1/1 [==============================] - 1s 883ms/step\n"
     ]
    },
    {
     "name": "stderr",
     "output_type": "stream",
     "text": [
      "[I 2024-12-23 18:56:27,130] Trial 16 finished with value: 0.8203703703703704 and parameters: {'embedding_dim': 32, 'depth': 5, 'heads': 4, 'attn_dropout': 0.49887467538213526, 'ff_dropout': 0.29731136775038025, 'mlp_hidden_factor1': 3, 'mlp_hidden_factor2': 4, 'use_column_embedding': True}. Best is trial 3 with value: 1.0.\n",
      "C:\\Users\\raulg\\anaconda3\\envs\\TFM37\\lib\\site-packages\\ipykernel_launcher.py:7: FutureWarning: suggest_int() got {'step'} as positional arguments but they were expected to be given as keyword arguments.\n",
      "  import sys\n",
      "C:\\Users\\raulg\\anaconda3\\envs\\TFM37\\lib\\site-packages\\ipykernel_launcher.py:8: FutureWarning: suggest_int() got {'step'} as positional arguments but they were expected to be given as keyword arguments.\n",
      "  \n",
      "C:\\Users\\raulg\\anaconda3\\envs\\TFM37\\lib\\site-packages\\ipykernel_launcher.py:11: FutureWarning: suggest_int() got {'step'} as positional arguments but they were expected to be given as keyword arguments.\n",
      "  # This is added back by InteractiveShellApp.init_path()\n",
      "C:\\Users\\raulg\\anaconda3\\envs\\TFM37\\lib\\site-packages\\ipykernel_launcher.py:12: FutureWarning: suggest_int() got {'step'} as positional arguments but they were expected to be given as keyword arguments.\n",
      "  if sys.path[0] == \"\":\n"
     ]
    },
    {
     "name": "stdout",
     "output_type": "stream",
     "text": [
      "1/1 [==============================] - 1s 860ms/step\n"
     ]
    },
    {
     "name": "stderr",
     "output_type": "stream",
     "text": [
      "[I 2024-12-23 18:56:46,280] Trial 17 finished with value: 1.0 and parameters: {'embedding_dim': 32, 'depth': 6, 'heads': 4, 'attn_dropout': 0.05851191681919882, 'ff_dropout': 0.40849646816464685, 'mlp_hidden_factor1': 2, 'mlp_hidden_factor2': 3, 'use_column_embedding': True}. Best is trial 3 with value: 1.0.\n",
      "C:\\Users\\raulg\\anaconda3\\envs\\TFM37\\lib\\site-packages\\ipykernel_launcher.py:7: FutureWarning: suggest_int() got {'step'} as positional arguments but they were expected to be given as keyword arguments.\n",
      "  import sys\n",
      "C:\\Users\\raulg\\anaconda3\\envs\\TFM37\\lib\\site-packages\\ipykernel_launcher.py:8: FutureWarning: suggest_int() got {'step'} as positional arguments but they were expected to be given as keyword arguments.\n",
      "  \n",
      "C:\\Users\\raulg\\anaconda3\\envs\\TFM37\\lib\\site-packages\\ipykernel_launcher.py:11: FutureWarning: suggest_int() got {'step'} as positional arguments but they were expected to be given as keyword arguments.\n",
      "  # This is added back by InteractiveShellApp.init_path()\n",
      "C:\\Users\\raulg\\anaconda3\\envs\\TFM37\\lib\\site-packages\\ipykernel_launcher.py:12: FutureWarning: suggest_int() got {'step'} as positional arguments but they were expected to be given as keyword arguments.\n",
      "  if sys.path[0] == \"\":\n"
     ]
    },
    {
     "name": "stdout",
     "output_type": "stream",
     "text": [
      "1/1 [==============================] - 1s 642ms/step\n"
     ]
    },
    {
     "name": "stderr",
     "output_type": "stream",
     "text": [
      "[I 2024-12-23 18:57:03,412] Trial 18 finished with value: 0.9981481481481481 and parameters: {'embedding_dim': 32, 'depth': 4, 'heads': 2, 'attn_dropout': 0.32686591251728786, 'ff_dropout': 0.49728976221598387, 'mlp_hidden_factor1': 1, 'mlp_hidden_factor2': 4, 'use_column_embedding': True}. Best is trial 3 with value: 1.0.\n",
      "C:\\Users\\raulg\\anaconda3\\envs\\TFM37\\lib\\site-packages\\ipykernel_launcher.py:7: FutureWarning: suggest_int() got {'step'} as positional arguments but they were expected to be given as keyword arguments.\n",
      "  import sys\n",
      "C:\\Users\\raulg\\anaconda3\\envs\\TFM37\\lib\\site-packages\\ipykernel_launcher.py:8: FutureWarning: suggest_int() got {'step'} as positional arguments but they were expected to be given as keyword arguments.\n",
      "  \n",
      "C:\\Users\\raulg\\anaconda3\\envs\\TFM37\\lib\\site-packages\\ipykernel_launcher.py:11: FutureWarning: suggest_int() got {'step'} as positional arguments but they were expected to be given as keyword arguments.\n",
      "  # This is added back by InteractiveShellApp.init_path()\n",
      "C:\\Users\\raulg\\anaconda3\\envs\\TFM37\\lib\\site-packages\\ipykernel_launcher.py:12: FutureWarning: suggest_int() got {'step'} as positional arguments but they were expected to be given as keyword arguments.\n",
      "  if sys.path[0] == \"\":\n"
     ]
    },
    {
     "name": "stdout",
     "output_type": "stream",
     "text": [
      "1/1 [==============================] - 1s 714ms/step\n"
     ]
    },
    {
     "name": "stderr",
     "output_type": "stream",
     "text": [
      "[I 2024-12-23 18:57:22,897] Trial 19 finished with value: 0.9981481481481481 and parameters: {'embedding_dim': 8, 'depth': 5, 'heads': 4, 'attn_dropout': 0.403570298298582, 'ff_dropout': 0.35570467390007005, 'mlp_hidden_factor1': 2, 'mlp_hidden_factor2': 3, 'use_column_embedding': True}. Best is trial 3 with value: 1.0.\n",
      "C:\\Users\\raulg\\anaconda3\\envs\\TFM37\\lib\\site-packages\\ipykernel_launcher.py:7: FutureWarning: suggest_int() got {'step'} as positional arguments but they were expected to be given as keyword arguments.\n",
      "  import sys\n",
      "C:\\Users\\raulg\\anaconda3\\envs\\TFM37\\lib\\site-packages\\ipykernel_launcher.py:8: FutureWarning: suggest_int() got {'step'} as positional arguments but they were expected to be given as keyword arguments.\n",
      "  \n",
      "C:\\Users\\raulg\\anaconda3\\envs\\TFM37\\lib\\site-packages\\ipykernel_launcher.py:11: FutureWarning: suggest_int() got {'step'} as positional arguments but they were expected to be given as keyword arguments.\n",
      "  # This is added back by InteractiveShellApp.init_path()\n",
      "C:\\Users\\raulg\\anaconda3\\envs\\TFM37\\lib\\site-packages\\ipykernel_launcher.py:12: FutureWarning: suggest_int() got {'step'} as positional arguments but they were expected to be given as keyword arguments.\n",
      "  if sys.path[0] == \"\":\n"
     ]
    },
    {
     "name": "stdout",
     "output_type": "stream",
     "text": [
      "1/1 [==============================] - 1s 857ms/step\n"
     ]
    },
    {
     "name": "stderr",
     "output_type": "stream",
     "text": [
      "[I 2024-12-23 18:57:54,422] Trial 20 finished with value: 0.9962962962962963 and parameters: {'embedding_dim': 32, 'depth': 6, 'heads': 3, 'attn_dropout': 0.21498818790692656, 'ff_dropout': 0.16401351671016118, 'mlp_hidden_factor1': 1, 'mlp_hidden_factor2': 2, 'use_column_embedding': True}. Best is trial 3 with value: 1.0.\n",
      "C:\\Users\\raulg\\anaconda3\\envs\\TFM37\\lib\\site-packages\\ipykernel_launcher.py:7: FutureWarning: suggest_int() got {'step'} as positional arguments but they were expected to be given as keyword arguments.\n",
      "  import sys\n",
      "C:\\Users\\raulg\\anaconda3\\envs\\TFM37\\lib\\site-packages\\ipykernel_launcher.py:8: FutureWarning: suggest_int() got {'step'} as positional arguments but they were expected to be given as keyword arguments.\n",
      "  \n",
      "C:\\Users\\raulg\\anaconda3\\envs\\TFM37\\lib\\site-packages\\ipykernel_launcher.py:11: FutureWarning: suggest_int() got {'step'} as positional arguments but they were expected to be given as keyword arguments.\n",
      "  # This is added back by InteractiveShellApp.init_path()\n",
      "C:\\Users\\raulg\\anaconda3\\envs\\TFM37\\lib\\site-packages\\ipykernel_launcher.py:12: FutureWarning: suggest_int() got {'step'} as positional arguments but they were expected to be given as keyword arguments.\n",
      "  if sys.path[0] == \"\":\n"
     ]
    },
    {
     "name": "stdout",
     "output_type": "stream",
     "text": [
      "1/1 [==============================] - 1s 771ms/step\n"
     ]
    },
    {
     "name": "stderr",
     "output_type": "stream",
     "text": [
      "[I 2024-12-23 18:58:27,766] Trial 21 finished with value: 0.9981481481481481 and parameters: {'embedding_dim': 32, 'depth': 5, 'heads': 3, 'attn_dropout': 0.35236221175195565, 'ff_dropout': 0.37804766499550785, 'mlp_hidden_factor1': 1, 'mlp_hidden_factor2': 3, 'use_column_embedding': True}. Best is trial 3 with value: 1.0.\n",
      "C:\\Users\\raulg\\anaconda3\\envs\\TFM37\\lib\\site-packages\\ipykernel_launcher.py:7: FutureWarning: suggest_int() got {'step'} as positional arguments but they were expected to be given as keyword arguments.\n",
      "  import sys\n",
      "C:\\Users\\raulg\\anaconda3\\envs\\TFM37\\lib\\site-packages\\ipykernel_launcher.py:8: FutureWarning: suggest_int() got {'step'} as positional arguments but they were expected to be given as keyword arguments.\n",
      "  \n",
      "C:\\Users\\raulg\\anaconda3\\envs\\TFM37\\lib\\site-packages\\ipykernel_launcher.py:11: FutureWarning: suggest_int() got {'step'} as positional arguments but they were expected to be given as keyword arguments.\n",
      "  # This is added back by InteractiveShellApp.init_path()\n",
      "C:\\Users\\raulg\\anaconda3\\envs\\TFM37\\lib\\site-packages\\ipykernel_launcher.py:12: FutureWarning: suggest_int() got {'step'} as positional arguments but they were expected to be given as keyword arguments.\n",
      "  if sys.path[0] == \"\":\n"
     ]
    },
    {
     "name": "stdout",
     "output_type": "stream",
     "text": [
      "1/1 [==============================] - 1s 750ms/step\n"
     ]
    },
    {
     "name": "stderr",
     "output_type": "stream",
     "text": [
      "[I 2024-12-23 18:58:54,225] Trial 22 finished with value: 0.9981481481481481 and parameters: {'embedding_dim': 32, 'depth': 5, 'heads': 2, 'attn_dropout': 0.3818579141611607, 'ff_dropout': 0.3250331950437, 'mlp_hidden_factor1': 1, 'mlp_hidden_factor2': 3, 'use_column_embedding': True}. Best is trial 3 with value: 1.0.\n",
      "C:\\Users\\raulg\\anaconda3\\envs\\TFM37\\lib\\site-packages\\ipykernel_launcher.py:7: FutureWarning: suggest_int() got {'step'} as positional arguments but they were expected to be given as keyword arguments.\n",
      "  import sys\n",
      "C:\\Users\\raulg\\anaconda3\\envs\\TFM37\\lib\\site-packages\\ipykernel_launcher.py:8: FutureWarning: suggest_int() got {'step'} as positional arguments but they were expected to be given as keyword arguments.\n",
      "  \n",
      "C:\\Users\\raulg\\anaconda3\\envs\\TFM37\\lib\\site-packages\\ipykernel_launcher.py:11: FutureWarning: suggest_int() got {'step'} as positional arguments but they were expected to be given as keyword arguments.\n",
      "  # This is added back by InteractiveShellApp.init_path()\n",
      "C:\\Users\\raulg\\anaconda3\\envs\\TFM37\\lib\\site-packages\\ipykernel_launcher.py:12: FutureWarning: suggest_int() got {'step'} as positional arguments but they were expected to be given as keyword arguments.\n",
      "  if sys.path[0] == \"\":\n"
     ]
    },
    {
     "name": "stdout",
     "output_type": "stream",
     "text": [
      "1/1 [==============================] - 1s 637ms/step\n"
     ]
    },
    {
     "name": "stderr",
     "output_type": "stream",
     "text": [
      "[I 2024-12-23 18:59:09,735] Trial 23 finished with value: 0.9740740740740741 and parameters: {'embedding_dim': 32, 'depth': 4, 'heads': 3, 'attn_dropout': 0.3163685263974755, 'ff_dropout': 0.3874917540210172, 'mlp_hidden_factor1': 1, 'mlp_hidden_factor2': 3, 'use_column_embedding': True}. Best is trial 3 with value: 1.0.\n",
      "C:\\Users\\raulg\\anaconda3\\envs\\TFM37\\lib\\site-packages\\ipykernel_launcher.py:7: FutureWarning: suggest_int() got {'step'} as positional arguments but they were expected to be given as keyword arguments.\n",
      "  import sys\n",
      "C:\\Users\\raulg\\anaconda3\\envs\\TFM37\\lib\\site-packages\\ipykernel_launcher.py:8: FutureWarning: suggest_int() got {'step'} as positional arguments but they were expected to be given as keyword arguments.\n",
      "  \n",
      "C:\\Users\\raulg\\anaconda3\\envs\\TFM37\\lib\\site-packages\\ipykernel_launcher.py:11: FutureWarning: suggest_int() got {'step'} as positional arguments but they were expected to be given as keyword arguments.\n",
      "  # This is added back by InteractiveShellApp.init_path()\n",
      "C:\\Users\\raulg\\anaconda3\\envs\\TFM37\\lib\\site-packages\\ipykernel_launcher.py:12: FutureWarning: suggest_int() got {'step'} as positional arguments but they were expected to be given as keyword arguments.\n",
      "  if sys.path[0] == \"\":\n"
     ]
    },
    {
     "name": "stdout",
     "output_type": "stream",
     "text": [
      "1/1 [==============================] - 1s 888ms/step\n"
     ]
    },
    {
     "name": "stderr",
     "output_type": "stream",
     "text": [
      "[I 2024-12-23 18:59:32,378] Trial 24 finished with value: 0.9851851851851852 and parameters: {'embedding_dim': 32, 'depth': 6, 'heads': 4, 'attn_dropout': 0.4491368136954623, 'ff_dropout': 0.2267315031479689, 'mlp_hidden_factor1': 2, 'mlp_hidden_factor2': 4, 'use_column_embedding': True}. Best is trial 3 with value: 1.0.\n",
      "C:\\Users\\raulg\\anaconda3\\envs\\TFM37\\lib\\site-packages\\ipykernel_launcher.py:7: FutureWarning: suggest_int() got {'step'} as positional arguments but they were expected to be given as keyword arguments.\n",
      "  import sys\n",
      "C:\\Users\\raulg\\anaconda3\\envs\\TFM37\\lib\\site-packages\\ipykernel_launcher.py:8: FutureWarning: suggest_int() got {'step'} as positional arguments but they were expected to be given as keyword arguments.\n",
      "  \n",
      "C:\\Users\\raulg\\anaconda3\\envs\\TFM37\\lib\\site-packages\\ipykernel_launcher.py:11: FutureWarning: suggest_int() got {'step'} as positional arguments but they were expected to be given as keyword arguments.\n",
      "  # This is added back by InteractiveShellApp.init_path()\n",
      "C:\\Users\\raulg\\anaconda3\\envs\\TFM37\\lib\\site-packages\\ipykernel_launcher.py:12: FutureWarning: suggest_int() got {'step'} as positional arguments but they were expected to be given as keyword arguments.\n",
      "  if sys.path[0] == \"\":\n"
     ]
    },
    {
     "name": "stdout",
     "output_type": "stream",
     "text": [
      "1/1 [==============================] - 1s 740ms/step\n"
     ]
    },
    {
     "name": "stderr",
     "output_type": "stream",
     "text": [
      "[I 2024-12-23 18:59:51,527] Trial 25 finished with value: 0.9925925925925926 and parameters: {'embedding_dim': 32, 'depth': 5, 'heads': 2, 'attn_dropout': 0.41802375126788854, 'ff_dropout': 0.2728327849850002, 'mlp_hidden_factor1': 1, 'mlp_hidden_factor2': 2, 'use_column_embedding': True}. Best is trial 3 with value: 1.0.\n",
      "C:\\Users\\raulg\\anaconda3\\envs\\TFM37\\lib\\site-packages\\ipykernel_launcher.py:7: FutureWarning: suggest_int() got {'step'} as positional arguments but they were expected to be given as keyword arguments.\n",
      "  import sys\n",
      "C:\\Users\\raulg\\anaconda3\\envs\\TFM37\\lib\\site-packages\\ipykernel_launcher.py:8: FutureWarning: suggest_int() got {'step'} as positional arguments but they were expected to be given as keyword arguments.\n",
      "  \n",
      "C:\\Users\\raulg\\anaconda3\\envs\\TFM37\\lib\\site-packages\\ipykernel_launcher.py:11: FutureWarning: suggest_int() got {'step'} as positional arguments but they were expected to be given as keyword arguments.\n",
      "  # This is added back by InteractiveShellApp.init_path()\n",
      "C:\\Users\\raulg\\anaconda3\\envs\\TFM37\\lib\\site-packages\\ipykernel_launcher.py:12: FutureWarning: suggest_int() got {'step'} as positional arguments but they were expected to be given as keyword arguments.\n",
      "  if sys.path[0] == \"\":\n"
     ]
    },
    {
     "name": "stdout",
     "output_type": "stream",
     "text": [
      "1/1 [==============================] - 1s 661ms/step\n"
     ]
    },
    {
     "name": "stderr",
     "output_type": "stream",
     "text": [
      "[I 2024-12-23 19:00:07,767] Trial 26 finished with value: 0.9666666666666666 and parameters: {'embedding_dim': 32, 'depth': 4, 'heads': 3, 'attn_dropout': 0.49639240121467043, 'ff_dropout': 0.41762017218644926, 'mlp_hidden_factor1': 2, 'mlp_hidden_factor2': 3, 'use_column_embedding': True}. Best is trial 3 with value: 1.0.\n",
      "C:\\Users\\raulg\\anaconda3\\envs\\TFM37\\lib\\site-packages\\ipykernel_launcher.py:7: FutureWarning: suggest_int() got {'step'} as positional arguments but they were expected to be given as keyword arguments.\n",
      "  import sys\n",
      "C:\\Users\\raulg\\anaconda3\\envs\\TFM37\\lib\\site-packages\\ipykernel_launcher.py:8: FutureWarning: suggest_int() got {'step'} as positional arguments but they were expected to be given as keyword arguments.\n",
      "  \n",
      "C:\\Users\\raulg\\anaconda3\\envs\\TFM37\\lib\\site-packages\\ipykernel_launcher.py:11: FutureWarning: suggest_int() got {'step'} as positional arguments but they were expected to be given as keyword arguments.\n",
      "  # This is added back by InteractiveShellApp.init_path()\n",
      "C:\\Users\\raulg\\anaconda3\\envs\\TFM37\\lib\\site-packages\\ipykernel_launcher.py:12: FutureWarning: suggest_int() got {'step'} as positional arguments but they were expected to be given as keyword arguments.\n",
      "  if sys.path[0] == \"\":\n"
     ]
    },
    {
     "name": "stdout",
     "output_type": "stream",
     "text": [
      "1/1 [==============================] - 1s 908ms/step\n"
     ]
    },
    {
     "name": "stderr",
     "output_type": "stream",
     "text": [
      "[I 2024-12-23 19:00:32,764] Trial 27 finished with value: 1.0 and parameters: {'embedding_dim': 8, 'depth': 6, 'heads': 4, 'attn_dropout': 0.3402729381083299, 'ff_dropout': 0.3525435828604864, 'mlp_hidden_factor1': 1, 'mlp_hidden_factor2': 4, 'use_column_embedding': True}. Best is trial 3 with value: 1.0.\n",
      "C:\\Users\\raulg\\anaconda3\\envs\\TFM37\\lib\\site-packages\\ipykernel_launcher.py:7: FutureWarning: suggest_int() got {'step'} as positional arguments but they were expected to be given as keyword arguments.\n",
      "  import sys\n",
      "C:\\Users\\raulg\\anaconda3\\envs\\TFM37\\lib\\site-packages\\ipykernel_launcher.py:8: FutureWarning: suggest_int() got {'step'} as positional arguments but they were expected to be given as keyword arguments.\n",
      "  \n",
      "C:\\Users\\raulg\\anaconda3\\envs\\TFM37\\lib\\site-packages\\ipykernel_launcher.py:11: FutureWarning: suggest_int() got {'step'} as positional arguments but they were expected to be given as keyword arguments.\n",
      "  # This is added back by InteractiveShellApp.init_path()\n",
      "C:\\Users\\raulg\\anaconda3\\envs\\TFM37\\lib\\site-packages\\ipykernel_launcher.py:12: FutureWarning: suggest_int() got {'step'} as positional arguments but they were expected to be given as keyword arguments.\n",
      "  if sys.path[0] == \"\":\n"
     ]
    },
    {
     "name": "stdout",
     "output_type": "stream",
     "text": [
      "1/1 [==============================] - 1s 775ms/step\n"
     ]
    },
    {
     "name": "stderr",
     "output_type": "stream",
     "text": [
      "[I 2024-12-23 19:00:51,587] Trial 28 finished with value: 0.9962962962962963 and parameters: {'embedding_dim': 16, 'depth': 5, 'heads': 2, 'attn_dropout': 0.28175915593185497, 'ff_dropout': 0.49877597723235967, 'mlp_hidden_factor1': 3, 'mlp_hidden_factor2': 3, 'use_column_embedding': True}. Best is trial 3 with value: 1.0.\n",
      "C:\\Users\\raulg\\anaconda3\\envs\\TFM37\\lib\\site-packages\\ipykernel_launcher.py:7: FutureWarning: suggest_int() got {'step'} as positional arguments but they were expected to be given as keyword arguments.\n",
      "  import sys\n",
      "C:\\Users\\raulg\\anaconda3\\envs\\TFM37\\lib\\site-packages\\ipykernel_launcher.py:8: FutureWarning: suggest_int() got {'step'} as positional arguments but they were expected to be given as keyword arguments.\n",
      "  \n",
      "C:\\Users\\raulg\\anaconda3\\envs\\TFM37\\lib\\site-packages\\ipykernel_launcher.py:11: FutureWarning: suggest_int() got {'step'} as positional arguments but they were expected to be given as keyword arguments.\n",
      "  # This is added back by InteractiveShellApp.init_path()\n",
      "C:\\Users\\raulg\\anaconda3\\envs\\TFM37\\lib\\site-packages\\ipykernel_launcher.py:12: FutureWarning: suggest_int() got {'step'} as positional arguments but they were expected to be given as keyword arguments.\n",
      "  if sys.path[0] == \"\":\n"
     ]
    },
    {
     "name": "stdout",
     "output_type": "stream",
     "text": [
      "1/1 [==============================] - 0s 429ms/step\n"
     ]
    },
    {
     "name": "stderr",
     "output_type": "stream",
     "text": [
      "[I 2024-12-23 19:01:02,315] Trial 29 finished with value: 1.0 and parameters: {'embedding_dim': 16, 'depth': 2, 'heads': 5, 'attn_dropout': 0.23837895255861236, 'ff_dropout': 0.3098948274540513, 'mlp_hidden_factor1': 1, 'mlp_hidden_factor2': 4, 'use_column_embedding': True}. Best is trial 3 with value: 1.0.\n",
      "C:\\Users\\raulg\\anaconda3\\envs\\TFM37\\lib\\site-packages\\ipykernel_launcher.py:7: FutureWarning: suggest_int() got {'step'} as positional arguments but they were expected to be given as keyword arguments.\n",
      "  import sys\n",
      "C:\\Users\\raulg\\anaconda3\\envs\\TFM37\\lib\\site-packages\\ipykernel_launcher.py:8: FutureWarning: suggest_int() got {'step'} as positional arguments but they were expected to be given as keyword arguments.\n",
      "  \n",
      "C:\\Users\\raulg\\anaconda3\\envs\\TFM37\\lib\\site-packages\\ipykernel_launcher.py:11: FutureWarning: suggest_int() got {'step'} as positional arguments but they were expected to be given as keyword arguments.\n",
      "  # This is added back by InteractiveShellApp.init_path()\n",
      "C:\\Users\\raulg\\anaconda3\\envs\\TFM37\\lib\\site-packages\\ipykernel_launcher.py:12: FutureWarning: suggest_int() got {'step'} as positional arguments but they were expected to be given as keyword arguments.\n",
      "  if sys.path[0] == \"\":\n"
     ]
    },
    {
     "name": "stdout",
     "output_type": "stream",
     "text": [
      "1/1 [==============================] - 1s 933ms/step\n"
     ]
    },
    {
     "name": "stderr",
     "output_type": "stream",
     "text": [
      "[I 2024-12-23 19:01:33,107] Trial 30 finished with value: 1.0 and parameters: {'embedding_dim': 32, 'depth': 6, 'heads': 3, 'attn_dropout': 0.2971201053335979, 'ff_dropout': 0.2528197582749273, 'mlp_hidden_factor1': 3, 'mlp_hidden_factor2': 2, 'use_column_embedding': True}. Best is trial 3 with value: 1.0.\n",
      "C:\\Users\\raulg\\anaconda3\\envs\\TFM37\\lib\\site-packages\\ipykernel_launcher.py:7: FutureWarning: suggest_int() got {'step'} as positional arguments but they were expected to be given as keyword arguments.\n",
      "  import sys\n",
      "C:\\Users\\raulg\\anaconda3\\envs\\TFM37\\lib\\site-packages\\ipykernel_launcher.py:8: FutureWarning: suggest_int() got {'step'} as positional arguments but they were expected to be given as keyword arguments.\n",
      "  \n",
      "C:\\Users\\raulg\\anaconda3\\envs\\TFM37\\lib\\site-packages\\ipykernel_launcher.py:11: FutureWarning: suggest_int() got {'step'} as positional arguments but they were expected to be given as keyword arguments.\n",
      "  # This is added back by InteractiveShellApp.init_path()\n",
      "C:\\Users\\raulg\\anaconda3\\envs\\TFM37\\lib\\site-packages\\ipykernel_launcher.py:12: FutureWarning: suggest_int() got {'step'} as positional arguments but they were expected to be given as keyword arguments.\n",
      "  if sys.path[0] == \"\":\n"
     ]
    },
    {
     "name": "stdout",
     "output_type": "stream",
     "text": [
      "1/1 [==============================] - 1s 760ms/step\n"
     ]
    },
    {
     "name": "stderr",
     "output_type": "stream",
     "text": [
      "[I 2024-12-23 19:01:56,034] Trial 31 finished with value: 0.9740740740740741 and parameters: {'embedding_dim': 32, 'depth': 5, 'heads': 3, 'attn_dropout': 0.3942521931530564, 'ff_dropout': 0.06955563060554591, 'mlp_hidden_factor1': 4, 'mlp_hidden_factor2': 3, 'use_column_embedding': True}. Best is trial 3 with value: 1.0.\n",
      "C:\\Users\\raulg\\anaconda3\\envs\\TFM37\\lib\\site-packages\\ipykernel_launcher.py:7: FutureWarning: suggest_int() got {'step'} as positional arguments but they were expected to be given as keyword arguments.\n",
      "  import sys\n",
      "C:\\Users\\raulg\\anaconda3\\envs\\TFM37\\lib\\site-packages\\ipykernel_launcher.py:8: FutureWarning: suggest_int() got {'step'} as positional arguments but they were expected to be given as keyword arguments.\n",
      "  \n",
      "C:\\Users\\raulg\\anaconda3\\envs\\TFM37\\lib\\site-packages\\ipykernel_launcher.py:11: FutureWarning: suggest_int() got {'step'} as positional arguments but they were expected to be given as keyword arguments.\n",
      "  # This is added back by InteractiveShellApp.init_path()\n",
      "C:\\Users\\raulg\\anaconda3\\envs\\TFM37\\lib\\site-packages\\ipykernel_launcher.py:12: FutureWarning: suggest_int() got {'step'} as positional arguments but they were expected to be given as keyword arguments.\n",
      "  if sys.path[0] == \"\":\n"
     ]
    },
    {
     "name": "stdout",
     "output_type": "stream",
     "text": [
      "1/1 [==============================] - 1s 768ms/step\n"
     ]
    },
    {
     "name": "stderr",
     "output_type": "stream",
     "text": [
      "[I 2024-12-23 19:02:17,486] Trial 32 finished with value: 0.9925925925925926 and parameters: {'embedding_dim': 32, 'depth': 5, 'heads': 2, 'attn_dropout': 0.41298654134548757, 'ff_dropout': 0.05191929067250997, 'mlp_hidden_factor1': 4, 'mlp_hidden_factor2': 3, 'use_column_embedding': True}. Best is trial 3 with value: 1.0.\n",
      "C:\\Users\\raulg\\anaconda3\\envs\\TFM37\\lib\\site-packages\\ipykernel_launcher.py:7: FutureWarning: suggest_int() got {'step'} as positional arguments but they were expected to be given as keyword arguments.\n",
      "  import sys\n",
      "C:\\Users\\raulg\\anaconda3\\envs\\TFM37\\lib\\site-packages\\ipykernel_launcher.py:8: FutureWarning: suggest_int() got {'step'} as positional arguments but they were expected to be given as keyword arguments.\n",
      "  \n",
      "C:\\Users\\raulg\\anaconda3\\envs\\TFM37\\lib\\site-packages\\ipykernel_launcher.py:11: FutureWarning: suggest_int() got {'step'} as positional arguments but they were expected to be given as keyword arguments.\n",
      "  # This is added back by InteractiveShellApp.init_path()\n",
      "C:\\Users\\raulg\\anaconda3\\envs\\TFM37\\lib\\site-packages\\ipykernel_launcher.py:12: FutureWarning: suggest_int() got {'step'} as positional arguments but they were expected to be given as keyword arguments.\n",
      "  if sys.path[0] == \"\":\n"
     ]
    },
    {
     "name": "stdout",
     "output_type": "stream",
     "text": [
      "1/1 [==============================] - 1s 636ms/step\n"
     ]
    },
    {
     "name": "stderr",
     "output_type": "stream",
     "text": [
      "[I 2024-12-23 19:02:42,110] Trial 33 finished with value: 0.9981481481481481 and parameters: {'embedding_dim': 32, 'depth': 4, 'heads': 3, 'attn_dropout': 0.47417554744768264, 'ff_dropout': 0.08640726991681971, 'mlp_hidden_factor1': 4, 'mlp_hidden_factor2': 3, 'use_column_embedding': True}. Best is trial 3 with value: 1.0.\n",
      "C:\\Users\\raulg\\anaconda3\\envs\\TFM37\\lib\\site-packages\\ipykernel_launcher.py:7: FutureWarning: suggest_int() got {'step'} as positional arguments but they were expected to be given as keyword arguments.\n",
      "  import sys\n",
      "C:\\Users\\raulg\\anaconda3\\envs\\TFM37\\lib\\site-packages\\ipykernel_launcher.py:8: FutureWarning: suggest_int() got {'step'} as positional arguments but they were expected to be given as keyword arguments.\n",
      "  \n",
      "C:\\Users\\raulg\\anaconda3\\envs\\TFM37\\lib\\site-packages\\ipykernel_launcher.py:11: FutureWarning: suggest_int() got {'step'} as positional arguments but they were expected to be given as keyword arguments.\n",
      "  # This is added back by InteractiveShellApp.init_path()\n",
      "C:\\Users\\raulg\\anaconda3\\envs\\TFM37\\lib\\site-packages\\ipykernel_launcher.py:12: FutureWarning: suggest_int() got {'step'} as positional arguments but they were expected to be given as keyword arguments.\n",
      "  if sys.path[0] == \"\":\n"
     ]
    },
    {
     "name": "stdout",
     "output_type": "stream",
     "text": [
      "1/1 [==============================] - 1s 734ms/step\n"
     ]
    },
    {
     "name": "stderr",
     "output_type": "stream",
     "text": [
      "[I 2024-12-23 19:02:58,000] Trial 34 finished with value: 0.9629629629629629 and parameters: {'embedding_dim': 32, 'depth': 5, 'heads': 4, 'attn_dropout': 0.38125819455884347, 'ff_dropout': 0.12651135185607865, 'mlp_hidden_factor1': 4, 'mlp_hidden_factor2': 4, 'use_column_embedding': False}. Best is trial 3 with value: 1.0.\n",
      "C:\\Users\\raulg\\anaconda3\\envs\\TFM37\\lib\\site-packages\\ipykernel_launcher.py:7: FutureWarning: suggest_int() got {'step'} as positional arguments but they were expected to be given as keyword arguments.\n",
      "  import sys\n",
      "C:\\Users\\raulg\\anaconda3\\envs\\TFM37\\lib\\site-packages\\ipykernel_launcher.py:8: FutureWarning: suggest_int() got {'step'} as positional arguments but they were expected to be given as keyword arguments.\n",
      "  \n",
      "C:\\Users\\raulg\\anaconda3\\envs\\TFM37\\lib\\site-packages\\ipykernel_launcher.py:11: FutureWarning: suggest_int() got {'step'} as positional arguments but they were expected to be given as keyword arguments.\n",
      "  # This is added back by InteractiveShellApp.init_path()\n",
      "C:\\Users\\raulg\\anaconda3\\envs\\TFM37\\lib\\site-packages\\ipykernel_launcher.py:12: FutureWarning: suggest_int() got {'step'} as positional arguments but they were expected to be given as keyword arguments.\n",
      "  if sys.path[0] == \"\":\n"
     ]
    },
    {
     "name": "stdout",
     "output_type": "stream",
     "text": [
      "1/1 [==============================] - 1s 681ms/step\n"
     ]
    },
    {
     "name": "stderr",
     "output_type": "stream",
     "text": [
      "[I 2024-12-23 19:03:20,369] Trial 35 finished with value: 0.9888888888888889 and parameters: {'embedding_dim': 64, 'depth': 4, 'heads': 5, 'attn_dropout': 0.4259204075032398, 'ff_dropout': 0.16185527432061675, 'mlp_hidden_factor1': 3, 'mlp_hidden_factor2': 2, 'use_column_embedding': True}. Best is trial 3 with value: 1.0.\n",
      "C:\\Users\\raulg\\anaconda3\\envs\\TFM37\\lib\\site-packages\\ipykernel_launcher.py:7: FutureWarning: suggest_int() got {'step'} as positional arguments but they were expected to be given as keyword arguments.\n",
      "  import sys\n",
      "C:\\Users\\raulg\\anaconda3\\envs\\TFM37\\lib\\site-packages\\ipykernel_launcher.py:8: FutureWarning: suggest_int() got {'step'} as positional arguments but they were expected to be given as keyword arguments.\n",
      "  \n",
      "C:\\Users\\raulg\\anaconda3\\envs\\TFM37\\lib\\site-packages\\ipykernel_launcher.py:11: FutureWarning: suggest_int() got {'step'} as positional arguments but they were expected to be given as keyword arguments.\n",
      "  # This is added back by InteractiveShellApp.init_path()\n",
      "C:\\Users\\raulg\\anaconda3\\envs\\TFM37\\lib\\site-packages\\ipykernel_launcher.py:12: FutureWarning: suggest_int() got {'step'} as positional arguments but they were expected to be given as keyword arguments.\n",
      "  if sys.path[0] == \"\":\n"
     ]
    },
    {
     "name": "stdout",
     "output_type": "stream",
     "text": [
      "1/1 [==============================] - 0s 408ms/step\n"
     ]
    },
    {
     "name": "stderr",
     "output_type": "stream",
     "text": [
      "[I 2024-12-23 19:03:30,520] Trial 36 finished with value: 0.9981481481481481 and parameters: {'embedding_dim': 16, 'depth': 2, 'heads': 3, 'attn_dropout': 0.35629059343081887, 'ff_dropout': 0.09797920280991046, 'mlp_hidden_factor1': 2, 'mlp_hidden_factor2': 4, 'use_column_embedding': False}. Best is trial 3 with value: 1.0.\n",
      "C:\\Users\\raulg\\anaconda3\\envs\\TFM37\\lib\\site-packages\\ipykernel_launcher.py:7: FutureWarning: suggest_int() got {'step'} as positional arguments but they were expected to be given as keyword arguments.\n",
      "  import sys\n",
      "C:\\Users\\raulg\\anaconda3\\envs\\TFM37\\lib\\site-packages\\ipykernel_launcher.py:8: FutureWarning: suggest_int() got {'step'} as positional arguments but they were expected to be given as keyword arguments.\n",
      "  \n",
      "C:\\Users\\raulg\\anaconda3\\envs\\TFM37\\lib\\site-packages\\ipykernel_launcher.py:11: FutureWarning: suggest_int() got {'step'} as positional arguments but they were expected to be given as keyword arguments.\n",
      "  # This is added back by InteractiveShellApp.init_path()\n",
      "C:\\Users\\raulg\\anaconda3\\envs\\TFM37\\lib\\site-packages\\ipykernel_launcher.py:12: FutureWarning: suggest_int() got {'step'} as positional arguments but they were expected to be given as keyword arguments.\n",
      "  if sys.path[0] == \"\":\n"
     ]
    },
    {
     "name": "stdout",
     "output_type": "stream",
     "text": [
      "1/1 [==============================] - 1s 825ms/step\n"
     ]
    },
    {
     "name": "stderr",
     "output_type": "stream",
     "text": [
      "[I 2024-12-23 19:03:49,528] Trial 37 finished with value: 1.0 and parameters: {'embedding_dim': 32, 'depth': 6, 'heads': 2, 'attn_dropout': 0.30699422581032526, 'ff_dropout': 0.3321402889104227, 'mlp_hidden_factor1': 1, 'mlp_hidden_factor2': 3, 'use_column_embedding': True}. Best is trial 3 with value: 1.0.\n",
      "C:\\Users\\raulg\\anaconda3\\envs\\TFM37\\lib\\site-packages\\ipykernel_launcher.py:7: FutureWarning: suggest_int() got {'step'} as positional arguments but they were expected to be given as keyword arguments.\n",
      "  import sys\n",
      "C:\\Users\\raulg\\anaconda3\\envs\\TFM37\\lib\\site-packages\\ipykernel_launcher.py:8: FutureWarning: suggest_int() got {'step'} as positional arguments but they were expected to be given as keyword arguments.\n",
      "  \n",
      "C:\\Users\\raulg\\anaconda3\\envs\\TFM37\\lib\\site-packages\\ipykernel_launcher.py:11: FutureWarning: suggest_int() got {'step'} as positional arguments but they were expected to be given as keyword arguments.\n",
      "  # This is added back by InteractiveShellApp.init_path()\n",
      "C:\\Users\\raulg\\anaconda3\\envs\\TFM37\\lib\\site-packages\\ipykernel_launcher.py:12: FutureWarning: suggest_int() got {'step'} as positional arguments but they were expected to be given as keyword arguments.\n",
      "  if sys.path[0] == \"\":\n"
     ]
    },
    {
     "name": "stdout",
     "output_type": "stream",
     "text": [
      "1/1 [==============================] - 1s 957ms/step\n"
     ]
    },
    {
     "name": "stderr",
     "output_type": "stream",
     "text": [
      "[I 2024-12-23 19:05:08,403] Trial 38 finished with value: 0.9944444444444445 and parameters: {'embedding_dim': 64, 'depth': 5, 'heads': 4, 'attn_dropout': 0.2611162859194692, 'ff_dropout': 0.3807737966135729, 'mlp_hidden_factor1': 4, 'mlp_hidden_factor2': 4, 'use_column_embedding': True}. Best is trial 3 with value: 1.0.\n",
      "C:\\Users\\raulg\\anaconda3\\envs\\TFM37\\lib\\site-packages\\ipykernel_launcher.py:7: FutureWarning: suggest_int() got {'step'} as positional arguments but they were expected to be given as keyword arguments.\n",
      "  import sys\n",
      "C:\\Users\\raulg\\anaconda3\\envs\\TFM37\\lib\\site-packages\\ipykernel_launcher.py:8: FutureWarning: suggest_int() got {'step'} as positional arguments but they were expected to be given as keyword arguments.\n",
      "  \n",
      "C:\\Users\\raulg\\anaconda3\\envs\\TFM37\\lib\\site-packages\\ipykernel_launcher.py:11: FutureWarning: suggest_int() got {'step'} as positional arguments but they were expected to be given as keyword arguments.\n",
      "  # This is added back by InteractiveShellApp.init_path()\n",
      "C:\\Users\\raulg\\anaconda3\\envs\\TFM37\\lib\\site-packages\\ipykernel_launcher.py:12: FutureWarning: suggest_int() got {'step'} as positional arguments but they were expected to be given as keyword arguments.\n",
      "  if sys.path[0] == \"\":\n"
     ]
    },
    {
     "name": "stdout",
     "output_type": "stream",
     "text": [
      "1/1 [==============================] - 1s 671ms/step\n"
     ]
    },
    {
     "name": "stderr",
     "output_type": "stream",
     "text": [
      "[I 2024-12-23 19:05:32,394] Trial 39 finished with value: 1.0 and parameters: {'embedding_dim': 8, 'depth': 4, 'heads': 6, 'attn_dropout': 0.20107921488641736, 'ff_dropout': 0.18907301337870322, 'mlp_hidden_factor1': 2, 'mlp_hidden_factor2': 1, 'use_column_embedding': False}. Best is trial 3 with value: 1.0.\n",
      "C:\\Users\\raulg\\anaconda3\\envs\\TFM37\\lib\\site-packages\\ipykernel_launcher.py:7: FutureWarning: suggest_int() got {'step'} as positional arguments but they were expected to be given as keyword arguments.\n",
      "  import sys\n",
      "C:\\Users\\raulg\\anaconda3\\envs\\TFM37\\lib\\site-packages\\ipykernel_launcher.py:8: FutureWarning: suggest_int() got {'step'} as positional arguments but they were expected to be given as keyword arguments.\n",
      "  \n",
      "C:\\Users\\raulg\\anaconda3\\envs\\TFM37\\lib\\site-packages\\ipykernel_launcher.py:11: FutureWarning: suggest_int() got {'step'} as positional arguments but they were expected to be given as keyword arguments.\n",
      "  # This is added back by InteractiveShellApp.init_path()\n",
      "C:\\Users\\raulg\\anaconda3\\envs\\TFM37\\lib\\site-packages\\ipykernel_launcher.py:12: FutureWarning: suggest_int() got {'step'} as positional arguments but they were expected to be given as keyword arguments.\n",
      "  if sys.path[0] == \"\":\n"
     ]
    },
    {
     "name": "stdout",
     "output_type": "stream",
     "text": [
      "1/1 [==============================] - 1s 562ms/step\n"
     ]
    },
    {
     "name": "stderr",
     "output_type": "stream",
     "text": [
      "[I 2024-12-23 19:05:52,163] Trial 40 finished with value: 0.9981481481481481 and parameters: {'embedding_dim': 32, 'depth': 3, 'heads': 3, 'attn_dropout': 0.44110879822358795, 'ff_dropout': 0.43961836528436765, 'mlp_hidden_factor1': 1, 'mlp_hidden_factor2': 3, 'use_column_embedding': True}. Best is trial 3 with value: 1.0.\n",
      "C:\\Users\\raulg\\anaconda3\\envs\\TFM37\\lib\\site-packages\\ipykernel_launcher.py:7: FutureWarning: suggest_int() got {'step'} as positional arguments but they were expected to be given as keyword arguments.\n",
      "  import sys\n",
      "C:\\Users\\raulg\\anaconda3\\envs\\TFM37\\lib\\site-packages\\ipykernel_launcher.py:8: FutureWarning: suggest_int() got {'step'} as positional arguments but they were expected to be given as keyword arguments.\n",
      "  \n",
      "C:\\Users\\raulg\\anaconda3\\envs\\TFM37\\lib\\site-packages\\ipykernel_launcher.py:11: FutureWarning: suggest_int() got {'step'} as positional arguments but they were expected to be given as keyword arguments.\n",
      "  # This is added back by InteractiveShellApp.init_path()\n",
      "C:\\Users\\raulg\\anaconda3\\envs\\TFM37\\lib\\site-packages\\ipykernel_launcher.py:12: FutureWarning: suggest_int() got {'step'} as positional arguments but they were expected to be given as keyword arguments.\n",
      "  if sys.path[0] == \"\":\n"
     ]
    },
    {
     "name": "stdout",
     "output_type": "stream",
     "text": [
      "1/1 [==============================] - 1s 1s/step\n"
     ]
    },
    {
     "name": "stderr",
     "output_type": "stream",
     "text": [
      "[I 2024-12-23 19:06:27,229] Trial 41 finished with value: 0.9962962962962963 and parameters: {'embedding_dim': 32, 'depth': 6, 'heads': 4, 'attn_dropout': 0.05891806802256682, 'ff_dropout': 0.4044138040181619, 'mlp_hidden_factor1': 2, 'mlp_hidden_factor2': 3, 'use_column_embedding': True}. Best is trial 3 with value: 1.0.\n",
      "C:\\Users\\raulg\\anaconda3\\envs\\TFM37\\lib\\site-packages\\ipykernel_launcher.py:7: FutureWarning: suggest_int() got {'step'} as positional arguments but they were expected to be given as keyword arguments.\n",
      "  import sys\n",
      "C:\\Users\\raulg\\anaconda3\\envs\\TFM37\\lib\\site-packages\\ipykernel_launcher.py:8: FutureWarning: suggest_int() got {'step'} as positional arguments but they were expected to be given as keyword arguments.\n",
      "  \n",
      "C:\\Users\\raulg\\anaconda3\\envs\\TFM37\\lib\\site-packages\\ipykernel_launcher.py:11: FutureWarning: suggest_int() got {'step'} as positional arguments but they were expected to be given as keyword arguments.\n",
      "  # This is added back by InteractiveShellApp.init_path()\n",
      "C:\\Users\\raulg\\anaconda3\\envs\\TFM37\\lib\\site-packages\\ipykernel_launcher.py:12: FutureWarning: suggest_int() got {'step'} as positional arguments but they were expected to be given as keyword arguments.\n",
      "  if sys.path[0] == \"\":\n"
     ]
    },
    {
     "name": "stdout",
     "output_type": "stream",
     "text": [
      "1/1 [==============================] - 1s 940ms/step\n"
     ]
    },
    {
     "name": "stderr",
     "output_type": "stream",
     "text": [
      "[I 2024-12-23 19:07:22,813] Trial 42 finished with value: 1.0 and parameters: {'embedding_dim': 32, 'depth': 6, 'heads': 4, 'attn_dropout': 0.12472473149166745, 'ff_dropout': 0.41492258263714155, 'mlp_hidden_factor1': 2, 'mlp_hidden_factor2': 3, 'use_column_embedding': True}. Best is trial 3 with value: 1.0.\n",
      "C:\\Users\\raulg\\anaconda3\\envs\\TFM37\\lib\\site-packages\\ipykernel_launcher.py:7: FutureWarning: suggest_int() got {'step'} as positional arguments but they were expected to be given as keyword arguments.\n",
      "  import sys\n",
      "C:\\Users\\raulg\\anaconda3\\envs\\TFM37\\lib\\site-packages\\ipykernel_launcher.py:8: FutureWarning: suggest_int() got {'step'} as positional arguments but they were expected to be given as keyword arguments.\n",
      "  \n",
      "C:\\Users\\raulg\\anaconda3\\envs\\TFM37\\lib\\site-packages\\ipykernel_launcher.py:11: FutureWarning: suggest_int() got {'step'} as positional arguments but they were expected to be given as keyword arguments.\n",
      "  # This is added back by InteractiveShellApp.init_path()\n",
      "C:\\Users\\raulg\\anaconda3\\envs\\TFM37\\lib\\site-packages\\ipykernel_launcher.py:12: FutureWarning: suggest_int() got {'step'} as positional arguments but they were expected to be given as keyword arguments.\n",
      "  if sys.path[0] == \"\":\n"
     ]
    },
    {
     "name": "stdout",
     "output_type": "stream",
     "text": [
      "1/1 [==============================] - 1s 879ms/step\n"
     ]
    },
    {
     "name": "stderr",
     "output_type": "stream",
     "text": [
      "[I 2024-12-23 19:08:00,718] Trial 43 finished with value: 0.9981481481481481 and parameters: {'embedding_dim': 32, 'depth': 6, 'heads': 3, 'attn_dropout': 0.3378535533665168, 'ff_dropout': 0.46793513867990055, 'mlp_hidden_factor1': 1, 'mlp_hidden_factor2': 3, 'use_column_embedding': True}. Best is trial 3 with value: 1.0.\n",
      "C:\\Users\\raulg\\anaconda3\\envs\\TFM37\\lib\\site-packages\\ipykernel_launcher.py:7: FutureWarning: suggest_int() got {'step'} as positional arguments but they were expected to be given as keyword arguments.\n",
      "  import sys\n",
      "C:\\Users\\raulg\\anaconda3\\envs\\TFM37\\lib\\site-packages\\ipykernel_launcher.py:8: FutureWarning: suggest_int() got {'step'} as positional arguments but they were expected to be given as keyword arguments.\n",
      "  \n",
      "C:\\Users\\raulg\\anaconda3\\envs\\TFM37\\lib\\site-packages\\ipykernel_launcher.py:11: FutureWarning: suggest_int() got {'step'} as positional arguments but they were expected to be given as keyword arguments.\n",
      "  # This is added back by InteractiveShellApp.init_path()\n",
      "C:\\Users\\raulg\\anaconda3\\envs\\TFM37\\lib\\site-packages\\ipykernel_launcher.py:12: FutureWarning: suggest_int() got {'step'} as positional arguments but they were expected to be given as keyword arguments.\n",
      "  if sys.path[0] == \"\":\n"
     ]
    },
    {
     "name": "stdout",
     "output_type": "stream",
     "text": [
      "1/1 [==============================] - 1s 952ms/step\n"
     ]
    },
    {
     "name": "stderr",
     "output_type": "stream",
     "text": [
      "[I 2024-12-23 19:08:58,908] Trial 44 finished with value: 1.0 and parameters: {'embedding_dim': 32, 'depth': 6, 'heads': 5, 'attn_dropout': 0.17071328187892465, 'ff_dropout': 0.2921095185234129, 'mlp_hidden_factor1': 2, 'mlp_hidden_factor2': 2, 'use_column_embedding': True}. Best is trial 3 with value: 1.0.\n",
      "C:\\Users\\raulg\\anaconda3\\envs\\TFM37\\lib\\site-packages\\ipykernel_launcher.py:7: FutureWarning: suggest_int() got {'step'} as positional arguments but they were expected to be given as keyword arguments.\n",
      "  import sys\n",
      "C:\\Users\\raulg\\anaconda3\\envs\\TFM37\\lib\\site-packages\\ipykernel_launcher.py:8: FutureWarning: suggest_int() got {'step'} as positional arguments but they were expected to be given as keyword arguments.\n",
      "  \n",
      "C:\\Users\\raulg\\anaconda3\\envs\\TFM37\\lib\\site-packages\\ipykernel_launcher.py:11: FutureWarning: suggest_int() got {'step'} as positional arguments but they were expected to be given as keyword arguments.\n",
      "  # This is added back by InteractiveShellApp.init_path()\n",
      "C:\\Users\\raulg\\anaconda3\\envs\\TFM37\\lib\\site-packages\\ipykernel_launcher.py:12: FutureWarning: suggest_int() got {'step'} as positional arguments but they were expected to be given as keyword arguments.\n",
      "  if sys.path[0] == \"\":\n"
     ]
    },
    {
     "name": "stdout",
     "output_type": "stream",
     "text": [
      "1/1 [==============================] - 1s 714ms/step\n"
     ]
    },
    {
     "name": "stderr",
     "output_type": "stream",
     "text": [
      "[I 2024-12-23 19:09:12,623] Trial 45 finished with value: 0.9685185185185186 and parameters: {'embedding_dim': 16, 'depth': 5, 'heads': 2, 'attn_dropout': 0.3727584617470765, 'ff_dropout': 0.3692126707423486, 'mlp_hidden_factor1': 1, 'mlp_hidden_factor2': 3, 'use_column_embedding': False}. Best is trial 3 with value: 1.0.\n",
      "C:\\Users\\raulg\\anaconda3\\envs\\TFM37\\lib\\site-packages\\ipykernel_launcher.py:7: FutureWarning: suggest_int() got {'step'} as positional arguments but they were expected to be given as keyword arguments.\n",
      "  import sys\n",
      "C:\\Users\\raulg\\anaconda3\\envs\\TFM37\\lib\\site-packages\\ipykernel_launcher.py:8: FutureWarning: suggest_int() got {'step'} as positional arguments but they were expected to be given as keyword arguments.\n",
      "  \n",
      "C:\\Users\\raulg\\anaconda3\\envs\\TFM37\\lib\\site-packages\\ipykernel_launcher.py:11: FutureWarning: suggest_int() got {'step'} as positional arguments but they were expected to be given as keyword arguments.\n",
      "  # This is added back by InteractiveShellApp.init_path()\n",
      "C:\\Users\\raulg\\anaconda3\\envs\\TFM37\\lib\\site-packages\\ipykernel_launcher.py:12: FutureWarning: suggest_int() got {'step'} as positional arguments but they were expected to be given as keyword arguments.\n",
      "  if sys.path[0] == \"\":\n"
     ]
    },
    {
     "name": "stdout",
     "output_type": "stream",
     "text": [
      "1/1 [==============================] - 0s 327ms/step\n"
     ]
    },
    {
     "name": "stderr",
     "output_type": "stream",
     "text": [
      "[I 2024-12-23 19:09:26,899] Trial 46 finished with value: 0.9851851851851852 and parameters: {'embedding_dim': 64, 'depth': 1, 'heads': 3, 'attn_dropout': 0.07104803998792225, 'ff_dropout': 0.399325699444252, 'mlp_hidden_factor1': 3, 'mlp_hidden_factor2': 4, 'use_column_embedding': True}. Best is trial 3 with value: 1.0.\n",
      "C:\\Users\\raulg\\anaconda3\\envs\\TFM37\\lib\\site-packages\\ipykernel_launcher.py:7: FutureWarning: suggest_int() got {'step'} as positional arguments but they were expected to be given as keyword arguments.\n",
      "  import sys\n",
      "C:\\Users\\raulg\\anaconda3\\envs\\TFM37\\lib\\site-packages\\ipykernel_launcher.py:8: FutureWarning: suggest_int() got {'step'} as positional arguments but they were expected to be given as keyword arguments.\n",
      "  \n",
      "C:\\Users\\raulg\\anaconda3\\envs\\TFM37\\lib\\site-packages\\ipykernel_launcher.py:11: FutureWarning: suggest_int() got {'step'} as positional arguments but they were expected to be given as keyword arguments.\n",
      "  # This is added back by InteractiveShellApp.init_path()\n",
      "C:\\Users\\raulg\\anaconda3\\envs\\TFM37\\lib\\site-packages\\ipykernel_launcher.py:12: FutureWarning: suggest_int() got {'step'} as positional arguments but they were expected to be given as keyword arguments.\n",
      "  if sys.path[0] == \"\":\n"
     ]
    },
    {
     "name": "stdout",
     "output_type": "stream",
     "text": [
      "1/1 [==============================] - 1s 859ms/step\n"
     ]
    },
    {
     "name": "stderr",
     "output_type": "stream",
     "text": [
      "[I 2024-12-23 19:09:52,730] Trial 47 finished with value: 1.0 and parameters: {'embedding_dim': 32, 'depth': 6, 'heads': 4, 'attn_dropout': 0.3971690011306575, 'ff_dropout': 0.4736209095295717, 'mlp_hidden_factor1': 1, 'mlp_hidden_factor2': 2, 'use_column_embedding': True}. Best is trial 3 with value: 1.0.\n",
      "C:\\Users\\raulg\\anaconda3\\envs\\TFM37\\lib\\site-packages\\ipykernel_launcher.py:7: FutureWarning: suggest_int() got {'step'} as positional arguments but they were expected to be given as keyword arguments.\n",
      "  import sys\n",
      "C:\\Users\\raulg\\anaconda3\\envs\\TFM37\\lib\\site-packages\\ipykernel_launcher.py:8: FutureWarning: suggest_int() got {'step'} as positional arguments but they were expected to be given as keyword arguments.\n",
      "  \n",
      "C:\\Users\\raulg\\anaconda3\\envs\\TFM37\\lib\\site-packages\\ipykernel_launcher.py:11: FutureWarning: suggest_int() got {'step'} as positional arguments but they were expected to be given as keyword arguments.\n",
      "  # This is added back by InteractiveShellApp.init_path()\n",
      "C:\\Users\\raulg\\anaconda3\\envs\\TFM37\\lib\\site-packages\\ipykernel_launcher.py:12: FutureWarning: suggest_int() got {'step'} as positional arguments but they were expected to be given as keyword arguments.\n",
      "  if sys.path[0] == \"\":\n"
     ]
    },
    {
     "name": "stdout",
     "output_type": "stream",
     "text": [
      "1/1 [==============================] - 1s 756ms/step\n"
     ]
    },
    {
     "name": "stderr",
     "output_type": "stream",
     "text": [
      "[I 2024-12-23 19:10:09,132] Trial 48 finished with value: 0.9777777777777779 and parameters: {'embedding_dim': 32, 'depth': 5, 'heads': 2, 'attn_dropout': 0.4643780801154359, 'ff_dropout': 0.4519554213169016, 'mlp_hidden_factor1': 2, 'mlp_hidden_factor2': 3, 'use_column_embedding': True}. Best is trial 3 with value: 1.0.\n",
      "C:\\Users\\raulg\\anaconda3\\envs\\TFM37\\lib\\site-packages\\ipykernel_launcher.py:7: FutureWarning: suggest_int() got {'step'} as positional arguments but they were expected to be given as keyword arguments.\n",
      "  import sys\n",
      "C:\\Users\\raulg\\anaconda3\\envs\\TFM37\\lib\\site-packages\\ipykernel_launcher.py:8: FutureWarning: suggest_int() got {'step'} as positional arguments but they were expected to be given as keyword arguments.\n",
      "  \n",
      "C:\\Users\\raulg\\anaconda3\\envs\\TFM37\\lib\\site-packages\\ipykernel_launcher.py:11: FutureWarning: suggest_int() got {'step'} as positional arguments but they were expected to be given as keyword arguments.\n",
      "  # This is added back by InteractiveShellApp.init_path()\n",
      "C:\\Users\\raulg\\anaconda3\\envs\\TFM37\\lib\\site-packages\\ipykernel_launcher.py:12: FutureWarning: suggest_int() got {'step'} as positional arguments but they were expected to be given as keyword arguments.\n",
      "  if sys.path[0] == \"\":\n"
     ]
    },
    {
     "name": "stdout",
     "output_type": "stream",
     "text": [
      "1/1 [==============================] - 1s 871ms/step\n"
     ]
    },
    {
     "name": "stderr",
     "output_type": "stream",
     "text": [
      "[I 2024-12-23 19:10:37,056] Trial 49 finished with value: 0.9925925925925926 and parameters: {'embedding_dim': 32, 'depth': 6, 'heads': 3, 'attn_dropout': 0.08703275005701704, 'ff_dropout': 0.14864668466778017, 'mlp_hidden_factor1': 1, 'mlp_hidden_factor2': 3, 'use_column_embedding': False}. Best is trial 3 with value: 1.0.\n"
     ]
    },
    {
     "name": "stdout",
     "output_type": "stream",
     "text": [
      "Tiempo de entrenamiento: 1179.5545 segundos\n"
     ]
    }
   ],
   "source": [
    "import optuna\n",
    "import gc\n",
    "import time\n",
    "\n",
    "def objective(trial):\n",
    "    embedding_dim = trial.suggest_categorical('embedding_dim',[32, 64])\n",
    "    depth = trial.suggest_int('depth',1,6,1)\n",
    "    heads = trial.suggest_int('heads',2,8,1)\n",
    "    attn_dropout = trial.suggest_float(\"attn_dropout\", 0.05, 0.5)\n",
    "    ff_dropout = trial.suggest_float(\"ff_dropout\", 0.05, 0.5)\n",
    "    mlp_hidden_factor1 = trial.suggest_int(\"mlp_hidden_factor1\", 1, 4, 1)\n",
    "    mlp_hidden_factor2 = trial.suggest_int(\"mlp_hidden_factor2\", 1, 4, 1)\n",
    "    use_column_embedding = trial.suggest_categorical('use_column_embedding', [True, False])\n",
    "    \n",
    "    #category_prep_layers = build_categorical_prep(train_data, CATEGORICAL_FEATURES)\n",
    "    \n",
    "    tabtransformer = TabTransformer(\n",
    "        numerical_features = NUMERIC_FEATURES,\n",
    "        categorical_features = CATEGORICAL_FEATURES,\n",
    "        categorical_lookup=category_prep_layers,\n",
    "        numerical_discretisers=None, # simply passing the numeric features\n",
    "        embedding_dim=embedding_dim,\n",
    "        out_dim=1,\n",
    "        out_activation='sigmoid',\n",
    "        depth=depth,\n",
    "        heads=heads,\n",
    "        attn_dropout=attn_dropout,\n",
    "        ff_dropout=ff_dropout,\n",
    "        mlp_hidden_factors=[mlp_hidden_factor1, mlp_hidden_factor2],\n",
    "        use_column_embedding=use_column_embedding,\n",
    "    )\n",
    "        \n",
    "    LEARNING_RATE = 0.001\n",
    "    WEIGHT_DECAY = 0.0001\n",
    "    NUM_EPOCHS = 1000\n",
    "\n",
    "    optimizer = tfa.optimizers.AdamW(\n",
    "            learning_rate=LEARNING_RATE, weight_decay=WEIGHT_DECAY\n",
    "        )\n",
    "\n",
    "    tabtransformer.compile(\n",
    "        optimizer = optimizer,\n",
    "        loss = tf.keras.losses.BinaryCrossentropy(),\n",
    "        metrics= [tf.keras.metrics.AUC(name=\"AUC\", curve='ROC')]\n",
    "    )\n",
    "    \n",
    "    early = EarlyStopping(monitor=\"val_loss\", mode=\"min\", patience=20, restore_best_weights=True)\n",
    "    callback_list = [early]\n",
    "\n",
    "    history = tabtransformer.fit(\n",
    "        train_dataset, \n",
    "        epochs=NUM_EPOCHS, \n",
    "        validation_data=val_dataset,\n",
    "        callbacks=callback_list,\n",
    "        verbose=0\n",
    "    )\n",
    "    \n",
    "    val_preds = tabtransformer.predict(val_dataset)\n",
    "    roc = roc_auc_score(val_data[LABEL_Y], val_preds.ravel())\n",
    "    \n",
    "    gc.collect()\n",
    "    \n",
    "    \n",
    "    return roc\n",
    "\n",
    "start_time = time.time()\n",
    "study = optuna.create_study(direction='maximize')\n",
    "study.optimize(objective, n_trials=50)\n",
    "training_time = time.time() - start_time\n",
    "# Imprimir el tiempo de entrenamiento en segundos\n",
    "print(\"Tiempo de entrenamiento: %.4f segundos\" % training_time)"
   ]
  },
  {
   "cell_type": "code",
   "execution_count": 38,
   "id": "f47dde21",
   "metadata": {},
   "outputs": [
    {
     "data": {
      "text/plain": [
       "{'embedding_dim': 32,\n",
       " 'depth': 5,\n",
       " 'heads': 3,\n",
       " 'attn_dropout': 0.3618873475905729,\n",
       " 'ff_dropout': 0.4067723058777808,\n",
       " 'mlp_hidden_factor1': 1,\n",
       " 'mlp_hidden_factor2': 4,\n",
       " 'use_column_embedding': True}"
      ]
     },
     "execution_count": 38,
     "metadata": {},
     "output_type": "execute_result"
    }
   ],
   "source": [
    "study.best_params"
   ]
  },
  {
   "cell_type": "markdown",
   "id": "189c6a28",
   "metadata": {},
   "source": [
    "#### Trainning Model"
   ]
  },
  {
   "cell_type": "code",
   "execution_count": 23,
   "id": "db530a2b",
   "metadata": {},
   "outputs": [
    {
     "name": "stdout",
     "output_type": "stream",
     "text": [
      "Epoch 1/1000\n",
      "1/1 [==============================] - 9s 9s/step - loss: 1.1357 - AUC_ROC: 0.4510 - accuracy: 0.4706 - false_negatives_2: 60.0000 - AUC_PR: 0.3418 - val_loss: 1.1640 - val_AUC_ROC: 0.9685 - val_accuracy: 0.5208 - val_false_negatives_2: 0.0000e+00 - val_AUC_PR: 0.9398\n",
      "Epoch 2/1000\n",
      "1/1 [==============================] - 0s 182ms/step - loss: 0.6759 - AUC_ROC: 0.7810 - accuracy: 0.6838 - false_negatives_2: 27.0000 - AUC_PR: 0.6647 - val_loss: 1.4096 - val_AUC_ROC: 0.9500 - val_accuracy: 0.5625 - val_false_negatives_2: 0.0000e+00 - val_AUC_PR: 0.8571\n",
      "Epoch 3/1000\n",
      "1/1 [==============================] - 0s 169ms/step - loss: 0.4765 - AUC_ROC: 0.8849 - accuracy: 0.7941 - false_negatives_2: 16.0000 - AUC_PR: 0.8168 - val_loss: 1.5946 - val_AUC_ROC: 0.8833 - val_accuracy: 0.6042 - val_false_negatives_2: 0.0000e+00 - val_AUC_PR: 0.7200\n",
      "Epoch 4/1000\n",
      "1/1 [==============================] - 0s 172ms/step - loss: 0.4212 - AUC_ROC: 0.9237 - accuracy: 0.8382 - false_negatives_2: 6.0000 - AUC_PR: 0.8621 - val_loss: 1.6692 - val_AUC_ROC: 0.8833 - val_accuracy: 0.6042 - val_false_negatives_2: 0.0000e+00 - val_AUC_PR: 0.7200\n",
      "Epoch 5/1000\n",
      "1/1 [==============================] - 0s 178ms/step - loss: 0.3718 - AUC_ROC: 0.9553 - accuracy: 0.8529 - false_negatives_2: 4.0000 - AUC_PR: 0.9216 - val_loss: 1.6454 - val_AUC_ROC: 0.8833 - val_accuracy: 0.6250 - val_false_negatives_2: 0.0000e+00 - val_AUC_PR: 0.7200\n",
      "Epoch 6/1000\n",
      "1/1 [==============================] - 0s 175ms/step - loss: 0.3435 - AUC_ROC: 0.9574 - accuracy: 0.8493 - false_negatives_2: 6.0000 - AUC_PR: 0.9278 - val_loss: 1.5568 - val_AUC_ROC: 0.8667 - val_accuracy: 0.6250 - val_false_negatives_2: 0.0000e+00 - val_AUC_PR: 0.6923\n",
      "Epoch 7/1000\n",
      "1/1 [==============================] - 0s 162ms/step - loss: 0.3816 - AUC_ROC: 0.9573 - accuracy: 0.8787 - false_negatives_2: 2.0000 - AUC_PR: 0.9073 - val_loss: 1.3781 - val_AUC_ROC: 0.9333 - val_accuracy: 0.7292 - val_false_negatives_2: 0.0000e+00 - val_AUC_PR: 0.8182\n",
      "Epoch 8/1000\n",
      "1/1 [==============================] - 0s 165ms/step - loss: 0.2870 - AUC_ROC: 0.9754 - accuracy: 0.8750 - false_negatives_2: 4.0000 - AUC_PR: 0.9561 - val_loss: 1.2234 - val_AUC_ROC: 0.9333 - val_accuracy: 0.7500 - val_false_negatives_2: 0.0000e+00 - val_AUC_PR: 0.8182\n",
      "Epoch 9/1000\n",
      "1/1 [==============================] - 0s 174ms/step - loss: 0.2871 - AUC_ROC: 0.9733 - accuracy: 0.9007 - false_negatives_2: 1.0000 - AUC_PR: 0.9498 - val_loss: 1.0871 - val_AUC_ROC: 0.9333 - val_accuracy: 0.7500 - val_false_negatives_2: 0.0000e+00 - val_AUC_PR: 0.8182\n",
      "Epoch 10/1000\n",
      "1/1 [==============================] - 0s 214ms/step - loss: 0.2602 - AUC_ROC: 0.9793 - accuracy: 0.9191 - false_negatives_2: 1.0000 - AUC_PR: 0.9693 - val_loss: 0.9378 - val_AUC_ROC: 0.9500 - val_accuracy: 0.7917 - val_false_negatives_2: 0.0000e+00 - val_AUC_PR: 0.8571\n",
      "Epoch 11/1000\n",
      "1/1 [==============================] - 0s 212ms/step - loss: 0.2951 - AUC_ROC: 0.9732 - accuracy: 0.9154 - false_negatives_2: 1.0000 - AUC_PR: 0.9447 - val_loss: 0.8061 - val_AUC_ROC: 0.9454 - val_accuracy: 0.8125 - val_false_negatives_2: 0.0000e+00 - val_AUC_PR: 0.8480\n",
      "Epoch 12/1000\n",
      "1/1 [==============================] - 0s 181ms/step - loss: 0.1986 - AUC_ROC: 0.9878 - accuracy: 0.9228 - false_negatives_2: 4.0000 - AUC_PR: 0.9807 - val_loss: 0.7096 - val_AUC_ROC: 0.9454 - val_accuracy: 0.8750 - val_false_negatives_2: 0.0000e+00 - val_AUC_PR: 0.8480\n",
      "Epoch 13/1000\n",
      "1/1 [==============================] - 0s 173ms/step - loss: 0.2005 - AUC_ROC: 0.9851 - accuracy: 0.9191 - false_negatives_2: 2.0000 - AUC_PR: 0.9721 - val_loss: 0.6473 - val_AUC_ROC: 0.9574 - val_accuracy: 0.8750 - val_false_negatives_2: 0.0000e+00 - val_AUC_PR: 0.8824\n",
      "Epoch 14/1000\n",
      "1/1 [==============================] - 0s 275ms/step - loss: 0.1774 - AUC_ROC: 0.9928 - accuracy: 0.9265 - false_negatives_2: 0.0000e+00 - AUC_PR: 0.9873 - val_loss: 0.6019 - val_AUC_ROC: 0.9556 - val_accuracy: 0.8750 - val_false_negatives_2: 0.0000e+00 - val_AUC_PR: 0.8801\n",
      "Epoch 15/1000\n",
      "1/1 [==============================] - 0s 260ms/step - loss: 0.1716 - AUC_ROC: 0.9858 - accuracy: 0.9301 - false_negatives_2: 3.0000 - AUC_PR: 0.9695 - val_loss: 0.5772 - val_AUC_ROC: 0.9537 - val_accuracy: 0.8958 - val_false_negatives_2: 0.0000e+00 - val_AUC_PR: 0.8780\n",
      "Epoch 16/1000\n",
      "1/1 [==============================] - 0s 223ms/step - loss: 0.1540 - AUC_ROC: 0.9894 - accuracy: 0.9265 - false_negatives_2: 4.0000 - AUC_PR: 0.9868 - val_loss: 0.5572 - val_AUC_ROC: 0.9537 - val_accuracy: 0.8750 - val_false_negatives_2: 1.0000 - val_AUC_PR: 0.8780\n",
      "Epoch 17/1000\n",
      "1/1 [==============================] - 0s 208ms/step - loss: 0.1428 - AUC_ROC: 0.9892 - accuracy: 0.9522 - false_negatives_2: 3.0000 - AUC_PR: 0.9858 - val_loss: 0.5409 - val_AUC_ROC: 0.9537 - val_accuracy: 0.8750 - val_false_negatives_2: 1.0000 - val_AUC_PR: 0.8780\n",
      "Epoch 18/1000\n",
      "1/1 [==============================] - 0s 198ms/step - loss: 0.1839 - AUC_ROC: 0.9831 - accuracy: 0.9301 - false_negatives_2: 5.0000 - AUC_PR: 0.9681 - val_loss: 0.5223 - val_AUC_ROC: 0.9537 - val_accuracy: 0.8750 - val_false_negatives_2: 1.0000 - val_AUC_PR: 0.8780\n",
      "Epoch 19/1000\n",
      "1/1 [==============================] - 0s 176ms/step - loss: 0.1243 - AUC_ROC: 0.9927 - accuracy: 0.9522 - false_negatives_2: 3.0000 - AUC_PR: 0.9901 - val_loss: 0.5044 - val_AUC_ROC: 0.9546 - val_accuracy: 0.8750 - val_false_negatives_2: 1.0000 - val_AUC_PR: 0.8792\n",
      "Epoch 20/1000\n",
      "1/1 [==============================] - 0s 183ms/step - loss: 0.1337 - AUC_ROC: 0.9881 - accuracy: 0.9522 - false_negatives_2: 4.0000 - AUC_PR: 0.9859 - val_loss: 0.4890 - val_AUC_ROC: 0.9556 - val_accuracy: 0.8958 - val_false_negatives_2: 0.0000e+00 - val_AUC_PR: 0.8803\n",
      "Epoch 21/1000\n",
      "1/1 [==============================] - 0s 178ms/step - loss: 0.1001 - AUC_ROC: 0.9961 - accuracy: 0.9596 - false_negatives_2: 1.0000 - AUC_PR: 0.9939 - val_loss: 0.4820 - val_AUC_ROC: 0.9574 - val_accuracy: 0.8958 - val_false_negatives_2: 0.0000e+00 - val_AUC_PR: 0.8829\n",
      "Epoch 22/1000\n",
      "1/1 [==============================] - 0s 175ms/step - loss: 0.1045 - AUC_ROC: 0.9967 - accuracy: 0.9559 - false_negatives_2: 2.0000 - AUC_PR: 0.9951 - val_loss: 0.4722 - val_AUC_ROC: 0.9574 - val_accuracy: 0.8958 - val_false_negatives_2: 0.0000e+00 - val_AUC_PR: 0.8829\n",
      "Epoch 23/1000\n",
      "1/1 [==============================] - 0s 170ms/step - loss: 0.0892 - AUC_ROC: 0.9966 - accuracy: 0.9596 - false_negatives_2: 4.0000 - AUC_PR: 0.9948 - val_loss: 0.4711 - val_AUC_ROC: 0.9593 - val_accuracy: 0.8958 - val_false_negatives_2: 0.0000e+00 - val_AUC_PR: 0.8849\n",
      "Epoch 24/1000\n",
      "1/1 [==============================] - 0s 176ms/step - loss: 0.1153 - AUC_ROC: 0.9943 - accuracy: 0.9559 - false_negatives_2: 1.0000 - AUC_PR: 0.9911 - val_loss: 0.4710 - val_AUC_ROC: 0.9630 - val_accuracy: 0.8958 - val_false_negatives_2: 0.0000e+00 - val_AUC_PR: 0.8895\n",
      "Epoch 25/1000\n",
      "1/1 [==============================] - 0s 171ms/step - loss: 0.0497 - AUC_ROC: 0.9995 - accuracy: 0.9816 - false_negatives_2: 1.0000 - AUC_PR: 0.9992 - val_loss: 0.4695 - val_AUC_ROC: 0.9778 - val_accuracy: 0.8958 - val_false_negatives_2: 0.0000e+00 - val_AUC_PR: 0.9360\n",
      "Epoch 26/1000\n",
      "1/1 [==============================] - 0s 178ms/step - loss: 0.0816 - AUC_ROC: 0.9969 - accuracy: 0.9669 - false_negatives_2: 2.0000 - AUC_PR: 0.9952 - val_loss: 0.4660 - val_AUC_ROC: 0.9787 - val_accuracy: 0.8958 - val_false_negatives_2: 0.0000e+00 - val_AUC_PR: 0.9374\n",
      "Epoch 27/1000\n",
      "1/1 [==============================] - 0s 202ms/step - loss: 0.0728 - AUC_ROC: 0.9958 - accuracy: 0.9779 - false_negatives_2: 2.0000 - AUC_PR: 0.9948 - val_loss: 0.4630 - val_AUC_ROC: 0.9796 - val_accuracy: 0.8958 - val_false_negatives_2: 0.0000e+00 - val_AUC_PR: 0.9388\n",
      "Epoch 28/1000\n",
      "1/1 [==============================] - 0s 184ms/step - loss: 0.0816 - AUC_ROC: 0.9946 - accuracy: 0.9706 - false_negatives_2: 1.0000 - AUC_PR: 0.9857 - val_loss: 0.4513 - val_AUC_ROC: 0.9796 - val_accuracy: 0.9167 - val_false_negatives_2: 0.0000e+00 - val_AUC_PR: 0.9388\n",
      "Epoch 29/1000\n",
      "1/1 [==============================] - 0s 174ms/step - loss: 0.0774 - AUC_ROC: 0.9971 - accuracy: 0.9669 - false_negatives_2: 3.0000 - AUC_PR: 0.9958 - val_loss: 0.4352 - val_AUC_ROC: 0.9815 - val_accuracy: 0.9167 - val_false_negatives_2: 0.0000e+00 - val_AUC_PR: 0.9415\n"
     ]
    },
    {
     "name": "stdout",
     "output_type": "stream",
     "text": [
      "Epoch 30/1000\n",
      "1/1 [==============================] - 0s 167ms/step - loss: 0.0770 - AUC_ROC: 0.9946 - accuracy: 0.9706 - false_negatives_2: 4.0000 - AUC_PR: 0.9855 - val_loss: 0.4241 - val_AUC_ROC: 0.9815 - val_accuracy: 0.9167 - val_false_negatives_2: 0.0000e+00 - val_AUC_PR: 0.9415\n",
      "Epoch 31/1000\n",
      "1/1 [==============================] - 0s 177ms/step - loss: 0.0639 - AUC_ROC: 0.9965 - accuracy: 0.9669 - false_negatives_2: 3.0000 - AUC_PR: 0.9954 - val_loss: 0.4137 - val_AUC_ROC: 0.9815 - val_accuracy: 0.9167 - val_false_negatives_2: 0.0000e+00 - val_AUC_PR: 0.9415\n",
      "Epoch 32/1000\n",
      "1/1 [==============================] - 0s 169ms/step - loss: 0.0594 - AUC_ROC: 0.9986 - accuracy: 0.9743 - false_negatives_2: 1.0000 - AUC_PR: 0.9979 - val_loss: 0.3972 - val_AUC_ROC: 0.9815 - val_accuracy: 0.9167 - val_false_negatives_2: 0.0000e+00 - val_AUC_PR: 0.9415\n",
      "Epoch 33/1000\n",
      "1/1 [==============================] - 0s 174ms/step - loss: 0.0428 - AUC_ROC: 0.9992 - accuracy: 0.9853 - false_negatives_2: 1.0000 - AUC_PR: 0.9988 - val_loss: 0.3812 - val_AUC_ROC: 0.9815 - val_accuracy: 0.9167 - val_false_negatives_2: 0.0000e+00 - val_AUC_PR: 0.9415\n",
      "Epoch 34/1000\n",
      "1/1 [==============================] - 0s 178ms/step - loss: 0.0686 - AUC_ROC: 0.9974 - accuracy: 0.9779 - false_negatives_2: 1.0000 - AUC_PR: 0.9966 - val_loss: 0.3714 - val_AUC_ROC: 0.9815 - val_accuracy: 0.9167 - val_false_negatives_2: 0.0000e+00 - val_AUC_PR: 0.9415\n",
      "Epoch 35/1000\n",
      "1/1 [==============================] - 0s 186ms/step - loss: 0.0588 - AUC_ROC: 0.9983 - accuracy: 0.9743 - false_negatives_2: 2.0000 - AUC_PR: 0.9974 - val_loss: 0.3584 - val_AUC_ROC: 0.9815 - val_accuracy: 0.9167 - val_false_negatives_2: 0.0000e+00 - val_AUC_PR: 0.9415\n",
      "Epoch 36/1000\n",
      "1/1 [==============================] - 0s 182ms/step - loss: 0.0647 - AUC_ROC: 0.9925 - accuracy: 0.9816 - false_negatives_2: 3.0000 - AUC_PR: 0.9932 - val_loss: 0.3558 - val_AUC_ROC: 0.9815 - val_accuracy: 0.9167 - val_false_negatives_2: 0.0000e+00 - val_AUC_PR: 0.9415\n",
      "Epoch 37/1000\n",
      "1/1 [==============================] - 0s 200ms/step - loss: 0.0317 - AUC_ROC: 0.9993 - accuracy: 0.9890 - false_negatives_2: 1.0000 - AUC_PR: 0.9990 - val_loss: 0.3503 - val_AUC_ROC: 0.9815 - val_accuracy: 0.9167 - val_false_negatives_2: 0.0000e+00 - val_AUC_PR: 0.9415\n",
      "Epoch 38/1000\n",
      "1/1 [==============================] - 0s 183ms/step - loss: 0.0500 - AUC_ROC: 0.9987 - accuracy: 0.9743 - false_negatives_2: 2.0000 - AUC_PR: 0.9981 - val_loss: 0.3458 - val_AUC_ROC: 0.9815 - val_accuracy: 0.9167 - val_false_negatives_2: 0.0000e+00 - val_AUC_PR: 0.9415\n",
      "Epoch 39/1000\n",
      "1/1 [==============================] - 0s 179ms/step - loss: 0.0531 - AUC_ROC: 0.9979 - accuracy: 0.9816 - false_negatives_2: 3.0000 - AUC_PR: 0.9968 - val_loss: 0.3389 - val_AUC_ROC: 0.9815 - val_accuracy: 0.9167 - val_false_negatives_2: 0.0000e+00 - val_AUC_PR: 0.9415\n",
      "Epoch 40/1000\n",
      "1/1 [==============================] - 0s 172ms/step - loss: 0.0414 - AUC_ROC: 0.9994 - accuracy: 0.9816 - false_negatives_2: 2.0000 - AUC_PR: 0.9990 - val_loss: 0.3353 - val_AUC_ROC: 0.9815 - val_accuracy: 0.9167 - val_false_negatives_2: 0.0000e+00 - val_AUC_PR: 0.9415\n",
      "Epoch 41/1000\n",
      "1/1 [==============================] - 0s 179ms/step - loss: 0.0372 - AUC_ROC: 0.9991 - accuracy: 0.9890 - false_negatives_2: 2.0000 - AUC_PR: 0.9984 - val_loss: 0.3252 - val_AUC_ROC: 0.9815 - val_accuracy: 0.9167 - val_false_negatives_2: 0.0000e+00 - val_AUC_PR: 0.9415\n",
      "Epoch 42/1000\n",
      "1/1 [==============================] - 0s 182ms/step - loss: 0.0345 - AUC_ROC: 0.9990 - accuracy: 0.9853 - false_negatives_2: 2.0000 - AUC_PR: 0.9985 - val_loss: 0.3116 - val_AUC_ROC: 0.9815 - val_accuracy: 0.9167 - val_false_negatives_2: 0.0000e+00 - val_AUC_PR: 0.9415\n",
      "Epoch 43/1000\n",
      "1/1 [==============================] - 0s 174ms/step - loss: 0.0328 - AUC_ROC: 0.9990 - accuracy: 0.9853 - false_negatives_2: 2.0000 - AUC_PR: 0.9985 - val_loss: 0.3016 - val_AUC_ROC: 0.9815 - val_accuracy: 0.9167 - val_false_negatives_2: 0.0000e+00 - val_AUC_PR: 0.9415\n",
      "Epoch 44/1000\n",
      "1/1 [==============================] - 0s 168ms/step - loss: 0.0726 - AUC_ROC: 0.9978 - accuracy: 0.9779 - false_negatives_2: 3.0000 - AUC_PR: 0.9965 - val_loss: 0.2921 - val_AUC_ROC: 0.9815 - val_accuracy: 0.9583 - val_false_negatives_2: 0.0000e+00 - val_AUC_PR: 0.9415\n",
      "Epoch 45/1000\n",
      "1/1 [==============================] - 0s 172ms/step - loss: 0.0902 - AUC_ROC: 0.9878 - accuracy: 0.9743 - false_negatives_2: 3.0000 - AUC_PR: 0.9897 - val_loss: 0.2839 - val_AUC_ROC: 0.9815 - val_accuracy: 0.9583 - val_false_negatives_2: 0.0000e+00 - val_AUC_PR: 0.9415\n",
      "Epoch 46/1000\n",
      "1/1 [==============================] - 0s 254ms/step - loss: 0.0485 - AUC_ROC: 0.9942 - accuracy: 0.9853 - false_negatives_2: 2.0000 - AUC_PR: 0.9953 - val_loss: 0.2786 - val_AUC_ROC: 0.9824 - val_accuracy: 0.9583 - val_false_negatives_2: 0.0000e+00 - val_AUC_PR: 0.9445\n",
      "Epoch 47/1000\n",
      "1/1 [==============================] - 0s 193ms/step - loss: 0.0486 - AUC_ROC: 0.9938 - accuracy: 0.9816 - false_negatives_2: 3.0000 - AUC_PR: 0.9948 - val_loss: 0.2727 - val_AUC_ROC: 0.9824 - val_accuracy: 0.9583 - val_false_negatives_2: 0.0000e+00 - val_AUC_PR: 0.9445\n",
      "Epoch 48/1000\n",
      "1/1 [==============================] - 0s 208ms/step - loss: 0.0418 - AUC_ROC: 0.9942 - accuracy: 0.9926 - false_negatives_2: 1.0000 - AUC_PR: 0.9955 - val_loss: 0.2700 - val_AUC_ROC: 0.9824 - val_accuracy: 0.9583 - val_false_negatives_2: 0.0000e+00 - val_AUC_PR: 0.9445\n",
      "Epoch 49/1000\n",
      "1/1 [==============================] - 0s 325ms/step - loss: 0.0217 - AUC_ROC: 0.9998 - accuracy: 0.9926 - false_negatives_2: 1.0000 - AUC_PR: 0.9997 - val_loss: 0.2687 - val_AUC_ROC: 0.9824 - val_accuracy: 0.9583 - val_false_negatives_2: 0.0000e+00 - val_AUC_PR: 0.9445\n",
      "Epoch 50/1000\n",
      "1/1 [==============================] - 0s 242ms/step - loss: 0.0239 - AUC_ROC: 0.9997 - accuracy: 0.9926 - false_negatives_2: 1.0000 - AUC_PR: 0.9995 - val_loss: 0.2674 - val_AUC_ROC: 0.9824 - val_accuracy: 0.9583 - val_false_negatives_2: 0.0000e+00 - val_AUC_PR: 0.9445\n",
      "Epoch 51/1000\n",
      "1/1 [==============================] - 0s 186ms/step - loss: 0.0328 - AUC_ROC: 0.9990 - accuracy: 0.9890 - false_negatives_2: 2.0000 - AUC_PR: 0.9986 - val_loss: 0.2668 - val_AUC_ROC: 0.9824 - val_accuracy: 0.9583 - val_false_negatives_2: 0.0000e+00 - val_AUC_PR: 0.9445\n",
      "Epoch 52/1000\n",
      "1/1 [==============================] - 0s 167ms/step - loss: 0.0236 - AUC_ROC: 0.9996 - accuracy: 0.9926 - false_negatives_2: 1.0000 - AUC_PR: 0.9994 - val_loss: 0.2660 - val_AUC_ROC: 0.9824 - val_accuracy: 0.9583 - val_false_negatives_2: 0.0000e+00 - val_AUC_PR: 0.9445\n",
      "Epoch 53/1000\n",
      "1/1 [==============================] - 0s 171ms/step - loss: 0.0267 - AUC_ROC: 0.9995 - accuracy: 0.9926 - false_negatives_2: 1.0000 - AUC_PR: 0.9992 - val_loss: 0.2652 - val_AUC_ROC: 0.9824 - val_accuracy: 0.9583 - val_false_negatives_2: 0.0000e+00 - val_AUC_PR: 0.9445\n",
      "Epoch 54/1000\n",
      "1/1 [==============================] - 0s 148ms/step - loss: 0.0258 - AUC_ROC: 0.9995 - accuracy: 0.9890 - false_negatives_2: 2.0000 - AUC_PR: 0.9992 - val_loss: 0.2659 - val_AUC_ROC: 0.9824 - val_accuracy: 0.9583 - val_false_negatives_2: 0.0000e+00 - val_AUC_PR: 0.9445\n",
      "Epoch 55/1000\n",
      "1/1 [==============================] - 0s 151ms/step - loss: 0.0183 - AUC_ROC: 0.9999 - accuracy: 0.9926 - false_negatives_2: 0.0000e+00 - AUC_PR: 0.9998 - val_loss: 0.2706 - val_AUC_ROC: 0.9824 - val_accuracy: 0.9583 - val_false_negatives_2: 0.0000e+00 - val_AUC_PR: 0.9445\n",
      "Epoch 56/1000\n",
      "1/1 [==============================] - 0s 163ms/step - loss: 0.0183 - AUC_ROC: 0.9999 - accuracy: 0.9926 - false_negatives_2: 0.0000e+00 - AUC_PR: 0.9998 - val_loss: 0.2783 - val_AUC_ROC: 0.9833 - val_accuracy: 0.9583 - val_false_negatives_2: 0.0000e+00 - val_AUC_PR: 0.9474\n",
      "Epoch 57/1000\n",
      "1/1 [==============================] - 0s 164ms/step - loss: 0.0373 - AUC_ROC: 0.9993 - accuracy: 0.9890 - false_negatives_2: 1.0000 - AUC_PR: 0.9989 - val_loss: 0.2855 - val_AUC_ROC: 0.9833 - val_accuracy: 0.9583 - val_false_negatives_2: 0.0000e+00 - val_AUC_PR: 0.9474\n",
      "Epoch 58/1000\n",
      "1/1 [==============================] - 0s 173ms/step - loss: 0.0083 - AUC_ROC: 1.0000 - accuracy: 1.0000 - false_negatives_2: 0.0000e+00 - AUC_PR: 1.0000 - val_loss: 0.2931 - val_AUC_ROC: 0.9833 - val_accuracy: 0.9583 - val_false_negatives_2: 0.0000e+00 - val_AUC_PR: 0.9474\n"
     ]
    },
    {
     "name": "stdout",
     "output_type": "stream",
     "text": [
      "Epoch 59/1000\n",
      "1/1 [==============================] - 0s 169ms/step - loss: 0.0227 - AUC_ROC: 0.9998 - accuracy: 0.9890 - false_negatives_2: 1.0000 - AUC_PR: 0.9997 - val_loss: 0.3055 - val_AUC_ROC: 0.9833 - val_accuracy: 0.9375 - val_false_negatives_2: 0.0000e+00 - val_AUC_PR: 0.9474\n",
      "Epoch 60/1000\n",
      "1/1 [==============================] - 0s 162ms/step - loss: 0.0111 - AUC_ROC: 1.0000 - accuracy: 1.0000 - false_negatives_2: 0.0000e+00 - AUC_PR: 1.0000 - val_loss: 0.3194 - val_AUC_ROC: 0.9833 - val_accuracy: 0.9167 - val_false_negatives_2: 0.0000e+00 - val_AUC_PR: 0.9474\n",
      "Epoch 61/1000\n",
      "1/1 [==============================] - 0s 167ms/step - loss: 0.0095 - AUC_ROC: 1.0000 - accuracy: 1.0000 - false_negatives_2: 0.0000e+00 - AUC_PR: 1.0000 - val_loss: 0.3320 - val_AUC_ROC: 0.9833 - val_accuracy: 0.9167 - val_false_negatives_2: 0.0000e+00 - val_AUC_PR: 0.9474\n",
      "Epoch 62/1000\n",
      "1/1 [==============================] - 0s 169ms/step - loss: 0.0324 - AUC_ROC: 0.9995 - accuracy: 0.9853 - false_negatives_2: 2.0000 - AUC_PR: 0.9993 - val_loss: 0.3397 - val_AUC_ROC: 0.9833 - val_accuracy: 0.9167 - val_false_negatives_2: 0.0000e+00 - val_AUC_PR: 0.9474\n",
      "Epoch 63/1000\n",
      "1/1 [==============================] - 0s 163ms/step - loss: 0.0301 - AUC_ROC: 0.9994 - accuracy: 0.9890 - false_negatives_2: 1.0000 - AUC_PR: 0.9991 - val_loss: 0.3507 - val_AUC_ROC: 0.9833 - val_accuracy: 0.8958 - val_false_negatives_2: 0.0000e+00 - val_AUC_PR: 0.9474\n",
      "Epoch 64/1000\n",
      "1/1 [==============================] - 0s 164ms/step - loss: 0.0253 - AUC_ROC: 0.9997 - accuracy: 0.9926 - false_negatives_2: 0.0000e+00 - AUC_PR: 0.9996 - val_loss: 0.3510 - val_AUC_ROC: 0.9833 - val_accuracy: 0.8958 - val_false_negatives_2: 0.0000e+00 - val_AUC_PR: 0.9474\n",
      "Epoch 65/1000\n",
      "1/1 [==============================] - 0s 167ms/step - loss: 0.0200 - AUC_ROC: 0.9997 - accuracy: 0.9963 - false_negatives_2: 1.0000 - AUC_PR: 0.9996 - val_loss: 0.3516 - val_AUC_ROC: 0.9833 - val_accuracy: 0.8958 - val_false_negatives_2: 0.0000e+00 - val_AUC_PR: 0.9474\n",
      "Epoch 66/1000\n",
      "1/1 [==============================] - 0s 165ms/step - loss: 0.0094 - AUC_ROC: 1.0000 - accuracy: 1.0000 - false_negatives_2: 0.0000e+00 - AUC_PR: 1.0000 - val_loss: 0.3505 - val_AUC_ROC: 0.9833 - val_accuracy: 0.8958 - val_false_negatives_2: 0.0000e+00 - val_AUC_PR: 0.9474\n",
      "Epoch 67/1000\n",
      "1/1 [==============================] - 0s 164ms/step - loss: 0.0118 - AUC_ROC: 1.0000 - accuracy: 0.9963 - false_negatives_2: 0.0000e+00 - AUC_PR: 1.0000 - val_loss: 0.3436 - val_AUC_ROC: 0.9833 - val_accuracy: 0.9167 - val_false_negatives_2: 0.0000e+00 - val_AUC_PR: 0.9474\n",
      "Epoch 68/1000\n",
      "1/1 [==============================] - 0s 179ms/step - loss: 0.0312 - AUC_ROC: 0.9991 - accuracy: 0.9853 - false_negatives_2: 3.0000 - AUC_PR: 0.9986 - val_loss: 0.3404 - val_AUC_ROC: 0.9833 - val_accuracy: 0.9375 - val_false_negatives_2: 0.0000e+00 - val_AUC_PR: 0.9474\n",
      "Epoch 69/1000\n",
      "1/1 [==============================] - 0s 166ms/step - loss: 0.0182 - AUC_ROC: 0.9998 - accuracy: 0.9926 - false_negatives_2: 1.0000 - AUC_PR: 0.9997 - val_loss: 0.3360 - val_AUC_ROC: 0.9833 - val_accuracy: 0.9583 - val_false_negatives_2: 0.0000e+00 - val_AUC_PR: 0.9474\n",
      "Epoch 70/1000\n",
      "1/1 [==============================] - 0s 165ms/step - loss: 0.0424 - AUC_ROC: 0.9990 - accuracy: 0.9890 - false_negatives_2: 1.0000 - AUC_PR: 0.9985 - val_loss: 0.3312 - val_AUC_ROC: 0.9833 - val_accuracy: 0.9583 - val_false_negatives_2: 0.0000e+00 - val_AUC_PR: 0.9474\n",
      "Epoch 71/1000\n",
      "1/1 [==============================] - 0s 163ms/step - loss: 0.0103 - AUC_ROC: 1.0000 - accuracy: 1.0000 - false_negatives_2: 0.0000e+00 - AUC_PR: 1.0000 - val_loss: 0.3295 - val_AUC_ROC: 0.9833 - val_accuracy: 0.9583 - val_false_negatives_2: 0.0000e+00 - val_AUC_PR: 0.9474\n",
      "Epoch 72/1000\n",
      "1/1 [==============================] - 0s 169ms/step - loss: 0.0228 - AUC_ROC: 0.9998 - accuracy: 0.9890 - false_negatives_2: 0.0000e+00 - AUC_PR: 0.9997 - val_loss: 0.3241 - val_AUC_ROC: 0.9833 - val_accuracy: 0.9583 - val_false_negatives_2: 0.0000e+00 - val_AUC_PR: 0.9474\n",
      "Epoch 73/1000\n",
      "1/1 [==============================] - 0s 199ms/step - loss: 0.0158 - AUC_ROC: 0.9998 - accuracy: 0.9963 - false_negatives_2: 0.0000e+00 - AUC_PR: 0.9997 - val_loss: 0.3231 - val_AUC_ROC: 0.9833 - val_accuracy: 0.9583 - val_false_negatives_2: 0.0000e+00 - val_AUC_PR: 0.9474\n",
      "Epoch 74/1000\n",
      "1/1 [==============================] - 0s 191ms/step - loss: 0.0267 - AUC_ROC: 0.9995 - accuracy: 0.9853 - false_negatives_2: 3.0000 - AUC_PR: 0.9993 - val_loss: 0.3271 - val_AUC_ROC: 0.9833 - val_accuracy: 0.9583 - val_false_negatives_2: 0.0000e+00 - val_AUC_PR: 0.9474\n",
      "Epoch 75/1000\n",
      "1/1 [==============================] - 0s 182ms/step - loss: 0.0085 - AUC_ROC: 1.0000 - accuracy: 1.0000 - false_negatives_2: 0.0000e+00 - AUC_PR: 1.0000 - val_loss: 0.3324 - val_AUC_ROC: 0.9833 - val_accuracy: 0.9583 - val_false_negatives_2: 0.0000e+00 - val_AUC_PR: 0.9474\n",
      "Epoch 76/1000\n",
      "1/1 [==============================] - 0s 189ms/step - loss: 0.0115 - AUC_ROC: 0.9999 - accuracy: 0.9963 - false_negatives_2: 1.0000 - AUC_PR: 0.9999 - val_loss: 0.3393 - val_AUC_ROC: 0.9833 - val_accuracy: 0.9583 - val_false_negatives_2: 0.0000e+00 - val_AUC_PR: 0.9474\n",
      "Epoch 77/1000\n",
      "1/1 [==============================] - 0s 168ms/step - loss: 0.0272 - AUC_ROC: 0.9995 - accuracy: 0.9926 - false_negatives_2: 2.0000 - AUC_PR: 0.9992 - val_loss: 0.3519 - val_AUC_ROC: 0.9833 - val_accuracy: 0.9583 - val_false_negatives_2: 0.0000e+00 - val_AUC_PR: 0.9474\n",
      "Epoch 78/1000\n",
      "1/1 [==============================] - 0s 189ms/step - loss: 0.0186 - AUC_ROC: 0.9998 - accuracy: 0.9926 - false_negatives_2: 1.0000 - AUC_PR: 0.9996 - val_loss: 0.3665 - val_AUC_ROC: 0.9833 - val_accuracy: 0.9583 - val_false_negatives_2: 0.0000e+00 - val_AUC_PR: 0.9474\n",
      "Epoch 79/1000\n",
      "1/1 [==============================] - 0s 201ms/step - loss: 0.0156 - AUC_ROC: 0.9999 - accuracy: 0.9890 - false_negatives_2: 2.0000 - AUC_PR: 0.9998 - val_loss: 0.3751 - val_AUC_ROC: 0.9833 - val_accuracy: 0.9167 - val_false_negatives_2: 0.0000e+00 - val_AUC_PR: 0.9474\n",
      "Epoch 80/1000\n",
      "1/1 [==============================] - 0s 221ms/step - loss: 0.0150 - AUC_ROC: 0.9999 - accuracy: 0.9963 - false_negatives_2: 1.0000 - AUC_PR: 0.9998 - val_loss: 0.3810 - val_AUC_ROC: 0.9833 - val_accuracy: 0.9167 - val_false_negatives_2: 0.0000e+00 - val_AUC_PR: 0.9474\n",
      "Epoch 81/1000\n",
      "1/1 [==============================] - 0s 210ms/step - loss: 0.0136 - AUC_ROC: 0.9998 - accuracy: 0.9963 - false_negatives_2: 0.0000e+00 - AUC_PR: 0.9997 - val_loss: 0.3859 - val_AUC_ROC: 0.9833 - val_accuracy: 0.9167 - val_false_negatives_2: 0.0000e+00 - val_AUC_PR: 0.9474\n",
      "Epoch 82/1000\n",
      "1/1 [==============================] - 0s 195ms/step - loss: 0.0192 - AUC_ROC: 0.9998 - accuracy: 0.9926 - false_negatives_2: 1.0000 - AUC_PR: 0.9997 - val_loss: 0.3906 - val_AUC_ROC: 0.9833 - val_accuracy: 0.9167 - val_false_negatives_2: 0.0000e+00 - val_AUC_PR: 0.9474\n",
      "Epoch 83/1000\n",
      "1/1 [==============================] - 0s 189ms/step - loss: 0.0161 - AUC_ROC: 0.9999 - accuracy: 0.9926 - false_negatives_2: 1.0000 - AUC_PR: 0.9998 - val_loss: 0.3943 - val_AUC_ROC: 0.9833 - val_accuracy: 0.9167 - val_false_negatives_2: 0.0000e+00 - val_AUC_PR: 0.9474\n",
      "Epoch 84/1000\n",
      "1/1 [==============================] - 0s 173ms/step - loss: 0.0147 - AUC_ROC: 0.9999 - accuracy: 0.9963 - false_negatives_2: 0.0000e+00 - AUC_PR: 0.9999 - val_loss: 0.3927 - val_AUC_ROC: 0.9833 - val_accuracy: 0.9167 - val_false_negatives_2: 0.0000e+00 - val_AUC_PR: 0.9474\n",
      "Epoch 85/1000\n",
      "1/1 [==============================] - 0s 168ms/step - loss: 0.0187 - AUC_ROC: 0.9999 - accuracy: 0.9926 - false_negatives_2: 0.0000e+00 - AUC_PR: 0.9998 - val_loss: 0.3828 - val_AUC_ROC: 0.9833 - val_accuracy: 0.9167 - val_false_negatives_2: 0.0000e+00 - val_AUC_PR: 0.9474\n",
      "Epoch 86/1000\n",
      "1/1 [==============================] - 0s 169ms/step - loss: 0.0178 - AUC_ROC: 0.9998 - accuracy: 0.9963 - false_negatives_2: 1.0000 - AUC_PR: 0.9996 - val_loss: 0.3573 - val_AUC_ROC: 0.9833 - val_accuracy: 0.9167 - val_false_negatives_2: 0.0000e+00 - val_AUC_PR: 0.9474\n",
      "Epoch 87/1000\n",
      "1/1 [==============================] - 0s 164ms/step - loss: 0.0169 - AUC_ROC: 0.9999 - accuracy: 0.9926 - false_negatives_2: 2.0000 - AUC_PR: 0.9998 - val_loss: 0.3443 - val_AUC_ROC: 0.9833 - val_accuracy: 0.9375 - val_false_negatives_2: 0.0000e+00 - val_AUC_PR: 0.9474\n"
     ]
    },
    {
     "name": "stdout",
     "output_type": "stream",
     "text": [
      "Epoch 88/1000\n",
      "1/1 [==============================] - 0s 177ms/step - loss: 0.0111 - AUC_ROC: 1.0000 - accuracy: 1.0000 - false_negatives_2: 0.0000e+00 - AUC_PR: 1.0000 - val_loss: 0.3323 - val_AUC_ROC: 0.9833 - val_accuracy: 0.9375 - val_false_negatives_2: 0.0000e+00 - val_AUC_PR: 0.9474\n",
      "Epoch 89/1000\n",
      "1/1 [==============================] - 0s 164ms/step - loss: 0.0115 - AUC_ROC: 1.0000 - accuracy: 0.9963 - false_negatives_2: 1.0000 - AUC_PR: 1.0000 - val_loss: 0.3183 - val_AUC_ROC: 0.9833 - val_accuracy: 0.9583 - val_false_negatives_2: 0.0000e+00 - val_AUC_PR: 0.9474\n",
      "Epoch 90/1000\n",
      "1/1 [==============================] - 0s 159ms/step - loss: 0.0128 - AUC_ROC: 1.0000 - accuracy: 0.9926 - false_negatives_2: 0.0000e+00 - AUC_PR: 1.0000 - val_loss: 0.3029 - val_AUC_ROC: 0.9833 - val_accuracy: 0.9792 - val_false_negatives_2: 0.0000e+00 - val_AUC_PR: 0.9474\n",
      "Epoch 91/1000\n",
      "1/1 [==============================] - 0s 162ms/step - loss: 0.0054 - AUC_ROC: 1.0000 - accuracy: 1.0000 - false_negatives_2: 0.0000e+00 - AUC_PR: 1.0000 - val_loss: 0.2921 - val_AUC_ROC: 0.9833 - val_accuracy: 0.9792 - val_false_negatives_2: 0.0000e+00 - val_AUC_PR: 0.9474\n",
      "Epoch 92/1000\n",
      "1/1 [==============================] - 0s 160ms/step - loss: 0.0168 - AUC_ROC: 0.9999 - accuracy: 0.9926 - false_negatives_2: 1.0000 - AUC_PR: 0.9998 - val_loss: 0.2844 - val_AUC_ROC: 0.9833 - val_accuracy: 0.9792 - val_false_negatives_2: 0.0000e+00 - val_AUC_PR: 0.9474\n",
      "Epoch 93/1000\n",
      "1/1 [==============================] - 0s 164ms/step - loss: 0.0196 - AUC_ROC: 0.9998 - accuracy: 0.9926 - false_negatives_2: 1.0000 - AUC_PR: 0.9997 - val_loss: 0.2828 - val_AUC_ROC: 0.9833 - val_accuracy: 0.9792 - val_false_negatives_2: 0.0000e+00 - val_AUC_PR: 0.9474\n",
      "Epoch 94/1000\n",
      "1/1 [==============================] - 0s 173ms/step - loss: 0.0136 - AUC_ROC: 0.9999 - accuracy: 0.9926 - false_negatives_2: 1.0000 - AUC_PR: 0.9998 - val_loss: 0.2855 - val_AUC_ROC: 0.9833 - val_accuracy: 0.9792 - val_false_negatives_2: 0.0000e+00 - val_AUC_PR: 0.9474\n",
      "Epoch 95/1000\n",
      "1/1 [==============================] - 0s 161ms/step - loss: 0.0157 - AUC_ROC: 1.0000 - accuracy: 0.9926 - false_negatives_2: 0.0000e+00 - AUC_PR: 1.0000 - val_loss: 0.2847 - val_AUC_ROC: 0.9833 - val_accuracy: 0.9792 - val_false_negatives_2: 0.0000e+00 - val_AUC_PR: 0.9474\n",
      "Epoch 96/1000\n",
      "1/1 [==============================] - 0s 157ms/step - loss: 0.0081 - AUC_ROC: 1.0000 - accuracy: 0.9963 - false_negatives_2: 0.0000e+00 - AUC_PR: 1.0000 - val_loss: 0.2850 - val_AUC_ROC: 0.9833 - val_accuracy: 0.9792 - val_false_negatives_2: 0.0000e+00 - val_AUC_PR: 0.9474\n",
      "Epoch 97/1000\n",
      "1/1 [==============================] - 0s 158ms/step - loss: 0.0156 - AUC_ROC: 0.9998 - accuracy: 0.9963 - false_negatives_2: 0.0000e+00 - AUC_PR: 0.9996 - val_loss: 0.2881 - val_AUC_ROC: 0.9833 - val_accuracy: 0.9792 - val_false_negatives_2: 0.0000e+00 - val_AUC_PR: 0.9474\n",
      "Epoch 98/1000\n",
      "1/1 [==============================] - 0s 158ms/step - loss: 0.0073 - AUC_ROC: 1.0000 - accuracy: 0.9963 - false_negatives_2: 1.0000 - AUC_PR: 1.0000 - val_loss: 0.2930 - val_AUC_ROC: 0.9833 - val_accuracy: 0.9583 - val_false_negatives_2: 0.0000e+00 - val_AUC_PR: 0.9474\n",
      "Epoch 99/1000\n",
      "1/1 [==============================] - 0s 162ms/step - loss: 0.0198 - AUC_ROC: 0.9999 - accuracy: 0.9926 - false_negatives_2: 1.0000 - AUC_PR: 0.9998 - val_loss: 0.2884 - val_AUC_ROC: 0.9833 - val_accuracy: 0.9583 - val_false_negatives_2: 0.0000e+00 - val_AUC_PR: 0.9474\n",
      "Epoch 100/1000\n",
      "1/1 [==============================] - 0s 163ms/step - loss: 0.0128 - AUC_ROC: 1.0000 - accuracy: 0.9963 - false_negatives_2: 0.0000e+00 - AUC_PR: 1.0000 - val_loss: 0.2786 - val_AUC_ROC: 0.9833 - val_accuracy: 0.9792 - val_false_negatives_2: 0.0000e+00 - val_AUC_PR: 0.9474\n",
      "Epoch 101/1000\n",
      "1/1 [==============================] - 0s 155ms/step - loss: 0.0214 - AUC_ROC: 0.9995 - accuracy: 0.9963 - false_negatives_2: 1.0000 - AUC_PR: 0.9993 - val_loss: 0.2730 - val_AUC_ROC: 0.9833 - val_accuracy: 0.9792 - val_false_negatives_2: 0.0000e+00 - val_AUC_PR: 0.9474\n",
      "Epoch 102/1000\n",
      "1/1 [==============================] - 0s 172ms/step - loss: 0.0298 - AUC_ROC: 0.9996 - accuracy: 0.9926 - false_negatives_2: 1.0000 - AUC_PR: 0.9993 - val_loss: 0.2607 - val_AUC_ROC: 0.9833 - val_accuracy: 0.9792 - val_false_negatives_2: 0.0000e+00 - val_AUC_PR: 0.9474\n",
      "Epoch 103/1000\n",
      "1/1 [==============================] - 0s 176ms/step - loss: 0.0161 - AUC_ROC: 0.9998 - accuracy: 0.9963 - false_negatives_2: 1.0000 - AUC_PR: 0.9997 - val_loss: 0.2546 - val_AUC_ROC: 0.9833 - val_accuracy: 0.9792 - val_false_negatives_2: 0.0000e+00 - val_AUC_PR: 0.9474\n",
      "Epoch 104/1000\n",
      "1/1 [==============================] - 0s 177ms/step - loss: 0.0128 - AUC_ROC: 0.9999 - accuracy: 0.9963 - false_negatives_2: 0.0000e+00 - AUC_PR: 0.9999 - val_loss: 0.2491 - val_AUC_ROC: 0.9824 - val_accuracy: 0.9792 - val_false_negatives_2: 0.0000e+00 - val_AUC_PR: 0.9445\n",
      "Epoch 105/1000\n",
      "1/1 [==============================] - 0s 181ms/step - loss: 0.0232 - AUC_ROC: 0.9997 - accuracy: 0.9926 - false_negatives_2: 1.0000 - AUC_PR: 0.9995 - val_loss: 0.2445 - val_AUC_ROC: 0.9815 - val_accuracy: 0.9792 - val_false_negatives_2: 0.0000e+00 - val_AUC_PR: 0.9415\n",
      "Epoch 106/1000\n",
      "1/1 [==============================] - 0s 231ms/step - loss: 0.0064 - AUC_ROC: 1.0000 - accuracy: 1.0000 - false_negatives_2: 0.0000e+00 - AUC_PR: 1.0000 - val_loss: 0.2399 - val_AUC_ROC: 0.9815 - val_accuracy: 0.9792 - val_false_negatives_2: 0.0000e+00 - val_AUC_PR: 0.9415\n",
      "Epoch 107/1000\n",
      "1/1 [==============================] - 0s 246ms/step - loss: 0.0147 - AUC_ROC: 0.9998 - accuracy: 0.9963 - false_negatives_2: 1.0000 - AUC_PR: 0.9996 - val_loss: 0.2350 - val_AUC_ROC: 0.9815 - val_accuracy: 0.9792 - val_false_negatives_2: 0.0000e+00 - val_AUC_PR: 0.9415\n",
      "Epoch 108/1000\n",
      "1/1 [==============================] - 0s 318ms/step - loss: 0.0072 - AUC_ROC: 1.0000 - accuracy: 0.9963 - false_negatives_2: 1.0000 - AUC_PR: 1.0000 - val_loss: 0.2325 - val_AUC_ROC: 0.9815 - val_accuracy: 0.9792 - val_false_negatives_2: 0.0000e+00 - val_AUC_PR: 0.9415\n",
      "Epoch 109/1000\n",
      "1/1 [==============================] - 0s 173ms/step - loss: 0.0045 - AUC_ROC: 1.0000 - accuracy: 1.0000 - false_negatives_2: 0.0000e+00 - AUC_PR: 1.0000 - val_loss: 0.2308 - val_AUC_ROC: 0.9815 - val_accuracy: 0.9792 - val_false_negatives_2: 0.0000e+00 - val_AUC_PR: 0.9415\n",
      "Epoch 110/1000\n",
      "1/1 [==============================] - 0s 285ms/step - loss: 0.0327 - AUC_ROC: 0.9993 - accuracy: 0.9853 - false_negatives_2: 3.0000 - AUC_PR: 0.9989 - val_loss: 0.2307 - val_AUC_ROC: 0.9815 - val_accuracy: 0.9792 - val_false_negatives_2: 0.0000e+00 - val_AUC_PR: 0.9415\n",
      "Epoch 111/1000\n",
      "1/1 [==============================] - 0s 172ms/step - loss: 0.0273 - AUC_ROC: 0.9996 - accuracy: 0.9926 - false_negatives_2: 1.0000 - AUC_PR: 0.9994 - val_loss: 0.2287 - val_AUC_ROC: 0.9815 - val_accuracy: 0.9792 - val_false_negatives_2: 0.0000e+00 - val_AUC_PR: 0.9415\n",
      "Epoch 112/1000\n",
      "1/1 [==============================] - 0s 154ms/step - loss: 0.0206 - AUC_ROC: 0.9998 - accuracy: 0.9926 - false_negatives_2: 2.0000 - AUC_PR: 0.9997 - val_loss: 0.2301 - val_AUC_ROC: 0.9824 - val_accuracy: 0.9792 - val_false_negatives_2: 0.0000e+00 - val_AUC_PR: 0.9445\n",
      "Epoch 113/1000\n",
      "1/1 [==============================] - 0s 184ms/step - loss: 0.0082 - AUC_ROC: 1.0000 - accuracy: 0.9926 - false_negatives_2: 0.0000e+00 - AUC_PR: 1.0000 - val_loss: 0.2278 - val_AUC_ROC: 0.9824 - val_accuracy: 0.9792 - val_false_negatives_2: 0.0000e+00 - val_AUC_PR: 0.9445\n",
      "Epoch 114/1000\n",
      "1/1 [==============================] - 0s 190ms/step - loss: 0.0318 - AUC_ROC: 0.9998 - accuracy: 0.9926 - false_negatives_2: 1.0000 - AUC_PR: 0.9996 - val_loss: 0.2260 - val_AUC_ROC: 0.9833 - val_accuracy: 0.9792 - val_false_negatives_2: 0.0000e+00 - val_AUC_PR: 0.9474\n",
      "Epoch 115/1000\n",
      "1/1 [==============================] - 0s 178ms/step - loss: 0.0069 - AUC_ROC: 1.0000 - accuracy: 1.0000 - false_negatives_2: 0.0000e+00 - AUC_PR: 1.0000 - val_loss: 0.2223 - val_AUC_ROC: 0.9824 - val_accuracy: 0.9792 - val_false_negatives_2: 0.0000e+00 - val_AUC_PR: 0.9445\n",
      "Epoch 116/1000\n",
      "1/1 [==============================] - 0s 173ms/step - loss: 0.0087 - AUC_ROC: 1.0000 - accuracy: 0.9963 - false_negatives_2: 1.0000 - AUC_PR: 1.0000 - val_loss: 0.2197 - val_AUC_ROC: 0.9824 - val_accuracy: 0.9792 - val_false_negatives_2: 0.0000e+00 - val_AUC_PR: 0.9445\n",
      "Epoch 117/1000\n",
      "1/1 [==============================] - 0s 173ms/step - loss: 0.0150 - AUC_ROC: 1.0000 - accuracy: 0.9963 - false_negatives_2: 0.0000e+00 - AUC_PR: 1.0000 - val_loss: 0.2124 - val_AUC_ROC: 0.9824 - val_accuracy: 0.9792 - val_false_negatives_2: 0.0000e+00 - val_AUC_PR: 0.9445\n",
      "Epoch 118/1000\n",
      "1/1 [==============================] - 0s 185ms/step - loss: 0.0155 - AUC_ROC: 0.9998 - accuracy: 0.9963 - false_negatives_2: 0.0000e+00 - AUC_PR: 0.9997 - val_loss: 0.2076 - val_AUC_ROC: 0.9815 - val_accuracy: 0.9792 - val_false_negatives_2: 0.0000e+00 - val_AUC_PR: 0.9415\n",
      "Epoch 119/1000\n",
      "1/1 [==============================] - 0s 204ms/step - loss: 0.0126 - AUC_ROC: 0.9998 - accuracy: 0.9963 - false_negatives_2: 1.0000 - AUC_PR: 0.9997 - val_loss: 0.2058 - val_AUC_ROC: 0.9815 - val_accuracy: 0.9792 - val_false_negatives_2: 0.0000e+00 - val_AUC_PR: 0.9415\n",
      "Epoch 120/1000\n",
      "1/1 [==============================] - 0s 185ms/step - loss: 0.0051 - AUC_ROC: 1.0000 - accuracy: 1.0000 - false_negatives_2: 0.0000e+00 - AUC_PR: 1.0000 - val_loss: 0.2052 - val_AUC_ROC: 0.9815 - val_accuracy: 0.9792 - val_false_negatives_2: 0.0000e+00 - val_AUC_PR: 0.9415\n",
      "Epoch 121/1000\n",
      "1/1 [==============================] - 0s 157ms/step - loss: 0.0117 - AUC_ROC: 0.9999 - accuracy: 0.9963 - false_negatives_2: 0.0000e+00 - AUC_PR: 0.9999 - val_loss: 0.2068 - val_AUC_ROC: 0.9815 - val_accuracy: 0.9792 - val_false_negatives_2: 0.0000e+00 - val_AUC_PR: 0.9415\n",
      "Epoch 122/1000\n",
      "1/1 [==============================] - 0s 153ms/step - loss: 0.0059 - AUC_ROC: 1.0000 - accuracy: 0.9963 - false_negatives_2: 0.0000e+00 - AUC_PR: 1.0000 - val_loss: 0.2082 - val_AUC_ROC: 0.9815 - val_accuracy: 0.9792 - val_false_negatives_2: 0.0000e+00 - val_AUC_PR: 0.9415\n",
      "Epoch 123/1000\n",
      "1/1 [==============================] - 0s 156ms/step - loss: 0.0091 - AUC_ROC: 1.0000 - accuracy: 0.9963 - false_negatives_2: 1.0000 - AUC_PR: 1.0000 - val_loss: 0.2119 - val_AUC_ROC: 0.9815 - val_accuracy: 0.9792 - val_false_negatives_2: 0.0000e+00 - val_AUC_PR: 0.9415\n",
      "Epoch 124/1000\n",
      "1/1 [==============================] - 0s 159ms/step - loss: 0.0103 - AUC_ROC: 1.0000 - accuracy: 0.9963 - false_negatives_2: 1.0000 - AUC_PR: 1.0000 - val_loss: 0.2187 - val_AUC_ROC: 0.9815 - val_accuracy: 0.9792 - val_false_negatives_2: 0.0000e+00 - val_AUC_PR: 0.9415\n",
      "Epoch 125/1000\n",
      "1/1 [==============================] - 0s 166ms/step - loss: 0.0123 - AUC_ROC: 1.0000 - accuracy: 0.9926 - false_negatives_2: 2.0000 - AUC_PR: 1.0000 - val_loss: 0.2274 - val_AUC_ROC: 0.9815 - val_accuracy: 0.9792 - val_false_negatives_2: 0.0000e+00 - val_AUC_PR: 0.9415\n",
      "Epoch 126/1000\n",
      "1/1 [==============================] - 0s 173ms/step - loss: 0.0137 - AUC_ROC: 0.9999 - accuracy: 0.9926 - false_negatives_2: 1.0000 - AUC_PR: 0.9999 - val_loss: 0.2359 - val_AUC_ROC: 0.9815 - val_accuracy: 0.9792 - val_false_negatives_2: 0.0000e+00 - val_AUC_PR: 0.9415\n",
      "Epoch 127/1000\n",
      "1/1 [==============================] - 0s 178ms/step - loss: 0.0023 - AUC_ROC: 1.0000 - accuracy: 1.0000 - false_negatives_2: 0.0000e+00 - AUC_PR: 1.0000 - val_loss: 0.2437 - val_AUC_ROC: 0.9824 - val_accuracy: 0.9792 - val_false_negatives_2: 0.0000e+00 - val_AUC_PR: 0.9445\n",
      "Epoch 128/1000\n",
      "1/1 [==============================] - 0s 174ms/step - loss: 0.0095 - AUC_ROC: 0.9999 - accuracy: 0.9926 - false_negatives_2: 1.0000 - AUC_PR: 0.9999 - val_loss: 0.2509 - val_AUC_ROC: 0.9824 - val_accuracy: 0.9792 - val_false_negatives_2: 0.0000e+00 - val_AUC_PR: 0.9445\n",
      "Epoch 129/1000\n",
      "1/1 [==============================] - 0s 181ms/step - loss: 0.0077 - AUC_ROC: 1.0000 - accuracy: 1.0000 - false_negatives_2: 0.0000e+00 - AUC_PR: 1.0000 - val_loss: 0.2587 - val_AUC_ROC: 0.9833 - val_accuracy: 0.9792 - val_false_negatives_2: 0.0000e+00 - val_AUC_PR: 0.9474\n",
      "Epoch 130/1000\n",
      "1/1 [==============================] - 0s 174ms/step - loss: 0.0051 - AUC_ROC: 1.0000 - accuracy: 1.0000 - false_negatives_2: 0.0000e+00 - AUC_PR: 1.0000 - val_loss: 0.2690 - val_AUC_ROC: 0.9833 - val_accuracy: 0.9792 - val_false_negatives_2: 0.0000e+00 - val_AUC_PR: 0.9474\n",
      "Epoch 131/1000\n",
      "1/1 [==============================] - 0s 175ms/step - loss: 0.0061 - AUC_ROC: 1.0000 - accuracy: 0.9963 - false_negatives_2: 1.0000 - AUC_PR: 1.0000 - val_loss: 0.2789 - val_AUC_ROC: 0.9833 - val_accuracy: 0.9792 - val_false_negatives_2: 0.0000e+00 - val_AUC_PR: 0.9474\n",
      "Epoch 132/1000\n",
      "1/1 [==============================] - 0s 174ms/step - loss: 0.0154 - AUC_ROC: 0.9999 - accuracy: 0.9926 - false_negatives_2: 2.0000 - AUC_PR: 0.9998 - val_loss: 0.2957 - val_AUC_ROC: 0.9833 - val_accuracy: 0.9792 - val_false_negatives_2: 0.0000e+00 - val_AUC_PR: 0.9474\n",
      "Epoch 133/1000\n",
      "1/1 [==============================] - 0s 174ms/step - loss: 0.0050 - AUC_ROC: 1.0000 - accuracy: 1.0000 - false_negatives_2: 0.0000e+00 - AUC_PR: 1.0000 - val_loss: 0.3277 - val_AUC_ROC: 0.9833 - val_accuracy: 0.9375 - val_false_negatives_2: 0.0000e+00 - val_AUC_PR: 0.9474\n",
      "Epoch 134/1000\n",
      "1/1 [==============================] - 0s 172ms/step - loss: 0.0089 - AUC_ROC: 1.0000 - accuracy: 0.9963 - false_negatives_2: 0.0000e+00 - AUC_PR: 1.0000 - val_loss: 0.3542 - val_AUC_ROC: 0.9833 - val_accuracy: 0.9375 - val_false_negatives_2: 0.0000e+00 - val_AUC_PR: 0.9474\n",
      "Epoch 135/1000\n",
      "1/1 [==============================] - 0s 177ms/step - loss: 0.0056 - AUC_ROC: 1.0000 - accuracy: 1.0000 - false_negatives_2: 0.0000e+00 - AUC_PR: 1.0000 - val_loss: 0.3829 - val_AUC_ROC: 0.9833 - val_accuracy: 0.9167 - val_false_negatives_2: 0.0000e+00 - val_AUC_PR: 0.9474\n",
      "Epoch 136/1000\n",
      "1/1 [==============================] - 0s 180ms/step - loss: 0.0086 - AUC_ROC: 1.0000 - accuracy: 0.9963 - false_negatives_2: 0.0000e+00 - AUC_PR: 1.0000 - val_loss: 0.3866 - val_AUC_ROC: 0.9833 - val_accuracy: 0.9167 - val_false_negatives_2: 0.0000e+00 - val_AUC_PR: 0.9474\n",
      "Epoch 137/1000\n",
      "1/1 [==============================] - 0s 177ms/step - loss: 0.0193 - AUC_ROC: 0.9999 - accuracy: 0.9963 - false_negatives_2: 0.0000e+00 - AUC_PR: 0.9999 - val_loss: 0.3735 - val_AUC_ROC: 0.9833 - val_accuracy: 0.9167 - val_false_negatives_2: 0.0000e+00 - val_AUC_PR: 0.9474\n",
      "Epoch 138/1000\n",
      "1/1 [==============================] - 0s 173ms/step - loss: 0.0149 - AUC_ROC: 0.9999 - accuracy: 0.9926 - false_negatives_2: 2.0000 - AUC_PR: 0.9998 - val_loss: 0.3784 - val_AUC_ROC: 0.9833 - val_accuracy: 0.9167 - val_false_negatives_2: 0.0000e+00 - val_AUC_PR: 0.9474\n",
      "Epoch 139/1000\n",
      "1/1 [==============================] - 0s 175ms/step - loss: 0.0069 - AUC_ROC: 1.0000 - accuracy: 0.9963 - false_negatives_2: 0.0000e+00 - AUC_PR: 1.0000 - val_loss: 0.3630 - val_AUC_ROC: 0.9833 - val_accuracy: 0.9375 - val_false_negatives_2: 0.0000e+00 - val_AUC_PR: 0.9474\n",
      "Epoch 140/1000\n",
      "1/1 [==============================] - 0s 175ms/step - loss: 0.0052 - AUC_ROC: 1.0000 - accuracy: 0.9963 - false_negatives_2: 1.0000 - AUC_PR: 1.0000 - val_loss: 0.3566 - val_AUC_ROC: 0.9833 - val_accuracy: 0.9375 - val_false_negatives_2: 0.0000e+00 - val_AUC_PR: 0.9474\n",
      "Epoch 141/1000\n",
      "1/1 [==============================] - 0s 177ms/step - loss: 0.0038 - AUC_ROC: 1.0000 - accuracy: 1.0000 - false_negatives_2: 0.0000e+00 - AUC_PR: 1.0000 - val_loss: 0.3381 - val_AUC_ROC: 0.9833 - val_accuracy: 0.9375 - val_false_negatives_2: 0.0000e+00 - val_AUC_PR: 0.9474\n",
      "Epoch 142/1000\n",
      "1/1 [==============================] - 0s 181ms/step - loss: 0.0073 - AUC_ROC: 1.0000 - accuracy: 0.9963 - false_negatives_2: 0.0000e+00 - AUC_PR: 1.0000 - val_loss: 0.3161 - val_AUC_ROC: 0.9833 - val_accuracy: 0.9375 - val_false_negatives_2: 0.0000e+00 - val_AUC_PR: 0.9474\n",
      "Epoch 143/1000\n",
      "1/1 [==============================] - 0s 183ms/step - loss: 0.0059 - AUC_ROC: 1.0000 - accuracy: 1.0000 - false_negatives_2: 0.0000e+00 - AUC_PR: 1.0000 - val_loss: 0.2919 - val_AUC_ROC: 0.9833 - val_accuracy: 0.9792 - val_false_negatives_2: 0.0000e+00 - val_AUC_PR: 0.9474\n",
      "Epoch 144/1000\n"
     ]
    },
    {
     "name": "stdout",
     "output_type": "stream",
     "text": [
      "1/1 [==============================] - 0s 186ms/step - loss: 0.0069 - AUC_ROC: 1.0000 - accuracy: 0.9963 - false_negatives_2: 1.0000 - AUC_PR: 1.0000 - val_loss: 0.2810 - val_AUC_ROC: 0.9833 - val_accuracy: 0.9792 - val_false_negatives_2: 0.0000e+00 - val_AUC_PR: 0.9474\n",
      "Epoch 145/1000\n",
      "1/1 [==============================] - 0s 178ms/step - loss: 0.0025 - AUC_ROC: 1.0000 - accuracy: 1.0000 - false_negatives_2: 0.0000e+00 - AUC_PR: 1.0000 - val_loss: 0.2701 - val_AUC_ROC: 0.9833 - val_accuracy: 0.9792 - val_false_negatives_2: 0.0000e+00 - val_AUC_PR: 0.9474\n",
      "Epoch 146/1000\n",
      "1/1 [==============================] - 0s 175ms/step - loss: 9.2320e-04 - AUC_ROC: 1.0000 - accuracy: 1.0000 - false_negatives_2: 0.0000e+00 - AUC_PR: 1.0000 - val_loss: 0.2625 - val_AUC_ROC: 0.9833 - val_accuracy: 0.9792 - val_false_negatives_2: 0.0000e+00 - val_AUC_PR: 0.9474\n",
      "Epoch 147/1000\n",
      "1/1 [==============================] - 0s 185ms/step - loss: 0.0014 - AUC_ROC: 1.0000 - accuracy: 1.0000 - false_negatives_2: 0.0000e+00 - AUC_PR: 1.0000 - val_loss: 0.2568 - val_AUC_ROC: 0.9824 - val_accuracy: 0.9792 - val_false_negatives_2: 0.0000e+00 - val_AUC_PR: 0.9445\n",
      "Epoch 148/1000\n",
      "1/1 [==============================] - 0s 184ms/step - loss: 0.0035 - AUC_ROC: 1.0000 - accuracy: 1.0000 - false_negatives_2: 0.0000e+00 - AUC_PR: 1.0000 - val_loss: 0.2532 - val_AUC_ROC: 0.9824 - val_accuracy: 0.9792 - val_false_negatives_2: 0.0000e+00 - val_AUC_PR: 0.9445\n",
      "Epoch 149/1000\n",
      "1/1 [==============================] - 0s 185ms/step - loss: 0.0021 - AUC_ROC: 1.0000 - accuracy: 1.0000 - false_negatives_2: 0.0000e+00 - AUC_PR: 1.0000 - val_loss: 0.2515 - val_AUC_ROC: 0.9824 - val_accuracy: 0.9792 - val_false_negatives_2: 0.0000e+00 - val_AUC_PR: 0.9445\n",
      "Epoch 150/1000\n",
      "1/1 [==============================] - 0s 184ms/step - loss: 0.0040 - AUC_ROC: 1.0000 - accuracy: 1.0000 - false_negatives_2: 0.0000e+00 - AUC_PR: 1.0000 - val_loss: 0.2507 - val_AUC_ROC: 0.9824 - val_accuracy: 0.9792 - val_false_negatives_2: 0.0000e+00 - val_AUC_PR: 0.9445\n",
      "Epoch 151/1000\n",
      "1/1 [==============================] - 0s 182ms/step - loss: 0.0200 - AUC_ROC: 0.9998 - accuracy: 0.9963 - false_negatives_2: 1.0000 - AUC_PR: 0.9996 - val_loss: 0.2493 - val_AUC_ROC: 0.9824 - val_accuracy: 0.9792 - val_false_negatives_2: 0.0000e+00 - val_AUC_PR: 0.9445\n",
      "Epoch 152/1000\n",
      "1/1 [==============================] - 0s 184ms/step - loss: 0.0081 - AUC_ROC: 1.0000 - accuracy: 0.9963 - false_negatives_2: 1.0000 - AUC_PR: 1.0000 - val_loss: 0.2515 - val_AUC_ROC: 0.9824 - val_accuracy: 0.9792 - val_false_negatives_2: 0.0000e+00 - val_AUC_PR: 0.9445\n",
      "Epoch 153/1000\n",
      "1/1 [==============================] - 0s 194ms/step - loss: 4.2818e-04 - AUC_ROC: 1.0000 - accuracy: 1.0000 - false_negatives_2: 0.0000e+00 - AUC_PR: 1.0000 - val_loss: 0.2537 - val_AUC_ROC: 0.9824 - val_accuracy: 0.9792 - val_false_negatives_2: 0.0000e+00 - val_AUC_PR: 0.9445\n",
      "Epoch 154/1000\n",
      "1/1 [==============================] - 0s 189ms/step - loss: 0.0125 - AUC_ROC: 0.9999 - accuracy: 0.9926 - false_negatives_2: 2.0000 - AUC_PR: 0.9999 - val_loss: 0.2644 - val_AUC_ROC: 0.9824 - val_accuracy: 0.9583 - val_false_negatives_2: 0.0000e+00 - val_AUC_PR: 0.9445\n",
      "Epoch 155/1000\n",
      "1/1 [==============================] - 0s 189ms/step - loss: 0.0010 - AUC_ROC: 1.0000 - accuracy: 1.0000 - false_negatives_2: 0.0000e+00 - AUC_PR: 1.0000 - val_loss: 0.2747 - val_AUC_ROC: 0.9833 - val_accuracy: 0.9583 - val_false_negatives_2: 0.0000e+00 - val_AUC_PR: 0.9474\n",
      "Epoch 156/1000\n",
      "1/1 [==============================] - 0s 186ms/step - loss: 0.0051 - AUC_ROC: 1.0000 - accuracy: 0.9963 - false_negatives_2: 0.0000e+00 - AUC_PR: 1.0000 - val_loss: 0.2870 - val_AUC_ROC: 0.9833 - val_accuracy: 0.9583 - val_false_negatives_2: 0.0000e+00 - val_AUC_PR: 0.9474\n",
      "Epoch 157/1000\n",
      "1/1 [==============================] - 0s 193ms/step - loss: 0.0024 - AUC_ROC: 1.0000 - accuracy: 1.0000 - false_negatives_2: 0.0000e+00 - AUC_PR: 1.0000 - val_loss: 0.3001 - val_AUC_ROC: 0.9833 - val_accuracy: 0.9583 - val_false_negatives_2: 0.0000e+00 - val_AUC_PR: 0.9474\n",
      "Epoch 158/1000\n",
      "1/1 [==============================] - 0s 181ms/step - loss: 7.9020e-04 - AUC_ROC: 1.0000 - accuracy: 1.0000 - false_negatives_2: 0.0000e+00 - AUC_PR: 1.0000 - val_loss: 0.3139 - val_AUC_ROC: 0.9833 - val_accuracy: 0.9583 - val_false_negatives_2: 0.0000e+00 - val_AUC_PR: 0.9474\n",
      "Epoch 159/1000\n",
      "1/1 [==============================] - 0s 193ms/step - loss: 0.0057 - AUC_ROC: 1.0000 - accuracy: 1.0000 - false_negatives_2: 0.0000e+00 - AUC_PR: 1.0000 - val_loss: 0.3368 - val_AUC_ROC: 0.9833 - val_accuracy: 0.9167 - val_false_negatives_2: 0.0000e+00 - val_AUC_PR: 0.9474\n",
      "Epoch 160/1000\n",
      "1/1 [==============================] - 0s 205ms/step - loss: 0.0086 - AUC_ROC: 1.0000 - accuracy: 0.9963 - false_negatives_2: 1.0000 - AUC_PR: 1.0000 - val_loss: 0.3777 - val_AUC_ROC: 0.9833 - val_accuracy: 0.9167 - val_false_negatives_2: 0.0000e+00 - val_AUC_PR: 0.9474\n",
      "Epoch 161/1000\n",
      "1/1 [==============================] - 0s 188ms/step - loss: 0.0012 - AUC_ROC: 1.0000 - accuracy: 1.0000 - false_negatives_2: 0.0000e+00 - AUC_PR: 1.0000 - val_loss: 0.4204 - val_AUC_ROC: 0.9833 - val_accuracy: 0.9167 - val_false_negatives_2: 0.0000e+00 - val_AUC_PR: 0.9474\n",
      "Epoch 162/1000\n",
      "1/1 [==============================] - 0s 197ms/step - loss: 0.0076 - AUC_ROC: 1.0000 - accuracy: 0.9963 - false_negatives_2: 0.0000e+00 - AUC_PR: 1.0000 - val_loss: 0.4452 - val_AUC_ROC: 0.9833 - val_accuracy: 0.8958 - val_false_negatives_2: 0.0000e+00 - val_AUC_PR: 0.9474\n",
      "Epoch 163/1000\n",
      "1/1 [==============================] - 0s 192ms/step - loss: 0.0079 - AUC_ROC: 1.0000 - accuracy: 0.9963 - false_negatives_2: 0.0000e+00 - AUC_PR: 1.0000 - val_loss: 0.4379 - val_AUC_ROC: 0.9833 - val_accuracy: 0.8958 - val_false_negatives_2: 0.0000e+00 - val_AUC_PR: 0.9474\n",
      "Epoch 164/1000\n",
      "1/1 [==============================] - 0s 185ms/step - loss: 0.0250 - AUC_ROC: 0.9998 - accuracy: 0.9853 - false_negatives_2: 1.0000 - AUC_PR: 0.9996 - val_loss: 0.3931 - val_AUC_ROC: 0.9833 - val_accuracy: 0.9167 - val_false_negatives_2: 0.0000e+00 - val_AUC_PR: 0.9474\n",
      "Epoch 165/1000\n",
      "1/1 [==============================] - 0s 188ms/step - loss: 0.0047 - AUC_ROC: 1.0000 - accuracy: 1.0000 - false_negatives_2: 0.0000e+00 - AUC_PR: 1.0000 - val_loss: 0.3657 - val_AUC_ROC: 0.9833 - val_accuracy: 0.9167 - val_false_negatives_2: 0.0000e+00 - val_AUC_PR: 0.9474\n",
      "Epoch 166/1000\n",
      "1/1 [==============================] - 0s 191ms/step - loss: 0.0020 - AUC_ROC: 1.0000 - accuracy: 1.0000 - false_negatives_2: 0.0000e+00 - AUC_PR: 1.0000 - val_loss: 0.3440 - val_AUC_ROC: 0.9833 - val_accuracy: 0.9583 - val_false_negatives_2: 0.0000e+00 - val_AUC_PR: 0.9474\n",
      "Epoch 167/1000\n",
      "1/1 [==============================] - 0s 203ms/step - loss: 9.5325e-04 - AUC_ROC: 1.0000 - accuracy: 1.0000 - false_negatives_2: 0.0000e+00 - AUC_PR: 1.0000 - val_loss: 0.3291 - val_AUC_ROC: 0.9833 - val_accuracy: 0.9583 - val_false_negatives_2: 0.0000e+00 - val_AUC_PR: 0.9474\n",
      "Epoch 168/1000\n",
      "1/1 [==============================] - 0s 208ms/step - loss: 0.0095 - AUC_ROC: 1.0000 - accuracy: 0.9963 - false_negatives_2: 1.0000 - AUC_PR: 1.0000 - val_loss: 0.3365 - val_AUC_ROC: 0.9833 - val_accuracy: 0.9583 - val_false_negatives_2: 0.0000e+00 - val_AUC_PR: 0.9474\n",
      "Epoch 169/1000\n",
      "1/1 [==============================] - 0s 208ms/step - loss: 0.0261 - AUC_ROC: 1.0000 - accuracy: 0.9853 - false_negatives_2: 4.0000 - AUC_PR: 1.0000 - val_loss: 0.3797 - val_AUC_ROC: 0.9833 - val_accuracy: 0.9167 - val_false_negatives_2: 0.0000e+00 - val_AUC_PR: 0.9474\n",
      "Epoch 170/1000\n",
      "1/1 [==============================] - 0s 247ms/step - loss: 0.0156 - AUC_ROC: 0.9999 - accuracy: 0.9926 - false_negatives_2: 1.0000 - AUC_PR: 0.9999 - val_loss: 0.4375 - val_AUC_ROC: 0.9833 - val_accuracy: 0.9167 - val_false_negatives_2: 0.0000e+00 - val_AUC_PR: 0.9474\n",
      "Tiempo de entrenamiento: 41.9064 segundos\n"
     ]
    }
   ],
   "source": [
    "tabtransformer = TabTransformer(\n",
    "        numerical_features = NUMERIC_FEATURES,\n",
    "        categorical_features = CATEGORICAL_FEATURES,\n",
    "        categorical_lookup=category_prep_layers,\n",
    "        numerical_discretisers=None, # simply passing the numeric features\n",
    "        embedding_dim=32,\n",
    "        out_dim=1,\n",
    "        out_activation='sigmoid',\n",
    "        depth=5,\n",
    "        heads=3,\n",
    "        attn_dropout=0.3618873475905729,\n",
    "        ff_dropout=0.4067723058777808,\n",
    "        mlp_hidden_factors=[1, 4],\n",
    "        use_column_embedding=False,\n",
    "    )\n",
    "\n",
    "\n",
    "\n",
    "LEARNING_RATE = 0.001\n",
    "WEIGHT_DECAY = 0.0001\n",
    "NUM_EPOCHS = 1000\n",
    "\n",
    "optimizer = tfa.optimizers.AdamW(\n",
    "        learning_rate=LEARNING_RATE, weight_decay=WEIGHT_DECAY\n",
    "    )\n",
    "\n",
    "tabtransformer.compile(\n",
    "    optimizer = optimizer,\n",
    "    loss = tf.keras.losses.BinaryCrossentropy(),\n",
    "    metrics= [tf.keras.metrics.AUC(name=\"AUC_ROC\", curve='ROC'), keras.metrics.BinaryAccuracy(name=\"accuracy\"),\n",
    "                       tf.keras.metrics.FalseNegatives(), tf.keras.metrics.AUC(name=\"AUC_PR\", curve='PR')],\n",
    ")\n",
    "\n",
    "early = EarlyStopping(monitor=\"val_loss\", mode=\"min\", patience=50, restore_best_weights=True)\n",
    "callback_list = [early]\n",
    "\n",
    "start_time = time.time()\n",
    "history = tabtransformer.fit(\n",
    "    train_dataset, \n",
    "    epochs=NUM_EPOCHS, \n",
    "    validation_data=val_dataset,\n",
    "    callbacks=callback_list,\n",
    "    verbose=1,\n",
    ")\n",
    "\n",
    "training_time = time.time() - start_time\n",
    "# Imprimir el tiempo de entrenamiento en segundos\n",
    "print(\"Tiempo de entrenamiento: %.4f segundos\" % training_time)"
   ]
  },
  {
   "cell_type": "code",
   "execution_count": 24,
   "id": "52de50b7",
   "metadata": {},
   "outputs": [
    {
     "name": "stdout",
     "output_type": "stream",
     "text": [
      "WARNING:tensorflow:5 out of the last 5 calls to <function Model.make_predict_function.<locals>.predict_function at 0x00000201B1315E58> triggered tf.function retracing. Tracing is expensive and the excessive number of tracings could be due to (1) creating @tf.function repeatedly in a loop, (2) passing tensors with different shapes, (3) passing Python objects instead of tensors. For (1), please define your @tf.function outside of the loop. For (2), @tf.function has reduce_retracing=True option that can avoid unnecessary retracing. For (3), please refer to https://www.tensorflow.org/guide/function#controlling_retracing and https://www.tensorflow.org/api_docs/python/tf/function for  more details.\n",
      "1/1 [==============================] - 1s 731ms/step\n",
      "PR AUC: 0.9907216297825173\n",
      "ROC AUC: 0.9944444444444445\n",
      "Val Accuracy: 0.9792\n"
     ]
    }
   ],
   "source": [
    "val_preds = tabtransformer.predict(val_dataset)\n",
    "\n",
    "print(f\"PR AUC: {average_precision_score(val_data[LABEL_Y], val_preds.ravel())}\")\n",
    "print(f\"ROC AUC: {roc_auc_score(val_data[LABEL_Y], val_preds.ravel())}\")\n",
    "print(\"Val Accuracy:\", np.round(accuracy_score(val_data[LABEL_Y], val_preds.ravel() > 0.5), 4))"
   ]
  },
  {
   "cell_type": "code",
   "execution_count": 25,
   "id": "8d88e5b0",
   "metadata": {},
   "outputs": [
    {
     "name": "stdout",
     "output_type": "stream",
     "text": [
      "WARNING:tensorflow:6 out of the last 6 calls to <function Model.make_predict_function.<locals>.predict_function at 0x00000201B1315E58> triggered tf.function retracing. Tracing is expensive and the excessive number of tracings could be due to (1) creating @tf.function repeatedly in a loop, (2) passing tensors with different shapes, (3) passing Python objects instead of tensors. For (1), please define your @tf.function outside of the loop. For (2), @tf.function has reduce_retracing=True option that can avoid unnecessary retracing. For (3), please refer to https://www.tensorflow.org/guide/function#controlling_retracing and https://www.tensorflow.org/api_docs/python/tf/function for  more details.\n",
      "1/1 [==============================] - 1s 1s/step\n",
      "Test Accuracy: 97.5\n",
      "Test ROC AUC: 100.0\n",
      "Test PR AUC: 100.0\n",
      "Test F1-score: 96.55\n",
      "Test Precision: 93.33\n",
      "Test Recall: 100.0\n"
     ]
    }
   ],
   "source": [
    "test_preds = tabtransformer.predict(test_dataset)\n",
    "print(\"Test Accuracy:\", np.round(accuracy_score(test_data[LABEL_Y], test_preds.ravel() > 0.5), 4)*100)\n",
    "print(\"Test ROC AUC:\", np.round(roc_auc_score(test_data[LABEL_Y], test_preds.ravel()), 4)*100)\n",
    "print(\"Test PR AUC:\", np.round(average_precision_score(test_data[LABEL_Y], test_preds.ravel()), 4)*100)\n",
    "print(\"Test F1-score:\", np.round(f1_score(test_data[LABEL_Y], test_preds.ravel() > 0.5), 4)*100)\n",
    "print(\"Test Precision:\", np.round(precision_score(test_data[LABEL_Y], test_preds.ravel() > 0.5), 4)*100)\n",
    "print(\"Test Recall:\", np.round(recall_score(test_data[LABEL_Y], test_preds.ravel() > 0.5), 4)*100)"
   ]
  },
  {
   "cell_type": "code",
   "execution_count": 21,
   "id": "e9824590",
   "metadata": {},
   "outputs": [
    {
     "data": {
      "image/png": "[encoded data removed]",
      "text/plain": [
       "<Figure size 750x750 with 1 Axes>"
      ]
     },
     "metadata": {},
     "output_type": "display_data"
    }
   ],
   "source": [
    "conf_matrix = confusion_matrix(test_data[LABEL_Y], test_preds.ravel() > 0.5)\n",
    "conf_matrix\n",
    "\n",
    "fig, ax = plt.subplots(figsize=(7.5, 7.5))\n",
    "ax.matshow(conf_matrix, cmap=plt.cm.Blues, alpha=0.3)\n",
    "for i in range(conf_matrix.shape[0]):\n",
    "    for j in range(conf_matrix.shape[1]):\n",
    "        ax.text(x=j, y=i,s=conf_matrix[i, j], va='center', ha='center', size='xx-large')\n",
    "plt.xlabel('Predictions', fontsize=18)\n",
    "plt.ylabel('Actuals', fontsize=18)\n",
    "plt.title('Confusion Matrix', fontsize=18)\n",
    "plt.show()"
   ]
  },
  {
   "cell_type": "code",
   "execution_count": 22,
   "id": "a59b7b83",
   "metadata": {
    "scrolled": true
   },
   "outputs": [
    {
     "data": {
      "image/png": "[encoded data removed]",
      "text/plain": [
       "<Figure size 640x480 with 2 Axes>"
      ]
     },
     "metadata": {},
     "output_type": "display_data"
    }
   ],
   "source": [
    "fig, ax = plt.subplots(nrows=1, ncols=2)\n",
    "\n",
    "ax[0].plot(history.history['loss'], label='Training Loss')\n",
    "ax[0].plot(history.history['val_loss'], label='Validation Loss')\n",
    "ax[0].legend()\n",
    "\n",
    "ax[1].plot(history.history['accuracy'], label='Training Accuracy')\n",
    "ax[1].plot(history.history['val_accuracy'], label='Validation Accuracy')\n",
    "ax[1].legend()\n",
    "\n",
    "plt.show()"
   ]
  },
  {
   "cell_type": "markdown",
   "id": "1513ad69",
   "metadata": {},
   "source": [
    "##  Diabetes 130-US Hospitals"
   ]
  },
  {
   "cell_type": "code",
   "execution_count": 2,
   "id": "304fdc45",
   "metadata": {},
   "outputs": [],
   "source": [
    "df = pd.read_csv('Diabetes_130US/diabetic_data.csv')\n",
    "\n",
    "df.loc[df['race'] == '?', 'race'] = 'Other'\n",
    "\n",
    "df.drop(df[df['gender'] == 'Unknown/Invalid'].index, inplace = True)\n",
    "\n",
    "df.reset_index(inplace = True, drop = True)\n",
    "\n",
    "df.drop(columns = ['weight', 'payer_code', 'medical_specialty'], inplace = True)\n",
    "\n",
    "df.drop(columns = ['acetohexamide', 'tolbutamide', 'troglitazone', 'tolazamide', 'examide', 'citoglipton',\n",
    "                   'glipizide-metformin', 'glimepiride-pioglitazone', 'metformin-rosiglitazone',\n",
    "                   'metformin-pioglitazone'], inplace = True)\n",
    "\n",
    "df = df[~((df['diag_1'] == \"?\") | (df['diag_2'] == \"?\") | (df['diag_3'] == \"?\"))]\n",
    "\n",
    "df = df.drop(columns= ['encounter_id', 'patient_nbr'])\n",
    "\n",
    "df['readmitted']=df['readmitted'].apply(lambda x : 1 if x =='<30' or x == '>30' else 0)\n",
    "\n",
    "df_sampled, _ = train_test_split(\n",
    "    df, \n",
    "    test_size=0.95,  # Retenemos solo el 15%\n",
    "    stratify=df['readmitted'],  # Balanceamos en función de la columna 'race'\n",
    "    random_state=42  # Para reproducibilidad\n",
    ")"
   ]
  },
  {
   "cell_type": "code",
   "execution_count": 3,
   "id": "08d3ccc7",
   "metadata": {},
   "outputs": [
    {
     "data": {
      "text/plain": [
       "(5012, 35)"
      ]
     },
     "execution_count": 3,
     "metadata": {},
     "output_type": "execute_result"
    }
   ],
   "source": [
    "df_sampled.shape"
   ]
  },
  {
   "cell_type": "code",
   "execution_count": 5,
   "id": "7b377200",
   "metadata": {},
   "outputs": [
    {
     "name": "stdout",
     "output_type": "stream",
     "text": [
      "['race', 'gender', 'age', 'diag_1', 'diag_2', 'diag_3', 'max_glu_serum', 'A1Cresult', 'metformin', 'repaglinide', 'nateglinide', 'chlorpropamide', 'glimepiride', 'glipizide', 'glyburide', 'pioglitazone', 'rosiglitazone', 'acarbose', 'miglitol', 'insulin', 'glyburide-metformin', 'change', 'diabetesMed']\n",
      "['admission_type_id', 'discharge_disposition_id', 'admission_source_id', 'time_in_hospital', 'num_lab_procedures', 'num_procedures', 'num_medications', 'number_outpatient', 'number_emergency', 'number_inpatient', 'number_diagnoses']\n"
     ]
    }
   ],
   "source": [
    "CATEGORICAL_FEATURES = df_sampled.select_dtypes(include=['object']).columns.tolist()\n",
    "print(CATEGORICAL_FEATURES)\n",
    "\n",
    "NUMERIC_FEATURES = df_sampled.select_dtypes(exclude=['object']).columns.tolist()\n",
    "NUMERIC_FEATURES.remove('readmitted')\n",
    "print(NUMERIC_FEATURES)\n",
    "\n",
    "FEATURES = list(NUMERIC_FEATURES) + list(CATEGORICAL_FEATURES)\n",
    "LABEL_Y = 'readmitted'"
   ]
  },
  {
   "cell_type": "code",
   "execution_count": 6,
   "id": "745b9572",
   "metadata": {},
   "outputs": [
    {
     "name": "stdout",
     "output_type": "stream",
     "text": [
      "0    2165\n",
      "1    1844\n",
      "Name: readmitted, dtype: int64\n",
      "0    526\n",
      "1    477\n",
      "Name: readmitted, dtype: int64\n"
     ]
    }
   ],
   "source": [
    "train_data, test_data = train_test_split(df_sampled, test_size=0.20, random_state=42)\n",
    "print(train_data[LABEL_Y].value_counts())\n",
    "print(test_data[LABEL_Y].value_counts())"
   ]
  },
  {
   "cell_type": "code",
   "execution_count": 7,
   "id": "8a0ee674",
   "metadata": {},
   "outputs": [
    {
     "data": {
      "text/plain": [
       "((3407, 35), (602, 35), (1003, 35))"
      ]
     },
     "execution_count": 7,
     "metadata": {},
     "output_type": "execute_result"
    }
   ],
   "source": [
    "train_data, val_data = train_test_split(train_data, test_size=0.15, stratify=train_data['readmitted'])\n",
    "train_data.shape, val_data.shape, test_data.shape"
   ]
  },
  {
   "cell_type": "code",
   "execution_count": 8,
   "id": "ddb5d27e",
   "metadata": {},
   "outputs": [
    {
     "data": {
      "text/plain": [
       "Pipeline(steps=[('impute', SimpleImputer(strategy='median')),\n",
       "                ('scale', StandardScaler())])"
      ]
     },
     "execution_count": 8,
     "metadata": {},
     "output_type": "execute_result"
    }
   ],
   "source": [
    "imputer = SimpleImputer(strategy='median')\n",
    "scaler = StandardScaler()\n",
    "\n",
    "numeric_pipe = Pipeline([\n",
    "    ('impute', imputer),\n",
    "    ('scale', scaler),\n",
    "])\n",
    "\n",
    "numeric_pipe.fit(train_data[NUMERIC_FEATURES])"
   ]
  },
  {
   "cell_type": "code",
   "execution_count": 9,
   "id": "ae2484d9",
   "metadata": {},
   "outputs": [],
   "source": [
    "train_data[NUMERIC_FEATURES] = numeric_pipe.transform(train_data[NUMERIC_FEATURES])\n",
    "val_data[NUMERIC_FEATURES] = numeric_pipe.transform(val_data[NUMERIC_FEATURES])\n",
    "test_data[NUMERIC_FEATURES] = numeric_pipe.transform(test_data[NUMERIC_FEATURES])"
   ]
  },
  {
   "cell_type": "code",
   "execution_count": 10,
   "id": "03695afd",
   "metadata": {},
   "outputs": [],
   "source": [
    "train_data[CATEGORICAL_FEATURES] = train_data[CATEGORICAL_FEATURES].astype(str)\n",
    "val_data[CATEGORICAL_FEATURES] = val_data[CATEGORICAL_FEATURES].astype(str)\n",
    "test_data[CATEGORICAL_FEATURES] = test_data[CATEGORICAL_FEATURES].astype(str)\n",
    "\n",
    "train_data[NUMERIC_FEATURES] = train_data[NUMERIC_FEATURES].astype(float)\n",
    "val_data[NUMERIC_FEATURES] = val_data[NUMERIC_FEATURES].astype(float)\n",
    "test_data[NUMERIC_FEATURES] = test_data[NUMERIC_FEATURES].astype(float)"
   ]
  },
  {
   "cell_type": "code",
   "execution_count": 11,
   "id": "05fe0665",
   "metadata": {},
   "outputs": [
    {
     "name": "stderr",
     "output_type": "stream",
     "text": [
      "C:\\Users\\raulg\\anaconda3\\envs\\TFM37\\lib\\site-packages\\tabtransformertf\\utils\\preprocessing.py:21: FutureWarning: Support for multi-dimensional indexing (e.g. `obj[:, None]`) is deprecated and will be removed in a future version.  Convert to a numpy array before indexing instead.\n",
      "  dataset[key] = value[:, tf.newaxis]\n",
      "C:\\Users\\raulg\\anaconda3\\envs\\TFM37\\lib\\site-packages\\tabtransformertf\\utils\\preprocessing.py:27: FutureWarning: Support for multi-dimensional indexing (e.g. `obj[:, None]`) is deprecated and will be removed in a future version.  Convert to a numpy array before indexing instead.\n",
      "  dataset[key] = value[:, tf.newaxis]\n"
     ]
    }
   ],
   "source": [
    "train_dataset = df_to_dataset(train_data[FEATURES + [LABEL_Y]], LABEL_Y, batch_size=3072)\n",
    "val_dataset = df_to_dataset(val_data[FEATURES + [LABEL_Y]], LABEL_Y, shuffle=False, batch_size=3072)\n",
    "test_dataset = df_to_dataset(test_data[FEATURES], shuffle=False, batch_size=3072)"
   ]
  },
  {
   "cell_type": "code",
   "execution_count": 12,
   "id": "d0a521bd",
   "metadata": {},
   "outputs": [
    {
     "name": "stderr",
     "output_type": "stream",
     "text": [
      "100%|██████████| 23/23 [00:00<00:00, 336.34it/s]\n"
     ]
    }
   ],
   "source": [
    "category_prep_layers = build_categorical_prep(train_data, CATEGORICAL_FEATURES)"
   ]
  },
  {
   "cell_type": "code",
   "execution_count": 13,
   "id": "edbb24c4",
   "metadata": {
    "scrolled": true
   },
   "outputs": [
    {
     "name": "stderr",
     "output_type": "stream",
     "text": [
      "[I 2025-01-29 13:10:45,062] A new study created in memory with name: no-name-e1f252ac-745a-460d-b4dd-992213d8b229\n",
      "C:\\Users\\raulg\\anaconda3\\envs\\TFM37\\lib\\site-packages\\ipykernel_launcher.py:3: FutureWarning: suggest_int() got {'step'} as positional arguments but they were expected to be given as keyword arguments.\n",
      "  This is separate from the ipykernel package so we can avoid doing imports until\n",
      "C:\\Users\\raulg\\anaconda3\\envs\\TFM37\\lib\\site-packages\\ipykernel_launcher.py:4: FutureWarning: suggest_int() got {'step'} as positional arguments but they were expected to be given as keyword arguments.\n",
      "  after removing the cwd from sys.path.\n",
      "C:\\Users\\raulg\\anaconda3\\envs\\TFM37\\lib\\site-packages\\ipykernel_launcher.py:7: FutureWarning: suggest_int() got {'step'} as positional arguments but they were expected to be given as keyword arguments.\n",
      "  import sys\n",
      "C:\\Users\\raulg\\anaconda3\\envs\\TFM37\\lib\\site-packages\\ipykernel_launcher.py:8: FutureWarning: suggest_int() got {'step'} as positional arguments but they were expected to be given as keyword arguments.\n",
      "  \n"
     ]
    },
    {
     "name": "stdout",
     "output_type": "stream",
     "text": [
      "1/1 [==============================] - 1s 674ms/step\n"
     ]
    },
    {
     "name": "stderr",
     "output_type": "stream",
     "text": [
      "[I 2025-01-29 13:12:34,483] Trial 0 finished with value: 0.6133740627603443 and parameters: {'embedding_dim': 64, 'depth': 1, 'heads': 7, 'attn_dropout': 0.09032593967310293, 'ff_dropout': 0.2750890206523544, 'mlp_hidden_factor1': 2, 'mlp_hidden_factor2': 2, 'use_column_embedding': True}. Best is trial 0 with value: 0.6133740627603443.\n",
      "C:\\Users\\raulg\\anaconda3\\envs\\TFM37\\lib\\site-packages\\ipykernel_launcher.py:3: FutureWarning: suggest_int() got {'step'} as positional arguments but they were expected to be given as keyword arguments.\n",
      "  This is separate from the ipykernel package so we can avoid doing imports until\n",
      "C:\\Users\\raulg\\anaconda3\\envs\\TFM37\\lib\\site-packages\\ipykernel_launcher.py:4: FutureWarning: suggest_int() got {'step'} as positional arguments but they were expected to be given as keyword arguments.\n",
      "  after removing the cwd from sys.path.\n",
      "C:\\Users\\raulg\\anaconda3\\envs\\TFM37\\lib\\site-packages\\ipykernel_launcher.py:7: FutureWarning: suggest_int() got {'step'} as positional arguments but they were expected to be given as keyword arguments.\n",
      "  import sys\n",
      "C:\\Users\\raulg\\anaconda3\\envs\\TFM37\\lib\\site-packages\\ipykernel_launcher.py:8: FutureWarning: suggest_int() got {'step'} as positional arguments but they were expected to be given as keyword arguments.\n",
      "  \n"
     ]
    },
    {
     "name": "stdout",
     "output_type": "stream",
     "text": [
      "1/1 [==============================] - 1s 911ms/step\n"
     ]
    },
    {
     "name": "stderr",
     "output_type": "stream",
     "text": [
      "[I 2025-01-29 13:14:16,550] Trial 1 finished with value: 0.5642543737850597 and parameters: {'embedding_dim': 32, 'depth': 3, 'heads': 5, 'attn_dropout': 0.14933151366795555, 'ff_dropout': 0.12710821744025352, 'mlp_hidden_factor1': 1, 'mlp_hidden_factor2': 3, 'use_column_embedding': False}. Best is trial 0 with value: 0.6133740627603443.\n",
      "C:\\Users\\raulg\\anaconda3\\envs\\TFM37\\lib\\site-packages\\ipykernel_launcher.py:3: FutureWarning: suggest_int() got {'step'} as positional arguments but they were expected to be given as keyword arguments.\n",
      "  This is separate from the ipykernel package so we can avoid doing imports until\n",
      "C:\\Users\\raulg\\anaconda3\\envs\\TFM37\\lib\\site-packages\\ipykernel_launcher.py:4: FutureWarning: suggest_int() got {'step'} as positional arguments but they were expected to be given as keyword arguments.\n",
      "  after removing the cwd from sys.path.\n",
      "C:\\Users\\raulg\\anaconda3\\envs\\TFM37\\lib\\site-packages\\ipykernel_launcher.py:7: FutureWarning: suggest_int() got {'step'} as positional arguments but they were expected to be given as keyword arguments.\n",
      "  import sys\n",
      "C:\\Users\\raulg\\anaconda3\\envs\\TFM37\\lib\\site-packages\\ipykernel_launcher.py:8: FutureWarning: suggest_int() got {'step'} as positional arguments but they were expected to be given as keyword arguments.\n",
      "  \n"
     ]
    },
    {
     "name": "stdout",
     "output_type": "stream",
     "text": [
      "1/1 [==============================] - 1s 865ms/step\n"
     ]
    },
    {
     "name": "stderr",
     "output_type": "stream",
     "text": [
      "[I 2025-01-29 13:15:18,661] Trial 2 finished with value: 0.574573729519578 and parameters: {'embedding_dim': 32, 'depth': 2, 'heads': 6, 'attn_dropout': 0.41756593597571273, 'ff_dropout': 0.39365675234460834, 'mlp_hidden_factor1': 2, 'mlp_hidden_factor2': 1, 'use_column_embedding': False}. Best is trial 0 with value: 0.6133740627603443.\n",
      "C:\\Users\\raulg\\anaconda3\\envs\\TFM37\\lib\\site-packages\\ipykernel_launcher.py:3: FutureWarning: suggest_int() got {'step'} as positional arguments but they were expected to be given as keyword arguments.\n",
      "  This is separate from the ipykernel package so we can avoid doing imports until\n",
      "C:\\Users\\raulg\\anaconda3\\envs\\TFM37\\lib\\site-packages\\ipykernel_launcher.py:4: FutureWarning: suggest_int() got {'step'} as positional arguments but they were expected to be given as keyword arguments.\n",
      "  after removing the cwd from sys.path.\n",
      "C:\\Users\\raulg\\anaconda3\\envs\\TFM37\\lib\\site-packages\\ipykernel_launcher.py:7: FutureWarning: suggest_int() got {'step'} as positional arguments but they were expected to be given as keyword arguments.\n",
      "  import sys\n",
      "C:\\Users\\raulg\\anaconda3\\envs\\TFM37\\lib\\site-packages\\ipykernel_launcher.py:8: FutureWarning: suggest_int() got {'step'} as positional arguments but they were expected to be given as keyword arguments.\n",
      "  \n"
     ]
    },
    {
     "name": "stdout",
     "output_type": "stream",
     "text": [
      "1/1 [==============================] - 1s 910ms/step\n"
     ]
    },
    {
     "name": "stderr",
     "output_type": "stream",
     "text": [
      "[I 2025-01-29 13:16:23,488] Trial 3 finished with value: 0.5803499028047765 and parameters: {'embedding_dim': 32, 'depth': 3, 'heads': 2, 'attn_dropout': 0.4462113120593079, 'ff_dropout': 0.42200806045483613, 'mlp_hidden_factor1': 1, 'mlp_hidden_factor2': 3, 'use_column_embedding': False}. Best is trial 0 with value: 0.6133740627603443.\n",
      "C:\\Users\\raulg\\anaconda3\\envs\\TFM37\\lib\\site-packages\\ipykernel_launcher.py:3: FutureWarning: suggest_int() got {'step'} as positional arguments but they were expected to be given as keyword arguments.\n",
      "  This is separate from the ipykernel package so we can avoid doing imports until\n",
      "C:\\Users\\raulg\\anaconda3\\envs\\TFM37\\lib\\site-packages\\ipykernel_launcher.py:4: FutureWarning: suggest_int() got {'step'} as positional arguments but they were expected to be given as keyword arguments.\n",
      "  after removing the cwd from sys.path.\n",
      "C:\\Users\\raulg\\anaconda3\\envs\\TFM37\\lib\\site-packages\\ipykernel_launcher.py:7: FutureWarning: suggest_int() got {'step'} as positional arguments but they were expected to be given as keyword arguments.\n",
      "  import sys\n",
      "C:\\Users\\raulg\\anaconda3\\envs\\TFM37\\lib\\site-packages\\ipykernel_launcher.py:8: FutureWarning: suggest_int() got {'step'} as positional arguments but they were expected to be given as keyword arguments.\n",
      "  \n"
     ]
    },
    {
     "name": "stdout",
     "output_type": "stream",
     "text": [
      "WARNING:tensorflow:5 out of the last 5 calls to <function Model.make_predict_function.<locals>.predict_function at 0x0000018880B219D8> triggered tf.function retracing. Tracing is expensive and the excessive number of tracings could be due to (1) creating @tf.function repeatedly in a loop, (2) passing tensors with different shapes, (3) passing Python objects instead of tensors. For (1), please define your @tf.function outside of the loop. For (2), @tf.function has reduce_retracing=True option that can avoid unnecessary retracing. For (3), please refer to https://www.tensorflow.org/guide/function#controlling_retracing and https://www.tensorflow.org/api_docs/python/tf/function for  more details.\n",
      "1/1 [==============================] - 1s 1s/step\n"
     ]
    },
    {
     "name": "stderr",
     "output_type": "stream",
     "text": [
      "[I 2025-01-29 13:18:06,101] Trial 4 finished with value: 0.6080199944459872 and parameters: {'embedding_dim': 32, 'depth': 5, 'heads': 2, 'attn_dropout': 0.09452231351763757, 'ff_dropout': 0.33247735778221815, 'mlp_hidden_factor1': 2, 'mlp_hidden_factor2': 2, 'use_column_embedding': True}. Best is trial 0 with value: 0.6133740627603443.\n",
      "C:\\Users\\raulg\\anaconda3\\envs\\TFM37\\lib\\site-packages\\ipykernel_launcher.py:3: FutureWarning: suggest_int() got {'step'} as positional arguments but they were expected to be given as keyword arguments.\n",
      "  This is separate from the ipykernel package so we can avoid doing imports until\n",
      "C:\\Users\\raulg\\anaconda3\\envs\\TFM37\\lib\\site-packages\\ipykernel_launcher.py:4: FutureWarning: suggest_int() got {'step'} as positional arguments but they were expected to be given as keyword arguments.\n",
      "  after removing the cwd from sys.path.\n",
      "C:\\Users\\raulg\\anaconda3\\envs\\TFM37\\lib\\site-packages\\ipykernel_launcher.py:7: FutureWarning: suggest_int() got {'step'} as positional arguments but they were expected to be given as keyword arguments.\n",
      "  import sys\n",
      "C:\\Users\\raulg\\anaconda3\\envs\\TFM37\\lib\\site-packages\\ipykernel_launcher.py:8: FutureWarning: suggest_int() got {'step'} as positional arguments but they were expected to be given as keyword arguments.\n",
      "  \n"
     ]
    },
    {
     "name": "stdout",
     "output_type": "stream",
     "text": [
      "WARNING:tensorflow:6 out of the last 6 calls to <function Model.make_predict_function.<locals>.predict_function at 0x0000018882A8CEE8> triggered tf.function retracing. Tracing is expensive and the excessive number of tracings could be due to (1) creating @tf.function repeatedly in a loop, (2) passing tensors with different shapes, (3) passing Python objects instead of tensors. For (1), please define your @tf.function outside of the loop. For (2), @tf.function has reduce_retracing=True option that can avoid unnecessary retracing. For (3), please refer to https://www.tensorflow.org/guide/function#controlling_retracing and https://www.tensorflow.org/api_docs/python/tf/function for  more details.\n",
      "1/1 [==============================] - 1s 733ms/step\n"
     ]
    },
    {
     "name": "stderr",
     "output_type": "stream",
     "text": [
      "[I 2025-01-29 13:19:00,016] Trial 5 finished with value: 0.5856484309913913 and parameters: {'embedding_dim': 32, 'depth': 2, 'heads': 4, 'attn_dropout': 0.14533233212734575, 'ff_dropout': 0.14110352943897322, 'mlp_hidden_factor1': 4, 'mlp_hidden_factor2': 1, 'use_column_embedding': False}. Best is trial 0 with value: 0.6133740627603443.\n",
      "C:\\Users\\raulg\\anaconda3\\envs\\TFM37\\lib\\site-packages\\ipykernel_launcher.py:3: FutureWarning: suggest_int() got {'step'} as positional arguments but they were expected to be given as keyword arguments.\n",
      "  This is separate from the ipykernel package so we can avoid doing imports until\n",
      "C:\\Users\\raulg\\anaconda3\\envs\\TFM37\\lib\\site-packages\\ipykernel_launcher.py:4: FutureWarning: suggest_int() got {'step'} as positional arguments but they were expected to be given as keyword arguments.\n",
      "  after removing the cwd from sys.path.\n",
      "C:\\Users\\raulg\\anaconda3\\envs\\TFM37\\lib\\site-packages\\ipykernel_launcher.py:7: FutureWarning: suggest_int() got {'step'} as positional arguments but they were expected to be given as keyword arguments.\n",
      "  import sys\n",
      "C:\\Users\\raulg\\anaconda3\\envs\\TFM37\\lib\\site-packages\\ipykernel_launcher.py:8: FutureWarning: suggest_int() got {'step'} as positional arguments but they were expected to be given as keyword arguments.\n",
      "  \n"
     ]
    },
    {
     "name": "stdout",
     "output_type": "stream",
     "text": [
      "1/1 [==============================] - 1s 873ms/step\n"
     ]
    },
    {
     "name": "stderr",
     "output_type": "stream",
     "text": [
      "[I 2025-01-29 13:21:03,961] Trial 6 finished with value: 0.6212718689252985 and parameters: {'embedding_dim': 64, 'depth': 3, 'heads': 3, 'attn_dropout': 0.27844511000372846, 'ff_dropout': 0.33698739529828736, 'mlp_hidden_factor1': 1, 'mlp_hidden_factor2': 3, 'use_column_embedding': True}. Best is trial 6 with value: 0.6212718689252985.\n",
      "C:\\Users\\raulg\\anaconda3\\envs\\TFM37\\lib\\site-packages\\ipykernel_launcher.py:3: FutureWarning: suggest_int() got {'step'} as positional arguments but they were expected to be given as keyword arguments.\n",
      "  This is separate from the ipykernel package so we can avoid doing imports until\n",
      "C:\\Users\\raulg\\anaconda3\\envs\\TFM37\\lib\\site-packages\\ipykernel_launcher.py:4: FutureWarning: suggest_int() got {'step'} as positional arguments but they were expected to be given as keyword arguments.\n",
      "  after removing the cwd from sys.path.\n",
      "C:\\Users\\raulg\\anaconda3\\envs\\TFM37\\lib\\site-packages\\ipykernel_launcher.py:7: FutureWarning: suggest_int() got {'step'} as positional arguments but they were expected to be given as keyword arguments.\n",
      "  import sys\n",
      "C:\\Users\\raulg\\anaconda3\\envs\\TFM37\\lib\\site-packages\\ipykernel_launcher.py:8: FutureWarning: suggest_int() got {'step'} as positional arguments but they were expected to be given as keyword arguments.\n",
      "  \n"
     ]
    },
    {
     "name": "stdout",
     "output_type": "stream",
     "text": [
      "1/1 [==============================] - 1s 684ms/step\n"
     ]
    },
    {
     "name": "stderr",
     "output_type": "stream",
     "text": [
      "[I 2025-01-29 13:23:31,011] Trial 7 finished with value: 0.6080422104970842 and parameters: {'embedding_dim': 32, 'depth': 2, 'heads': 6, 'attn_dropout': 0.38483756378673956, 'ff_dropout': 0.4248914161117295, 'mlp_hidden_factor1': 3, 'mlp_hidden_factor2': 1, 'use_column_embedding': True}. Best is trial 6 with value: 0.6212718689252985.\n",
      "C:\\Users\\raulg\\anaconda3\\envs\\TFM37\\lib\\site-packages\\ipykernel_launcher.py:3: FutureWarning: suggest_int() got {'step'} as positional arguments but they were expected to be given as keyword arguments.\n",
      "  This is separate from the ipykernel package so we can avoid doing imports until\n",
      "C:\\Users\\raulg\\anaconda3\\envs\\TFM37\\lib\\site-packages\\ipykernel_launcher.py:4: FutureWarning: suggest_int() got {'step'} as positional arguments but they were expected to be given as keyword arguments.\n",
      "  after removing the cwd from sys.path.\n",
      "C:\\Users\\raulg\\anaconda3\\envs\\TFM37\\lib\\site-packages\\ipykernel_launcher.py:7: FutureWarning: suggest_int() got {'step'} as positional arguments but they were expected to be given as keyword arguments.\n",
      "  import sys\n",
      "C:\\Users\\raulg\\anaconda3\\envs\\TFM37\\lib\\site-packages\\ipykernel_launcher.py:8: FutureWarning: suggest_int() got {'step'} as positional arguments but they were expected to be given as keyword arguments.\n",
      "  \n"
     ]
    },
    {
     "name": "stdout",
     "output_type": "stream",
     "text": [
      "1/1 [==============================] - 1s 1s/step\n"
     ]
    },
    {
     "name": "stderr",
     "output_type": "stream",
     "text": [
      "[I 2025-01-29 13:29:11,355] Trial 8 finished with value: 0.5427270202721467 and parameters: {'embedding_dim': 64, 'depth': 4, 'heads': 4, 'attn_dropout': 0.27081239193455753, 'ff_dropout': 0.06371440684353023, 'mlp_hidden_factor1': 2, 'mlp_hidden_factor2': 3, 'use_column_embedding': True}. Best is trial 6 with value: 0.6212718689252985.\n",
      "C:\\Users\\raulg\\anaconda3\\envs\\TFM37\\lib\\site-packages\\ipykernel_launcher.py:3: FutureWarning: suggest_int() got {'step'} as positional arguments but they were expected to be given as keyword arguments.\n",
      "  This is separate from the ipykernel package so we can avoid doing imports until\n",
      "C:\\Users\\raulg\\anaconda3\\envs\\TFM37\\lib\\site-packages\\ipykernel_launcher.py:4: FutureWarning: suggest_int() got {'step'} as positional arguments but they were expected to be given as keyword arguments.\n",
      "  after removing the cwd from sys.path.\n",
      "C:\\Users\\raulg\\anaconda3\\envs\\TFM37\\lib\\site-packages\\ipykernel_launcher.py:7: FutureWarning: suggest_int() got {'step'} as positional arguments but they were expected to be given as keyword arguments.\n",
      "  import sys\n",
      "C:\\Users\\raulg\\anaconda3\\envs\\TFM37\\lib\\site-packages\\ipykernel_launcher.py:8: FutureWarning: suggest_int() got {'step'} as positional arguments but they were expected to be given as keyword arguments.\n",
      "  \n"
     ]
    },
    {
     "name": "stdout",
     "output_type": "stream",
     "text": [
      "1/1 [==============================] - 1s 578ms/step\n"
     ]
    },
    {
     "name": "stderr",
     "output_type": "stream",
     "text": [
      "[I 2025-01-29 13:30:38,789] Trial 9 finished with value: 0.5968119966675923 and parameters: {'embedding_dim': 64, 'depth': 1, 'heads': 6, 'attn_dropout': 0.051782693363817446, 'ff_dropout': 0.20548938398837302, 'mlp_hidden_factor1': 1, 'mlp_hidden_factor2': 2, 'use_column_embedding': True}. Best is trial 6 with value: 0.6212718689252985.\n",
      "C:\\Users\\raulg\\anaconda3\\envs\\TFM37\\lib\\site-packages\\ipykernel_launcher.py:3: FutureWarning: suggest_int() got {'step'} as positional arguments but they were expected to be given as keyword arguments.\n",
      "  This is separate from the ipykernel package so we can avoid doing imports until\n",
      "C:\\Users\\raulg\\anaconda3\\envs\\TFM37\\lib\\site-packages\\ipykernel_launcher.py:4: FutureWarning: suggest_int() got {'step'} as positional arguments but they were expected to be given as keyword arguments.\n",
      "  after removing the cwd from sys.path.\n",
      "C:\\Users\\raulg\\anaconda3\\envs\\TFM37\\lib\\site-packages\\ipykernel_launcher.py:7: FutureWarning: suggest_int() got {'step'} as positional arguments but they were expected to be given as keyword arguments.\n",
      "  import sys\n",
      "C:\\Users\\raulg\\anaconda3\\envs\\TFM37\\lib\\site-packages\\ipykernel_launcher.py:8: FutureWarning: suggest_int() got {'step'} as positional arguments but they were expected to be given as keyword arguments.\n",
      "  \n"
     ]
    },
    {
     "name": "stdout",
     "output_type": "stream",
     "text": [
      "1/1 [==============================] - 2s 2s/step\n"
     ]
    },
    {
     "name": "stderr",
     "output_type": "stream",
     "text": [
      "[I 2025-01-29 13:45:25,208] Trial 10 finished with value: 0.6110524854207164 and parameters: {'embedding_dim': 64, 'depth': 6, 'heads': 3, 'attn_dropout': 0.28280112098152976, 'ff_dropout': 0.4813143378275374, 'mlp_hidden_factor1': 4, 'mlp_hidden_factor2': 4, 'use_column_embedding': True}. Best is trial 6 with value: 0.6212718689252985.\n",
      "C:\\Users\\raulg\\anaconda3\\envs\\TFM37\\lib\\site-packages\\ipykernel_launcher.py:3: FutureWarning: suggest_int() got {'step'} as positional arguments but they were expected to be given as keyword arguments.\n",
      "  This is separate from the ipykernel package so we can avoid doing imports until\n",
      "C:\\Users\\raulg\\anaconda3\\envs\\TFM37\\lib\\site-packages\\ipykernel_launcher.py:4: FutureWarning: suggest_int() got {'step'} as positional arguments but they were expected to be given as keyword arguments.\n",
      "  after removing the cwd from sys.path.\n",
      "C:\\Users\\raulg\\anaconda3\\envs\\TFM37\\lib\\site-packages\\ipykernel_launcher.py:7: FutureWarning: suggest_int() got {'step'} as positional arguments but they were expected to be given as keyword arguments.\n",
      "  import sys\n",
      "C:\\Users\\raulg\\anaconda3\\envs\\TFM37\\lib\\site-packages\\ipykernel_launcher.py:8: FutureWarning: suggest_int() got {'step'} as positional arguments but they were expected to be given as keyword arguments.\n",
      "  \n"
     ]
    },
    {
     "name": "stdout",
     "output_type": "stream",
     "text": [
      "1/1 [==============================] - 1s 774ms/step\n"
     ]
    },
    {
     "name": "stderr",
     "output_type": "stream",
     "text": [
      "[I 2025-01-29 13:47:02,957] Trial 11 finished with value: 0.5492918633712858 and parameters: {'embedding_dim': 64, 'depth': 1, 'heads': 8, 'attn_dropout': 0.2538422017793393, 'ff_dropout': 0.26895947094805667, 'mlp_hidden_factor1': 3, 'mlp_hidden_factor2': 4, 'use_column_embedding': True}. Best is trial 6 with value: 0.6212718689252985.\n",
      "C:\\Users\\raulg\\anaconda3\\envs\\TFM37\\lib\\site-packages\\ipykernel_launcher.py:3: FutureWarning: suggest_int() got {'step'} as positional arguments but they were expected to be given as keyword arguments.\n",
      "  This is separate from the ipykernel package so we can avoid doing imports until\n",
      "C:\\Users\\raulg\\anaconda3\\envs\\TFM37\\lib\\site-packages\\ipykernel_launcher.py:4: FutureWarning: suggest_int() got {'step'} as positional arguments but they were expected to be given as keyword arguments.\n",
      "  after removing the cwd from sys.path.\n",
      "C:\\Users\\raulg\\anaconda3\\envs\\TFM37\\lib\\site-packages\\ipykernel_launcher.py:7: FutureWarning: suggest_int() got {'step'} as positional arguments but they were expected to be given as keyword arguments.\n",
      "  import sys\n",
      "C:\\Users\\raulg\\anaconda3\\envs\\TFM37\\lib\\site-packages\\ipykernel_launcher.py:8: FutureWarning: suggest_int() got {'step'} as positional arguments but they were expected to be given as keyword arguments.\n",
      "  \n"
     ]
    },
    {
     "name": "stdout",
     "output_type": "stream",
     "text": [
      "1/1 [==============================] - 2s 2s/step\n"
     ]
    },
    {
     "name": "stderr",
     "output_type": "stream",
     "text": [
      "[I 2025-01-29 13:56:17,403] Trial 12 finished with value: 0.6184726464870869 and parameters: {'embedding_dim': 64, 'depth': 4, 'heads': 8, 'attn_dropout': 0.20151637522803906, 'ff_dropout': 0.27406273442652945, 'mlp_hidden_factor1': 1, 'mlp_hidden_factor2': 2, 'use_column_embedding': True}. Best is trial 6 with value: 0.6212718689252985.\n",
      "C:\\Users\\raulg\\anaconda3\\envs\\TFM37\\lib\\site-packages\\ipykernel_launcher.py:3: FutureWarning: suggest_int() got {'step'} as positional arguments but they were expected to be given as keyword arguments.\n",
      "  This is separate from the ipykernel package so we can avoid doing imports until\n",
      "C:\\Users\\raulg\\anaconda3\\envs\\TFM37\\lib\\site-packages\\ipykernel_launcher.py:4: FutureWarning: suggest_int() got {'step'} as positional arguments but they were expected to be given as keyword arguments.\n",
      "  after removing the cwd from sys.path.\n",
      "C:\\Users\\raulg\\anaconda3\\envs\\TFM37\\lib\\site-packages\\ipykernel_launcher.py:7: FutureWarning: suggest_int() got {'step'} as positional arguments but they were expected to be given as keyword arguments.\n",
      "  import sys\n",
      "C:\\Users\\raulg\\anaconda3\\envs\\TFM37\\lib\\site-packages\\ipykernel_launcher.py:8: FutureWarning: suggest_int() got {'step'} as positional arguments but they were expected to be given as keyword arguments.\n",
      "  \n"
     ]
    },
    {
     "name": "stdout",
     "output_type": "stream",
     "text": [
      "1/1 [==============================] - 2s 2s/step\n"
     ]
    },
    {
     "name": "stderr",
     "output_type": "stream",
     "text": [
      "[I 2025-01-29 14:05:27,016] Trial 13 finished with value: 0.5978339350180506 and parameters: {'embedding_dim': 64, 'depth': 4, 'heads': 8, 'attn_dropout': 0.3327178440826747, 'ff_dropout': 0.30918610700961086, 'mlp_hidden_factor1': 1, 'mlp_hidden_factor2': 3, 'use_column_embedding': True}. Best is trial 6 with value: 0.6212718689252985.\n",
      "C:\\Users\\raulg\\anaconda3\\envs\\TFM37\\lib\\site-packages\\ipykernel_launcher.py:3: FutureWarning: suggest_int() got {'step'} as positional arguments but they were expected to be given as keyword arguments.\n",
      "  This is separate from the ipykernel package so we can avoid doing imports until\n",
      "C:\\Users\\raulg\\anaconda3\\envs\\TFM37\\lib\\site-packages\\ipykernel_launcher.py:4: FutureWarning: suggest_int() got {'step'} as positional arguments but they were expected to be given as keyword arguments.\n",
      "  after removing the cwd from sys.path.\n",
      "C:\\Users\\raulg\\anaconda3\\envs\\TFM37\\lib\\site-packages\\ipykernel_launcher.py:7: FutureWarning: suggest_int() got {'step'} as positional arguments but they were expected to be given as keyword arguments.\n",
      "  import sys\n",
      "C:\\Users\\raulg\\anaconda3\\envs\\TFM37\\lib\\site-packages\\ipykernel_launcher.py:8: FutureWarning: suggest_int() got {'step'} as positional arguments but they were expected to be given as keyword arguments.\n",
      "  \n"
     ]
    },
    {
     "name": "stdout",
     "output_type": "stream",
     "text": [
      "1/1 [==============================] - 2s 2s/step\n"
     ]
    },
    {
     "name": "stderr",
     "output_type": "stream",
     "text": [
      "[I 2025-01-29 14:16:48,358] Trial 14 finished with value: 0.5915134684809775 and parameters: {'embedding_dim': 64, 'depth': 5, 'heads': 4, 'attn_dropout': 0.21004026469567033, 'ff_dropout': 0.36072074754698447, 'mlp_hidden_factor1': 1, 'mlp_hidden_factor2': 2, 'use_column_embedding': True}. Best is trial 6 with value: 0.6212718689252985.\n",
      "C:\\Users\\raulg\\anaconda3\\envs\\TFM37\\lib\\site-packages\\ipykernel_launcher.py:3: FutureWarning: suggest_int() got {'step'} as positional arguments but they were expected to be given as keyword arguments.\n",
      "  This is separate from the ipykernel package so we can avoid doing imports until\n",
      "C:\\Users\\raulg\\anaconda3\\envs\\TFM37\\lib\\site-packages\\ipykernel_launcher.py:4: FutureWarning: suggest_int() got {'step'} as positional arguments but they were expected to be given as keyword arguments.\n",
      "  after removing the cwd from sys.path.\n",
      "C:\\Users\\raulg\\anaconda3\\envs\\TFM37\\lib\\site-packages\\ipykernel_launcher.py:7: FutureWarning: suggest_int() got {'step'} as positional arguments but they were expected to be given as keyword arguments.\n",
      "  import sys\n",
      "C:\\Users\\raulg\\anaconda3\\envs\\TFM37\\lib\\site-packages\\ipykernel_launcher.py:8: FutureWarning: suggest_int() got {'step'} as positional arguments but they were expected to be given as keyword arguments.\n",
      "  \n"
     ]
    },
    {
     "name": "stdout",
     "output_type": "stream",
     "text": [
      "1/1 [==============================] - 1s 1s/step\n"
     ]
    },
    {
     "name": "stderr",
     "output_type": "stream",
     "text": [
      "[I 2025-01-29 14:23:25,244] Trial 15 finished with value: 0.5930241599555679 and parameters: {'embedding_dim': 64, 'depth': 4, 'heads': 3, 'attn_dropout': 0.2005147790109058, 'ff_dropout': 0.22705887604843392, 'mlp_hidden_factor1': 1, 'mlp_hidden_factor2': 4, 'use_column_embedding': True}. Best is trial 6 with value: 0.6212718689252985.\n",
      "C:\\Users\\raulg\\anaconda3\\envs\\TFM37\\lib\\site-packages\\ipykernel_launcher.py:3: FutureWarning: suggest_int() got {'step'} as positional arguments but they were expected to be given as keyword arguments.\n",
      "  This is separate from the ipykernel package so we can avoid doing imports until\n",
      "C:\\Users\\raulg\\anaconda3\\envs\\TFM37\\lib\\site-packages\\ipykernel_launcher.py:4: FutureWarning: suggest_int() got {'step'} as positional arguments but they were expected to be given as keyword arguments.\n",
      "  after removing the cwd from sys.path.\n",
      "C:\\Users\\raulg\\anaconda3\\envs\\TFM37\\lib\\site-packages\\ipykernel_launcher.py:7: FutureWarning: suggest_int() got {'step'} as positional arguments but they were expected to be given as keyword arguments.\n",
      "  import sys\n",
      "C:\\Users\\raulg\\anaconda3\\envs\\TFM37\\lib\\site-packages\\ipykernel_launcher.py:8: FutureWarning: suggest_int() got {'step'} as positional arguments but they were expected to be given as keyword arguments.\n",
      "  \n"
     ]
    },
    {
     "name": "stdout",
     "output_type": "stream",
     "text": [
      "1/1 [==============================] - 2s 2s/step\n"
     ]
    },
    {
     "name": "stderr",
     "output_type": "stream",
     "text": [
      "[I 2025-01-29 14:37:58,579] Trial 16 finished with value: 0.6058983615662316 and parameters: {'embedding_dim': 64, 'depth': 5, 'heads': 7, 'attn_dropout': 0.49005339230268813, 'ff_dropout': 0.22841299911560883, 'mlp_hidden_factor1': 3, 'mlp_hidden_factor2': 3, 'use_column_embedding': True}. Best is trial 6 with value: 0.6212718689252985.\n",
      "C:\\Users\\raulg\\anaconda3\\envs\\TFM37\\lib\\site-packages\\ipykernel_launcher.py:3: FutureWarning: suggest_int() got {'step'} as positional arguments but they were expected to be given as keyword arguments.\n",
      "  This is separate from the ipykernel package so we can avoid doing imports until\n",
      "C:\\Users\\raulg\\anaconda3\\envs\\TFM37\\lib\\site-packages\\ipykernel_launcher.py:4: FutureWarning: suggest_int() got {'step'} as positional arguments but they were expected to be given as keyword arguments.\n",
      "  after removing the cwd from sys.path.\n",
      "C:\\Users\\raulg\\anaconda3\\envs\\TFM37\\lib\\site-packages\\ipykernel_launcher.py:7: FutureWarning: suggest_int() got {'step'} as positional arguments but they were expected to be given as keyword arguments.\n",
      "  import sys\n",
      "C:\\Users\\raulg\\anaconda3\\envs\\TFM37\\lib\\site-packages\\ipykernel_launcher.py:8: FutureWarning: suggest_int() got {'step'} as positional arguments but they were expected to be given as keyword arguments.\n",
      "  \n"
     ]
    },
    {
     "name": "stdout",
     "output_type": "stream",
     "text": [
      "1/1 [==============================] - 1s 1s/step\n"
     ]
    },
    {
     "name": "stderr",
     "output_type": "stream",
     "text": [
      "[I 2025-01-29 14:43:25,329] Trial 17 finished with value: 0.6009997222993614 and parameters: {'embedding_dim': 64, 'depth': 3, 'heads': 5, 'attn_dropout': 0.33529489988993255, 'ff_dropout': 0.2949945088212852, 'mlp_hidden_factor1': 2, 'mlp_hidden_factor2': 2, 'use_column_embedding': True}. Best is trial 6 with value: 0.6212718689252985.\n",
      "C:\\Users\\raulg\\anaconda3\\envs\\TFM37\\lib\\site-packages\\ipykernel_launcher.py:3: FutureWarning: suggest_int() got {'step'} as positional arguments but they were expected to be given as keyword arguments.\n",
      "  This is separate from the ipykernel package so we can avoid doing imports until\n",
      "C:\\Users\\raulg\\anaconda3\\envs\\TFM37\\lib\\site-packages\\ipykernel_launcher.py:4: FutureWarning: suggest_int() got {'step'} as positional arguments but they were expected to be given as keyword arguments.\n",
      "  after removing the cwd from sys.path.\n",
      "C:\\Users\\raulg\\anaconda3\\envs\\TFM37\\lib\\site-packages\\ipykernel_launcher.py:7: FutureWarning: suggest_int() got {'step'} as positional arguments but they were expected to be given as keyword arguments.\n",
      "  import sys\n",
      "C:\\Users\\raulg\\anaconda3\\envs\\TFM37\\lib\\site-packages\\ipykernel_launcher.py:8: FutureWarning: suggest_int() got {'step'} as positional arguments but they were expected to be given as keyword arguments.\n",
      "  \n"
     ]
    },
    {
     "name": "stdout",
     "output_type": "stream",
     "text": [
      "1/1 [==============================] - 2s 2s/step\n"
     ]
    },
    {
     "name": "stderr",
     "output_type": "stream",
     "text": [
      "[I 2025-01-29 14:58:07,815] Trial 18 finished with value: 0.597145237434046 and parameters: {'embedding_dim': 64, 'depth': 6, 'heads': 3, 'attn_dropout': 0.20579986877129788, 'ff_dropout': 0.49484479472209175, 'mlp_hidden_factor1': 1, 'mlp_hidden_factor2': 2, 'use_column_embedding': False}. Best is trial 6 with value: 0.6212718689252985.\n",
      "C:\\Users\\raulg\\anaconda3\\envs\\TFM37\\lib\\site-packages\\ipykernel_launcher.py:3: FutureWarning: suggest_int() got {'step'} as positional arguments but they were expected to be given as keyword arguments.\n",
      "  This is separate from the ipykernel package so we can avoid doing imports until\n",
      "C:\\Users\\raulg\\anaconda3\\envs\\TFM37\\lib\\site-packages\\ipykernel_launcher.py:4: FutureWarning: suggest_int() got {'step'} as positional arguments but they were expected to be given as keyword arguments.\n",
      "  after removing the cwd from sys.path.\n",
      "C:\\Users\\raulg\\anaconda3\\envs\\TFM37\\lib\\site-packages\\ipykernel_launcher.py:7: FutureWarning: suggest_int() got {'step'} as positional arguments but they were expected to be given as keyword arguments.\n",
      "  import sys\n",
      "C:\\Users\\raulg\\anaconda3\\envs\\TFM37\\lib\\site-packages\\ipykernel_launcher.py:8: FutureWarning: suggest_int() got {'step'} as positional arguments but they were expected to be given as keyword arguments.\n",
      "  \n"
     ]
    },
    {
     "name": "stdout",
     "output_type": "stream",
     "text": [
      "1/1 [==============================] - 1s 1s/step\n"
     ]
    },
    {
     "name": "stderr",
     "output_type": "stream",
     "text": [
      "[I 2025-01-29 15:10:24,513] Trial 19 finished with value: 0.6004109969452929 and parameters: {'embedding_dim': 64, 'depth': 4, 'heads': 7, 'attn_dropout': 0.34941294675231016, 'ff_dropout': 0.3647512894041234, 'mlp_hidden_factor1': 2, 'mlp_hidden_factor2': 3, 'use_column_embedding': True}. Best is trial 6 with value: 0.6212718689252985.\n",
      "C:\\Users\\raulg\\anaconda3\\envs\\TFM37\\lib\\site-packages\\ipykernel_launcher.py:3: FutureWarning: suggest_int() got {'step'} as positional arguments but they were expected to be given as keyword arguments.\n",
      "  This is separate from the ipykernel package so we can avoid doing imports until\n",
      "C:\\Users\\raulg\\anaconda3\\envs\\TFM37\\lib\\site-packages\\ipykernel_launcher.py:4: FutureWarning: suggest_int() got {'step'} as positional arguments but they were expected to be given as keyword arguments.\n",
      "  after removing the cwd from sys.path.\n",
      "C:\\Users\\raulg\\anaconda3\\envs\\TFM37\\lib\\site-packages\\ipykernel_launcher.py:7: FutureWarning: suggest_int() got {'step'} as positional arguments but they were expected to be given as keyword arguments.\n",
      "  import sys\n",
      "C:\\Users\\raulg\\anaconda3\\envs\\TFM37\\lib\\site-packages\\ipykernel_launcher.py:8: FutureWarning: suggest_int() got {'step'} as positional arguments but they were expected to be given as keyword arguments.\n",
      "  \n"
     ]
    },
    {
     "name": "stdout",
     "output_type": "stream",
     "text": [
      "1/1 [==============================] - 1s 1s/step\n"
     ]
    },
    {
     "name": "stderr",
     "output_type": "stream",
     "text": [
      "[I 2025-01-29 15:16:48,135] Trial 20 finished with value: 0.6104304359900028 and parameters: {'embedding_dim': 64, 'depth': 3, 'heads': 5, 'attn_dropout': 0.15127604529740313, 'ff_dropout': 0.17349442121606212, 'mlp_hidden_factor1': 1, 'mlp_hidden_factor2': 1, 'use_column_embedding': True}. Best is trial 6 with value: 0.6212718689252985.\n",
      "C:\\Users\\raulg\\anaconda3\\envs\\TFM37\\lib\\site-packages\\ipykernel_launcher.py:3: FutureWarning: suggest_int() got {'step'} as positional arguments but they were expected to be given as keyword arguments.\n",
      "  This is separate from the ipykernel package so we can avoid doing imports until\n",
      "C:\\Users\\raulg\\anaconda3\\envs\\TFM37\\lib\\site-packages\\ipykernel_launcher.py:4: FutureWarning: suggest_int() got {'step'} as positional arguments but they were expected to be given as keyword arguments.\n",
      "  after removing the cwd from sys.path.\n",
      "C:\\Users\\raulg\\anaconda3\\envs\\TFM37\\lib\\site-packages\\ipykernel_launcher.py:7: FutureWarning: suggest_int() got {'step'} as positional arguments but they were expected to be given as keyword arguments.\n",
      "  import sys\n",
      "C:\\Users\\raulg\\anaconda3\\envs\\TFM37\\lib\\site-packages\\ipykernel_launcher.py:8: FutureWarning: suggest_int() got {'step'} as positional arguments but they were expected to be given as keyword arguments.\n",
      "  \n"
     ]
    },
    {
     "name": "stdout",
     "output_type": "stream",
     "text": [
      "1/1 [==============================] - 1s 588ms/step\n"
     ]
    },
    {
     "name": "stderr",
     "output_type": "stream",
     "text": [
      "[I 2025-01-29 15:19:30,955] Trial 21 finished with value: 0.578572618717023 and parameters: {'embedding_dim': 64, 'depth': 1, 'heads': 7, 'attn_dropout': 0.10358865532943912, 'ff_dropout': 0.26437040534650086, 'mlp_hidden_factor1': 2, 'mlp_hidden_factor2': 2, 'use_column_embedding': True}. Best is trial 6 with value: 0.6212718689252985.\n",
      "C:\\Users\\raulg\\anaconda3\\envs\\TFM37\\lib\\site-packages\\ipykernel_launcher.py:3: FutureWarning: suggest_int() got {'step'} as positional arguments but they were expected to be given as keyword arguments.\n",
      "  This is separate from the ipykernel package so we can avoid doing imports until\n",
      "C:\\Users\\raulg\\anaconda3\\envs\\TFM37\\lib\\site-packages\\ipykernel_launcher.py:4: FutureWarning: suggest_int() got {'step'} as positional arguments but they were expected to be given as keyword arguments.\n",
      "  after removing the cwd from sys.path.\n",
      "C:\\Users\\raulg\\anaconda3\\envs\\TFM37\\lib\\site-packages\\ipykernel_launcher.py:7: FutureWarning: suggest_int() got {'step'} as positional arguments but they were expected to be given as keyword arguments.\n",
      "  import sys\n",
      "C:\\Users\\raulg\\anaconda3\\envs\\TFM37\\lib\\site-packages\\ipykernel_launcher.py:8: FutureWarning: suggest_int() got {'step'} as positional arguments but they were expected to be given as keyword arguments.\n",
      "  \n"
     ]
    },
    {
     "name": "stdout",
     "output_type": "stream",
     "text": [
      "1/1 [==============================] - 1s 821ms/step\n"
     ]
    },
    {
     "name": "stderr",
     "output_type": "stream",
     "text": [
      "[I 2025-01-29 15:22:35,453] Trial 22 finished with value: 0.5718300472091086 and parameters: {'embedding_dim': 64, 'depth': 2, 'heads': 8, 'attn_dropout': 0.23556881814094036, 'ff_dropout': 0.3372626051640567, 'mlp_hidden_factor1': 2, 'mlp_hidden_factor2': 2, 'use_column_embedding': True}. Best is trial 6 with value: 0.6212718689252985.\n",
      "C:\\Users\\raulg\\anaconda3\\envs\\TFM37\\lib\\site-packages\\ipykernel_launcher.py:3: FutureWarning: suggest_int() got {'step'} as positional arguments but they were expected to be given as keyword arguments.\n",
      "  This is separate from the ipykernel package so we can avoid doing imports until\n",
      "C:\\Users\\raulg\\anaconda3\\envs\\TFM37\\lib\\site-packages\\ipykernel_launcher.py:4: FutureWarning: suggest_int() got {'step'} as positional arguments but they were expected to be given as keyword arguments.\n",
      "  after removing the cwd from sys.path.\n",
      "C:\\Users\\raulg\\anaconda3\\envs\\TFM37\\lib\\site-packages\\ipykernel_launcher.py:7: FutureWarning: suggest_int() got {'step'} as positional arguments but they were expected to be given as keyword arguments.\n",
      "  import sys\n",
      "C:\\Users\\raulg\\anaconda3\\envs\\TFM37\\lib\\site-packages\\ipykernel_launcher.py:8: FutureWarning: suggest_int() got {'step'} as positional arguments but they were expected to be given as keyword arguments.\n",
      "  \n"
     ]
    },
    {
     "name": "stdout",
     "output_type": "stream",
     "text": [
      "1/1 [==============================] - 2s 2s/step\n"
     ]
    },
    {
     "name": "stderr",
     "output_type": "stream",
     "text": [
      "[I 2025-01-29 15:33:18,428] Trial 23 finished with value: 0.6056317689530686 and parameters: {'embedding_dim': 64, 'depth': 5, 'heads': 7, 'attn_dropout': 0.29833432090860845, 'ff_dropout': 0.2706970911749704, 'mlp_hidden_factor1': 1, 'mlp_hidden_factor2': 2, 'use_column_embedding': True}. Best is trial 6 with value: 0.6212718689252985.\n",
      "C:\\Users\\raulg\\anaconda3\\envs\\TFM37\\lib\\site-packages\\ipykernel_launcher.py:3: FutureWarning: suggest_int() got {'step'} as positional arguments but they were expected to be given as keyword arguments.\n",
      "  This is separate from the ipykernel package so we can avoid doing imports until\n",
      "C:\\Users\\raulg\\anaconda3\\envs\\TFM37\\lib\\site-packages\\ipykernel_launcher.py:4: FutureWarning: suggest_int() got {'step'} as positional arguments but they were expected to be given as keyword arguments.\n",
      "  after removing the cwd from sys.path.\n",
      "C:\\Users\\raulg\\anaconda3\\envs\\TFM37\\lib\\site-packages\\ipykernel_launcher.py:7: FutureWarning: suggest_int() got {'step'} as positional arguments but they were expected to be given as keyword arguments.\n",
      "  import sys\n",
      "C:\\Users\\raulg\\anaconda3\\envs\\TFM37\\lib\\site-packages\\ipykernel_launcher.py:8: FutureWarning: suggest_int() got {'step'} as positional arguments but they were expected to be given as keyword arguments.\n",
      "  \n"
     ]
    },
    {
     "name": "stdout",
     "output_type": "stream",
     "text": [
      "1/1 [==============================] - 1s 792ms/step\n"
     ]
    },
    {
     "name": "stderr",
     "output_type": "stream",
     "text": [
      "[I 2025-01-29 15:36:15,464] Trial 24 finished with value: 0.5905692863093586 and parameters: {'embedding_dim': 64, 'depth': 2, 'heads': 8, 'attn_dropout': 0.061847856883680344, 'ff_dropout': 0.23512253620153245, 'mlp_hidden_factor1': 3, 'mlp_hidden_factor2': 3, 'use_column_embedding': True}. Best is trial 6 with value: 0.6212718689252985.\n",
      "C:\\Users\\raulg\\anaconda3\\envs\\TFM37\\lib\\site-packages\\ipykernel_launcher.py:3: FutureWarning: suggest_int() got {'step'} as positional arguments but they were expected to be given as keyword arguments.\n",
      "  This is separate from the ipykernel package so we can avoid doing imports until\n",
      "C:\\Users\\raulg\\anaconda3\\envs\\TFM37\\lib\\site-packages\\ipykernel_launcher.py:4: FutureWarning: suggest_int() got {'step'} as positional arguments but they were expected to be given as keyword arguments.\n",
      "  after removing the cwd from sys.path.\n",
      "C:\\Users\\raulg\\anaconda3\\envs\\TFM37\\lib\\site-packages\\ipykernel_launcher.py:7: FutureWarning: suggest_int() got {'step'} as positional arguments but they were expected to be given as keyword arguments.\n",
      "  import sys\n",
      "C:\\Users\\raulg\\anaconda3\\envs\\TFM37\\lib\\site-packages\\ipykernel_launcher.py:8: FutureWarning: suggest_int() got {'step'} as positional arguments but they were expected to be given as keyword arguments.\n",
      "  \n"
     ]
    },
    {
     "name": "stdout",
     "output_type": "stream",
     "text": [
      "1/1 [==============================] - 1s 554ms/step\n"
     ]
    },
    {
     "name": "stderr",
     "output_type": "stream",
     "text": [
      "[I 2025-01-29 15:38:42,859] Trial 25 finished with value: 0.5982227159122466 and parameters: {'embedding_dim': 64, 'depth': 1, 'heads': 6, 'attn_dropout': 0.17262194903905825, 'ff_dropout': 0.2950233095048654, 'mlp_hidden_factor1': 2, 'mlp_hidden_factor2': 2, 'use_column_embedding': True}. Best is trial 6 with value: 0.6212718689252985.\n",
      "C:\\Users\\raulg\\anaconda3\\envs\\TFM37\\lib\\site-packages\\ipykernel_launcher.py:3: FutureWarning: suggest_int() got {'step'} as positional arguments but they were expected to be given as keyword arguments.\n",
      "  This is separate from the ipykernel package so we can avoid doing imports until\n",
      "C:\\Users\\raulg\\anaconda3\\envs\\TFM37\\lib\\site-packages\\ipykernel_launcher.py:4: FutureWarning: suggest_int() got {'step'} as positional arguments but they were expected to be given as keyword arguments.\n",
      "  after removing the cwd from sys.path.\n",
      "C:\\Users\\raulg\\anaconda3\\envs\\TFM37\\lib\\site-packages\\ipykernel_launcher.py:7: FutureWarning: suggest_int() got {'step'} as positional arguments but they were expected to be given as keyword arguments.\n",
      "  import sys\n",
      "C:\\Users\\raulg\\anaconda3\\envs\\TFM37\\lib\\site-packages\\ipykernel_launcher.py:8: FutureWarning: suggest_int() got {'step'} as positional arguments but they were expected to be given as keyword arguments.\n",
      "  \n"
     ]
    },
    {
     "name": "stdout",
     "output_type": "stream",
     "text": [
      "1/1 [==============================] - 1s 1s/step\n"
     ]
    },
    {
     "name": "stderr",
     "output_type": "stream",
     "text": [
      "[I 2025-01-29 15:43:38,366] Trial 26 finished with value: 0.6021771730074978 and parameters: {'embedding_dim': 64, 'depth': 3, 'heads': 8, 'attn_dropout': 0.12210108409243017, 'ff_dropout': 0.3859379454355228, 'mlp_hidden_factor1': 1, 'mlp_hidden_factor2': 1, 'use_column_embedding': False}. Best is trial 6 with value: 0.6212718689252985.\n",
      "C:\\Users\\raulg\\anaconda3\\envs\\TFM37\\lib\\site-packages\\ipykernel_launcher.py:3: FutureWarning: suggest_int() got {'step'} as positional arguments but they were expected to be given as keyword arguments.\n",
      "  This is separate from the ipykernel package so we can avoid doing imports until\n",
      "C:\\Users\\raulg\\anaconda3\\envs\\TFM37\\lib\\site-packages\\ipykernel_launcher.py:4: FutureWarning: suggest_int() got {'step'} as positional arguments but they were expected to be given as keyword arguments.\n",
      "  after removing the cwd from sys.path.\n",
      "C:\\Users\\raulg\\anaconda3\\envs\\TFM37\\lib\\site-packages\\ipykernel_launcher.py:7: FutureWarning: suggest_int() got {'step'} as positional arguments but they were expected to be given as keyword arguments.\n",
      "  import sys\n",
      "C:\\Users\\raulg\\anaconda3\\envs\\TFM37\\lib\\site-packages\\ipykernel_launcher.py:8: FutureWarning: suggest_int() got {'step'} as positional arguments but they were expected to be given as keyword arguments.\n",
      "  \n"
     ]
    },
    {
     "name": "stdout",
     "output_type": "stream",
     "text": [
      "1/1 [==============================] - 1s 1s/step\n"
     ]
    },
    {
     "name": "stderr",
     "output_type": "stream",
     "text": [
      "[I 2025-01-29 15:49:41,402] Trial 27 finished with value: 0.6020549847264649 and parameters: {'embedding_dim': 64, 'depth': 4, 'heads': 7, 'attn_dropout': 0.30279009963923664, 'ff_dropout': 0.1819211960839691, 'mlp_hidden_factor1': 1, 'mlp_hidden_factor2': 3, 'use_column_embedding': True}. Best is trial 6 with value: 0.6212718689252985.\n",
      "C:\\Users\\raulg\\anaconda3\\envs\\TFM37\\lib\\site-packages\\ipykernel_launcher.py:3: FutureWarning: suggest_int() got {'step'} as positional arguments but they were expected to be given as keyword arguments.\n",
      "  This is separate from the ipykernel package so we can avoid doing imports until\n",
      "C:\\Users\\raulg\\anaconda3\\envs\\TFM37\\lib\\site-packages\\ipykernel_launcher.py:4: FutureWarning: suggest_int() got {'step'} as positional arguments but they were expected to be given as keyword arguments.\n",
      "  after removing the cwd from sys.path.\n",
      "C:\\Users\\raulg\\anaconda3\\envs\\TFM37\\lib\\site-packages\\ipykernel_launcher.py:7: FutureWarning: suggest_int() got {'step'} as positional arguments but they were expected to be given as keyword arguments.\n",
      "  import sys\n",
      "C:\\Users\\raulg\\anaconda3\\envs\\TFM37\\lib\\site-packages\\ipykernel_launcher.py:8: FutureWarning: suggest_int() got {'step'} as positional arguments but they were expected to be given as keyword arguments.\n",
      "  \n"
     ]
    },
    {
     "name": "stdout",
     "output_type": "stream",
     "text": [
      "1/1 [==============================] - 1s 908ms/step\n"
     ]
    },
    {
     "name": "stderr",
     "output_type": "stream",
     "text": [
      "[I 2025-01-29 15:53:01,600] Trial 28 finished with value: 0.5731630102749237 and parameters: {'embedding_dim': 64, 'depth': 3, 'heads': 2, 'attn_dropout': 0.23920194782064277, 'ff_dropout': 0.3377474950165983, 'mlp_hidden_factor1': 2, 'mlp_hidden_factor2': 4, 'use_column_embedding': True}. Best is trial 6 with value: 0.6212718689252985.\n",
      "C:\\Users\\raulg\\anaconda3\\envs\\TFM37\\lib\\site-packages\\ipykernel_launcher.py:3: FutureWarning: suggest_int() got {'step'} as positional arguments but they were expected to be given as keyword arguments.\n",
      "  This is separate from the ipykernel package so we can avoid doing imports until\n",
      "C:\\Users\\raulg\\anaconda3\\envs\\TFM37\\lib\\site-packages\\ipykernel_launcher.py:4: FutureWarning: suggest_int() got {'step'} as positional arguments but they were expected to be given as keyword arguments.\n",
      "  after removing the cwd from sys.path.\n",
      "C:\\Users\\raulg\\anaconda3\\envs\\TFM37\\lib\\site-packages\\ipykernel_launcher.py:7: FutureWarning: suggest_int() got {'step'} as positional arguments but they were expected to be given as keyword arguments.\n",
      "  import sys\n",
      "C:\\Users\\raulg\\anaconda3\\envs\\TFM37\\lib\\site-packages\\ipykernel_launcher.py:8: FutureWarning: suggest_int() got {'step'} as positional arguments but they were expected to be given as keyword arguments.\n",
      "  \n"
     ]
    },
    {
     "name": "stdout",
     "output_type": "stream",
     "text": [
      "1/1 [==============================] - 1s 639ms/step\n"
     ]
    },
    {
     "name": "stderr",
     "output_type": "stream",
     "text": [
      "[I 2025-01-29 15:54:55,846] Trial 29 finished with value: 0.5804054429325187 and parameters: {'embedding_dim': 32, 'depth': 2, 'heads': 4, 'attn_dropout': 0.17312534495712603, 'ff_dropout': 0.13069330970013027, 'mlp_hidden_factor1': 1, 'mlp_hidden_factor2': 3, 'use_column_embedding': False}. Best is trial 6 with value: 0.6212718689252985.\n",
      "C:\\Users\\raulg\\anaconda3\\envs\\TFM37\\lib\\site-packages\\ipykernel_launcher.py:3: FutureWarning: suggest_int() got {'step'} as positional arguments but they were expected to be given as keyword arguments.\n",
      "  This is separate from the ipykernel package so we can avoid doing imports until\n",
      "C:\\Users\\raulg\\anaconda3\\envs\\TFM37\\lib\\site-packages\\ipykernel_launcher.py:4: FutureWarning: suggest_int() got {'step'} as positional arguments but they were expected to be given as keyword arguments.\n",
      "  after removing the cwd from sys.path.\n",
      "C:\\Users\\raulg\\anaconda3\\envs\\TFM37\\lib\\site-packages\\ipykernel_launcher.py:7: FutureWarning: suggest_int() got {'step'} as positional arguments but they were expected to be given as keyword arguments.\n",
      "  import sys\n",
      "C:\\Users\\raulg\\anaconda3\\envs\\TFM37\\lib\\site-packages\\ipykernel_launcher.py:8: FutureWarning: suggest_int() got {'step'} as positional arguments but they were expected to be given as keyword arguments.\n",
      "  \n"
     ]
    },
    {
     "name": "stdout",
     "output_type": "stream",
     "text": [
      "1/1 [==============================] - 1s 1s/step\n"
     ]
    },
    {
     "name": "stderr",
     "output_type": "stream",
     "text": [
      "[I 2025-01-29 16:04:30,503] Trial 30 finished with value: 0.6117856151069148 and parameters: {'embedding_dim': 64, 'depth': 4, 'heads': 6, 'attn_dropout': 0.08858757346796883, 'ff_dropout': 0.07219553079928126, 'mlp_hidden_factor1': 3, 'mlp_hidden_factor2': 2, 'use_column_embedding': True}. Best is trial 6 with value: 0.6212718689252985.\n",
      "C:\\Users\\raulg\\anaconda3\\envs\\TFM37\\lib\\site-packages\\ipykernel_launcher.py:3: FutureWarning: suggest_int() got {'step'} as positional arguments but they were expected to be given as keyword arguments.\n",
      "  This is separate from the ipykernel package so we can avoid doing imports until\n",
      "C:\\Users\\raulg\\anaconda3\\envs\\TFM37\\lib\\site-packages\\ipykernel_launcher.py:4: FutureWarning: suggest_int() got {'step'} as positional arguments but they were expected to be given as keyword arguments.\n",
      "  after removing the cwd from sys.path.\n",
      "C:\\Users\\raulg\\anaconda3\\envs\\TFM37\\lib\\site-packages\\ipykernel_launcher.py:7: FutureWarning: suggest_int() got {'step'} as positional arguments but they were expected to be given as keyword arguments.\n",
      "  import sys\n",
      "C:\\Users\\raulg\\anaconda3\\envs\\TFM37\\lib\\site-packages\\ipykernel_launcher.py:8: FutureWarning: suggest_int() got {'step'} as positional arguments but they were expected to be given as keyword arguments.\n",
      "  \n"
     ]
    },
    {
     "name": "stdout",
     "output_type": "stream",
     "text": [
      "1/1 [==============================] - 1s 1s/step\n"
     ]
    },
    {
     "name": "stderr",
     "output_type": "stream",
     "text": [
      "[I 2025-01-29 16:14:05,104] Trial 31 finished with value: 0.6075867814495973 and parameters: {'embedding_dim': 64, 'depth': 4, 'heads': 6, 'attn_dropout': 0.08034251537047528, 'ff_dropout': 0.05115828135675361, 'mlp_hidden_factor1': 3, 'mlp_hidden_factor2': 2, 'use_column_embedding': True}. Best is trial 6 with value: 0.6212718689252985.\n",
      "C:\\Users\\raulg\\anaconda3\\envs\\TFM37\\lib\\site-packages\\ipykernel_launcher.py:3: FutureWarning: suggest_int() got {'step'} as positional arguments but they were expected to be given as keyword arguments.\n",
      "  This is separate from the ipykernel package so we can avoid doing imports until\n",
      "C:\\Users\\raulg\\anaconda3\\envs\\TFM37\\lib\\site-packages\\ipykernel_launcher.py:4: FutureWarning: suggest_int() got {'step'} as positional arguments but they were expected to be given as keyword arguments.\n",
      "  after removing the cwd from sys.path.\n",
      "C:\\Users\\raulg\\anaconda3\\envs\\TFM37\\lib\\site-packages\\ipykernel_launcher.py:7: FutureWarning: suggest_int() got {'step'} as positional arguments but they were expected to be given as keyword arguments.\n",
      "  import sys\n",
      "C:\\Users\\raulg\\anaconda3\\envs\\TFM37\\lib\\site-packages\\ipykernel_launcher.py:8: FutureWarning: suggest_int() got {'step'} as positional arguments but they were expected to be given as keyword arguments.\n",
      "  \n"
     ]
    },
    {
     "name": "stdout",
     "output_type": "stream",
     "text": [
      "1/1 [==============================] - 2s 2s/step\n"
     ]
    },
    {
     "name": "stderr",
     "output_type": "stream",
     "text": [
      "[I 2025-01-29 16:23:49,075] Trial 32 finished with value: 0.6089752846431546 and parameters: {'embedding_dim': 64, 'depth': 5, 'heads': 7, 'attn_dropout': 0.11715388290118828, 'ff_dropout': 0.08949171870282305, 'mlp_hidden_factor1': 4, 'mlp_hidden_factor2': 2, 'use_column_embedding': True}. Best is trial 6 with value: 0.6212718689252985.\n",
      "C:\\Users\\raulg\\anaconda3\\envs\\TFM37\\lib\\site-packages\\ipykernel_launcher.py:3: FutureWarning: suggest_int() got {'step'} as positional arguments but they were expected to be given as keyword arguments.\n",
      "  This is separate from the ipykernel package so we can avoid doing imports until\n",
      "C:\\Users\\raulg\\anaconda3\\envs\\TFM37\\lib\\site-packages\\ipykernel_launcher.py:4: FutureWarning: suggest_int() got {'step'} as positional arguments but they were expected to be given as keyword arguments.\n",
      "  after removing the cwd from sys.path.\n",
      "C:\\Users\\raulg\\anaconda3\\envs\\TFM37\\lib\\site-packages\\ipykernel_launcher.py:7: FutureWarning: suggest_int() got {'step'} as positional arguments but they were expected to be given as keyword arguments.\n",
      "  import sys\n",
      "C:\\Users\\raulg\\anaconda3\\envs\\TFM37\\lib\\site-packages\\ipykernel_launcher.py:8: FutureWarning: suggest_int() got {'step'} as positional arguments but they were expected to be given as keyword arguments.\n",
      "  \n"
     ]
    },
    {
     "name": "stdout",
     "output_type": "stream",
     "text": [
      "1/1 [==============================] - 1s 1s/step\n"
     ]
    },
    {
     "name": "stderr",
     "output_type": "stream",
     "text": [
      "[I 2025-01-29 16:30:49,548] Trial 33 finished with value: 0.6175951124687586 and parameters: {'embedding_dim': 64, 'depth': 4, 'heads': 6, 'attn_dropout': 0.1567170891016989, 'ff_dropout': 0.43748052183046165, 'mlp_hidden_factor1': 3, 'mlp_hidden_factor2': 1, 'use_column_embedding': True}. Best is trial 6 with value: 0.6212718689252985.\n",
      "C:\\Users\\raulg\\anaconda3\\envs\\TFM37\\lib\\site-packages\\ipykernel_launcher.py:3: FutureWarning: suggest_int() got {'step'} as positional arguments but they were expected to be given as keyword arguments.\n",
      "  This is separate from the ipykernel package so we can avoid doing imports until\n",
      "C:\\Users\\raulg\\anaconda3\\envs\\TFM37\\lib\\site-packages\\ipykernel_launcher.py:4: FutureWarning: suggest_int() got {'step'} as positional arguments but they were expected to be given as keyword arguments.\n",
      "  after removing the cwd from sys.path.\n",
      "C:\\Users\\raulg\\anaconda3\\envs\\TFM37\\lib\\site-packages\\ipykernel_launcher.py:7: FutureWarning: suggest_int() got {'step'} as positional arguments but they were expected to be given as keyword arguments.\n",
      "  import sys\n",
      "C:\\Users\\raulg\\anaconda3\\envs\\TFM37\\lib\\site-packages\\ipykernel_launcher.py:8: FutureWarning: suggest_int() got {'step'} as positional arguments but they were expected to be given as keyword arguments.\n",
      "  \n"
     ]
    },
    {
     "name": "stdout",
     "output_type": "stream",
     "text": [
      "1/1 [==============================] - 1s 775ms/step\n"
     ]
    },
    {
     "name": "stderr",
     "output_type": "stream",
     "text": [
      "[I 2025-01-29 16:33:13,215] Trial 34 finished with value: 0.5973118578172729 and parameters: {'embedding_dim': 32, 'depth': 3, 'heads': 5, 'attn_dropout': 0.1396840266767572, 'ff_dropout': 0.4142096852829008, 'mlp_hidden_factor1': 3, 'mlp_hidden_factor2': 1, 'use_column_embedding': False}. Best is trial 6 with value: 0.6212718689252985.\n",
      "C:\\Users\\raulg\\anaconda3\\envs\\TFM37\\lib\\site-packages\\ipykernel_launcher.py:3: FutureWarning: suggest_int() got {'step'} as positional arguments but they were expected to be given as keyword arguments.\n",
      "  This is separate from the ipykernel package so we can avoid doing imports until\n",
      "C:\\Users\\raulg\\anaconda3\\envs\\TFM37\\lib\\site-packages\\ipykernel_launcher.py:4: FutureWarning: suggest_int() got {'step'} as positional arguments but they were expected to be given as keyword arguments.\n",
      "  after removing the cwd from sys.path.\n",
      "C:\\Users\\raulg\\anaconda3\\envs\\TFM37\\lib\\site-packages\\ipykernel_launcher.py:7: FutureWarning: suggest_int() got {'step'} as positional arguments but they were expected to be given as keyword arguments.\n",
      "  import sys\n",
      "C:\\Users\\raulg\\anaconda3\\envs\\TFM37\\lib\\site-packages\\ipykernel_launcher.py:8: FutureWarning: suggest_int() got {'step'} as positional arguments but they were expected to be given as keyword arguments.\n",
      "  \n"
     ]
    },
    {
     "name": "stdout",
     "output_type": "stream",
     "text": [
      "1/1 [==============================] - 1s 1s/step\n"
     ]
    },
    {
     "name": "stderr",
     "output_type": "stream",
     "text": [
      "[I 2025-01-29 16:44:43,714] Trial 35 finished with value: 0.6275923354623716 and parameters: {'embedding_dim': 32, 'depth': 5, 'heads': 7, 'attn_dropout': 0.16870886103600985, 'ff_dropout': 0.44894591597683553, 'mlp_hidden_factor1': 2, 'mlp_hidden_factor2': 1, 'use_column_embedding': True}. Best is trial 35 with value: 0.6275923354623716.\n",
      "C:\\Users\\raulg\\anaconda3\\envs\\TFM37\\lib\\site-packages\\ipykernel_launcher.py:3: FutureWarning: suggest_int() got {'step'} as positional arguments but they were expected to be given as keyword arguments.\n",
      "  This is separate from the ipykernel package so we can avoid doing imports until\n",
      "C:\\Users\\raulg\\anaconda3\\envs\\TFM37\\lib\\site-packages\\ipykernel_launcher.py:4: FutureWarning: suggest_int() got {'step'} as positional arguments but they were expected to be given as keyword arguments.\n",
      "  after removing the cwd from sys.path.\n",
      "C:\\Users\\raulg\\anaconda3\\envs\\TFM37\\lib\\site-packages\\ipykernel_launcher.py:7: FutureWarning: suggest_int() got {'step'} as positional arguments but they were expected to be given as keyword arguments.\n",
      "  import sys\n",
      "C:\\Users\\raulg\\anaconda3\\envs\\TFM37\\lib\\site-packages\\ipykernel_launcher.py:8: FutureWarning: suggest_int() got {'step'} as positional arguments but they were expected to be given as keyword arguments.\n",
      "  \n"
     ]
    },
    {
     "name": "stdout",
     "output_type": "stream",
     "text": [
      "1/1 [==============================] - 2s 2s/step\n"
     ]
    },
    {
     "name": "stderr",
     "output_type": "stream",
     "text": [
      "[I 2025-01-29 17:02:57,209] Trial 36 finished with value: 0.613729519577895 and parameters: {'embedding_dim': 32, 'depth': 5, 'heads': 8, 'attn_dropout': 0.18872344342711386, 'ff_dropout': 0.4606497311272255, 'mlp_hidden_factor1': 2, 'mlp_hidden_factor2': 1, 'use_column_embedding': True}. Best is trial 35 with value: 0.6275923354623716.\n",
      "C:\\Users\\raulg\\anaconda3\\envs\\TFM37\\lib\\site-packages\\ipykernel_launcher.py:3: FutureWarning: suggest_int() got {'step'} as positional arguments but they were expected to be given as keyword arguments.\n",
      "  This is separate from the ipykernel package so we can avoid doing imports until\n",
      "C:\\Users\\raulg\\anaconda3\\envs\\TFM37\\lib\\site-packages\\ipykernel_launcher.py:4: FutureWarning: suggest_int() got {'step'} as positional arguments but they were expected to be given as keyword arguments.\n",
      "  after removing the cwd from sys.path.\n",
      "C:\\Users\\raulg\\anaconda3\\envs\\TFM37\\lib\\site-packages\\ipykernel_launcher.py:7: FutureWarning: suggest_int() got {'step'} as positional arguments but they were expected to be given as keyword arguments.\n",
      "  import sys\n",
      "C:\\Users\\raulg\\anaconda3\\envs\\TFM37\\lib\\site-packages\\ipykernel_launcher.py:8: FutureWarning: suggest_int() got {'step'} as positional arguments but they were expected to be given as keyword arguments.\n",
      "  \n"
     ]
    },
    {
     "name": "stdout",
     "output_type": "stream",
     "text": [
      "1/1 [==============================] - 2s 2s/step\n"
     ]
    },
    {
     "name": "stderr",
     "output_type": "stream",
     "text": [
      "[I 2025-01-29 17:14:04,960] Trial 37 finished with value: 0.5947792279922244 and parameters: {'embedding_dim': 32, 'depth': 6, 'heads': 6, 'attn_dropout': 0.22660203773557108, 'ff_dropout': 0.4519710719698905, 'mlp_hidden_factor1': 4, 'mlp_hidden_factor2': 1, 'use_column_embedding': True}. Best is trial 35 with value: 0.6275923354623716.\n",
      "C:\\Users\\raulg\\anaconda3\\envs\\TFM37\\lib\\site-packages\\ipykernel_launcher.py:3: FutureWarning: suggest_int() got {'step'} as positional arguments but they were expected to be given as keyword arguments.\n",
      "  This is separate from the ipykernel package so we can avoid doing imports until\n",
      "C:\\Users\\raulg\\anaconda3\\envs\\TFM37\\lib\\site-packages\\ipykernel_launcher.py:4: FutureWarning: suggest_int() got {'step'} as positional arguments but they were expected to be given as keyword arguments.\n",
      "  after removing the cwd from sys.path.\n",
      "C:\\Users\\raulg\\anaconda3\\envs\\TFM37\\lib\\site-packages\\ipykernel_launcher.py:7: FutureWarning: suggest_int() got {'step'} as positional arguments but they were expected to be given as keyword arguments.\n",
      "  import sys\n",
      "C:\\Users\\raulg\\anaconda3\\envs\\TFM37\\lib\\site-packages\\ipykernel_launcher.py:8: FutureWarning: suggest_int() got {'step'} as positional arguments but they were expected to be given as keyword arguments.\n",
      "  \n"
     ]
    },
    {
     "name": "stdout",
     "output_type": "stream",
     "text": [
      "1/1 [==============================] - 1s 1s/step\n"
     ]
    },
    {
     "name": "stderr",
     "output_type": "stream",
     "text": [
      "[I 2025-01-29 17:23:31,121] Trial 38 finished with value: 0.5992335462371563 and parameters: {'embedding_dim': 32, 'depth': 5, 'heads': 5, 'attn_dropout': 0.1668919242406537, 'ff_dropout': 0.4412846880613574, 'mlp_hidden_factor1': 3, 'mlp_hidden_factor2': 1, 'use_column_embedding': False}. Best is trial 35 with value: 0.6275923354623716.\n",
      "C:\\Users\\raulg\\anaconda3\\envs\\TFM37\\lib\\site-packages\\ipykernel_launcher.py:3: FutureWarning: suggest_int() got {'step'} as positional arguments but they were expected to be given as keyword arguments.\n",
      "  This is separate from the ipykernel package so we can avoid doing imports until\n",
      "C:\\Users\\raulg\\anaconda3\\envs\\TFM37\\lib\\site-packages\\ipykernel_launcher.py:4: FutureWarning: suggest_int() got {'step'} as positional arguments but they were expected to be given as keyword arguments.\n",
      "  after removing the cwd from sys.path.\n",
      "C:\\Users\\raulg\\anaconda3\\envs\\TFM37\\lib\\site-packages\\ipykernel_launcher.py:7: FutureWarning: suggest_int() got {'step'} as positional arguments but they were expected to be given as keyword arguments.\n",
      "  import sys\n",
      "C:\\Users\\raulg\\anaconda3\\envs\\TFM37\\lib\\site-packages\\ipykernel_launcher.py:8: FutureWarning: suggest_int() got {'step'} as positional arguments but they were expected to be given as keyword arguments.\n",
      "  \n"
     ]
    },
    {
     "name": "stdout",
     "output_type": "stream",
     "text": [
      "1/1 [==============================] - 1s 1s/step\n"
     ]
    },
    {
     "name": "stderr",
     "output_type": "stream",
     "text": [
      "[I 2025-01-29 17:31:25,061] Trial 39 finished with value: 0.6145626214940294 and parameters: {'embedding_dim': 32, 'depth': 4, 'heads': 7, 'attn_dropout': 0.25818042381007333, 'ff_dropout': 0.3997008104658805, 'mlp_hidden_factor1': 2, 'mlp_hidden_factor2': 1, 'use_column_embedding': True}. Best is trial 35 with value: 0.6275923354623716.\n",
      "C:\\Users\\raulg\\anaconda3\\envs\\TFM37\\lib\\site-packages\\ipykernel_launcher.py:3: FutureWarning: suggest_int() got {'step'} as positional arguments but they were expected to be given as keyword arguments.\n",
      "  This is separate from the ipykernel package so we can avoid doing imports until\n",
      "C:\\Users\\raulg\\anaconda3\\envs\\TFM37\\lib\\site-packages\\ipykernel_launcher.py:4: FutureWarning: suggest_int() got {'step'} as positional arguments but they were expected to be given as keyword arguments.\n",
      "  after removing the cwd from sys.path.\n",
      "C:\\Users\\raulg\\anaconda3\\envs\\TFM37\\lib\\site-packages\\ipykernel_launcher.py:7: FutureWarning: suggest_int() got {'step'} as positional arguments but they were expected to be given as keyword arguments.\n",
      "  import sys\n",
      "C:\\Users\\raulg\\anaconda3\\envs\\TFM37\\lib\\site-packages\\ipykernel_launcher.py:8: FutureWarning: suggest_int() got {'step'} as positional arguments but they were expected to be given as keyword arguments.\n",
      "  \n"
     ]
    },
    {
     "name": "stdout",
     "output_type": "stream",
     "text": [
      "1/1 [==============================] - 1s 879ms/step\n"
     ]
    },
    {
     "name": "stderr",
     "output_type": "stream",
     "text": [
      "[I 2025-01-29 17:34:13,335] Trial 40 finished with value: 0.6233379616773118 and parameters: {'embedding_dim': 32, 'depth': 3, 'heads': 2, 'attn_dropout': 0.13541812500912287, 'ff_dropout': 0.47562711698943505, 'mlp_hidden_factor1': 1, 'mlp_hidden_factor2': 1, 'use_column_embedding': True}. Best is trial 35 with value: 0.6275923354623716.\n",
      "C:\\Users\\raulg\\anaconda3\\envs\\TFM37\\lib\\site-packages\\ipykernel_launcher.py:3: FutureWarning: suggest_int() got {'step'} as positional arguments but they were expected to be given as keyword arguments.\n",
      "  This is separate from the ipykernel package so we can avoid doing imports until\n",
      "C:\\Users\\raulg\\anaconda3\\envs\\TFM37\\lib\\site-packages\\ipykernel_launcher.py:4: FutureWarning: suggest_int() got {'step'} as positional arguments but they were expected to be given as keyword arguments.\n",
      "  after removing the cwd from sys.path.\n",
      "C:\\Users\\raulg\\anaconda3\\envs\\TFM37\\lib\\site-packages\\ipykernel_launcher.py:7: FutureWarning: suggest_int() got {'step'} as positional arguments but they were expected to be given as keyword arguments.\n",
      "  import sys\n",
      "C:\\Users\\raulg\\anaconda3\\envs\\TFM37\\lib\\site-packages\\ipykernel_launcher.py:8: FutureWarning: suggest_int() got {'step'} as positional arguments but they were expected to be given as keyword arguments.\n",
      "  \n"
     ]
    },
    {
     "name": "stdout",
     "output_type": "stream",
     "text": [
      "1/1 [==============================] - 1s 789ms/step\n"
     ]
    },
    {
     "name": "stderr",
     "output_type": "stream",
     "text": [
      "[I 2025-01-29 17:36:34,796] Trial 41 finished with value: 0.6159844487642322 and parameters: {'embedding_dim': 32, 'depth': 3, 'heads': 2, 'attn_dropout': 0.1295264639298978, 'ff_dropout': 0.4745309267777817, 'mlp_hidden_factor1': 1, 'mlp_hidden_factor2': 1, 'use_column_embedding': True}. Best is trial 35 with value: 0.6275923354623716.\n",
      "C:\\Users\\raulg\\anaconda3\\envs\\TFM37\\lib\\site-packages\\ipykernel_launcher.py:3: FutureWarning: suggest_int() got {'step'} as positional arguments but they were expected to be given as keyword arguments.\n",
      "  This is separate from the ipykernel package so we can avoid doing imports until\n",
      "C:\\Users\\raulg\\anaconda3\\envs\\TFM37\\lib\\site-packages\\ipykernel_launcher.py:4: FutureWarning: suggest_int() got {'step'} as positional arguments but they were expected to be given as keyword arguments.\n",
      "  after removing the cwd from sys.path.\n",
      "C:\\Users\\raulg\\anaconda3\\envs\\TFM37\\lib\\site-packages\\ipykernel_launcher.py:7: FutureWarning: suggest_int() got {'step'} as positional arguments but they were expected to be given as keyword arguments.\n",
      "  import sys\n",
      "C:\\Users\\raulg\\anaconda3\\envs\\TFM37\\lib\\site-packages\\ipykernel_launcher.py:8: FutureWarning: suggest_int() got {'step'} as positional arguments but they were expected to be given as keyword arguments.\n",
      "  \n"
     ]
    },
    {
     "name": "stdout",
     "output_type": "stream",
     "text": [
      "1/1 [==============================] - 1s 824ms/step\n"
     ]
    },
    {
     "name": "stderr",
     "output_type": "stream",
     "text": [
      "[I 2025-01-29 17:38:35,291] Trial 42 finished with value: 0.6196834212718689 and parameters: {'embedding_dim': 32, 'depth': 3, 'heads': 2, 'attn_dropout': 0.18318427413736707, 'ff_dropout': 0.4194506089303292, 'mlp_hidden_factor1': 1, 'mlp_hidden_factor2': 1, 'use_column_embedding': True}. Best is trial 35 with value: 0.6275923354623716.\n",
      "C:\\Users\\raulg\\anaconda3\\envs\\TFM37\\lib\\site-packages\\ipykernel_launcher.py:3: FutureWarning: suggest_int() got {'step'} as positional arguments but they were expected to be given as keyword arguments.\n",
      "  This is separate from the ipykernel package so we can avoid doing imports until\n",
      "C:\\Users\\raulg\\anaconda3\\envs\\TFM37\\lib\\site-packages\\ipykernel_launcher.py:4: FutureWarning: suggest_int() got {'step'} as positional arguments but they were expected to be given as keyword arguments.\n",
      "  after removing the cwd from sys.path.\n",
      "C:\\Users\\raulg\\anaconda3\\envs\\TFM37\\lib\\site-packages\\ipykernel_launcher.py:7: FutureWarning: suggest_int() got {'step'} as positional arguments but they were expected to be given as keyword arguments.\n",
      "  import sys\n",
      "C:\\Users\\raulg\\anaconda3\\envs\\TFM37\\lib\\site-packages\\ipykernel_launcher.py:8: FutureWarning: suggest_int() got {'step'} as positional arguments but they were expected to be given as keyword arguments.\n",
      "  \n"
     ]
    },
    {
     "name": "stdout",
     "output_type": "stream",
     "text": [
      "1/1 [==============================] - 1s 791ms/step\n"
     ]
    },
    {
     "name": "stderr",
     "output_type": "stream",
     "text": [
      "[I 2025-01-29 17:40:58,614] Trial 43 finished with value: 0.5940794223826715 and parameters: {'embedding_dim': 32, 'depth': 3, 'heads': 3, 'attn_dropout': 0.18895368471487936, 'ff_dropout': 0.3765541593926366, 'mlp_hidden_factor1': 1, 'mlp_hidden_factor2': 1, 'use_column_embedding': True}. Best is trial 35 with value: 0.6275923354623716.\n",
      "C:\\Users\\raulg\\anaconda3\\envs\\TFM37\\lib\\site-packages\\ipykernel_launcher.py:3: FutureWarning: suggest_int() got {'step'} as positional arguments but they were expected to be given as keyword arguments.\n",
      "  This is separate from the ipykernel package so we can avoid doing imports until\n",
      "C:\\Users\\raulg\\anaconda3\\envs\\TFM37\\lib\\site-packages\\ipykernel_launcher.py:4: FutureWarning: suggest_int() got {'step'} as positional arguments but they were expected to be given as keyword arguments.\n",
      "  after removing the cwd from sys.path.\n",
      "C:\\Users\\raulg\\anaconda3\\envs\\TFM37\\lib\\site-packages\\ipykernel_launcher.py:7: FutureWarning: suggest_int() got {'step'} as positional arguments but they were expected to be given as keyword arguments.\n",
      "  import sys\n",
      "C:\\Users\\raulg\\anaconda3\\envs\\TFM37\\lib\\site-packages\\ipykernel_launcher.py:8: FutureWarning: suggest_int() got {'step'} as positional arguments but they were expected to be given as keyword arguments.\n",
      "  \n"
     ]
    },
    {
     "name": "stdout",
     "output_type": "stream",
     "text": [
      "1/1 [==============================] - 1s 766ms/step\n"
     ]
    },
    {
     "name": "stderr",
     "output_type": "stream",
     "text": [
      "[I 2025-01-29 17:43:22,386] Trial 44 finished with value: 0.633146348236601 and parameters: {'embedding_dim': 32, 'depth': 3, 'heads': 2, 'attn_dropout': 0.2235430330352167, 'ff_dropout': 0.4184710517589217, 'mlp_hidden_factor1': 1, 'mlp_hidden_factor2': 1, 'use_column_embedding': True}. Best is trial 44 with value: 0.633146348236601.\n",
      "C:\\Users\\raulg\\anaconda3\\envs\\TFM37\\lib\\site-packages\\ipykernel_launcher.py:3: FutureWarning: suggest_int() got {'step'} as positional arguments but they were expected to be given as keyword arguments.\n",
      "  This is separate from the ipykernel package so we can avoid doing imports until\n",
      "C:\\Users\\raulg\\anaconda3\\envs\\TFM37\\lib\\site-packages\\ipykernel_launcher.py:4: FutureWarning: suggest_int() got {'step'} as positional arguments but they were expected to be given as keyword arguments.\n",
      "  after removing the cwd from sys.path.\n",
      "C:\\Users\\raulg\\anaconda3\\envs\\TFM37\\lib\\site-packages\\ipykernel_launcher.py:7: FutureWarning: suggest_int() got {'step'} as positional arguments but they were expected to be given as keyword arguments.\n",
      "  import sys\n",
      "C:\\Users\\raulg\\anaconda3\\envs\\TFM37\\lib\\site-packages\\ipykernel_launcher.py:8: FutureWarning: suggest_int() got {'step'} as positional arguments but they were expected to be given as keyword arguments.\n",
      "  \n"
     ]
    },
    {
     "name": "stdout",
     "output_type": "stream",
     "text": [
      "1/1 [==============================] - 1s 670ms/step\n"
     ]
    },
    {
     "name": "stderr",
     "output_type": "stream",
     "text": [
      "[I 2025-01-29 17:45:11,822] Trial 45 finished with value: 0.5910024993057484 and parameters: {'embedding_dim': 32, 'depth': 2, 'heads': 2, 'attn_dropout': 0.22491999804288457, 'ff_dropout': 0.4096810246988475, 'mlp_hidden_factor1': 1, 'mlp_hidden_factor2': 1, 'use_column_embedding': True}. Best is trial 44 with value: 0.633146348236601.\n",
      "C:\\Users\\raulg\\anaconda3\\envs\\TFM37\\lib\\site-packages\\ipykernel_launcher.py:3: FutureWarning: suggest_int() got {'step'} as positional arguments but they were expected to be given as keyword arguments.\n",
      "  This is separate from the ipykernel package so we can avoid doing imports until\n",
      "C:\\Users\\raulg\\anaconda3\\envs\\TFM37\\lib\\site-packages\\ipykernel_launcher.py:4: FutureWarning: suggest_int() got {'step'} as positional arguments but they were expected to be given as keyword arguments.\n",
      "  after removing the cwd from sys.path.\n",
      "C:\\Users\\raulg\\anaconda3\\envs\\TFM37\\lib\\site-packages\\ipykernel_launcher.py:7: FutureWarning: suggest_int() got {'step'} as positional arguments but they were expected to be given as keyword arguments.\n",
      "  import sys\n",
      "C:\\Users\\raulg\\anaconda3\\envs\\TFM37\\lib\\site-packages\\ipykernel_launcher.py:8: FutureWarning: suggest_int() got {'step'} as positional arguments but they were expected to be given as keyword arguments.\n",
      "  \n"
     ]
    },
    {
     "name": "stdout",
     "output_type": "stream",
     "text": [
      "1/1 [==============================] - 1s 782ms/step\n"
     ]
    },
    {
     "name": "stderr",
     "output_type": "stream",
     "text": [
      "[I 2025-01-29 17:47:23,092] Trial 46 finished with value: 0.6189391835601222 and parameters: {'embedding_dim': 32, 'depth': 3, 'heads': 2, 'attn_dropout': 0.26829657877418656, 'ff_dropout': 0.47182636246479787, 'mlp_hidden_factor1': 1, 'mlp_hidden_factor2': 1, 'use_column_embedding': True}. Best is trial 44 with value: 0.633146348236601.\n",
      "C:\\Users\\raulg\\anaconda3\\envs\\TFM37\\lib\\site-packages\\ipykernel_launcher.py:3: FutureWarning: suggest_int() got {'step'} as positional arguments but they were expected to be given as keyword arguments.\n",
      "  This is separate from the ipykernel package so we can avoid doing imports until\n",
      "C:\\Users\\raulg\\anaconda3\\envs\\TFM37\\lib\\site-packages\\ipykernel_launcher.py:4: FutureWarning: suggest_int() got {'step'} as positional arguments but they were expected to be given as keyword arguments.\n",
      "  after removing the cwd from sys.path.\n",
      "C:\\Users\\raulg\\anaconda3\\envs\\TFM37\\lib\\site-packages\\ipykernel_launcher.py:7: FutureWarning: suggest_int() got {'step'} as positional arguments but they were expected to be given as keyword arguments.\n",
      "  import sys\n",
      "C:\\Users\\raulg\\anaconda3\\envs\\TFM37\\lib\\site-packages\\ipykernel_launcher.py:8: FutureWarning: suggest_int() got {'step'} as positional arguments but they were expected to be given as keyword arguments.\n",
      "  \n"
     ]
    },
    {
     "name": "stdout",
     "output_type": "stream",
     "text": [
      "1/1 [==============================] - 1s 828ms/step\n"
     ]
    },
    {
     "name": "stderr",
     "output_type": "stream",
     "text": [
      "[I 2025-01-29 17:49:55,146] Trial 47 finished with value: 0.6285143015828937 and parameters: {'embedding_dim': 32, 'depth': 3, 'heads': 3, 'attn_dropout': 0.290428951557258, 'ff_dropout': 0.49990468876733407, 'mlp_hidden_factor1': 1, 'mlp_hidden_factor2': 1, 'use_column_embedding': True}. Best is trial 44 with value: 0.633146348236601.\n",
      "C:\\Users\\raulg\\anaconda3\\envs\\TFM37\\lib\\site-packages\\ipykernel_launcher.py:3: FutureWarning: suggest_int() got {'step'} as positional arguments but they were expected to be given as keyword arguments.\n",
      "  This is separate from the ipykernel package so we can avoid doing imports until\n",
      "C:\\Users\\raulg\\anaconda3\\envs\\TFM37\\lib\\site-packages\\ipykernel_launcher.py:4: FutureWarning: suggest_int() got {'step'} as positional arguments but they were expected to be given as keyword arguments.\n",
      "  after removing the cwd from sys.path.\n",
      "C:\\Users\\raulg\\anaconda3\\envs\\TFM37\\lib\\site-packages\\ipykernel_launcher.py:7: FutureWarning: suggest_int() got {'step'} as positional arguments but they were expected to be given as keyword arguments.\n",
      "  import sys\n",
      "C:\\Users\\raulg\\anaconda3\\envs\\TFM37\\lib\\site-packages\\ipykernel_launcher.py:8: FutureWarning: suggest_int() got {'step'} as positional arguments but they were expected to be given as keyword arguments.\n",
      "  \n"
     ]
    },
    {
     "name": "stdout",
     "output_type": "stream",
     "text": [
      "1/1 [==============================] - 1s 707ms/step\n"
     ]
    },
    {
     "name": "stderr",
     "output_type": "stream",
     "text": [
      "[I 2025-01-29 17:51:32,144] Trial 48 finished with value: 0.5879033601777284 and parameters: {'embedding_dim': 32, 'depth': 2, 'heads': 3, 'attn_dropout': 0.2923466234145883, 'ff_dropout': 0.4971297852478881, 'mlp_hidden_factor1': 1, 'mlp_hidden_factor2': 1, 'use_column_embedding': True}. Best is trial 44 with value: 0.633146348236601.\n",
      "C:\\Users\\raulg\\anaconda3\\envs\\TFM37\\lib\\site-packages\\ipykernel_launcher.py:3: FutureWarning: suggest_int() got {'step'} as positional arguments but they were expected to be given as keyword arguments.\n",
      "  This is separate from the ipykernel package so we can avoid doing imports until\n",
      "C:\\Users\\raulg\\anaconda3\\envs\\TFM37\\lib\\site-packages\\ipykernel_launcher.py:4: FutureWarning: suggest_int() got {'step'} as positional arguments but they were expected to be given as keyword arguments.\n",
      "  after removing the cwd from sys.path.\n",
      "C:\\Users\\raulg\\anaconda3\\envs\\TFM37\\lib\\site-packages\\ipykernel_launcher.py:7: FutureWarning: suggest_int() got {'step'} as positional arguments but they were expected to be given as keyword arguments.\n",
      "  import sys\n",
      "C:\\Users\\raulg\\anaconda3\\envs\\TFM37\\lib\\site-packages\\ipykernel_launcher.py:8: FutureWarning: suggest_int() got {'step'} as positional arguments but they were expected to be given as keyword arguments.\n",
      "  \n"
     ]
    },
    {
     "name": "stdout",
     "output_type": "stream",
     "text": [
      "1/1 [==============================] - 1s 946ms/step\n"
     ]
    },
    {
     "name": "stderr",
     "output_type": "stream",
     "text": [
      "[I 2025-01-29 17:53:26,552] Trial 49 finished with value: 0.5912690919189114 and parameters: {'embedding_dim': 32, 'depth': 3, 'heads': 3, 'attn_dropout': 0.39786722609329794, 'ff_dropout': 0.4352530522773857, 'mlp_hidden_factor1': 1, 'mlp_hidden_factor2': 1, 'use_column_embedding': False}. Best is trial 44 with value: 0.633146348236601.\n"
     ]
    },
    {
     "name": "stdout",
     "output_type": "stream",
     "text": [
      "Tiempo de entrenamiento: 16961.4898 segundos\n"
     ]
    }
   ],
   "source": [
    "def objective(trial):\n",
    "    embedding_dim = trial.suggest_categorical('embedding_dim',[32, 64])\n",
    "    depth = trial.suggest_int('depth',1,6,1)\n",
    "    heads = trial.suggest_int('heads',2,8,1)\n",
    "    attn_dropout = trial.suggest_float(\"attn_dropout\", 0.05, 0.5)\n",
    "    ff_dropout = trial.suggest_float(\"ff_dropout\", 0.05, 0.5)\n",
    "    mlp_hidden_factor1 = trial.suggest_int(\"mlp_hidden_factor1\", 1, 4, 1)\n",
    "    mlp_hidden_factor2 = trial.suggest_int(\"mlp_hidden_factor2\", 1, 4, 1)\n",
    "    use_column_embedding = trial.suggest_categorical('use_column_embedding', [True, False])\n",
    "    \n",
    "    #category_prep_layers = build_categorical_prep(train_data, CATEGORICAL_FEATURES)\n",
    "    \n",
    "    tabtransformer = TabTransformer(\n",
    "        numerical_features = NUMERIC_FEATURES,\n",
    "        categorical_features = CATEGORICAL_FEATURES,\n",
    "        categorical_lookup=category_prep_layers,\n",
    "        numerical_discretisers=None, # simply passing the numeric features\n",
    "        embedding_dim=embedding_dim,\n",
    "        out_dim=1,\n",
    "        out_activation='sigmoid',\n",
    "        depth=depth,\n",
    "        heads=heads,\n",
    "        attn_dropout=attn_dropout,\n",
    "        ff_dropout=ff_dropout,\n",
    "        mlp_hidden_factors=[mlp_hidden_factor1, mlp_hidden_factor2],\n",
    "        use_column_embedding=use_column_embedding,\n",
    "    )\n",
    "        \n",
    "    LEARNING_RATE = 0.001\n",
    "    WEIGHT_DECAY = 0.0001\n",
    "    NUM_EPOCHS = 1000\n",
    "\n",
    "    optimizer = tfa.optimizers.AdamW(\n",
    "            learning_rate=LEARNING_RATE, weight_decay=WEIGHT_DECAY\n",
    "        )\n",
    "\n",
    "    tabtransformer.compile(\n",
    "        optimizer = optimizer,\n",
    "        loss = tf.keras.losses.BinaryCrossentropy(),\n",
    "        metrics= [tf.keras.metrics.AUC(name=\"AUC\", curve='ROC')]\n",
    "    )\n",
    "    \n",
    "    early = EarlyStopping(monitor=\"val_loss\", mode=\"min\", patience=20, restore_best_weights=True)\n",
    "    callback_list = [early]\n",
    "\n",
    "    history = tabtransformer.fit(\n",
    "        train_dataset, \n",
    "        epochs=NUM_EPOCHS, \n",
    "        validation_data=val_dataset,\n",
    "        callbacks=callback_list,\n",
    "        verbose=0\n",
    "    )\n",
    "    \n",
    "    val_preds = tabtransformer.predict(val_dataset)\n",
    "    roc = roc_auc_score(val_data[LABEL_Y], val_preds.ravel())\n",
    "    \n",
    "    gc.collect()\n",
    "    \n",
    "    \n",
    "    return roc\n",
    "\n",
    "start_time = time.time()\n",
    "study = optuna.create_study(direction='maximize')\n",
    "study.optimize(objective, n_trials=50)\n",
    "training_time = time.time() - start_time\n",
    "# Imprimir el tiempo de entrenamiento en segundos\n",
    "print(\"Tiempo de entrenamiento: %.4f segundos\" % training_time)"
   ]
  },
  {
   "cell_type": "code",
   "execution_count": 4,
   "id": "408301dc",
   "metadata": {
    "scrolled": false
   },
   "outputs": [],
   "source": [
    "df = pd.read_csv('Diabetes_130US/diabetic_data.csv')\n",
    "\n",
    "df.loc[df['race'] == '?', 'race'] = 'Other'\n",
    "\n",
    "df.drop(df[df['gender'] == 'Unknown/Invalid'].index, inplace = True)\n",
    "\n",
    "df.reset_index(inplace = True, drop = True)\n",
    "\n",
    "df.drop(columns = ['weight', 'payer_code', 'medical_specialty'], inplace = True)\n",
    "\n",
    "df.drop(columns = ['acetohexamide', 'tolbutamide', 'troglitazone', 'tolazamide', 'examide', 'citoglipton',\n",
    "                   'glipizide-metformin', 'glimepiride-pioglitazone', 'metformin-rosiglitazone',\n",
    "                   'metformin-pioglitazone'], inplace = True)\n",
    "\n",
    "df = df[~((df['diag_1'] == \"?\") | (df['diag_2'] == \"?\") | (df['diag_3'] == \"?\"))]\n",
    "\n",
    "df = df.drop(columns= ['encounter_id', 'patient_nbr'])\n",
    "\n",
    "df['readmitted']=df['readmitted'].apply(lambda x : 1 if x =='<30' or x == '>30' else 0)"
   ]
  },
  {
   "cell_type": "code",
   "execution_count": 5,
   "id": "75835d3d",
   "metadata": {},
   "outputs": [
    {
     "name": "stdout",
     "output_type": "stream",
     "text": [
      "['race', 'gender', 'age', 'diag_1', 'diag_2', 'diag_3', 'max_glu_serum', 'A1Cresult', 'metformin', 'repaglinide', 'nateglinide', 'chlorpropamide', 'glimepiride', 'glipizide', 'glyburide', 'pioglitazone', 'rosiglitazone', 'acarbose', 'miglitol', 'insulin', 'glyburide-metformin', 'change', 'diabetesMed']\n",
      "['admission_type_id', 'discharge_disposition_id', 'admission_source_id', 'time_in_hospital', 'num_lab_procedures', 'num_procedures', 'num_medications', 'number_outpatient', 'number_emergency', 'number_inpatient', 'number_diagnoses']\n"
     ]
    }
   ],
   "source": [
    "CATEGORICAL_FEATURES = df.select_dtypes(include=['object']).columns.tolist()\n",
    "print(CATEGORICAL_FEATURES)\n",
    "\n",
    "NUMERIC_FEATURES = df.select_dtypes(exclude=['object']).columns.tolist()\n",
    "NUMERIC_FEATURES.remove('readmitted')\n",
    "print(NUMERIC_FEATURES)\n",
    "\n",
    "FEATURES = list(NUMERIC_FEATURES) + list(CATEGORICAL_FEATURES)\n",
    "LABEL_Y = 'readmitted'"
   ]
  },
  {
   "cell_type": "code",
   "execution_count": 6,
   "id": "9e4320e8",
   "metadata": {},
   "outputs": [
    {
     "name": "stdout",
     "output_type": "stream",
     "text": [
      "0    42973\n",
      "1    37219\n",
      "Name: readmitted, dtype: int64\n",
      "0    10845\n",
      "1     9204\n",
      "Name: readmitted, dtype: int64\n"
     ]
    }
   ],
   "source": [
    "train_data, test_data = train_test_split(df, test_size=0.20, random_state=42)\n",
    "print(train_data[LABEL_Y].value_counts())\n",
    "print(test_data[LABEL_Y].value_counts())"
   ]
  },
  {
   "cell_type": "code",
   "execution_count": 7,
   "id": "905a247f",
   "metadata": {},
   "outputs": [
    {
     "data": {
      "text/plain": [
       "((68163, 35), (12029, 35), (20049, 35))"
      ]
     },
     "execution_count": 7,
     "metadata": {},
     "output_type": "execute_result"
    }
   ],
   "source": [
    "train_data, val_data = train_test_split(train_data, test_size=0.15, stratify=train_data['readmitted'])\n",
    "train_data.shape, val_data.shape, test_data.shape"
   ]
  },
  {
   "cell_type": "markdown",
   "id": "a74b3803",
   "metadata": {},
   "source": [
    "#### Numeric Cleaning"
   ]
  },
  {
   "cell_type": "code",
   "execution_count": 8,
   "id": "c7b7ba23",
   "metadata": {},
   "outputs": [
    {
     "data": {
      "text/plain": [
       "Pipeline(steps=[('impute', SimpleImputer(strategy='median')),\n",
       "                ('scale', StandardScaler())])"
      ]
     },
     "execution_count": 8,
     "metadata": {},
     "output_type": "execute_result"
    }
   ],
   "source": [
    "imputer = SimpleImputer(strategy='median')\n",
    "scaler = StandardScaler()\n",
    "\n",
    "numeric_pipe = Pipeline([\n",
    "    ('impute', imputer),\n",
    "    ('scale', scaler),\n",
    "])\n",
    "\n",
    "numeric_pipe.fit(train_data[NUMERIC_FEATURES])"
   ]
  },
  {
   "cell_type": "code",
   "execution_count": 9,
   "id": "6a12f094",
   "metadata": {},
   "outputs": [],
   "source": [
    "train_data[NUMERIC_FEATURES] = numeric_pipe.transform(train_data[NUMERIC_FEATURES])\n",
    "val_data[NUMERIC_FEATURES] = numeric_pipe.transform(val_data[NUMERIC_FEATURES])\n",
    "test_data[NUMERIC_FEATURES] = numeric_pipe.transform(test_data[NUMERIC_FEATURES])"
   ]
  },
  {
   "cell_type": "markdown",
   "id": "25079139",
   "metadata": {},
   "source": [
    "#### TF Datasets"
   ]
  },
  {
   "cell_type": "code",
   "execution_count": 10,
   "id": "c1347563",
   "metadata": {},
   "outputs": [],
   "source": [
    "train_data[CATEGORICAL_FEATURES] = train_data[CATEGORICAL_FEATURES].astype(str)\n",
    "val_data[CATEGORICAL_FEATURES] = val_data[CATEGORICAL_FEATURES].astype(str)\n",
    "test_data[CATEGORICAL_FEATURES] = test_data[CATEGORICAL_FEATURES].astype(str)\n",
    "\n",
    "train_data[NUMERIC_FEATURES] = train_data[NUMERIC_FEATURES].astype(float)\n",
    "val_data[NUMERIC_FEATURES] = val_data[NUMERIC_FEATURES].astype(float)\n",
    "test_data[NUMERIC_FEATURES] = test_data[NUMERIC_FEATURES].astype(float)"
   ]
  },
  {
   "cell_type": "code",
   "execution_count": 11,
   "id": "7ef06a9a",
   "metadata": {
    "scrolled": true
   },
   "outputs": [
    {
     "name": "stderr",
     "output_type": "stream",
     "text": [
      "C:\\Users\\raulg\\anaconda3\\envs\\TFM37\\lib\\site-packages\\tabtransformertf\\utils\\preprocessing.py:21: FutureWarning: Support for multi-dimensional indexing (e.g. `obj[:, None]`) is deprecated and will be removed in a future version.  Convert to a numpy array before indexing instead.\n",
      "  dataset[key] = value[:, tf.newaxis]\n",
      "C:\\Users\\raulg\\anaconda3\\envs\\TFM37\\lib\\site-packages\\tabtransformertf\\utils\\preprocessing.py:27: FutureWarning: Support for multi-dimensional indexing (e.g. `obj[:, None]`) is deprecated and will be removed in a future version.  Convert to a numpy array before indexing instead.\n",
      "  dataset[key] = value[:, tf.newaxis]\n"
     ]
    }
   ],
   "source": [
    "train_dataset = df_to_dataset(train_data[FEATURES + [LABEL_Y]], LABEL_Y, batch_size=3072)\n",
    "val_dataset = df_to_dataset(val_data[FEATURES + [LABEL_Y]], LABEL_Y, shuffle=False, batch_size=3072)\n",
    "test_dataset = df_to_dataset(test_data[FEATURES], shuffle=False, batch_size=3072)"
   ]
  },
  {
   "cell_type": "code",
   "execution_count": 12,
   "id": "1938192f",
   "metadata": {},
   "outputs": [
    {
     "name": "stderr",
     "output_type": "stream",
     "text": [
      "100%|██████████| 23/23 [00:00<00:00, 189.40it/s]\n"
     ]
    }
   ],
   "source": [
    "category_prep_layers = build_categorical_prep(train_data, CATEGORICAL_FEATURES)"
   ]
  },
  {
   "cell_type": "code",
   "execution_count": 13,
   "id": "d8e4dc98",
   "metadata": {
    "scrolled": true
   },
   "outputs": [
    {
     "name": "stdout",
     "output_type": "stream",
     "text": [
      "Epoch 1/1000\n",
      "23/23 [==============================] - 38s 1s/step - loss: 0.8178 - AUC_ROC: 0.5498 - accuracy: 0.5397 - false_negatives: 16455.0000 - AUC_PR: 0.5073 - val_loss: 0.6671 - val_AUC_ROC: 0.6274 - val_accuracy: 0.5954 - val_false_negatives: 3103.0000 - val_AUC_PR: 0.5813\n",
      "Epoch 2/1000\n",
      "23/23 [==============================] - 32s 1s/step - loss: 0.7412 - AUC_ROC: 0.5803 - accuracy: 0.5606 - false_negatives: 16127.0000 - AUC_PR: 0.5376 - val_loss: 0.6720 - val_AUC_ROC: 0.6373 - val_accuracy: 0.6005 - val_false_negatives: 3600.0000 - val_AUC_PR: 0.5946\n",
      "Epoch 3/1000\n",
      "23/23 [==============================] - 32s 1s/step - loss: 0.7139 - AUC_ROC: 0.6002 - accuracy: 0.5765 - false_negatives: 15536.0000 - AUC_PR: 0.5583 - val_loss: 0.6579 - val_AUC_ROC: 0.6506 - val_accuracy: 0.6119 - val_false_negatives: 3108.0000 - val_AUC_PR: 0.6102\n",
      "Epoch 4/1000\n",
      "23/23 [==============================] - 33s 1s/step - loss: 0.6932 - AUC_ROC: 0.6142 - accuracy: 0.5863 - false_negatives: 15534.0000 - AUC_PR: 0.5698 - val_loss: 0.6662 - val_AUC_ROC: 0.6510 - val_accuracy: 0.6022 - val_false_negatives: 3683.0000 - val_AUC_PR: 0.6095\n",
      "Epoch 5/1000\n",
      "23/23 [==============================] - 33s 1s/step - loss: 0.6786 - AUC_ROC: 0.6287 - accuracy: 0.5946 - false_negatives: 15245.0000 - AUC_PR: 0.5830 - val_loss: 0.6585 - val_AUC_ROC: 0.6475 - val_accuracy: 0.6136 - val_false_negatives: 3121.0000 - val_AUC_PR: 0.6082\n",
      "Epoch 6/1000\n",
      "23/23 [==============================] - 37s 2s/step - loss: 0.6692 - AUC_ROC: 0.6366 - accuracy: 0.6035 - false_negatives: 15168.0000 - AUC_PR: 0.5942 - val_loss: 0.6582 - val_AUC_ROC: 0.6506 - val_accuracy: 0.6148 - val_false_negatives: 2414.0000 - val_AUC_PR: 0.6104\n",
      "Epoch 7/1000\n",
      "23/23 [==============================] - 37s 2s/step - loss: 0.6599 - AUC_ROC: 0.6478 - accuracy: 0.6087 - false_negatives: 14942.0000 - AUC_PR: 0.6053 - val_loss: 0.6575 - val_AUC_ROC: 0.6542 - val_accuracy: 0.6135 - val_false_negatives: 2360.0000 - val_AUC_PR: 0.6114\n",
      "Epoch 8/1000\n",
      "23/23 [==============================] - 35s 1s/step - loss: 0.6545 - AUC_ROC: 0.6556 - accuracy: 0.6138 - false_negatives: 14963.0000 - AUC_PR: 0.6123 - val_loss: 0.6599 - val_AUC_ROC: 0.6544 - val_accuracy: 0.6100 - val_false_negatives: 2140.0000 - val_AUC_PR: 0.6118\n",
      "Epoch 9/1000\n",
      "23/23 [==============================] - 36s 1s/step - loss: 0.6511 - AUC_ROC: 0.6592 - accuracy: 0.6176 - false_negatives: 14806.0000 - AUC_PR: 0.6186 - val_loss: 0.6583 - val_AUC_ROC: 0.6528 - val_accuracy: 0.6126 - val_false_negatives: 2511.0000 - val_AUC_PR: 0.6095\n",
      "Epoch 10/1000\n",
      "23/23 [==============================] - 35s 1s/step - loss: 0.6469 - AUC_ROC: 0.6661 - accuracy: 0.6216 - false_negatives: 14796.0000 - AUC_PR: 0.6245 - val_loss: 0.6588 - val_AUC_ROC: 0.6519 - val_accuracy: 0.6088 - val_false_negatives: 2181.0000 - val_AUC_PR: 0.6099\n",
      "Epoch 11/1000\n",
      "23/23 [==============================] - 35s 1s/step - loss: 0.6438 - AUC_ROC: 0.6706 - accuracy: 0.6262 - false_negatives: 14613.0000 - AUC_PR: 0.6287 - val_loss: 0.6616 - val_AUC_ROC: 0.6538 - val_accuracy: 0.6057 - val_false_negatives: 2026.0000 - val_AUC_PR: 0.6119\n",
      "Epoch 12/1000\n",
      "23/23 [==============================] - 36s 1s/step - loss: 0.6424 - AUC_ROC: 0.6727 - accuracy: 0.6256 - false_negatives: 14495.0000 - AUC_PR: 0.6308 - val_loss: 0.6596 - val_AUC_ROC: 0.6528 - val_accuracy: 0.6058 - val_false_negatives: 2095.0000 - val_AUC_PR: 0.6107\n",
      "Epoch 13/1000\n",
      "23/23 [==============================] - 37s 2s/step - loss: 0.6407 - AUC_ROC: 0.6755 - accuracy: 0.6283 - false_negatives: 14449.0000 - AUC_PR: 0.6333 - val_loss: 0.6598 - val_AUC_ROC: 0.6507 - val_accuracy: 0.6038 - val_false_negatives: 2222.0000 - val_AUC_PR: 0.6095\n",
      "Epoch 14/1000\n",
      "23/23 [==============================] - 36s 1s/step - loss: 0.6404 - AUC_ROC: 0.6757 - accuracy: 0.6278 - false_negatives: 14542.0000 - AUC_PR: 0.6346 - val_loss: 0.6594 - val_AUC_ROC: 0.6543 - val_accuracy: 0.6070 - val_false_negatives: 2015.0000 - val_AUC_PR: 0.6121\n",
      "Epoch 15/1000\n",
      "23/23 [==============================] - 35s 1s/step - loss: 0.6388 - AUC_ROC: 0.6783 - accuracy: 0.6287 - false_negatives: 14508.0000 - AUC_PR: 0.6384 - val_loss: 0.6572 - val_AUC_ROC: 0.6516 - val_accuracy: 0.6106 - val_false_negatives: 2423.0000 - val_AUC_PR: 0.6096\n",
      "Epoch 16/1000\n",
      "23/23 [==============================] - 37s 2s/step - loss: 0.6385 - AUC_ROC: 0.6786 - accuracy: 0.6301 - false_negatives: 14378.0000 - AUC_PR: 0.6380 - val_loss: 0.6579 - val_AUC_ROC: 0.6507 - val_accuracy: 0.6119 - val_false_negatives: 2614.0000 - val_AUC_PR: 0.6089\n",
      "Epoch 17/1000\n",
      "23/23 [==============================] - 36s 1s/step - loss: 0.6370 - AUC_ROC: 0.6805 - accuracy: 0.6324 - false_negatives: 14243.0000 - AUC_PR: 0.6409 - val_loss: 0.6559 - val_AUC_ROC: 0.6540 - val_accuracy: 0.6112 - val_false_negatives: 2415.0000 - val_AUC_PR: 0.6119\n",
      "Epoch 18/1000\n",
      "23/23 [==============================] - 36s 1s/step - loss: 0.6359 - AUC_ROC: 0.6823 - accuracy: 0.6312 - false_negatives: 14394.0000 - AUC_PR: 0.6429 - val_loss: 0.6569 - val_AUC_ROC: 0.6536 - val_accuracy: 0.6137 - val_false_negatives: 2599.0000 - val_AUC_PR: 0.6116\n",
      "Epoch 19/1000\n",
      "23/23 [==============================] - 38s 2s/step - loss: 0.6360 - AUC_ROC: 0.6823 - accuracy: 0.6324 - false_negatives: 14250.0000 - AUC_PR: 0.6424 - val_loss: 0.6563 - val_AUC_ROC: 0.6541 - val_accuracy: 0.6111 - val_false_negatives: 2454.0000 - val_AUC_PR: 0.6097\n",
      "Epoch 20/1000\n",
      "23/23 [==============================] - 37s 2s/step - loss: 0.6348 - AUC_ROC: 0.6841 - accuracy: 0.6339 - false_negatives: 14315.0000 - AUC_PR: 0.6449 - val_loss: 0.6569 - val_AUC_ROC: 0.6542 - val_accuracy: 0.6115 - val_false_negatives: 2584.0000 - val_AUC_PR: 0.6093\n",
      "Epoch 21/1000\n",
      "23/23 [==============================] - 37s 2s/step - loss: 0.6346 - AUC_ROC: 0.6839 - accuracy: 0.6345 - false_negatives: 14141.0000 - AUC_PR: 0.6460 - val_loss: 0.6563 - val_AUC_ROC: 0.6536 - val_accuracy: 0.6110 - val_false_negatives: 2566.0000 - val_AUC_PR: 0.6089\n",
      "Epoch 22/1000\n",
      "23/23 [==============================] - 37s 2s/step - loss: 0.6336 - AUC_ROC: 0.6860 - accuracy: 0.6338 - false_negatives: 14349.0000 - AUC_PR: 0.6482 - val_loss: 0.6561 - val_AUC_ROC: 0.6540 - val_accuracy: 0.6089 - val_false_negatives: 2524.0000 - val_AUC_PR: 0.6091\n",
      "Epoch 23/1000\n",
      "23/23 [==============================] - 38s 2s/step - loss: 0.6331 - AUC_ROC: 0.6866 - accuracy: 0.6352 - false_negatives: 14420.0000 - AUC_PR: 0.6478 - val_loss: 0.6563 - val_AUC_ROC: 0.6542 - val_accuracy: 0.6109 - val_false_negatives: 2617.0000 - val_AUC_PR: 0.6115\n",
      "Epoch 24/1000\n",
      "23/23 [==============================] - 36s 1s/step - loss: 0.6325 - AUC_ROC: 0.6868 - accuracy: 0.6356 - false_negatives: 14172.0000 - AUC_PR: 0.6501 - val_loss: 0.6589 - val_AUC_ROC: 0.6530 - val_accuracy: 0.6092 - val_false_negatives: 2762.0000 - val_AUC_PR: 0.6084\n",
      "Epoch 25/1000\n",
      "23/23 [==============================] - 38s 2s/step - loss: 0.6314 - AUC_ROC: 0.6887 - accuracy: 0.6373 - false_negatives: 13971.0000 - AUC_PR: 0.6524 - val_loss: 0.6587 - val_AUC_ROC: 0.6526 - val_accuracy: 0.6129 - val_false_negatives: 2914.0000 - val_AUC_PR: 0.6087\n",
      "Epoch 26/1000\n",
      "23/23 [==============================] - 36s 1s/step - loss: 0.6294 - AUC_ROC: 0.6919 - accuracy: 0.6390 - false_negatives: 14318.0000 - AUC_PR: 0.6546 - val_loss: 0.6613 - val_AUC_ROC: 0.6538 - val_accuracy: 0.6114 - val_false_negatives: 2722.0000 - val_AUC_PR: 0.6083\n",
      "Epoch 27/1000\n",
      "23/23 [==============================] - 38s 2s/step - loss: 0.6298 - AUC_ROC: 0.6907 - accuracy: 0.6374 - false_negatives: 14381.0000 - AUC_PR: 0.6536 - val_loss: 0.6582 - val_AUC_ROC: 0.6541 - val_accuracy: 0.6143 - val_false_negatives: 2652.0000 - val_AUC_PR: 0.6086\n",
      "Epoch 28/1000\n",
      "23/23 [==============================] - 37s 2s/step - loss: 0.6282 - AUC_ROC: 0.6929 - accuracy: 0.6399 - false_negatives: 13985.0000 - AUC_PR: 0.6572 - val_loss: 0.6575 - val_AUC_ROC: 0.6550 - val_accuracy: 0.6126 - val_false_negatives: 2631.0000 - val_AUC_PR: 0.6102\n",
      "Epoch 29/1000\n",
      "23/23 [==============================] - 39s 2s/step - loss: 0.6260 - AUC_ROC: 0.6964 - accuracy: 0.6416 - false_negatives: 13929.0000 - AUC_PR: 0.6617 - val_loss: 0.6596 - val_AUC_ROC: 0.6559 - val_accuracy: 0.6143 - val_false_negatives: 2495.0000 - val_AUC_PR: 0.6114\n"
     ]
    },
    {
     "name": "stdout",
     "output_type": "stream",
     "text": [
      "Epoch 30/1000\n",
      "23/23 [==============================] - 41s 2s/step - loss: 0.6247 - AUC_ROC: 0.6980 - accuracy: 0.6430 - false_negatives: 13815.0000 - AUC_PR: 0.6625 - val_loss: 0.6583 - val_AUC_ROC: 0.6501 - val_accuracy: 0.6087 - val_false_negatives: 2775.0000 - val_AUC_PR: 0.6051\n",
      "Epoch 31/1000\n",
      "23/23 [==============================] - 46s 2s/step - loss: 0.6234 - AUC_ROC: 0.7001 - accuracy: 0.6445 - false_negatives: 14258.0000 - AUC_PR: 0.6654 - val_loss: 0.6581 - val_AUC_ROC: 0.6567 - val_accuracy: 0.6135 - val_false_negatives: 2343.0000 - val_AUC_PR: 0.6103\n",
      "Epoch 32/1000\n",
      "23/23 [==============================] - 49s 2s/step - loss: 0.6207 - AUC_ROC: 0.7043 - accuracy: 0.6490 - false_negatives: 13823.0000 - AUC_PR: 0.6697 - val_loss: 0.6582 - val_AUC_ROC: 0.6560 - val_accuracy: 0.6139 - val_false_negatives: 2695.0000 - val_AUC_PR: 0.6096\n",
      "Epoch 33/1000\n",
      "23/23 [==============================] - 43s 2s/step - loss: 0.6188 - AUC_ROC: 0.7069 - accuracy: 0.6502 - false_negatives: 13694.0000 - AUC_PR: 0.6717 - val_loss: 0.6587 - val_AUC_ROC: 0.6571 - val_accuracy: 0.6163 - val_false_negatives: 2517.0000 - val_AUC_PR: 0.6109\n",
      "Epoch 34/1000\n",
      "23/23 [==============================] - 40s 2s/step - loss: 0.6172 - AUC_ROC: 0.7089 - accuracy: 0.6528 - false_negatives: 13589.0000 - AUC_PR: 0.6752 - val_loss: 0.6590 - val_AUC_ROC: 0.6591 - val_accuracy: 0.6138 - val_false_negatives: 2378.0000 - val_AUC_PR: 0.6134\n",
      "Epoch 35/1000\n",
      "23/23 [==============================] - 49s 2s/step - loss: 0.6153 - AUC_ROC: 0.7115 - accuracy: 0.6538 - false_negatives: 13707.0000 - AUC_PR: 0.6782 - val_loss: 0.6621 - val_AUC_ROC: 0.6560 - val_accuracy: 0.6151 - val_false_negatives: 2548.0000 - val_AUC_PR: 0.6119\n",
      "Epoch 36/1000\n",
      "23/23 [==============================] - 42s 2s/step - loss: 0.6118 - AUC_ROC: 0.7170 - accuracy: 0.6581 - false_negatives: 13360.0000 - AUC_PR: 0.6827 - val_loss: 0.6613 - val_AUC_ROC: 0.6583 - val_accuracy: 0.6157 - val_false_negatives: 2659.0000 - val_AUC_PR: 0.6114\n",
      "Epoch 37/1000\n",
      "23/23 [==============================] - 38s 2s/step - loss: 0.6096 - AUC_ROC: 0.7196 - accuracy: 0.6604 - false_negatives: 13259.0000 - AUC_PR: 0.6866 - val_loss: 0.6601 - val_AUC_ROC: 0.6578 - val_accuracy: 0.6184 - val_false_negatives: 2917.0000 - val_AUC_PR: 0.6099\n",
      "Epoch 38/1000\n",
      "23/23 [==============================] - 36s 1s/step - loss: 0.6080 - AUC_ROC: 0.7218 - accuracy: 0.6613 - false_negatives: 13005.0000 - AUC_PR: 0.6886 - val_loss: 0.6600 - val_AUC_ROC: 0.6570 - val_accuracy: 0.6163 - val_false_negatives: 3064.0000 - val_AUC_PR: 0.6117\n",
      "Epoch 39/1000\n",
      "23/23 [==============================] - 37s 2s/step - loss: 0.6057 - AUC_ROC: 0.7248 - accuracy: 0.6635 - false_negatives: 12942.0000 - AUC_PR: 0.6922 - val_loss: 0.6652 - val_AUC_ROC: 0.6528 - val_accuracy: 0.6165 - val_false_negatives: 2759.0000 - val_AUC_PR: 0.6081\n",
      "Epoch 40/1000\n",
      "23/23 [==============================] - 38s 2s/step - loss: 0.6039 - AUC_ROC: 0.7273 - accuracy: 0.6661 - false_negatives: 12943.0000 - AUC_PR: 0.6943 - val_loss: 0.6604 - val_AUC_ROC: 0.6558 - val_accuracy: 0.6129 - val_false_negatives: 3064.0000 - val_AUC_PR: 0.6098\n",
      "Epoch 41/1000\n",
      "23/23 [==============================] - 38s 2s/step - loss: 0.6013 - AUC_ROC: 0.7298 - accuracy: 0.6666 - false_negatives: 12897.0000 - AUC_PR: 0.6985 - val_loss: 0.6660 - val_AUC_ROC: 0.6556 - val_accuracy: 0.6186 - val_false_negatives: 2600.0000 - val_AUC_PR: 0.6077\n",
      "Epoch 42/1000\n",
      "23/23 [==============================] - 37s 2s/step - loss: 0.6001 - AUC_ROC: 0.7320 - accuracy: 0.6687 - false_negatives: 12767.0000 - AUC_PR: 0.6996 - val_loss: 0.6667 - val_AUC_ROC: 0.6504 - val_accuracy: 0.6107 - val_false_negatives: 2657.0000 - val_AUC_PR: 0.6032\n",
      "Epoch 43/1000\n",
      "23/23 [==============================] - 40s 2s/step - loss: 0.5994 - AUC_ROC: 0.7320 - accuracy: 0.6682 - false_negatives: 12805.0000 - AUC_PR: 0.7013 - val_loss: 0.6665 - val_AUC_ROC: 0.6481 - val_accuracy: 0.6103 - val_false_negatives: 2750.0000 - val_AUC_PR: 0.5976\n",
      "Epoch 44/1000\n",
      "23/23 [==============================] - 38s 2s/step - loss: 0.5964 - AUC_ROC: 0.7366 - accuracy: 0.6735 - false_negatives: 12615.0000 - AUC_PR: 0.7056 - val_loss: 0.6749 - val_AUC_ROC: 0.6536 - val_accuracy: 0.6111 - val_false_negatives: 3285.0000 - val_AUC_PR: 0.6032\n",
      "Epoch 45/1000\n",
      "23/23 [==============================] - 37s 2s/step - loss: 0.5947 - AUC_ROC: 0.7379 - accuracy: 0.6715 - false_negatives: 12734.0000 - AUC_PR: 0.7077 - val_loss: 0.6737 - val_AUC_ROC: 0.6531 - val_accuracy: 0.6131 - val_false_negatives: 2575.0000 - val_AUC_PR: 0.6036\n",
      "Epoch 46/1000\n",
      "23/23 [==============================] - 36s 1s/step - loss: 0.5911 - AUC_ROC: 0.7425 - accuracy: 0.6766 - false_negatives: 12617.0000 - AUC_PR: 0.7130 - val_loss: 0.6693 - val_AUC_ROC: 0.6521 - val_accuracy: 0.6116 - val_false_negatives: 3254.0000 - val_AUC_PR: 0.5994\n",
      "Epoch 47/1000\n",
      "23/23 [==============================] - 37s 2s/step - loss: 0.5869 - AUC_ROC: 0.7476 - accuracy: 0.6804 - false_negatives: 12331.0000 - AUC_PR: 0.7175 - val_loss: 0.6755 - val_AUC_ROC: 0.6523 - val_accuracy: 0.6137 - val_false_negatives: 3012.0000 - val_AUC_PR: 0.6018\n",
      "Tiempo de entrenamiento: 1769.4134 segundos\n"
     ]
    }
   ],
   "source": [
    "tabtransformer = TabTransformer(\n",
    "        numerical_features = NUMERIC_FEATURES,\n",
    "        categorical_features = CATEGORICAL_FEATURES,\n",
    "        categorical_lookup=category_prep_layers,\n",
    "        numerical_discretisers=None, # simply passing the numeric features\n",
    "        embedding_dim=32,\n",
    "        out_dim=1,\n",
    "        out_activation='sigmoid',\n",
    "        depth=3,\n",
    "        heads=2,\n",
    "        attn_dropout=0.33588977160980604,\n",
    "        ff_dropout=0.22325490385848865,\n",
    "        mlp_hidden_factors=[1, 2],\n",
    "        use_column_embedding=True,\n",
    "    )\n",
    "\n",
    "\n",
    "\n",
    "LEARNING_RATE = 0.001\n",
    "WEIGHT_DECAY = 0.0001\n",
    "NUM_EPOCHS = 1000\n",
    "\n",
    "optimizer = tfa.optimizers.AdamW(\n",
    "        learning_rate=LEARNING_RATE, weight_decay=WEIGHT_DECAY\n",
    "    )\n",
    "\n",
    "tabtransformer.compile(\n",
    "    optimizer = optimizer,\n",
    "    loss = tf.keras.losses.BinaryCrossentropy(),\n",
    "    metrics= [tf.keras.metrics.AUC(name=\"AUC_ROC\", curve='ROC'), keras.metrics.BinaryAccuracy(name=\"accuracy\"),\n",
    "                       tf.keras.metrics.FalseNegatives(), tf.keras.metrics.AUC(name=\"AUC_PR\", curve='PR')],\n",
    ")\n",
    "\n",
    "early = EarlyStopping(monitor=\"val_loss\", mode=\"min\", patience=30, restore_best_weights=True)\n",
    "callback_list = [early]\n",
    "\n",
    "start_time = time.time()\n",
    "history = tabtransformer.fit(\n",
    "    train_dataset,\n",
    "    epochs=NUM_EPOCHS, \n",
    "    validation_data=val_dataset,\n",
    "    callbacks=callback_list,\n",
    "    verbose=1,\n",
    ")\n",
    "\n",
    "training_time = time.time() - start_time\n",
    "# Imprimir el tiempo de entrenamiento en segundos\n",
    "print(\"Tiempo de entrenamiento: %.4f segundos\" % training_time)"
   ]
  },
  {
   "cell_type": "code",
   "execution_count": 14,
   "id": "13bd7954",
   "metadata": {},
   "outputs": [
    {
     "name": "stdout",
     "output_type": "stream",
     "text": [
      "4/4 [==============================] - 2s 379ms/step\n",
      "PR AUC: 0.6121030943698917\n",
      "ROC AUC: 0.6540254731449784\n",
      "Val Accuracy: 0.6112\n"
     ]
    }
   ],
   "source": [
    "val_preds = tabtransformer.predict(val_dataset)\n",
    "\n",
    "print(f\"PR AUC: {average_precision_score(val_data[LABEL_Y], val_preds.ravel())}\")\n",
    "print(f\"ROC AUC: {roc_auc_score(val_data[LABEL_Y], val_preds.ravel())}\")\n",
    "print(\"Val Accuracy:\", np.round(accuracy_score(val_data[LABEL_Y], val_preds.ravel() > 0.5), 4))"
   ]
  },
  {
   "cell_type": "code",
   "execution_count": 15,
   "id": "e71b5fa4",
   "metadata": {},
   "outputs": [
    {
     "name": "stdout",
     "output_type": "stream",
     "text": [
      "7/7 [==============================] - 3s 372ms/step\n",
      "Test Accuracy: 61.88\n",
      "Test ROC AUC: 65.53999999999999\n",
      "Test PR AUC: 61.22\n",
      "Test F1-score: 57.54\n",
      "Test Precision: 58.879999999999995\n",
      "Test Recall: 56.269999999999996\n"
     ]
    }
   ],
   "source": [
    "test_preds = tabtransformer.predict(test_dataset)\n",
    "print(\"Test Accuracy:\", np.round(accuracy_score(test_data[LABEL_Y], test_preds.ravel() > 0.5), 4)*100)\n",
    "print(\"Test ROC AUC:\", np.round(roc_auc_score(test_data[LABEL_Y], test_preds.ravel()), 4)*100)\n",
    "print(\"Test PR AUC:\", np.round(average_precision_score(test_data[LABEL_Y], test_preds.ravel()), 4)*100)\n",
    "print(\"Test F1-score:\", np.round(f1_score(test_data[LABEL_Y], test_preds.ravel() > 0.5), 4)*100)\n",
    "print(\"Test Precision:\", np.round(precision_score(test_data[LABEL_Y], test_preds.ravel() > 0.5), 4)*100)\n",
    "print(\"Test Recall:\", np.round(recall_score(test_data[LABEL_Y], test_preds.ravel() > 0.5), 4)*100)"
   ]
  },
  {
   "cell_type": "code",
   "execution_count": 23,
   "id": "a7c661a0",
   "metadata": {},
   "outputs": [
    {
     "data": {
      "image/png": "[encoded data removed]",
      "text/plain": [
       "<Figure size 750x750 with 1 Axes>"
      ]
     },
     "metadata": {},
     "output_type": "display_data"
    }
   ],
   "source": [
    "import matplotlib.pyplot as plt\n",
    "from sklearn.metrics import confusion_matrix\n",
    "\n",
    "# Suponiendo que test_data[LABEL_Y] y test_preds están definidos\n",
    "conf_matrix = confusion_matrix(test_data[LABEL_Y], test_preds.ravel() > 0.5)\n",
    "\n",
    "fig, ax = plt.subplots(figsize=(7.5, 7.5))\n",
    "ax.matshow(conf_matrix, cmap=plt.cm.Blues, alpha=0.3)\n",
    "\n",
    "# Agregar valores dentro de la matriz\n",
    "for i in range(conf_matrix.shape[0]):\n",
    "    for j in range(conf_matrix.shape[1]):\n",
    "        ax.text(x=j, y=i, s=conf_matrix[i, j], va='center', ha='center', size='xx-large')\n",
    "\n",
    "# Cambiar etiquetas de los ejes\n",
    "ax.set_xticks([0, 1])\n",
    "ax.set_yticks([0, 1])\n",
    "ax.set_xticklabels([\"no readmitted\", \"readmitted\"], fontsize=14)\n",
    "ax.set_yticklabels([\"no readmitted\", \"readmitted\"], fontsize=14)\n",
    "\n",
    "plt.xlabel('Predictions', fontsize=18)\n",
    "plt.ylabel('Actuals', fontsize=18)\n",
    "plt.title('Confusion Matrix', fontsize=18)\n",
    "plt.show()\n"
   ]
  },
  {
   "cell_type": "code",
   "execution_count": 24,
   "id": "e2cece95",
   "metadata": {
    "scrolled": false
   },
   "outputs": [
    {
     "data": {
      "image/png": "[encoded data removed]",
      "text/plain": [
       "<Figure size 640x480 with 2 Axes>"
      ]
     },
     "metadata": {},
     "output_type": "display_data"
    }
   ],
   "source": [
    "fig, ax = plt.subplots(nrows=1, ncols=2)\n",
    "\n",
    "ax[0].plot(history.history['loss'], label='Training Loss')\n",
    "ax[0].plot(history.history['val_loss'], label='Validation Loss')\n",
    "ax[0].legend()\n",
    "\n",
    "ax[1].plot(history.history['accuracy'], label='Training Accuracy')\n",
    "ax[1].plot(history.history['val_accuracy'], label='Validation Accuracy')\n",
    "ax[1].legend()\n",
    "\n",
    "plt.show()"
   ]
  }
 ],
 "metadata": {
  "kernelspec": {
   "display_name": "Python 3 (ipykernel)",
   "language": "python",
   "name": "python3"
  },
  "language_info": {
   "codemirror_mode": {
    "name": "ipython",
    "version": 3
   },
   "file_extension": ".py",
   "mimetype": "text/x-python",
   "name": "python",
   "nbconvert_exporter": "python",
   "pygments_lexer": "ipython3",
   "version": "3.7.16"
  }
 },
 "nbformat": 4,
 "nbformat_minor": 5
}
